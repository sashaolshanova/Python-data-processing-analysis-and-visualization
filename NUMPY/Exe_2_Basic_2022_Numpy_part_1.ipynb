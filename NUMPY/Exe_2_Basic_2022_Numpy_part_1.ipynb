{
 "cells": [
  {
   "cell_type": "markdown",
   "metadata": {
    "id": "144UUG22zmQZ"
   },
   "source": [
    "# NumPy \n",
    "\n",
    "NumPy (or Numpy) is a Linear Algebra Library for Python.  \n",
    "It is used by almost all of the libraries in the PyData Ecosystem as one of their main building blocks.\n",
    " \n",
    "Numpy comes preinstalled with Anaconda and IBM DSX. If for some reason it isn't installed, you can install it from your command prompt by typing:\n",
    "\n",
    "If you have Anaconda:\n",
    "    \n",
    "    conda install numpy\n",
    "    \n",
    "If you do not have Anaconda:\n",
    "    \n",
    "    pip install numpy\n",
    "    \n",
    "    \n",
    "API documentation:https://numpy.org/doc/stable/reference/index.html"
   ]
  },
  {
   "cell_type": "markdown",
   "metadata": {
    "id": "jdbb11ghzmQd"
   },
   "source": [
    "## Using NumPy\n",
    "\n",
    "Once you've installed NumPy you can import it as a library:"
   ]
  },
  {
   "cell_type": "code",
   "execution_count": 1,
   "metadata": {
    "id": "qPYOsnkYzmQe"
   },
   "outputs": [],
   "source": [
    "import numpy as np"
   ]
  },
  {
   "cell_type": "markdown",
   "metadata": {
    "id": "LFUXhFP64ac_"
   },
   "source": [
    "\n",
    "memory: in sequece - no pointers\n",
    "\n",
    "effiency: one type only. no need to check the type in operations\n",
    "many built in operations on arrays/matrices\n",
    "\n",
    "Numpy arrays have a fixed size at creation, unlike python lists (which can grow dynamically). Changing the size of ndarray will create a new array and delete the original.\n"
   ]
  },
  {
   "cell_type": "markdown",
   "metadata": {
    "id": "UuYu3yIjzmTR"
   },
   "source": [
    "# NumPy Indexing and Selection\n",
    "\n",
    "In this lecture we will discuss how to select elements or groups of elements from an array."
   ]
  },
  {
   "cell_type": "code",
   "execution_count": 2,
   "metadata": {
    "id": "a9ZtX-9AzmTS"
   },
   "outputs": [],
   "source": [
    "#Creating sample array\n",
    "arr = np.arange(0,11)"
   ]
  },
  {
   "cell_type": "code",
   "execution_count": 3,
   "metadata": {
    "id": "xE97fnkHzmTV",
    "outputId": "8c97dc97-d7f9-435e-b31c-0c7e5d7837ee"
   },
   "outputs": [
    {
     "data": {
      "text/plain": "array([ 0,  1,  2,  3,  4,  5,  6,  7,  8,  9, 10])"
     },
     "execution_count": 3,
     "metadata": {},
     "output_type": "execute_result"
    }
   ],
   "source": [
    "#Show\n",
    "arr"
   ]
  },
  {
   "cell_type": "markdown",
   "metadata": {
    "id": "S6qyGABQHLGs"
   },
   "source": [
    "#### Creating an array of 10 zeros "
   ]
  },
  {
   "cell_type": "code",
   "execution_count": 4,
   "metadata": {
    "id": "128eGKBuHLGs",
    "outputId": "87866a06-d306-40ed-955c-8c27104537c1"
   },
   "outputs": [
    {
     "data": {
      "text/plain": "array([0., 0., 0., 0., 0., 0., 0., 0., 0., 0.])"
     },
     "execution_count": 4,
     "metadata": {},
     "output_type": "execute_result"
    }
   ],
   "source": [
    "np.zeros(10)"
   ]
  },
  {
   "cell_type": "markdown",
   "metadata": {
    "id": "ExgCpMhVzmTX"
   },
   "source": [
    "## Bracket Indexing and Selection\n",
    "The simplest way to pick one or some elements of an array looks very similar to python lists:"
   ]
  },
  {
   "cell_type": "code",
   "execution_count": 5,
   "metadata": {
    "id": "e4E4YrtazmTY",
    "outputId": "698a9229-8003-4293-f46d-2eb75d76ecf3"
   },
   "outputs": [
    {
     "data": {
      "text/plain": "8"
     },
     "execution_count": 5,
     "metadata": {},
     "output_type": "execute_result"
    }
   ],
   "source": [
    "#Get a value at an index\n",
    "arr[8]"
   ]
  },
  {
   "cell_type": "code",
   "execution_count": 6,
   "metadata": {
    "id": "_0G6Pr_kzmTa",
    "outputId": "d65a47e0-8263-4d46-825d-7ca1ae7e82c9"
   },
   "outputs": [
    {
     "data": {
      "text/plain": "array([1, 2, 3, 4])"
     },
     "execution_count": 6,
     "metadata": {},
     "output_type": "execute_result"
    }
   ],
   "source": [
    "#Get values in a range\n",
    "arr[1:5]"
   ]
  },
  {
   "cell_type": "code",
   "execution_count": 7,
   "metadata": {
    "id": "B7DORmj5zmWQ",
    "outputId": "c6af8721-9070-45c1-a56a-b38711bf5108"
   },
   "outputs": [
    {
     "data": {
      "text/plain": "array([100, 100, 100, 100, 100,   5,   6,   7,   8,   9,  10])"
     },
     "execution_count": 7,
     "metadata": {},
     "output_type": "execute_result"
    }
   ],
   "source": [
    "#Setting a value with index range\n",
    "arr[0:5]=100\n",
    "\n",
    "#Show\n",
    "arr"
   ]
  },
  {
   "cell_type": "code",
   "execution_count": 8,
   "metadata": {
    "id": "lvakXFuWzmWS",
    "outputId": "0f4f4a9e-500b-4c58-8cfd-0335b8555fac"
   },
   "outputs": [
    {
     "data": {
      "text/plain": "array([ 0,  1,  2,  3,  4,  5,  6,  7,  8,  9, 10])"
     },
     "execution_count": 8,
     "metadata": {},
     "output_type": "execute_result"
    }
   ],
   "source": [
    "# Reset array\n",
    "arr = np.arange(0,11)\n",
    "\n",
    "#Show\n",
    "arr"
   ]
  },
  {
   "cell_type": "code",
   "execution_count": 9,
   "metadata": {
    "id": "bp8m1CybzmWV",
    "outputId": "df767c9b-2f43-4fba-f71c-93f487b0a9e7"
   },
   "outputs": [
    {
     "data": {
      "text/plain": "array([0, 1, 2, 3, 4, 5])"
     },
     "execution_count": 9,
     "metadata": {},
     "output_type": "execute_result"
    }
   ],
   "source": [
    "#Important notes on Slices\n",
    "slice_of_arr = arr[0:6]\n",
    "\n",
    "#Show slice\n",
    "slice_of_arr"
   ]
  },
  {
   "cell_type": "code",
   "execution_count": 10,
   "metadata": {
    "id": "JNIYqUSvzmWW",
    "outputId": "194b8c6e-a4b3-44d8-c2a4-e3971fe2fed6"
   },
   "outputs": [
    {
     "data": {
      "text/plain": "array([99, 99, 99, 99, 99, 99])"
     },
     "execution_count": 10,
     "metadata": {},
     "output_type": "execute_result"
    }
   ],
   "source": [
    "#Change Slice\n",
    "slice_of_arr[:]=99\n",
    "\n",
    "#Show Slice again\n",
    "slice_of_arr"
   ]
  },
  {
   "cell_type": "markdown",
   "metadata": {
    "id": "OR50cV56zmWa"
   },
   "source": [
    "Now note the changes also occur in our original array!"
   ]
  },
  {
   "cell_type": "code",
   "execution_count": 11,
   "metadata": {
    "id": "_OoWSMebzmWa",
    "outputId": "4b48c6f4-463a-43fc-8a4e-b693d4b1eb5c"
   },
   "outputs": [
    {
     "data": {
      "text/plain": "array([99, 99, 99, 99, 99, 99,  6,  7,  8,  9, 10])"
     },
     "execution_count": 11,
     "metadata": {},
     "output_type": "execute_result"
    }
   ],
   "source": [
    "arr"
   ]
  },
  {
   "cell_type": "markdown",
   "metadata": {
    "id": "PyyCUaspzmWc"
   },
   "source": [
    "When we take a slice or set a variable using assignment, the variable is not copied. Instead we get a view of the original array! This makes memory usage more efficient."
   ]
  },
  {
   "cell_type": "code",
   "execution_count": 12,
   "metadata": {
    "id": "-DsFgcfbzmWc",
    "outputId": "585d819d-50ee-482a-cbe5-50f56e4b2c17"
   },
   "outputs": [
    {
     "data": {
      "text/plain": "array([99, 99, 99, 99, 99, 99,  6,  7,  8,  9, 10])"
     },
     "execution_count": 12,
     "metadata": {},
     "output_type": "execute_result"
    }
   ],
   "source": [
    "#To get a copy, need to be explicit\n",
    "arr_copy = arr.copy()\n",
    "\n",
    "arr_copy"
   ]
  },
  {
   "cell_type": "markdown",
   "metadata": {
    "id": "QpSfBAN6zmTe"
   },
   "source": [
    "## Indexing a 2D array (matrices)\n",
    "\n",
    "The general format is **arr_2d[row][col]** or **arr_2d[row,col]**. I recommend usually using the comma notation for clarity."
   ]
  },
  {
   "cell_type": "code",
   "execution_count": 13,
   "metadata": {
    "id": "Lq2JygglzmTf",
    "outputId": "fdd8c5e2-6b22-415a-c63c-4e1c3aa2e538"
   },
   "outputs": [
    {
     "data": {
      "text/plain": "array([[ 5, 10, 15],\n       [20, 25, 30],\n       [35, 40, 45]])"
     },
     "execution_count": 13,
     "metadata": {},
     "output_type": "execute_result"
    }
   ],
   "source": [
    "arr_2d = np.array(([5,10,15],[20,25,30],[35,40,45]))\n",
    "\n",
    "#Show\n",
    "arr_2d"
   ]
  },
  {
   "cell_type": "code",
   "execution_count": 14,
   "metadata": {
    "id": "Iwb11l3czmTh",
    "outputId": "426f1819-6993-4adf-b336-46aae54aa85e"
   },
   "outputs": [
    {
     "data": {
      "text/plain": "array([20, 25, 30])"
     },
     "execution_count": 14,
     "metadata": {},
     "output_type": "execute_result"
    }
   ],
   "source": [
    "#Indexing row\n",
    "arr_2d[1] # first raw"
   ]
  },
  {
   "cell_type": "code",
   "execution_count": 15,
   "metadata": {
    "id": "GdnCwCV-zmTj",
    "outputId": "352bdd2d-a3eb-4e7f-e6b3-e717945eb961"
   },
   "outputs": [
    {
     "data": {
      "text/plain": "20"
     },
     "execution_count": 15,
     "metadata": {},
     "output_type": "execute_result"
    }
   ],
   "source": [
    "# Format is arr_2d[row][col] or arr_2d[row,col]\n",
    "\n",
    "# Getting individual element value\n",
    "arr_2d[1][0]"
   ]
  },
  {
   "cell_type": "code",
   "execution_count": 16,
   "metadata": {
    "id": "UE9iJfHXzmTn",
    "outputId": "d0f9ac75-ca3c-40b7-b969-6699c43f8d45"
   },
   "outputs": [
    {
     "data": {
      "text/plain": "20"
     },
     "execution_count": 16,
     "metadata": {},
     "output_type": "execute_result"
    }
   ],
   "source": [
    "# Getting individual element value\n",
    "arr_2d[1,0] # Option 2"
   ]
  },
  {
   "cell_type": "code",
   "execution_count": 17,
   "metadata": {
    "id": "C0zX2XRjzmTp",
    "outputId": "770e07ef-0c85-493e-ff27-7f2565567a4b"
   },
   "outputs": [
    {
     "name": "stdout",
     "output_type": "stream",
     "text": [
      "[[ 5 10 15]\n",
      " [20 25 30]\n",
      " [35 40 45]]\n"
     ]
    },
    {
     "data": {
      "text/plain": "array([[10, 15],\n       [25, 30]])"
     },
     "execution_count": 17,
     "metadata": {},
     "output_type": "execute_result"
    }
   ],
   "source": [
    "# 2D array slicing\n",
    "print(arr_2d)\n",
    "#Shape (2,2) from top right corner\n",
    "arr_2d[:2,1:]"
   ]
  },
  {
   "cell_type": "code",
   "execution_count": 18,
   "metadata": {
    "id": "wg2UNhCrzmTt",
    "outputId": "298814a6-a2a0-45cd-e74b-7a023bf616e6"
   },
   "outputs": [
    {
     "data": {
      "text/plain": "array([10, 25, 40])"
     },
     "execution_count": 18,
     "metadata": {},
     "output_type": "execute_result"
    }
   ],
   "source": [
    "#Get the middle column\n",
    "arr_2d[:,1]"
   ]
  },
  {
   "cell_type": "markdown",
   "metadata": {
    "id": "b7nXEIBwzmTv"
   },
   "source": [
    "### Fancy Indexing\n",
    "\n",
    "Fancy indexing allows you to select entire rows or columns out of order, Passing an array of indices to access multiple array elements at once.\n",
    "To see it in action, let's quickly build out a numpy array:"
   ]
  },
  {
   "cell_type": "code",
   "execution_count": 71,
   "metadata": {
    "colab": {
     "base_uri": "https://localhost:8080/"
    },
    "id": "6ATd7QBlzmTw",
    "outputId": "f630385f-77cc-4089-8d68-3d8160ceab9b"
   },
   "outputs": [
    {
     "data": {
      "text/plain": "array([[0., 0., 0., 0., 0.],\n       [0., 0., 0., 0., 0.],\n       [0., 0., 0., 0., 0.],\n       [0., 0., 0., 0., 0.],\n       [0., 0., 0., 0., 0.],\n       [0., 0., 0., 0., 0.],\n       [0., 0., 0., 0., 0.],\n       [0., 0., 0., 0., 0.],\n       [0., 0., 0., 0., 0.],\n       [0., 0., 0., 0., 0.]])"
     },
     "execution_count": 71,
     "metadata": {},
     "output_type": "execute_result"
    }
   ],
   "source": [
    "#Set up matrix\n",
    "arr2d = np.zeros((10,5))\n",
    "arr2d"
   ]
  },
  {
   "cell_type": "code",
   "execution_count": 72,
   "metadata": {},
   "outputs": [
    {
     "data": {
      "text/plain": "(10, 5)"
     },
     "execution_count": 72,
     "metadata": {},
     "output_type": "execute_result"
    }
   ],
   "source": [
    "arr2d.shape"
   ]
  },
  {
   "cell_type": "code",
   "execution_count": 74,
   "metadata": {
    "colab": {
     "base_uri": "https://localhost:8080/"
    },
    "id": "5Ock8pw0zmTy",
    "outputId": "0f06f515-1131-4db1-f67c-e7717297001d"
   },
   "outputs": [
    {
     "data": {
      "text/plain": "5"
     },
     "execution_count": 74,
     "metadata": {},
     "output_type": "execute_result"
    }
   ],
   "source": [
    "#Length of array\n",
    "arr_length = arr2d.shape[1] # если 1, то показывает количество столбиков, если 0, то количство строк\n",
    "arr_length"
   ]
  },
  {
   "cell_type": "code",
   "execution_count": 22,
   "metadata": {
    "colab": {
     "base_uri": "https://localhost:8080/"
    },
    "id": "idYi8jQkzmT1",
    "outputId": "a8ba617f-d66f-42a2-8251-2ab01741b880"
   },
   "outputs": [
    {
     "data": {
      "text/plain": "array([[0., 0., 0., 0., 0.],\n       [1., 1., 1., 1., 1.],\n       [2., 2., 2., 2., 2.],\n       [3., 3., 3., 3., 3.],\n       [4., 4., 4., 4., 4.],\n       [5., 5., 5., 5., 5.],\n       [6., 6., 6., 6., 6.],\n       [7., 7., 7., 7., 7.],\n       [8., 8., 8., 8., 8.],\n       [9., 9., 9., 9., 9.]])"
     },
     "execution_count": 22,
     "metadata": {},
     "output_type": "execute_result"
    }
   ],
   "source": [
    "#Set up array\n",
    "for i in range(arr_length):\n",
    "    arr2d[i] = i\n",
    "#How should we do it on the columns?    \n",
    "arr2d"
   ]
  },
  {
   "cell_type": "markdown",
   "metadata": {
    "id": "k8wZEMpszmT3"
   },
   "source": [
    "Fancy indexing allows the following"
   ]
  },
  {
   "cell_type": "code",
   "execution_count": 23,
   "metadata": {
    "colab": {
     "base_uri": "https://localhost:8080/"
    },
    "id": "nVQRHev6zmT4",
    "outputId": "1300632b-159d-4342-d4ea-5f13859b8f8e"
   },
   "outputs": [
    {
     "data": {
      "text/plain": "array([[2., 2., 2., 2., 2.],\n       [4., 4., 4., 4., 4.],\n       [6., 6., 6., 6., 6.],\n       [8., 8., 8., 8., 8.]])"
     },
     "execution_count": 23,
     "metadata": {},
     "output_type": "execute_result"
    }
   ],
   "source": [
    "arr2d[[2,4,6,8]]"
   ]
  },
  {
   "cell_type": "code",
   "execution_count": 24,
   "metadata": {
    "colab": {
     "base_uri": "https://localhost:8080/"
    },
    "id": "ORa9ShutzmT8",
    "outputId": "da35ba77-2d52-4349-b66a-b679970c2934"
   },
   "outputs": [
    {
     "data": {
      "text/plain": "array([[6., 6., 6., 6., 6.],\n       [4., 4., 4., 4., 4.],\n       [2., 2., 2., 2., 2.],\n       [7., 7., 7., 7., 7.]])"
     },
     "execution_count": 24,
     "metadata": {},
     "output_type": "execute_result"
    }
   ],
   "source": [
    "# Allows in any order\n",
    "arr2d[[6,4,2,7]]"
   ]
  },
  {
   "cell_type": "markdown",
   "metadata": {
    "id": "7JUiApvzHLG4"
   },
   "source": [
    "Fancy indexing also works in multiple dimensions. Consider the following array:"
   ]
  },
  {
   "cell_type": "code",
   "execution_count": 25,
   "metadata": {
    "colab": {
     "base_uri": "https://localhost:8080/"
    },
    "id": "Ze_vXAp0HLG5",
    "outputId": "aaf36a35-159e-4441-ecea-237d8fbc9572"
   },
   "outputs": [
    {
     "data": {
      "text/plain": "array([[ 0,  1,  2,  3],\n       [ 4,  5,  6,  7],\n       [ 8,  9, 10, 11]])"
     },
     "execution_count": 25,
     "metadata": {},
     "output_type": "execute_result"
    }
   ],
   "source": [
    "X = np.arange(12).reshape((3, 4))\n",
    "X"
   ]
  },
  {
   "cell_type": "markdown",
   "metadata": {
    "id": "YtjthtI_HLG5"
   },
   "source": [
    "Like with standard indexing, the first index refers to the row, and the second to the column:"
   ]
  },
  {
   "cell_type": "code",
   "execution_count": 26,
   "metadata": {
    "colab": {
     "base_uri": "https://localhost:8080/"
    },
    "id": "NEYVUgZuHLG6",
    "outputId": "f5ee046a-c467-4919-baae-2c36bc9f3984"
   },
   "outputs": [
    {
     "data": {
      "text/plain": "array([ 6,  5, 11])"
     },
     "execution_count": 26,
     "metadata": {},
     "output_type": "execute_result"
    }
   ],
   "source": [
    "row = np.array([1, 1, 2]) #row 0, 2 column = 2 ; row 1, column 1 = 5; row 2 column from previous matrix X\n",
    "col = np.array([2, 1, 3])\n",
    "X[row, col] #проходится только по координатам одного значения"
   ]
  },
  {
   "cell_type": "markdown",
   "metadata": {
    "id": "jql_dsfkHLG6"
   },
   "source": [
    "Notice that the first value in the result is X[0, 2], the second is X[1, 1], and the third is X[2, 3]. The pairing of indices in fancy indexing follows all the broadcasting rules.\n",
    "\n",
    "So, for example, if we combine a column vector and a row vector within the indices, we get a two-dimensional result:"
   ]
  },
  {
   "cell_type": "code",
   "execution_count": 27,
   "metadata": {
    "colab": {
     "base_uri": "https://localhost:8080/"
    },
    "id": "qYyy4F4kHLG7",
    "outputId": "c3c21dfc-a5e4-403a-ec1b-a78bce64b76f"
   },
   "outputs": [
    {
     "data": {
      "text/plain": "array([[1],\n       [1],\n       [2]])"
     },
     "execution_count": 27,
     "metadata": {},
     "output_type": "execute_result"
    }
   ],
   "source": [
    "row[:, np.newaxis] #np.newaxis - new dimention , it is in colomn space so new column vektor"
   ]
  },
  {
   "cell_type": "code",
   "execution_count": 28,
   "outputs": [
    {
     "data": {
      "text/plain": "array([[ 0,  1,  2,  3],\n       [ 4,  5,  6,  7],\n       [ 8,  9, 10, 11]])"
     },
     "execution_count": 28,
     "metadata": {},
     "output_type": "execute_result"
    }
   ],
   "source": [
    "X"
   ],
   "metadata": {
    "collapsed": false
   }
  },
  {
   "cell_type": "code",
   "execution_count": 29,
   "metadata": {
    "colab": {
     "base_uri": "https://localhost:8080/"
    },
    "id": "ik6OV0YvHLG7",
    "outputId": "06e31bf8-d43a-4dc6-ca39-1afd9d71b5a9"
   },
   "outputs": [
    {
     "data": {
      "text/plain": "array([[ 6,  5,  7],\n       [ 6,  5,  7],\n       [10,  9, 11]])"
     },
     "execution_count": 29,
     "metadata": {},
     "output_type": "execute_result"
    }
   ],
   "source": [
    "X[row[:, np.newaxis], col] #проходится по raw"
   ]
  },
  {
   "cell_type": "code",
   "execution_count": 30,
   "outputs": [
    {
     "data": {
      "text/plain": "array([[ 6,  6, 10],\n       [ 5,  5,  9],\n       [ 7,  7, 11]])"
     },
     "execution_count": 30,
     "metadata": {},
     "output_type": "execute_result"
    }
   ],
   "source": [
    "X[row, col[:, np.newaxis]] #проходится по col"
   ],
   "metadata": {
    "collapsed": false
   }
  },
  {
   "cell_type": "markdown",
   "metadata": {
    "id": "oX6ApEr5HLG7"
   },
   "source": [
    "**numpy.newaxis** *is used to increase the dimension of the existing array by one more dimension, when used once*"
   ]
  },
  {
   "cell_type": "code",
   "execution_count": 30,
   "metadata": {
    "id": "k3PFQg0KHLG8"
   },
   "outputs": [],
   "source": []
  },
  {
   "cell_type": "markdown",
   "metadata": {
    "id": "ca_VRHdizmUC"
   },
   "source": [
    "# Selection\n",
    "\n",
    "Let's briefly go over how to use brackets for selection based off of comparison operators."
   ]
  },
  {
   "cell_type": "code",
   "execution_count": 31,
   "metadata": {
    "id": "sD3dEeVOzmUD",
    "outputId": "5a2a4184-23dd-4697-f15c-76ec4c844ec1"
   },
   "outputs": [
    {
     "data": {
      "text/plain": "array([ 0,  1,  2,  3,  4,  5,  6,  7,  8,  9, 10])"
     },
     "execution_count": 31,
     "metadata": {},
     "output_type": "execute_result"
    }
   ],
   "source": [
    "arr = np.arange(0,11)\n",
    "arr"
   ]
  },
  {
   "cell_type": "code",
   "execution_count": 32,
   "metadata": {
    "id": "pvBRF9TszmUF",
    "outputId": "a8d5f69e-2d14-453e-9253-390dc4d2627c"
   },
   "outputs": [
    {
     "data": {
      "text/plain": "array([False, False, False, False, False,  True,  True,  True,  True,\n        True,  True])"
     },
     "execution_count": 32,
     "metadata": {},
     "output_type": "execute_result"
    }
   ],
   "source": [
    "arr > 4"
   ]
  },
  {
   "cell_type": "markdown",
   "metadata": {
    "id": "3QK9MgCdHLG9"
   },
   "source": [
    "If we want the specific values that are true in the arr:"
   ]
  },
  {
   "cell_type": "code",
   "execution_count": 33,
   "metadata": {
    "id": "a2PEVlB8zmUH"
   },
   "outputs": [],
   "source": [
    "bool_arr = arr>4"
   ]
  },
  {
   "cell_type": "code",
   "execution_count": 34,
   "metadata": {
    "id": "foom_Eq7zmUK",
    "outputId": "a3b4b0fe-0038-4aed-ddad-7b8eb6275698"
   },
   "outputs": [
    {
     "data": {
      "text/plain": "array([False, False, False, False, False,  True,  True,  True,  True,\n        True,  True])"
     },
     "execution_count": 34,
     "metadata": {},
     "output_type": "execute_result"
    }
   ],
   "source": [
    "bool_arr"
   ]
  },
  {
   "cell_type": "code",
   "execution_count": 35,
   "metadata": {
    "id": "MHSWynb1zmUM",
    "outputId": "12edcba8-98ac-41b4-af20-5e92f5493815"
   },
   "outputs": [
    {
     "data": {
      "text/plain": "array([ 5,  6,  7,  8,  9, 10])"
     },
     "execution_count": 35,
     "metadata": {},
     "output_type": "execute_result"
    }
   ],
   "source": [
    "arr[bool_arr] #показывает значения"
   ]
  },
  {
   "cell_type": "markdown",
   "metadata": {
    "id": "dgQVo8qeHLG-"
   },
   "source": [
    "Another way to get the values of the array according to selection conditions:"
   ]
  },
  {
   "cell_type": "code",
   "execution_count": 36,
   "metadata": {
    "id": "JLoyo02BzmUN",
    "outputId": "7a5a298d-6a5f-4863-e8a5-dfc220e624c8"
   },
   "outputs": [
    {
     "data": {
      "text/plain": "array([ 3,  4,  5,  6,  7,  8,  9, 10])"
     },
     "execution_count": 36,
     "metadata": {},
     "output_type": "execute_result"
    }
   ],
   "source": [
    "arr[arr>2]"
   ]
  },
  {
   "cell_type": "code",
   "execution_count": 37,
   "metadata": {
    "id": "RSEtfZ1OzmUQ",
    "outputId": "b41e9f4a-9d86-4cf3-cf68-3e0d5a51920c"
   },
   "outputs": [
    {
     "data": {
      "text/plain": "array([ 3,  4,  5,  6,  7,  8,  9, 10])"
     },
     "execution_count": 37,
     "metadata": {},
     "output_type": "execute_result"
    }
   ],
   "source": [
    "x = 2\n",
    "arr[arr>x]"
   ]
  },
  {
   "cell_type": "markdown",
   "metadata": {
    "id": "nihyjlc_zmWQ"
   },
   "source": [
    "## Broadcasting\n",
    "\n",
    "Numpy arrays differ from a normal Python list because of their ability to broadcast:\n",
    "\n",
    "The term broadcasting describes how numpy treats arrays with different shapes during arithmetic operations. Subject to certain constraints, the smaller array is “broadcast” across the larger array so that they have compatible shapes."
   ]
  },
  {
   "cell_type": "code",
   "execution_count": 38,
   "metadata": {
    "colab": {
     "base_uri": "https://localhost:8080/"
    },
    "id": "WbTftj1bjbY8",
    "outputId": "087be733-1995-4211-821b-a29b66d36ced"
   },
   "outputs": [
    {
     "data": {
      "text/plain": "array([[2, 4, 6],\n       [5, 7, 9]])"
     },
     "execution_count": 38,
     "metadata": {},
     "output_type": "execute_result"
    }
   ],
   "source": [
    "a = np.array([[1,2,3],\n",
    "              [4,5,6]])\n",
    "\n",
    "a + np.array([1,2,3])"
   ]
  },
  {
   "cell_type": "code",
   "execution_count": 39,
   "metadata": {
    "colab": {
     "base_uri": "https://localhost:8080/"
    },
    "id": "fXyqphy9o8xY",
    "outputId": "7abc7f39-6e30-495d-8131-6e04baa8c146"
   },
   "outputs": [
    {
     "data": {
      "text/plain": "array([[2, 3, 4],\n       [6, 7, 8]])"
     },
     "execution_count": 39,
     "metadata": {},
     "output_type": "execute_result"
    }
   ],
   "source": [
    "a + np.array([[1,2]]).T #transpose к первой строке добавляем 1, ко второй строке добавляем 2"
   ]
  },
  {
   "cell_type": "code",
   "execution_count": 40,
   "metadata": {
    "colab": {
     "base_uri": "https://localhost:8080/"
    },
    "id": "QsJGpQvdEfVF",
    "outputId": "466b9ea4-30ad-4330-e776-f0bb528ed3ed"
   },
   "outputs": [
    {
     "data": {
      "text/plain": "array([[1],\n       [2]])"
     },
     "execution_count": 40,
     "metadata": {},
     "output_type": "execute_result"
    }
   ],
   "source": [
    "np.array([[1,2]]).T"
   ]
  },
  {
   "cell_type": "markdown",
   "metadata": {
    "id": "QEQQ7tNIHLHQ"
   },
   "source": [
    "# NumPy Exercises \n",
    "\n",
    "Now that we've learned about NumPy let's test your knowledge. We'll start off with a few simple tasks, and then you'll be asked some more complicated questions."
   ]
  },
  {
   "cell_type": "markdown",
   "metadata": {
    "id": "p290FiMTHLHR"
   },
   "source": [
    "#### 1. Create an array of 10 ones"
   ]
  },
  {
   "cell_type": "code",
   "execution_count": 41,
   "metadata": {
    "id": "KyBCktrlHLHR",
    "outputId": "6defeecd-1985-4159-a2fc-3966b6bc013b"
   },
   "outputs": [
    {
     "data": {
      "text/plain": "array([1., 1., 1., 1., 1., 1., 1., 1., 1., 1.])"
     },
     "execution_count": 41,
     "metadata": {},
     "output_type": "execute_result"
    }
   ],
   "source": [
    "arr = np.ones(10)\n",
    "arr"
   ]
  },
  {
   "cell_type": "markdown",
   "metadata": {
    "id": "cCBQ00XtHLHR"
   },
   "source": [
    "#### 2. Create an array of the integers from 10 to 50"
   ]
  },
  {
   "cell_type": "code",
   "execution_count": 42,
   "metadata": {
    "id": "OpsCcTb3HLHR",
    "outputId": "c095f149-0f2c-45db-c29b-9515fd4ad310"
   },
   "outputs": [
    {
     "data": {
      "text/plain": "array([10, 11, 12, 13, 14, 15, 16, 17, 18, 19, 20, 21, 22, 23, 24, 25, 26,\n       27, 28, 29, 30, 31, 32, 33, 34, 35, 36, 37, 38, 39, 40, 41, 42, 43,\n       44, 45, 46, 47, 48, 49, 50])"
     },
     "execution_count": 42,
     "metadata": {},
     "output_type": "execute_result"
    }
   ],
   "source": [
    "arr = np.arange(10,51)\n",
    "arr"
   ]
  },
  {
   "cell_type": "markdown",
   "metadata": {
    "id": "I-MKgoaYHLHR"
   },
   "source": [
    "#### 3. Create a 3x3 matrix with values ranging from 0 to 8"
   ]
  },
  {
   "cell_type": "code",
   "execution_count": 43,
   "metadata": {
    "id": "Uq_wbhTJHLHS",
    "outputId": "2994a602-7f71-4d2f-945c-1c228ef122fc"
   },
   "outputs": [
    {
     "data": {
      "text/plain": "array([[0, 1, 2],\n       [3, 4, 5],\n       [6, 7, 8]])"
     },
     "execution_count": 43,
     "metadata": {},
     "output_type": "execute_result"
    }
   ],
   "source": [
    "arr_2d = np.array(([0,1,2],[3,4,5],[6,7,8]))\n",
    "\n",
    "#Show\n",
    "arr_2d"
   ]
  },
  {
   "cell_type": "markdown",
   "metadata": {
    "id": "U51Yop5hHLHS"
   },
   "source": [
    "#### 4. Use NumPy to generate a random number between 0 and 1"
   ]
  },
  {
   "cell_type": "code",
   "execution_count": 43,
   "metadata": {
    "id": "FZ7PpzUfHLHS",
    "outputId": "3359b546-f30f-4bf4-83fc-e6c84aac0e3f"
   },
   "outputs": [],
   "source": []
  },
  {
   "cell_type": "markdown",
   "metadata": {
    "id": "eAOz3CQZHLHS"
   },
   "source": [
    "#### 5. Use NumPy to generate an array of 25 random numbers sampled from a standard normal distribution"
   ]
  },
  {
   "cell_type": "code",
   "execution_count": 43,
   "metadata": {
    "id": "1dgjyqBqHLHT",
    "outputId": "27780668-0d48-4191-ed31-29c049423225"
   },
   "outputs": [],
   "source": []
  },
  {
   "cell_type": "markdown",
   "metadata": {
    "id": "znRIAZqj9hQn"
   },
   "source": [
    "## Append:\n",
    "\n",
    "**Append of list**"
   ]
  },
  {
   "cell_type": "code",
   "execution_count": 44,
   "metadata": {
    "colab": {
     "base_uri": "https://localhost:8080/"
    },
    "id": "Ew5W0Ll4ENPZ",
    "outputId": "f89cc758-644d-4adf-fa1a-45215af7141c"
   },
   "outputs": [
    {
     "name": "stdout",
     "output_type": "stream",
     "text": [
      "l1 append [1, 2, 3, [4, 5]]\n",
      "l2 extend [1, 2, 3, 4, 5]\n"
     ]
    }
   ],
   "source": [
    "l1 = [1,2,3]\n",
    "l1.append([4,5])\n",
    "print('l1 append {}'.format(l1))\n",
    "\n",
    "# Extend:\n",
    "\n",
    "l2 = [1,2,3]\n",
    "l2.extend([4,5])\n",
    "print('l2 extend {}'.format(l2))"
   ]
  },
  {
   "cell_type": "markdown",
   "metadata": {
    "id": "-jJ0Rn2VHLHK"
   },
   "source": [
    "*Formatting output using the format method : \n",
    "The **format()** method was added in Python(2.6). The format method of strings requires more manual effort. Users use {} to mark where a variable will be substituted and can provide detailed formatting directives, but the user also needs to provide the information to be formatted. This method lets us concatenate elements within an output through positional formatting.*\n"
   ]
  },
  {
   "cell_type": "markdown",
   "metadata": {
    "id": "Hl4jTcoaEPP2"
   },
   "source": [
    "**Append of numpy array**"
   ]
  },
  {
   "cell_type": "code",
   "execution_count": 45,
   "outputs": [
    {
     "data": {
      "text/plain": "array([1, 2, 3, 4, 5])"
     },
     "execution_count": 45,
     "metadata": {},
     "output_type": "execute_result"
    }
   ],
   "source": [
    "# No axis paramter - append (extend) all axis together\n",
    "a1 = np.array([1,2,3])\n",
    "a1 = np.append(a1, [4,5]) #like extend of list\n",
    "#print('a1 append {}'.format(list(a1)))\n",
    "a1"
   ],
   "metadata": {
    "collapsed": false
   }
  },
  {
   "cell_type": "code",
   "execution_count": 46,
   "outputs": [
    {
     "data": {
      "text/plain": "array([[1, 2, 3],\n       [4, 5, 6]])"
     },
     "execution_count": 46,
     "metadata": {},
     "output_type": "execute_result"
    }
   ],
   "source": [
    "# axis=0 - append (extend) axis 0 together\n",
    "a3 = np.array([[1,2,3]])\n",
    "a3 = np.append(a3, [[4,5,6]], axis=0) #must be the same dimension of axis 0; axis0 добавляет строки\n",
    "#print('a3 append {}'.format(a3))\n",
    "a3"
   ],
   "metadata": {
    "collapsed": false
   }
  },
  {
   "cell_type": "code",
   "execution_count": 47,
   "outputs": [
    {
     "data": {
      "text/plain": "array([[ 1,  2,  3, 10, 11],\n       [ 4,  5,  6, 12, 13]])"
     },
     "execution_count": 47,
     "metadata": {},
     "output_type": "execute_result"
    }
   ],
   "source": [
    "# axis=1 - append (extend) axis 1 together\n",
    "a5 = np.array([[1,2,3], [4,5,6]])\n",
    "a5 = np.append(a5, [[10, 11],[12, 13]], axis=1)  #must to be the same dimension of axis 1; axis1 добавляет столбики\n",
    "#print('a5 append {}'.format(a5))\n",
    "a5"
   ],
   "metadata": {
    "collapsed": false
   }
  },
  {
   "cell_type": "markdown",
   "metadata": {
    "id": "Edp6-nRQHLHL"
   },
   "source": [
    "# Automate reshape:\n"
   ]
  },
  {
   "cell_type": "markdown",
   "metadata": {
    "id": "oQOwDV3AHLHM"
   },
   "source": [
    "Reshaping arrays\n",
    "Reshaping means changing the shape of an array.\n",
    "\n",
    "The shape of an array is the number of elements in each dimension.\n",
    "\n",
    "By reshaping we can add or remove dimensions or change number of elements in each dimension."
   ]
  },
  {
   "cell_type": "code",
   "execution_count": 48,
   "metadata": {
    "id": "UZdEQHZlHLHM",
    "outputId": "b192dc9e-f3ed-45fd-fd03-9a640a881304"
   },
   "outputs": [
    {
     "data": {
      "text/plain": "array([[ 0,  1,  2,  3,  4],\n       [ 5,  6,  7,  8,  9],\n       [10, 11, 12, 13, 14],\n       [15, 16, 17, 18, 19],\n       [20, 21, 22, 23, 24]])"
     },
     "execution_count": 48,
     "metadata": {},
     "output_type": "execute_result"
    }
   ],
   "source": [
    "arr = np.arange(25).reshape(5,5)\n",
    "arr"
   ]
  },
  {
   "cell_type": "code",
   "execution_count": 49,
   "metadata": {
    "id": "lY4jnoROHLHM",
    "outputId": "9302bedb-8c4f-4888-f9ba-9dddbfc5b801"
   },
   "outputs": [
    {
     "name": "stdout",
     "output_type": "stream",
     "text": [
      "[[ 0  1  2  3  4]\n",
      " [ 5  6  7  8  9]\n",
      " [10 11 12 13 14]\n",
      " [15 16 17 18 19]\n",
      " [20 21 22 23 24]] \n",
      "\n"
     ]
    }
   ],
   "source": [
    "print(arr,'\\n') # don't understand about \\n ??\n",
    "#print(arr)"
   ]
  },
  {
   "cell_type": "code",
   "execution_count": 50,
   "metadata": {
    "id": "WZsr20-rHLHM",
    "outputId": "bf9df151-dfca-4f95-a9f0-b1a4ed1457d5"
   },
   "outputs": [
    {
     "data": {
      "text/plain": "array([[0],\n       [1],\n       [2],\n       [3],\n       [4],\n       [5],\n       [6],\n       [7],\n       [8],\n       [9]])"
     },
     "execution_count": 50,
     "metadata": {},
     "output_type": "execute_result"
    }
   ],
   "source": [
    "b_coulmn = np.arange(10).reshape((-1,1)) #(-1) indicates the number of columns to be 1.\n",
    "#output:(is a 1 dimensional columnar array)\n",
    "b_coulmn"
   ]
  },
  {
   "cell_type": "code",
   "execution_count": 51,
   "metadata": {
    "id": "zlK2-41rHLHN",
    "outputId": "7b05ae8a-72b0-44e7-a750-dd604debb03b"
   },
   "outputs": [
    {
     "data": {
      "text/plain": "array([[0, 1, 2, 3, 4, 5, 6, 7, 8, 9]])"
     },
     "execution_count": 51,
     "metadata": {},
     "output_type": "execute_result"
    }
   ],
   "source": [
    "b_row = np.arange(10).reshape((1,-1))\n",
    "#output:(is a 1 dimensional row array)\n",
    "b_row \n"
   ]
  },
  {
   "cell_type": "markdown",
   "metadata": {
    "id": "sQWFdn_tFZVv"
   },
   "source": [
    "## Dimension after slicing:"
   ]
  },
  {
   "cell_type": "code",
   "execution_count": 52,
   "outputs": [
    {
     "data": {
      "text/plain": "array([[ 1,  2,  3,  4,  5],\n       [ 6,  7,  8,  9, 10],\n       [11, 12, 13, 14, 15],\n       [16, 17, 18, 19, 20]])"
     },
     "execution_count": 52,
     "metadata": {},
     "output_type": "execute_result"
    }
   ],
   "source": [
    "mat = np.arange(1,21).reshape(4,5)\n",
    "#print(mat, '\\n')\n",
    "mat"
   ],
   "metadata": {
    "collapsed": false
   }
  },
  {
   "cell_type": "code",
   "execution_count": 53,
   "outputs": [
    {
     "data": {
      "text/plain": "array([[3, 4]])"
     },
     "execution_count": 53,
     "metadata": {},
     "output_type": "execute_result"
    }
   ],
   "source": [
    "mat[[0],2:4]"
   ],
   "metadata": {
    "collapsed": false
   }
  },
  {
   "cell_type": "code",
   "execution_count": 54,
   "metadata": {
    "colab": {
     "base_uri": "https://localhost:8080/"
    },
    "id": "WYg2_WUtEgoF",
    "outputId": "b5d49259-341c-4bfc-91ad-341967254811"
   },
   "outputs": [
    {
     "name": "stdout",
     "output_type": "stream",
     "text": [
      "[[ 1  2  3  4  5]\n",
      " [ 6  7  8  9 10]\n",
      " [11 12 13 14 15]\n",
      " [16 17 18 19 20]] \n",
      "\n",
      "mat[2:4,2]: \n",
      "[13 18]\n",
      "\n",
      "mat[2:4,2:3]: \n",
      "[[13]\n",
      " [18]]\n",
      "\n",
      "mat[2,2:4]: \n",
      "[13 14]\n",
      "\n",
      "mat[2:3,2:4]: \n",
      "[[13 14]]\n",
      "\n",
      "mat[[2],2:4]: \n",
      "[[13 14]]\n",
      "\n"
     ]
    }
   ],
   "source": [
    "mat = np.arange(1,21).reshape(4,5)\n",
    "print(mat, '\\n')\n",
    "\n",
    "print('mat[2:4,2]: \\n{}\\n'.format(mat[2:4,2])) #output vector , mat(row, column)\n",
    "print('mat[2:4,2:3]: \\n{}\\n'.format(mat[2:4,2:3])) #output: original dimension in the matrix (matrix of 2 rows)\n",
    "print('mat[2,2:4]: \\n{}\\n'.format(mat[2,2:4])) #output: vector\n",
    "print('mat[2:3,2:4]: \\n{}\\n'.format(mat[2:3,2:4])) #output: original dimension in the matrix (matrix of one row)\n",
    "print('mat[[2],2:4]: \\n{}\\n'.format(mat[[2],2:4])) #output: original dimension in the matrix (matrix of one row)"
   ]
  },
  {
   "cell_type": "markdown",
   "metadata": {
    "id": "BvwqXe-SzmVf"
   },
   "source": [
    "## Universal Array Functions\n",
    "\n",
    "Numpy comes with many [universal array functions](http://docs.scipy.org/doc/numpy/reference/ufuncs.html), which are essentially just mathematical operations you can use to perform the operation across the array. Let's show some common ones:"
   ]
  },
  {
   "cell_type": "code",
   "execution_count": 55,
   "outputs": [
    {
     "data": {
      "text/plain": "array([[ 0,  1,  2,  3,  4],\n       [ 5,  6,  7,  8,  9],\n       [10, 11, 12, 13, 14],\n       [15, 16, 17, 18, 19],\n       [20, 21, 22, 23, 24]])"
     },
     "execution_count": 55,
     "metadata": {},
     "output_type": "execute_result"
    }
   ],
   "source": [
    "arr = np.arange(25).reshape(5,5)\n",
    "arr"
   ],
   "metadata": {
    "collapsed": false
   }
  },
  {
   "cell_type": "code",
   "execution_count": 56,
   "metadata": {
    "id": "9e6WTBawzmVf",
    "outputId": "95f8058f-4228-4097-a887-922209af0f69"
   },
   "outputs": [
    {
     "data": {
      "text/plain": "array([[0.        , 1.        , 1.41421356, 1.73205081, 2.        ],\n       [2.23606798, 2.44948974, 2.64575131, 2.82842712, 3.        ],\n       [3.16227766, 3.31662479, 3.46410162, 3.60555128, 3.74165739],\n       [3.87298335, 4.        , 4.12310563, 4.24264069, 4.35889894],\n       [4.47213595, 4.58257569, 4.69041576, 4.79583152, 4.89897949]])"
     },
     "execution_count": 56,
     "metadata": {},
     "output_type": "execute_result"
    }
   ],
   "source": [
    "#Taking Square Roots\n",
    "np.sqrt(arr)"
   ]
  },
  {
   "cell_type": "code",
   "execution_count": 57,
   "metadata": {
    "id": "Be2VQ7BZzmVm",
    "outputId": "280cf2a1-150b-459d-d654-df587e4c64db"
   },
   "outputs": [
    {
     "data": {
      "text/plain": "24"
     },
     "execution_count": 57,
     "metadata": {},
     "output_type": "execute_result"
    }
   ],
   "source": [
    "np.max(arr) #same as arr.max()"
   ]
  },
  {
   "cell_type": "code",
   "execution_count": 58,
   "metadata": {
    "id": "3UFM816pzmVp",
    "outputId": "7229a489-75ad-4519-f4c6-306c2cfce8f1"
   },
   "outputs": [
    {
     "data": {
      "text/plain": "array([[ 0.        ,  0.84147098,  0.90929743,  0.14112001, -0.7568025 ],\n       [-0.95892427, -0.2794155 ,  0.6569866 ,  0.98935825,  0.41211849],\n       [-0.54402111, -0.99999021, -0.53657292,  0.42016704,  0.99060736],\n       [ 0.65028784, -0.28790332, -0.96139749, -0.75098725,  0.14987721],\n       [ 0.91294525,  0.83665564, -0.00885131, -0.8462204 , -0.90557836]])"
     },
     "execution_count": 58,
     "metadata": {},
     "output_type": "execute_result"
    }
   ],
   "source": [
    "np.sin(arr)"
   ]
  },
  {
   "cell_type": "markdown",
   "metadata": {
    "id": "hYk9zC0zzmVq"
   },
   "source": [
    "### Exponents and logarithms\n",
    "\n",
    "Another common type of operation available in a NumPy ufunc are the exponentials: (Universal functions = ufunc)"
   ]
  },
  {
   "cell_type": "code",
   "execution_count": 59,
   "metadata": {
    "id": "vErtH38vzmVq",
    "outputId": "9ca4c0c6-8187-4b71-8af8-2dc27e977958"
   },
   "outputs": [
    {
     "name": "stdout",
     "output_type": "stream",
     "text": [
      "x     = [1, 2, 3]\n",
      "e^x   = [ 2.71828183  7.3890561  20.08553692]\n",
      "2^x   = [2. 4. 8.]\n",
      "3^x   = [ 3  9 27]\n"
     ]
    }
   ],
   "source": [
    "x = [1, 2, 3]\n",
    "print(\"x     =\", x)\n",
    "print(\"e^x   =\", np.exp(x))\n",
    "print(\"2^x   =\", np.exp2(x))\n",
    "print(\"3^x   =\", np.power(3, x))"
   ]
  },
  {
   "cell_type": "markdown",
   "metadata": {
    "id": "MuL1DSzezmVt"
   },
   "source": [
    "The inverse of the exponentials, the logarithms, are also available.\n",
    "The basic ``np.log`` gives the natural logarithm; if you prefer to compute the base-2 logarithm or the base-10 logarithm, these are available as well:"
   ]
  },
  {
   "cell_type": "code",
   "execution_count": 60,
   "metadata": {
    "id": "2gRw6f6lzmVu",
    "outputId": "5180a2fe-3ca1-4a16-f030-13d6aca6ae98"
   },
   "outputs": [
    {
     "name": "stdout",
     "output_type": "stream",
     "text": [
      "x        = [1, 2, 4, 10]\n",
      "ln(x)    = [0.         0.69314718 1.38629436 2.30258509]\n",
      "log2(x)  = [0.         1.         2.         3.32192809]\n",
      "log10(x) = [0.         0.30103    0.60205999 1.        ]\n"
     ]
    }
   ],
   "source": [
    "x = [1, 2, 4, 10]\n",
    "print(\"x        =\", x)\n",
    "print(\"ln(x)    =\", np.log(x))\n",
    "print(\"log2(x)  =\", np.log2(x))\n",
    "print(\"log10(x) =\", np.log10(x))"
   ]
  },
  {
   "cell_type": "markdown",
   "metadata": {
    "id": "1PhmkDr9zmVv"
   },
   "source": [
    "### Other aggregation functions\n",
    "\n",
    "NumPy provides many other aggregation functions, but we won't discuss them in detail here.\n",
    "Additionally, most aggregates have a ``NaN``-safe counterpart that computes the result while ignoring missing values, which are marked by the special IEEE floating-point ``NaN`` value (for a fuller discussion of missing data, see [Handling Missing Data](03.04-Missing-Values.ipynb)).\n",
    "Some of these ``NaN``-safe functions were not added until NumPy 1.8, so they will not be available in older NumPy versions.\n",
    "\n",
    "The following table provides a list of useful aggregation functions available in NumPy:\n",
    "\n",
    "|Function Name      |   NaN-safe Version  | Description                                   |\n",
    "|-------------------|---------------------|-----------------------------------------------|\n",
    "| ``np.sum``        | ``np.nansum``       | Compute sum of elements                       |\n",
    "| ``np.prod``       | ``np.nanprod``      | Compute product of elements                   |\n",
    "| ``np.mean``       | ``np.nanmean``      | Compute mean of elements                      |\n",
    "| ``np.std``        | ``np.nanstd``       | Compute standard deviation                    |\n",
    "| ``np.var``        | ``np.nanvar``       | Compute variance                              |\n",
    "| ``np.min``        | ``np.nanmin``       | Find minimum value                            |\n",
    "| ``np.max``        | ``np.nanmax``       | Find maximum value                            |\n",
    "| ``np.argmin``     | ``np.nanargmin``    | Find index of minimum value                   |\n",
    "| ``np.argmax``     | ``np.nanargmax``    | Find index of maximum value                   |\n",
    "| ``np.median``     | ``np.nanmedian``    | Compute median of elements                    |\n",
    "| ``np.percentile`` | ``np.nanpercentile``| Compute rank-based statistics of elements     |\n",
    "| ``np.any``        | N/A                 | Evaluate whether any elements are true        |\n",
    "| ``np.all``        | N/A                 | Evaluate whether all elements are true        |\n",
    "\n"
   ]
  },
  {
   "cell_type": "code",
   "execution_count": 60,
   "metadata": {
    "id": "P5-Nl8TQHLHQ"
   },
   "outputs": [],
   "source": []
  },
  {
   "cell_type": "markdown",
   "metadata": {
    "id": "gltaejtkHLHT"
   },
   "source": [
    "## Numpy Indexing and Selection Exercises\n",
    "\n",
    "Now you will be given a few matrices, and be asked to replicate the resulting matrix outputs:"
   ]
  },
  {
   "cell_type": "code",
   "execution_count": 61,
   "metadata": {
    "id": "gR8lFLQZHLHT",
    "outputId": "5deeac90-e391-4e5a-89fd-410e9c6d5c1d"
   },
   "outputs": [
    {
     "data": {
      "text/plain": "array([[ 1,  2,  3,  4,  5],\n       [ 6,  7,  8,  9, 10],\n       [11, 12, 13, 14, 15],\n       [16, 17, 18, 19, 20],\n       [21, 22, 23, 24, 25]])"
     },
     "execution_count": 61,
     "metadata": {},
     "output_type": "execute_result"
    }
   ],
   "source": [
    "mat = np.arange(1,26).reshape(5,5)\n",
    "mat"
   ]
  },
  {
   "cell_type": "markdown",
   "metadata": {
    "collapsed": true,
    "id": "qwE5ff3FHLHU"
   },
   "source": [
    "####  6.Write code here that restores the output of the cell below"
   ]
  },
  {
   "cell_type": "code",
   "execution_count": 62,
   "metadata": {},
   "outputs": [
    {
     "data": {
      "text/plain": "array([[12, 13, 14, 15],\n       [17, 18, 19, 20],\n       [22, 23, 24, 25]])"
     },
     "execution_count": 62,
     "metadata": {},
     "output_type": "execute_result"
    }
   ],
   "source": [
    "mat[2:5,1:5]"
   ]
  },
  {
   "cell_type": "code",
   "execution_count": 62,
   "metadata": {
    "id": "34LmG2VbHLHU",
    "outputId": "ba7fb8f9-12fc-4386-b6ac-f00562f87137"
   },
   "outputs": [],
   "source": []
  },
  {
   "cell_type": "markdown",
   "metadata": {
    "collapsed": true,
    "id": "fz3x6c4EHLHU"
   },
   "source": [
    "#### 7. Write code here that reproduces the output of the cell below"
   ]
  },
  {
   "cell_type": "code",
   "execution_count": 63,
   "metadata": {},
   "outputs": [
    {
     "data": {
      "text/plain": "20"
     },
     "execution_count": 63,
     "metadata": {},
     "output_type": "execute_result"
    }
   ],
   "source": [
    "mat[3,4]"
   ]
  },
  {
   "cell_type": "code",
   "execution_count": 64,
   "metadata": {
    "id": "zFGSDL_JHLHU",
    "outputId": "6ac5e6d3-e9b5-414a-965a-398377e85383"
   },
   "outputs": [
    {
     "data": {
      "text/plain": "20"
     },
     "execution_count": 64,
     "metadata": {},
     "output_type": "execute_result"
    }
   ],
   "source": [
    "mat[3][4]"
   ]
  },
  {
   "cell_type": "markdown",
   "metadata": {
    "collapsed": true,
    "id": "j7L4K6S5HLHV"
   },
   "source": [
    "#### 8. Write code here that reproduces the output of the cell below"
   ]
  },
  {
   "cell_type": "code",
   "execution_count": 65,
   "metadata": {},
   "outputs": [
    {
     "data": {
      "text/plain": "array([ 2,  7, 12])"
     },
     "execution_count": 65,
     "metadata": {},
     "output_type": "execute_result"
    }
   ],
   "source": [
    "mat[0:3,1]"
   ]
  },
  {
   "cell_type": "code",
   "execution_count": 65,
   "metadata": {
    "id": "xTa1_ax_HLHW",
    "outputId": "e8cb26dc-8cfa-415d-fa6d-b0bd7ebe0d4e"
   },
   "outputs": [],
   "source": []
  },
  {
   "cell_type": "markdown",
   "metadata": {
    "collapsed": true,
    "id": "HA02ab--HLHW"
   },
   "source": [
    "#### 9. Write code here that reproduces the output of the cell below"
   ]
  },
  {
   "cell_type": "code",
   "execution_count": 66,
   "metadata": {},
   "outputs": [
    {
     "data": {
      "text/plain": "array([21, 22, 23, 24, 25])"
     },
     "execution_count": 66,
     "metadata": {},
     "output_type": "execute_result"
    }
   ],
   "source": [
    "mat[4]"
   ]
  },
  {
   "cell_type": "code",
   "execution_count": 66,
   "metadata": {
    "id": "9ZsOcMNTHLHW",
    "outputId": "9f9ce6c8-0969-450c-c3b6-9d083fb88774"
   },
   "outputs": [],
   "source": []
  },
  {
   "cell_type": "markdown",
   "metadata": {
    "collapsed": true,
    "id": "MbHYMGIHHLHX"
   },
   "source": [
    "#### 10. Write code here that reproduces the output of the cell below"
   ]
  },
  {
   "cell_type": "code",
   "execution_count": 67,
   "metadata": {},
   "outputs": [
    {
     "data": {
      "text/plain": "array([[16, 17, 18, 19, 20],\n       [21, 22, 23, 24, 25]])"
     },
     "execution_count": 67,
     "metadata": {},
     "output_type": "execute_result"
    }
   ],
   "source": [
    "mat[3:5,0:5]"
   ]
  },
  {
   "cell_type": "code",
   "execution_count": 67,
   "metadata": {
    "id": "_Mg7Av6GHLHX",
    "outputId": "0b48d429-d72a-4085-e2b2-b22cf31e22be"
   },
   "outputs": [],
   "source": []
  },
  {
   "cell_type": "markdown",
   "metadata": {
    "id": "AqQYDe-yHLHX"
   },
   "source": [
    "#### 11. An experiment is being conducted to determine the melting point of water. We have repeated this experiment 10 times to obtain a more accurate calculation of the melting point. The results from the experiment can be observed below."
   ]
  },
  {
   "cell_type": "code",
   "execution_count": 68,
   "metadata": {
    "id": "c0nusK0ZHLHX"
   },
   "outputs": [],
   "source": [
    "melting_point_data = np.array([98.5, 99.9, 100.6, 99.3, 100.7, 99.4, 98.4, 99.5, 99.3, 100.7]) #no"
   ]
  },
  {
   "cell_type": "markdown",
   "metadata": {
    "id": "0BIio5H1HLHY"
   },
   "source": [
    "Following the experiment, the electric thermometer is miscalibrated by -0.5  ∘ C. If we were using a list, float, or dictionary then we would have to manually add 0.5  ∘ C to each value. However, a NumPy array allows this error to be corrected more simply."
   ]
  },
  {
   "cell_type": "markdown",
   "metadata": {
    "id": "A5cJMkeqHLHY"
   },
   "source": [
    " **Multiplying the original melting point data by two results in:**"
   ]
  },
  {
   "cell_type": "code",
   "execution_count": 68,
   "metadata": {},
   "outputs": [],
   "source": []
  },
  {
   "cell_type": "code",
   "execution_count": 68,
   "metadata": {
    "id": "fsvy6OVmHLHb",
    "outputId": "0effbd7e-064d-4ccd-caec-84383dd37198"
   },
   "outputs": [],
   "source": []
  },
  {
   "cell_type": "markdown",
   "metadata": {
    "id": "79wXlc2nHLHc"
   },
   "source": [
    "**Subtracting 0.5 from the original melting point data results in:**"
   ]
  },
  {
   "cell_type": "code",
   "execution_count": 68,
   "metadata": {
    "id": "oLKqEjxEHLHd"
   },
   "outputs": [],
   "source": []
  },
  {
   "cell_type": "code",
   "execution_count": 68,
   "metadata": {
    "id": "ils-pjlBHLHc",
    "outputId": "a6129e5d-ca9c-4c1d-c0bb-6807737430ea"
   },
   "outputs": [],
   "source": []
  },
  {
   "cell_type": "markdown",
   "metadata": {
    "id": "VT-nTaOaHLHd"
   },
   "source": [
    "#### 12. Return array of odd rows and even columns from below numpy array"
   ]
  },
  {
   "cell_type": "code",
   "execution_count": 69,
   "metadata": {
    "id": "jgrryv6tHLHd"
   },
   "outputs": [
    {
     "data": {
      "text/plain": "array([[ 3,  6,  9, 12],\n       [15, 18, 21, 24],\n       [27, 30, 33, 36],\n       [39, 42, 45, 48],\n       [51, 54, 57, 60]])"
     },
     "execution_count": 69,
     "metadata": {},
     "output_type": "execute_result"
    }
   ],
   "source": [
    "sampleArray = np.array([[3 ,6, 9, 12], [15 ,18, 21, 24], \n",
    "[27 ,30, 33, 36], [39 ,42, 45, 48], [51 ,54, 57, 60]])\n",
    "sampleArray"
   ]
  },
  {
   "cell_type": "code",
   "execution_count": 70,
   "metadata": {},
   "outputs": [
    {
     "data": {
      "text/plain": "array([[ 6, 12],\n       [30, 36],\n       [54, 60]])"
     },
     "execution_count": 70,
     "metadata": {},
     "output_type": "execute_result"
    }
   ],
   "source": [
    "sampleArray[0:5:2,1:4:2]"
   ]
  },
  {
   "cell_type": "code",
   "execution_count": 70,
   "metadata": {
    "id": "LwmiCFI0HLHd"
   },
   "outputs": [],
   "source": []
  }
 ],
 "metadata": {
  "colab": {
   "name": "Exe_2_Basic_2021- Numpy part 1.ipynb",
   "provenance": []
  },
  "kernelspec": {
   "display_name": "Python 3 (ipykernel)",
   "language": "python",
   "name": "python3"
  },
  "language_info": {
   "codemirror_mode": {
    "name": "ipython",
    "version": 3
   },
   "file_extension": ".py",
   "mimetype": "text/x-python",
   "name": "python",
   "nbconvert_exporter": "python",
   "pygments_lexer": "ipython3",
   "version": "3.9.7"
  }
 },
 "nbformat": 4,
 "nbformat_minor": 1
}
