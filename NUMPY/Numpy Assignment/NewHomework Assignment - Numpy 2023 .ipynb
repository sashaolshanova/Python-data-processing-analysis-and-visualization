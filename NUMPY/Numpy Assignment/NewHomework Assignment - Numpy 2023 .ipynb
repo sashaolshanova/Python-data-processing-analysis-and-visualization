{
 "cells": [
  {
   "cell_type": "markdown",
   "metadata": {},
   "source": [
    "# Homework assignment #2 - NumPy\n",
    "\n",
    "Name: Aleksandra Olshanova\n",
    "\n",
    "ID:728945613"
   ]
  },
  {
   "cell_type": "markdown",
   "metadata": {},
   "source": [
    "### Import NumPy Package"
   ]
  },
  {
   "cell_type": "code",
   "execution_count": 31,
   "metadata": {},
   "outputs": [],
   "source": [
    "# import numpy package\n",
    "import numpy as np"
   ]
  },
  {
   "cell_type": "markdown",
   "metadata": {},
   "source": [
    "### 1. Basic Data Statistics"
   ]
  },
  {
   "cell_type": "markdown",
   "metadata": {},
   "source": [
    "####  Create an array of 5 zeros"
   ]
  },
  {
   "cell_type": "code",
   "execution_count": 32,
   "metadata": {},
   "outputs": [
    {
     "data": {
      "text/plain": "array([[0.],\n       [0.],\n       [0.],\n       [0.],\n       [0.]])"
     },
     "execution_count": 32,
     "metadata": {},
     "output_type": "execute_result"
    }
   ],
   "source": [
    "a = np.zeros((5, 1), float)\n",
    "a"
   ]
  },
  {
   "cell_type": "code",
   "execution_count": 2,
   "metadata": {},
   "outputs": [
    {
     "data": {
      "text/plain": [
       "array([0., 0., 0., 0., 0.])"
      ]
     },
     "execution_count": 2,
     "metadata": {},
     "output_type": "execute_result"
    }
   ],
   "source": []
  },
  {
   "cell_type": "markdown",
   "metadata": {},
   "source": [
    "#### Use this array to create an array of 10 fives"
   ]
  },
  {
   "cell_type": "code",
   "execution_count": 33,
   "metadata": {},
   "outputs": [
    {
     "data": {
      "text/plain": "array([[5.],\n       [5.],\n       [5.],\n       [5.],\n       [5.],\n       [5.],\n       [5.],\n       [5.],\n       [5.],\n       [5.]])"
     },
     "execution_count": 33,
     "metadata": {},
     "output_type": "execute_result"
    }
   ],
   "source": [
    "b = np.full_like(a, 5.0)\n",
    "np.vstack([b, b])"
   ]
  },
  {
   "cell_type": "code",
   "execution_count": 3,
   "metadata": {},
   "outputs": [
    {
     "data": {
      "text/plain": [
       "array([5., 5., 5., 5., 5., 5., 5., 5., 5., 5.])"
      ]
     },
     "execution_count": 3,
     "metadata": {},
     "output_type": "execute_result"
    }
   ],
   "source": []
  },
  {
   "cell_type": "markdown",
   "metadata": {},
   "source": [
    "#### Creat the matrix bellow. The code must not use the same function more then one time in one run\n",
    " "
   ]
  },
  {
   "cell_type": "code",
   "execution_count": 34,
   "metadata": {},
   "outputs": [
    {
     "data": {
      "text/plain": "array([[0., 1., 2., 3., 4.],\n       [0., 1., 2., 3., 4.],\n       [0., 1., 2., 3., 4.],\n       [0., 1., 2., 3., 4.],\n       [0., 1., 2., 3., 4.]])"
     },
     "execution_count": 34,
     "metadata": {},
     "output_type": "execute_result"
    }
   ],
   "source": [
    "c = np.zeros((5, 5))\n",
    "for i in range(c.shape[1]):\n",
    " c[:,i] = i\n",
    "c"
   ]
  },
  {
   "cell_type": "code",
   "execution_count": 7,
   "metadata": {},
   "outputs": [
    {
     "data": {
      "text/plain": [
       "array([[0., 1., 2., 3., 4.],\n",
       "       [0., 1., 2., 3., 4.],\n",
       "       [0., 1., 2., 3., 4.],\n",
       "       [0., 1., 2., 3., 4.],\n",
       "       [0., 1., 2., 3., 4.]])"
      ]
     },
     "execution_count": 7,
     "metadata": {},
     "output_type": "execute_result"
    }
   ],
   "source": []
  },
  {
   "cell_type": "markdown",
   "metadata": {},
   "source": [
    "#### Create a 8x8 matrix and fill it with a checkerboard pattern with 0 zeros and ones."
   ]
  },
  {
   "cell_type": "code",
   "execution_count": 35,
   "metadata": {},
   "outputs": [
    {
     "data": {
      "text/plain": "array([[0., 1., 0., 1., 0., 1., 0., 1.],\n       [1., 0., 1., 0., 1., 0., 1., 0.],\n       [0., 1., 0., 1., 0., 1., 0., 1.],\n       [1., 0., 1., 0., 1., 0., 1., 0.],\n       [0., 1., 0., 1., 0., 1., 0., 1.],\n       [1., 0., 1., 0., 1., 0., 1., 0.],\n       [0., 1., 0., 1., 0., 1., 0., 1.],\n       [1., 0., 1., 0., 1., 0., 1., 0.]])"
     },
     "execution_count": 35,
     "metadata": {},
     "output_type": "execute_result"
    }
   ],
   "source": [
    "d = np.zeros((8, 8))\n",
    "d[::2, 1::2] = 1\n",
    "d[1::2, ::2] = 1\n",
    "d"
   ]
  },
  {
   "cell_type": "code",
   "execution_count": 4,
   "metadata": {},
   "outputs": [
    {
     "name": "stdout",
     "output_type": "stream",
     "text": [
      "[[0 1 0 1 0 1 0 1]\n",
      " [1 0 1 0 1 0 1 0]\n",
      " [0 1 0 1 0 1 0 1]\n",
      " [1 0 1 0 1 0 1 0]\n",
      " [0 1 0 1 0 1 0 1]\n",
      " [1 0 1 0 1 0 1 0]\n",
      " [0 1 0 1 0 1 0 1]\n",
      " [1 0 1 0 1 0 1 0]]\n"
     ]
    }
   ],
   "source": []
  },
  {
   "cell_type": "markdown",
   "metadata": {},
   "source": [
    "#### Create an array of 20 linearly spaced points between 0 and 1:"
   ]
  },
  {
   "cell_type": "code",
   "execution_count": 36,
   "metadata": {},
   "outputs": [
    {
     "data": {
      "text/plain": "array([0.        , 0.05263158, 0.10526316, 0.15789474, 0.21052632,\n       0.26315789, 0.31578947, 0.36842105, 0.42105263, 0.47368421,\n       0.52631579, 0.57894737, 0.63157895, 0.68421053, 0.73684211,\n       0.78947368, 0.84210526, 0.89473684, 0.94736842, 1.        ])"
     },
     "execution_count": 36,
     "metadata": {},
     "output_type": "execute_result"
    }
   ],
   "source": [
    "np.linspace(0, 1, 20)"
   ]
  },
  {
   "cell_type": "code",
   "execution_count": 9,
   "metadata": {},
   "outputs": [
    {
     "data": {
      "text/plain": [
       "array([0.        , 0.05263158, 0.10526316, 0.15789474, 0.21052632,\n",
       "       0.26315789, 0.31578947, 0.36842105, 0.42105263, 0.47368421,\n",
       "       0.52631579, 0.57894737, 0.63157895, 0.68421053, 0.73684211,\n",
       "       0.78947368, 0.84210526, 0.89473684, 0.94736842, 1.        ])"
      ]
     },
     "execution_count": 9,
     "metadata": {},
     "output_type": "execute_result"
    }
   ],
   "source": []
  },
  {
   "cell_type": "markdown",
   "metadata": {},
   "source": [
    "# Working with data:"
   ]
  },
  {
   "cell_type": "markdown",
   "metadata": {},
   "source": [
    "# Daily Rate of Growth of new COVID19 Cases in Israel"
   ]
  },
  {
   "cell_type": "markdown",
   "metadata": {},
   "source": [
    "Read the header row (first row) of file 'covid19_israel.csv', and print the header."
   ]
  },
  {
   "cell_type": "code",
   "execution_count": 37,
   "outputs": [
    {
     "data": {
      "text/plain": "array(['ObservationDate', 'New Confirmed', 'New Deaths', 'New Recovered'],\n      dtype='<U15')"
     },
     "execution_count": 37,
     "metadata": {},
     "output_type": "execute_result"
    }
   ],
   "source": [
    "a=np.loadtxt(r\"COVID19_Israel.csv\", delimiter=\",\", max_rows=1, dtype='str')\n",
    "a\n",
    "#ObservationDate,New Confirmed,New Deaths,New Recovered"
   ],
   "metadata": {
    "collapsed": false
   }
  },
  {
   "cell_type": "code",
   "execution_count": 10,
   "metadata": {
    "scrolled": true
   },
   "outputs": [
    {
     "name": "stdout",
     "output_type": "stream",
     "text": [
      "['ObservationDate' 'New Confirmed' 'New Deaths' 'New Recovered']\n"
     ]
    }
   ],
   "source": []
  },
  {
   "cell_type": "markdown",
   "metadata": {},
   "source": [
    "Read columns 2, 3, 4 (indices 1, 2, 3) of file \"covid19_israel.csv\" into **new_cases** variable.  \n",
    "Use **delimiter** parameter to indicate comma separated values.  \n",
    "Use **skiprows** parameter to skip the first header row.  \n",
    "Use **usecols** parameter to read the columns 2, 3, 4 (indices 1, 2, 3).    \n",
    "Print the last 5 rows."
   ]
  },
  {
   "cell_type": "code",
   "execution_count": 38,
   "outputs": [
    {
     "data": {
      "text/plain": "array([[342,   4,  11],\n       [584,   0,  10],\n       [628,   3,  43],\n       [448,   1,  29],\n       [663,   4,  63]])"
     },
     "execution_count": 38,
     "metadata": {},
     "output_type": "execute_result"
    }
   ],
   "source": [
    "new_cases=np.loadtxt(r\"COVID19_Israel.csv\", delimiter=\",\",skiprows=1, usecols=[1,2,3], dtype='int')\n",
    "new_cases[-5:,:]"
   ],
   "metadata": {
    "collapsed": false
   }
  },
  {
   "cell_type": "code",
   "execution_count": 12,
   "metadata": {},
   "outputs": [
    {
     "data": {
      "text/plain": [
       "array([[342,   4,  11],\n",
       "       [584,   0,  10],\n",
       "       [628,   3,  43],\n",
       "       [448,   1,  29],\n",
       "       [663,   4,  63]])"
      ]
     },
     "execution_count": 12,
     "metadata": {},
     "output_type": "execute_result"
    }
   ],
   "source": [
    "# new_cases = np.loadtxt...\n"
   ]
  },
  {
   "cell_type": "markdown",
   "metadata": {},
   "source": [
    "Print the date of the day were the most patients verified."
   ]
  },
  {
   "cell_type": "code",
   "execution_count": 40,
   "metadata": {},
   "outputs": [
    {
     "name": "stdout",
     "output_type": "stream",
     "text": [
      "the date of the day were the most patients verified: ['3/31/2020']\n"
     ]
    }
   ],
   "source": [
    "covid_data= np.loadtxt(r\"COVID19_Israel.csv\", delimiter=\",\",skiprows=1, dtype='str')\n",
    "# ObservationDate,New Confirmed,New Deaths,New Recovered\n",
    "max_confirmed=np.max(covid_data[:,1].astype(int))\n",
    "date= [covid_data[:,0][covid_data[:,1] == str(max_confirmed)]]\n",
    "print('the date of the day were the most patients verified:' , date[0])"
   ]
  },
  {
   "cell_type": "code",
   "execution_count": 1,
   "metadata": {},
   "outputs": [
    {
     "name": "stdout",
     "output_type": "stream",
     "text": [
      "3/30/2020\n"
     ]
    }
   ],
   "source": []
  },
  {
   "cell_type": "markdown",
   "metadata": {},
   "source": [
    "Calculate the total daily number of confirmed caases, death cases, and recovered cases using numpy's **cumsum** function.  \n",
    "Use the correct **axis** parameter to sum across rows.  \n",
    "Print the total daily number of confirmed cases, death cases, and recovered cases at the last measured date 31/3/2020 on the last row.   "
   ]
  },
  {
   "cell_type": "code",
   "execution_count": 41,
   "metadata": {},
   "outputs": [
    {
     "data": {
      "text/plain": "array([5358,   20,  224])"
     },
     "execution_count": 41,
     "metadata": {},
     "output_type": "execute_result"
    }
   ],
   "source": [
    "#covid_data= np.loadtxt(r\"COVID19_Israel.csv\", delimiter=\",\",skiprows=1, dtype='str')\n",
    "daily_number = np.cumsum(covid_data[:,1:].astype(int), axis=0)\n",
    "daily_number[-1]"
   ]
  },
  {
   "cell_type": "code",
   "execution_count": 14,
   "metadata": {},
   "outputs": [
    {
     "data": {
      "text/plain": [
       "array([5358,   20,  224])"
      ]
     },
     "execution_count": 14,
     "metadata": {},
     "output_type": "execute_result"
    }
   ],
   "source": []
  },
  {
   "cell_type": "markdown",
   "source": [
    "Calculate the increase in the number of verified cases for each day:<br>\n",
    "New Confirmed - (New Deaths + New Recovered)<br>\n",
    " to new numpy array."
   ],
   "metadata": {
    "collapsed": false
   }
  },
  {
   "cell_type": "code",
   "execution_count": 21,
   "metadata": {},
   "outputs": [
    {
     "data": {
      "text/plain": "array([[  1.],\n       [  0.],\n       [  0.],\n       [  0.],\n       [  0.],\n       [  1.],\n       [  0.],\n       [  1.],\n       [  3.],\n       [  3.],\n       [  0.],\n       [  2.],\n       [  3.],\n       [  1.],\n       [  4.],\n       [  0.],\n       [ 18.],\n       [  0.],\n       [ 17.],\n       [ 51.],\n       [ 22.],\n       [ 30.],\n       [ 32.],\n       [ 58.],\n       [  4.],\n       [ 75.],\n       [ 96.],\n       [244.],\n       [ 25.],\n       [155.],\n       [187.],\n       [367.],\n       [474.],\n       [432.],\n       [311.],\n       [327.],\n       [574.],\n       [582.],\n       [418.],\n       [596.]])"
     },
     "execution_count": 21,
     "metadata": {},
     "output_type": "execute_result"
    }
   ],
   "source": [
    "#covid_data= np.loadtxt(r\"COVID19_Israel.csv\", delimiter=\",\",skiprows=1, dtype='str')\n",
    "cdr=covid_data[:,1:]\n",
    "incr_data = np.zeros((40, 1), float)\n",
    "for i in range(cdr.shape[0]):\n",
    " incr_data[i,0] = int(cdr[i,0]) - (int(cdr[i,1]) + int(cdr[i,2]))\n",
    "incr_data\n"
   ]
  },
  {
   "cell_type": "markdown",
   "source": [],
   "metadata": {
    "collapsed": false
   }
  },
  {
   "cell_type": "markdown",
   "metadata": {},
   "source": [
    "Draw a random row from the table and print it."
   ]
  },
  {
   "cell_type": "code",
   "execution_count": 47,
   "outputs": [],
   "source": [
    "np.random.seed(42)"
   ],
   "metadata": {
    "collapsed": false
   }
  },
  {
   "cell_type": "code",
   "execution_count": 48,
   "metadata": {},
   "outputs": [
    {
     "name": "stdout",
     "output_type": "stream",
     "text": [
      "[['3/30/2020' '448' '1' '29']]\n"
     ]
    }
   ],
   "source": [
    "random_row_ind = np.random.choice(covid_data.shape[0], size=1)\n",
    "random_row = covid_data[random_row_ind, :]\n",
    "print(random_row)"
   ]
  },
  {
   "cell_type": "code",
   "execution_count": null,
   "outputs": [],
   "source": [],
   "metadata": {
    "collapsed": false
   }
  }
 ],
 "metadata": {
  "kernelspec": {
   "display_name": "Python 3 (ipykernel)",
   "language": "python",
   "name": "python3"
  },
  "language_info": {
   "codemirror_mode": {
    "name": "ipython",
    "version": 3
   },
   "file_extension": ".py",
   "mimetype": "text/x-python",
   "name": "python",
   "nbconvert_exporter": "python",
   "pygments_lexer": "ipython3",
   "version": "3.8.12"
  }
 },
 "nbformat": 4,
 "nbformat_minor": 4
}
