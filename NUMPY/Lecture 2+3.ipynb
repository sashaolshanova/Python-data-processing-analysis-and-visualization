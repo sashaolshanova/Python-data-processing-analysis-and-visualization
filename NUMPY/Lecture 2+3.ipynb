{
 "cells": [
  {
   "cell_type": "markdown",
   "id": "6930f4dc",
   "metadata": {},
   "source": [
    "USING LIBRARIES"
   ]
  },
  {
   "cell_type": "code",
   "execution_count": 705,
   "id": "6b60d2d2",
   "metadata": {},
   "outputs": [
    {
     "name": "stdout",
     "output_type": "stream",
     "text": [
      "[-5, -4, -3, -2, -1, 0, 1, 2, 3, 4]\n",
      "-5 3\n",
      "10\n"
     ]
    }
   ],
   "source": [
    "import math as m\n",
    "l0 = [n for n in range (-5, 5)]\n",
    "print(l0)\n",
    "print(l0[0], l0[-2])\n",
    "print(len(l0))"
   ]
  },
  {
   "cell_type": "code",
   "execution_count": 706,
   "id": "1c916e0c",
   "metadata": {},
   "outputs": [
    {
     "name": "stdout",
     "output_type": "stream",
     "text": [
      "My Way: [0, 1, 2, 3, 4, 5, 6, 7, 8, 9] \n",
      " Dan's Way [-5, -4, -3, -2, -1, 0, 1, 2, 3, 4]\n"
     ]
    },
    {
     "data": {
      "text/plain": "[-1.5707963267948966,\n -1.2566370614359172,\n -0.9424777960769379,\n -0.6283185307179586,\n -0.3141592653589793,\n 0.0,\n 0.3141592653589793,\n 0.6283185307179586,\n 0.9424777960769379,\n 1.2566370614359172]"
     },
     "execution_count": 706,
     "metadata": {},
     "output_type": "execute_result"
    }
   ],
   "source": [
    "#l1 = sorted ([l0[i]*m.pi/10 for i in l0])\n",
    "lst_index = [index for index in range(len(l0))]\n",
    "lst_items = [i for i in l0]\n",
    "print(f\"My Way: {lst_index} \\n Dan's Way {lst_items}\")\n",
    "\n",
    "l1 = [item*m.pi/10 for item in l0]\n",
    "l1"
   ]
  },
  {
   "cell_type": "code",
   "execution_count": 707,
   "id": "b1a226a3",
   "metadata": {},
   "outputs": [
    {
     "data": {
      "text/plain": "[-1.0,\n -0.9510565162951535,\n -0.8090169943749473,\n -0.5877852522924731,\n -0.3090169943749474,\n 0.0,\n 0.3090169943749474,\n 0.5877852522924731,\n 0.8090169943749473,\n 0.9510565162951535]"
     },
     "execution_count": 707,
     "metadata": {},
     "output_type": "execute_result"
    }
   ],
   "source": [
    "l2= [m.sin(n) for n in l1]\n",
    "l2"
   ]
  },
  {
   "cell_type": "markdown",
   "id": "185a0563",
   "metadata": {},
   "source": [
    "RDKit - chemical libraries "
   ]
  },
  {
   "cell_type": "code",
   "execution_count": 707,
   "id": "5cca086a",
   "metadata": {},
   "outputs": [],
   "source": []
  },
  {
   "cell_type": "markdown",
   "id": "ee55e6d2",
   "metadata": {},
   "source": [
    "NumPy"
   ]
  },
  {
   "cell_type": "markdown",
   "id": "180da025",
   "metadata": {},
   "source": [
    "Generate NumPy array from tuple"
   ]
  },
  {
   "cell_type": "code",
   "execution_count": 708,
   "id": "79ae8b1d",
   "metadata": {},
   "outputs": [
    {
     "data": {
      "text/plain": "array([1., 2., 3., 4.])"
     },
     "execution_count": 708,
     "metadata": {},
     "output_type": "execute_result"
    }
   ],
   "source": [
    "import numpy as np\n",
    "a = np.array((1, 2, 3, 4), float) # float - после запятой (64 bites), numpy_float_125 если нужно больше, чем 64 bites \n",
    "a"
   ]
  },
  {
   "cell_type": "markdown",
   "id": "c760a83e",
   "metadata": {},
   "source": [
    "Generate NumPy array from list"
   ]
  },
  {
   "cell_type": "code",
   "execution_count": 709,
   "id": "4d574f74",
   "metadata": {},
   "outputs": [
    {
     "name": "stdout",
     "output_type": "stream",
     "text": [
      "[[1, 2, 3], [4, 5, 6]]\n"
     ]
    },
    {
     "data": {
      "text/plain": "array([[1.+0.j, 2.+0.j, 3.+0.j],\n       [4.+0.j, 5.+0.j, 6.+0.j]])"
     },
     "execution_count": 709,
     "metadata": {},
     "output_type": "execute_result"
    }
   ],
   "source": [
    "list1 = [[1,2,3], [4,5,6]] # матрица, элемент [1,0] = 4\n",
    "print(list1)\n",
    "mat = np.array(list1, complex) #complex - комплексное число \n",
    "mat"
   ]
  },
  {
   "cell_type": "markdown",
   "id": "297f5848",
   "metadata": {},
   "source": [
    "Properties"
   ]
  },
  {
   "cell_type": "code",
   "execution_count": 710,
   "id": "07d970e2",
   "metadata": {},
   "outputs": [
    {
     "data": {
      "text/plain": "(2, 3)"
     },
     "execution_count": 710,
     "metadata": {},
     "output_type": "execute_result"
    }
   ],
   "source": [
    "mat.shape # 2 строки, 3 столбика"
   ]
  },
  {
   "cell_type": "code",
   "execution_count": 711,
   "id": "51b34149",
   "metadata": {},
   "outputs": [
    {
     "data": {
      "text/plain": "6"
     },
     "execution_count": 711,
     "metadata": {},
     "output_type": "execute_result"
    }
   ],
   "source": [
    "mat.size #6 элементов"
   ]
  },
  {
   "cell_type": "code",
   "execution_count": 712,
   "id": "889d6fda",
   "metadata": {},
   "outputs": [
    {
     "data": {
      "text/plain": "2"
     },
     "execution_count": 712,
     "metadata": {},
     "output_type": "execute_result"
    }
   ],
   "source": [
    "mat.ndim #2 dimensional array"
   ]
  },
  {
   "cell_type": "code",
   "execution_count": 713,
   "id": "3504a417",
   "metadata": {},
   "outputs": [
    {
     "data": {
      "text/plain": "numpy.ndarray"
     },
     "execution_count": 713,
     "metadata": {},
     "output_type": "execute_result"
    }
   ],
   "source": [
    "type(mat) #показывает тип - матрица "
   ]
  },
  {
   "cell_type": "code",
   "execution_count": 714,
   "id": "361ed43b",
   "metadata": {},
   "outputs": [
    {
     "data": {
      "text/plain": "dtype('complex128')"
     },
     "execution_count": 714,
     "metadata": {},
     "output_type": "execute_result"
    }
   ],
   "source": [
    "mat.dtype"
   ]
  },
  {
   "cell_type": "code",
   "execution_count": 715,
   "id": "c723805c",
   "metadata": {},
   "outputs": [
    {
     "name": "stdout",
     "output_type": "stream",
     "text": [
      "8\n"
     ]
    }
   ],
   "source": [
    "list1 = [[1,2,3], [4,5,6]] \n",
    "mat = np.array(list1, float)\n",
    "complex_size = mat.itemsize #размер каждого элемента\n",
    "print(complex_size)"
   ]
  },
  {
   "cell_type": "code",
   "execution_count": 716,
   "id": "765e4080",
   "metadata": {},
   "outputs": [
    {
     "data": {
      "text/plain": "array([[1., 2., 3.],\n       [4., 5., 6.],\n       [7., 8., 9.]])"
     },
     "execution_count": 716,
     "metadata": {},
     "output_type": "execute_result"
    }
   ],
   "source": [
    "import numpy as np\n",
    "a = np.array(((1,2,3),(4,5,6),(7,8,9)), float) #Generate NumPy array from list\n",
    "a\n",
    "# a[2,0] для одного элемента "
   ]
  },
  {
   "cell_type": "code",
   "execution_count": 717,
   "id": "8de1e9f0",
   "metadata": {},
   "outputs": [
    {
     "data": {
      "text/plain": "array([0, 1, 2, 3, 4, 5, 6, 7, 8, 9])"
     },
     "execution_count": 717,
     "metadata": {},
     "output_type": "execute_result"
    }
   ],
   "source": [
    "a=np.arange(10) # l1 =list(range(10)) в обычном питоне \n",
    "a"
   ]
  },
  {
   "cell_type": "code",
   "execution_count": 718,
   "id": "f8d643b9",
   "metadata": {},
   "outputs": [
    {
     "data": {
      "text/plain": "array([0.1 , 0.12, 0.14, 0.16, 0.18])"
     },
     "execution_count": 718,
     "metadata": {},
     "output_type": "execute_result"
    }
   ],
   "source": [
    "b=np.arange(0.1, 0.2, 0.02) #от 0.1 до 0.2 с шагом 0.02\n",
    "b"
   ]
  },
  {
   "cell_type": "code",
   "execution_count": 719,
   "id": "7ee99338",
   "metadata": {},
   "outputs": [
    {
     "data": {
      "text/plain": "array([-3.14159265, -2.44346095, -1.74532925, -1.04719755, -0.34906585,\n        0.34906585,  1.04719755,  1.74532925,  2.44346095,  3.14159265])"
     },
     "execution_count": 719,
     "metadata": {},
     "output_type": "execute_result"
    }
   ],
   "source": [
    "c = np.linspace(-np.pi, np.pi, 10) # создаёт 10 чисел, сам считает шаг\n",
    "c"
   ]
  },
  {
   "cell_type": "code",
   "execution_count": 720,
   "id": "81c7c4f5",
   "metadata": {},
   "outputs": [
    {
     "data": {
      "text/plain": "array([[0., 0., 0., 0., 0., 0.],\n       [0., 0., 0., 0., 0., 0.],\n       [0., 0., 0., 0., 0., 0.],\n       [0., 0., 0., 0., 0., 0.]])"
     },
     "execution_count": 720,
     "metadata": {},
     "output_type": "execute_result"
    }
   ],
   "source": [
    "a = np.zeros((4, 6), float)\n",
    "a\n",
    "#a.shape"
   ]
  },
  {
   "cell_type": "code",
   "execution_count": 721,
   "id": "41a32395",
   "metadata": {},
   "outputs": [
    {
     "data": {
      "text/plain": "array([[1., 1., 1., 1.],\n       [1., 1., 1., 1.]])"
     },
     "execution_count": 721,
     "metadata": {},
     "output_type": "execute_result"
    }
   ],
   "source": [
    "b = np.ones((2, 4))\n",
    "b"
   ]
  },
  {
   "cell_type": "code",
   "execution_count": 722,
   "id": "d29c27af",
   "metadata": {},
   "outputs": [
    {
     "data": {
      "text/plain": "array([[11.1, 11.1, 11.1],\n       [11.1, 11.1, 11.1]])"
     },
     "execution_count": 722,
     "metadata": {},
     "output_type": "execute_result"
    }
   ],
   "source": [
    "c = np.full((2, 3), 11.1) #11.1 числа, которыми будет заполнена матрица \n",
    "c"
   ]
  },
  {
   "cell_type": "code",
   "execution_count": 723,
   "id": "191af6fc",
   "metadata": {},
   "outputs": [
    {
     "data": {
      "text/plain": "array([[1., 2., 3.],\n       [4., 5., 6.],\n       [7., 8., 9.]])"
     },
     "execution_count": 723,
     "metadata": {},
     "output_type": "execute_result"
    }
   ],
   "source": [
    "d = np.empty((3,3)) # не очень поняла \n",
    "d"
   ]
  },
  {
   "cell_type": "code",
   "execution_count": 724,
   "id": "d76ee56c",
   "metadata": {},
   "outputs": [
    {
     "data": {
      "text/plain": "array([[0., 0., 0., 0., 0., 0.],\n       [0., 0., 0., 0., 0., 0.],\n       [0., 0., 0., 0., 0., 0.],\n       [0., 0., 0., 0., 0., 0.]])"
     },
     "execution_count": 724,
     "metadata": {},
     "output_type": "execute_result"
    }
   ],
   "source": [
    "a = np.zeros((4, 6), float)\n",
    "a"
   ]
  },
  {
   "cell_type": "code",
   "execution_count": 725,
   "id": "738ca5eb",
   "metadata": {},
   "outputs": [
    {
     "data": {
      "text/plain": "array([[0., 0., 0., 0., 0., 0.],\n       [0., 0., 0., 0., 0., 0.],\n       [0., 0., 0., 0., 0., 0.],\n       [0., 0., 0., 0., 0., 0.]])"
     },
     "execution_count": 725,
     "metadata": {},
     "output_type": "execute_result"
    }
   ],
   "source": [
    "b = np.empty_like(a) #сохраняется shape матрицы a (4,6)\n",
    "b"
   ]
  },
  {
   "cell_type": "markdown",
   "source": [],
   "metadata": {
    "collapsed": false
   }
  },
  {
   "cell_type": "code",
   "execution_count": 726,
   "id": "0f049532",
   "metadata": {},
   "outputs": [
    {
     "data": {
      "text/plain": "array([[1., 1., 1., 1., 1., 1.],\n       [1., 1., 1., 1., 1., 1.],\n       [1., 1., 1., 1., 1., 1.],\n       [1., 1., 1., 1., 1., 1.]])"
     },
     "execution_count": 726,
     "metadata": {},
     "output_type": "execute_result"
    }
   ],
   "source": [
    "c = np.ones_like(a) #сохраняется shape матрицы a (4,6)\n",
    "c"
   ]
  },
  {
   "cell_type": "code",
   "execution_count": 727,
   "id": "3bcc0636",
   "metadata": {},
   "outputs": [
    {
     "data": {
      "text/plain": "array([[9999., 9999., 9999., 9999., 9999., 9999.],\n       [9999., 9999., 9999., 9999., 9999., 9999.],\n       [9999., 9999., 9999., 9999., 9999., 9999.],\n       [9999., 9999., 9999., 9999., 9999., 9999.]])"
     },
     "execution_count": 727,
     "metadata": {},
     "output_type": "execute_result"
    }
   ],
   "source": [
    "d = np.full_like(a, 9999.0) #сохраняется shape матрицы a (4,6), но заполняется 9999.0 \n",
    "d"
   ]
  },
  {
   "cell_type": "code",
   "execution_count": 728,
   "outputs": [
    {
     "data": {
      "text/plain": "array(['foo', 'foo-bar'], dtype='<U7')"
     },
     "execution_count": 728,
     "metadata": {},
     "output_type": "execute_result"
    }
   ],
   "source": [
    "a = np.array(['foo', 'foo-bar'])\n",
    "a"
   ],
   "metadata": {
    "collapsed": false
   }
  },
  {
   "cell_type": "code",
   "execution_count": 729,
   "outputs": [
    {
     "data": {
      "text/plain": "array([b'A', b'A', b'A', b'G', b'T', b'C', b'T', b'G', b'A', b'C'],\n      dtype='|S1')"
     },
     "execution_count": 729,
     "metadata": {},
     "output_type": "execute_result"
    }
   ],
   "source": [
    "dna = 'AAAGTCTGAC' #????\n",
    "a = np.array(dna, dtype='c')\n",
    "a"
   ],
   "metadata": {
    "collapsed": false
   }
  },
  {
   "cell_type": "code",
   "execution_count": 729,
   "outputs": [],
   "source": [],
   "metadata": {
    "collapsed": false
   }
  },
  {
   "cell_type": "markdown",
   "source": [
    "Slicing"
   ],
   "metadata": {
    "collapsed": false
   }
  },
  {
   "cell_type": "code",
   "execution_count": 730,
   "outputs": [
    {
     "data": {
      "text/plain": "array([0, 1, 2, 3, 4, 5, 6, 7, 8, 9])"
     },
     "execution_count": 730,
     "metadata": {},
     "output_type": "execute_result"
    }
   ],
   "source": [
    "a = np.arange(10)\n",
    "a"
   ],
   "metadata": {
    "collapsed": false
   }
  },
  {
   "cell_type": "code",
   "execution_count": 731,
   "outputs": [
    {
     "data": {
      "text/plain": "8"
     },
     "execution_count": 731,
     "metadata": {},
     "output_type": "execute_result"
    }
   ],
   "source": [
    "a[-2]"
   ],
   "metadata": {
    "collapsed": false
   }
  },
  {
   "cell_type": "code",
   "execution_count": 732,
   "outputs": [
    {
     "data": {
      "text/plain": "array([ 0, -1, -1,  3,  4,  5,  6,  7,  8,  9])"
     },
     "execution_count": 732,
     "metadata": {},
     "output_type": "execute_result"
    }
   ],
   "source": [
    "a[1:3] = -1\n",
    "a"
   ],
   "metadata": {
    "collapsed": false
   }
  },
  {
   "cell_type": "code",
   "execution_count": 733,
   "outputs": [
    {
     "data": {
      "text/plain": "array([-1,  3,  5])"
     },
     "execution_count": 733,
     "metadata": {},
     "output_type": "execute_result"
    }
   ],
   "source": [
    "a[1:7:2] #Slicing with x[start:stop:step]"
   ],
   "metadata": {
    "collapsed": false
   }
  },
  {
   "cell_type": "code",
   "execution_count": 734,
   "outputs": [
    {
     "data": {
      "text/plain": "array([[1, 2, 3],\n       [4, 5, 6]])"
     },
     "execution_count": 734,
     "metadata": {},
     "output_type": "execute_result"
    }
   ],
   "source": [
    "import numpy as np\n",
    "mat = np.array([[1, 2, 3], [4, 5, 6]])\n",
    "mat"
   ],
   "metadata": {
    "collapsed": false
   }
  },
  {
   "cell_type": "code",
   "execution_count": 735,
   "outputs": [
    {
     "data": {
      "text/plain": "5"
     },
     "execution_count": 735,
     "metadata": {},
     "output_type": "execute_result"
    }
   ],
   "source": [
    "mat[1,-2]"
   ],
   "metadata": {
    "collapsed": false
   }
  },
  {
   "cell_type": "code",
   "execution_count": 736,
   "outputs": [
    {
     "data": {
      "text/plain": "array([[0., 0., 0., 0.],\n       [0., 0., 0., 0.],\n       [0., 0., 0., 0.],\n       [0., 0., 0., 0.]])"
     },
     "execution_count": 736,
     "metadata": {},
     "output_type": "execute_result"
    }
   ],
   "source": [
    "a = np.zeros((4, 4))\n",
    "a"
   ],
   "metadata": {
    "collapsed": false
   }
  },
  {
   "cell_type": "code",
   "execution_count": 737,
   "outputs": [
    {
     "data": {
      "text/plain": "array([[ 0.,  0.,  0.,  0.],\n       [ 0., 10., 10.,  0.],\n       [ 0., 10., 10.,  0.],\n       [ 0.,  0.,  0.,  0.]])"
     },
     "execution_count": 737,
     "metadata": {},
     "output_type": "execute_result"
    }
   ],
   "source": [
    "#Slicing of arrays in multiple dimensions\n",
    "a[1:3, 1:3] = 10.0\n",
    "a"
   ],
   "metadata": {
    "collapsed": false
   }
  },
  {
   "cell_type": "code",
   "execution_count": 738,
   "outputs": [
    {
     "data": {
      "text/plain": "array([[12,  5,  2,  4],\n       [ 7,  6,  8,  8],\n       [ 1,  6,  7,  7]])"
     },
     "execution_count": 738,
     "metadata": {},
     "output_type": "execute_result"
    }
   ],
   "source": [
    "a = np.array([[12, 5, 2, 4], [7, 6, 8, 8], [1, 6, 7, 7]])\n",
    "a"
   ],
   "metadata": {
    "collapsed": false
   }
  },
  {
   "cell_type": "code",
   "execution_count": 739,
   "outputs": [
    {
     "data": {
      "text/plain": "array([[12,  5,  2],\n       [ 7,  6,  8]])"
     },
     "execution_count": 739,
     "metadata": {},
     "output_type": "execute_result"
    }
   ],
   "source": [
    "a[:2, :3] # Union of 2 rows, 3 columns"
   ],
   "metadata": {
    "collapsed": false
   }
  },
  {
   "cell_type": "code",
   "execution_count": 740,
   "outputs": [
    {
     "data": {
      "text/plain": "array([[12,  5],\n       [ 7,  6],\n       [ 1,  6]])"
     },
     "execution_count": 740,
     "metadata": {},
     "output_type": "execute_result"
    }
   ],
   "source": [
    "a[:3, :2] # Union of 3 rows, 2 columns\n"
   ],
   "metadata": {
    "collapsed": false
   }
  },
  {
   "cell_type": "code",
   "execution_count": 741,
   "outputs": [
    {
     "data": {
      "text/plain": "array([[12,  2],\n       [ 7,  8]])"
     },
     "execution_count": 741,
     "metadata": {},
     "output_type": "execute_result"
    }
   ],
   "source": [
    "a[:2, ::2] # 2 rows, every other column"
   ],
   "metadata": {
    "collapsed": false
   }
  },
  {
   "cell_type": "code",
   "execution_count": 742,
   "outputs": [
    {
     "data": {
      "text/plain": "array([[ 7,  7,  6,  1],\n       [ 8,  8,  6,  7],\n       [ 4,  2,  5, 12]])"
     },
     "execution_count": 742,
     "metadata": {},
     "output_type": "execute_result"
    }
   ],
   "source": [
    "a[::-1, ::-1] # Transpose matrix"
   ],
   "metadata": {
    "collapsed": false
   }
  },
  {
   "cell_type": "markdown",
   "source": [
    "Exercises"
   ],
   "metadata": {
    "collapsed": false
   }
  },
  {
   "cell_type": "code",
   "execution_count": 743,
   "outputs": [
    {
     "data": {
      "text/plain": "array([[12,  5,  2,  4],\n       [ 7,  6,  8,  8],\n       [ 1,  6,  7,  7]])"
     },
     "execution_count": 743,
     "metadata": {},
     "output_type": "execute_result"
    }
   ],
   "source": [
    "a = np.array([[12, 5, 2, 4], [7, 6, 8, 8], [1, 6, 7, 7]])\n",
    "a"
   ],
   "metadata": {
    "collapsed": false
   }
  },
  {
   "cell_type": "code",
   "execution_count": 744,
   "outputs": [
    {
     "data": {
      "text/plain": "array([[12,  2],\n       [ 1,  7]])"
     },
     "execution_count": 744,
     "metadata": {},
     "output_type": "execute_result"
    }
   ],
   "source": [
    "a[:3:2, :3:2]"
   ],
   "metadata": {
    "collapsed": false
   }
  },
  {
   "cell_type": "code",
   "execution_count": 745,
   "outputs": [
    {
     "data": {
      "text/plain": "array([[12,  4],\n       [ 1,  7]])"
     },
     "execution_count": 745,
     "metadata": {},
     "output_type": "execute_result"
    }
   ],
   "source": [
    "a[:3:2, :4:3]"
   ],
   "metadata": {
    "collapsed": false
   }
  },
  {
   "cell_type": "code",
   "execution_count": 746,
   "outputs": [
    {
     "data": {
      "text/plain": "array([12,  6,  7])"
     },
     "execution_count": 746,
     "metadata": {},
     "output_type": "execute_result"
    }
   ],
   "source": [
    "a[np.arange(3), np.arange(3)] #[0,1,2] [0,1,2] ???"
   ],
   "metadata": {
    "collapsed": false
   }
  },
  {
   "cell_type": "code",
   "execution_count": 747,
   "outputs": [
    {
     "name": "stdout",
     "output_type": "stream",
     "text": [
      "[9999    2    3]\n",
      "[0 1 2 3 4 5 6 7 8 9]\n",
      "[   0 9999    2    3    4    5    6    7    8    9]\n"
     ]
    }
   ],
   "source": [
    "a = np.arange(10)\n",
    "b = a # reference, changing values in b changes a\n",
    "c = a.copy() #true copy\n",
    "d = a[1:4]\n",
    "d[0] = 9999.0\n",
    "print(d)\n",
    "print(c)\n",
    "print(a)"
   ],
   "metadata": {
    "collapsed": false
   }
  },
  {
   "cell_type": "code",
   "execution_count": 748,
   "outputs": [
    {
     "data": {
      "text/plain": "array([[1, 2, 3],\n       [4, 5, 6]])"
     },
     "execution_count": 748,
     "metadata": {},
     "output_type": "execute_result"
    }
   ],
   "source": [
    "mat = np.array([[1, 2, 3], [4, 5, 6]])\n",
    "mat\n"
   ],
   "metadata": {
    "collapsed": false
   }
  },
  {
   "cell_type": "code",
   "execution_count": 749,
   "outputs": [
    {
     "data": {
      "text/plain": "array([[1, 2],\n       [3, 4],\n       [5, 6]])"
     },
     "execution_count": 749,
     "metadata": {},
     "output_type": "execute_result"
    }
   ],
   "source": [
    "mat.reshape(3, 2) # 1, 2 first raw; 3,4 second raw; 5,6 third raw"
   ],
   "metadata": {
    "collapsed": false
   }
  },
  {
   "cell_type": "code",
   "execution_count": 750,
   "outputs": [
    {
     "data": {
      "text/plain": "array([[1, 2, 3],\n       [4, 5, 6],\n       [7, 8, 9]])"
     },
     "execution_count": 750,
     "metadata": {},
     "output_type": "execute_result"
    }
   ],
   "source": [
    "mat = np.arange(1, 10)\n",
    "mat.reshape(3, 3)"
   ],
   "metadata": {
    "collapsed": false
   }
  },
  {
   "cell_type": "code",
   "execution_count": 751,
   "outputs": [
    {
     "data": {
      "text/plain": "array([1, 2, 3, 4, 5, 6])"
     },
     "execution_count": 751,
     "metadata": {},
     "output_type": "execute_result"
    }
   ],
   "source": [
    "mat = np.array([[1, 2, 3], [4, 5, 6]])\n",
    "mat.ravel() #flatten array to 1D"
   ],
   "metadata": {
    "collapsed": false
   }
  },
  {
   "cell_type": "code",
   "execution_count": 752,
   "outputs": [
    {
     "data": {
      "text/plain": "array([1, 2, 3, 4, 5, 6])"
     },
     "execution_count": 752,
     "metadata": {},
     "output_type": "execute_result"
    }
   ],
   "source": [
    "mat1 = np.array([1, 2, 3])\n",
    "mat2 = np.array([4, 5, 6])\n",
    "np.hstack([mat1, mat2]) # stack arrays on top of one another"
   ],
   "metadata": {
    "collapsed": false
   }
  },
  {
   "cell_type": "code",
   "execution_count": 753,
   "outputs": [
    {
     "data": {
      "text/plain": "array([[1, 2, 3],\n       [4, 5, 6]])"
     },
     "execution_count": 753,
     "metadata": {},
     "output_type": "execute_result"
    }
   ],
   "source": [
    "np.vstack([mat1, mat2]) # stack arrays on top of one another"
   ],
   "metadata": {
    "collapsed": false
   }
  },
  {
   "cell_type": "code",
   "execution_count": 754,
   "outputs": [
    {
     "data": {
      "text/plain": "array([[ 1,  2,  3],\n       [ 4,  5,  6],\n       [ 7,  8,  9],\n       [10, 11, 12]])"
     },
     "execution_count": 754,
     "metadata": {},
     "output_type": "execute_result"
    }
   ],
   "source": [
    "mat1 = np.array([[1, 2, 3], [4, 5, 6]]) # 2×3 array\n",
    "mat2 = np.array([[7, 8, 9], [10, 11, 12]])\n",
    "np.concatenate((mat1, mat2)) # same effect as vstack"
   ],
   "metadata": {
    "collapsed": false
   }
  },
  {
   "cell_type": "code",
   "execution_count": 755,
   "outputs": [
    {
     "data": {
      "text/plain": "array([[ 1,  2,  3],\n       [ 4,  5,  6],\n       [ 7,  8,  9],\n       [10, 11, 12]])"
     },
     "execution_count": 755,
     "metadata": {},
     "output_type": "execute_result"
    }
   ],
   "source": [
    "mat3 = np.concatenate((mat1, mat2))\n",
    "mat3"
   ],
   "metadata": {
    "collapsed": false
   }
  },
  {
   "cell_type": "code",
   "execution_count": 756,
   "outputs": [
    {
     "data": {
      "text/plain": "array([[ 1,  2,  3,  7,  8,  9],\n       [ 4,  5,  6, 10, 11, 12]])"
     },
     "execution_count": 756,
     "metadata": {},
     "output_type": "execute_result"
    }
   ],
   "source": [
    "np.concatenate((mat1, mat2), axis=1) # 2×6 array, same effect as hstack"
   ],
   "metadata": {
    "collapsed": false
   }
  },
  {
   "cell_type": "code",
   "execution_count": 757,
   "outputs": [
    {
     "data": {
      "text/plain": "[array([[ 1],\n        [ 4],\n        [ 7],\n        [10]]),\n array([[ 2],\n        [ 5],\n        [ 8],\n        [11]]),\n array([[ 3],\n        [ 6],\n        [ 9],\n        [12]])]"
     },
     "execution_count": 757,
     "metadata": {},
     "output_type": "execute_result"
    }
   ],
   "source": [
    "np.split(mat3, 3, axis=1) # Splitting vertical, because axis=1, 3-на сколько порезать нужно"
   ],
   "metadata": {
    "collapsed": false
   }
  },
  {
   "cell_type": "code",
   "execution_count": 758,
   "outputs": [
    {
     "data": {
      "text/plain": "[array([[1, 2, 3],\n        [4, 5, 6]]),\n array([[ 7,  8,  9],\n        [10, 11, 12]])]"
     },
     "execution_count": 758,
     "metadata": {},
     "output_type": "execute_result"
    }
   ],
   "source": [
    "np.split(mat3, 2, axis=0) # Splitting gorizontally!!!"
   ],
   "metadata": {
    "collapsed": false
   }
  },
  {
   "cell_type": "code",
   "execution_count": 759,
   "outputs": [
    {
     "data": {
      "text/plain": "array([2., 4., 6.])"
     },
     "execution_count": 759,
     "metadata": {},
     "output_type": "execute_result"
    }
   ],
   "source": [
    "a = np.array([1.0, 2.0, 3.0])\n",
    "b = 2.0\n",
    "a * b"
   ],
   "metadata": {
    "collapsed": false
   }
  },
  {
   "cell_type": "code",
   "execution_count": 760,
   "outputs": [
    {
     "data": {
      "text/plain": "array([3., 4., 5.])"
     },
     "execution_count": 760,
     "metadata": {},
     "output_type": "execute_result"
    }
   ],
   "source": [
    "a + b #broadcasting"
   ],
   "metadata": {
    "collapsed": false
   }
  },
  {
   "cell_type": "code",
   "execution_count": 761,
   "outputs": [
    {
     "data": {
      "text/plain": "array([1., 4., 9.])"
     },
     "execution_count": 761,
     "metadata": {},
     "output_type": "execute_result"
    }
   ],
   "source": [
    "a * a"
   ],
   "metadata": {
    "collapsed": false
   }
  },
  {
   "cell_type": "code",
   "execution_count": 762,
   "outputs": [
    {
     "data": {
      "text/plain": "array([1., 4., 9.])"
     },
     "execution_count": 762,
     "metadata": {},
     "output_type": "execute_result"
    }
   ],
   "source": [
    "a ** b"
   ],
   "metadata": {
    "collapsed": false
   }
  },
  {
   "cell_type": "code",
   "execution_count": 763,
   "outputs": [
    {
     "data": {
      "text/plain": "array([-3.14159265, -2.24399475, -1.34639685, -0.44879895,  0.44879895,\n        1.34639685,  2.24399475,  3.14159265])"
     },
     "execution_count": 763,
     "metadata": {},
     "output_type": "execute_result"
    }
   ],
   "source": [
    "import numpy as np, math\n",
    "a = np.linspace(-math.pi, math.pi, 8)\n",
    "a"
   ],
   "metadata": {
    "collapsed": false
   }
  },
  {
   "cell_type": "code",
   "execution_count": 764,
   "outputs": [
    {
     "data": {
      "text/plain": "array([-1.22464680e-16, -7.81831482e-01, -9.74927912e-01, -4.33883739e-01,\n        4.33883739e-01,  9.74927912e-01,  7.81831482e-01,  1.22464680e-16])"
     },
     "execution_count": 764,
     "metadata": {},
     "output_type": "execute_result"
    }
   ],
   "source": [
    "np.sin(a)"
   ],
   "metadata": {
    "collapsed": false
   }
  },
  {
   "cell_type": "code",
   "execution_count": 765,
   "outputs": [
    {
     "data": {
      "text/plain": "array([-1.22464680e-16, -7.81831482e-01, -9.74927912e-01, -4.33883739e-01,\n        4.33883739e-01,  9.74927912e-01,  7.81831482e-01,  1.22464680e-16])"
     },
     "execution_count": 765,
     "metadata": {},
     "output_type": "execute_result"
    }
   ],
   "source": [
    "import numpy as math\n",
    "math.sin(a)"
   ],
   "metadata": {
    "collapsed": false
   }
  },
  {
   "cell_type": "code",
   "execution_count": 766,
   "outputs": [
    {
     "data": {
      "text/plain": "array([ True,  True, False, False, False])"
     },
     "execution_count": 766,
     "metadata": {},
     "output_type": "execute_result"
    }
   ],
   "source": [
    "x = np.array([1, 2, 3, 4, 5])\n",
    "x < 3"
   ],
   "metadata": {
    "collapsed": false
   }
  },
  {
   "cell_type": "code",
   "execution_count": 767,
   "outputs": [
    {
     "data": {
      "text/plain": "array([False, False, False,  True,  True])"
     },
     "execution_count": 767,
     "metadata": {},
     "output_type": "execute_result"
    }
   ],
   "source": [
    "x > 3"
   ],
   "metadata": {
    "collapsed": false
   }
  },
  {
   "cell_type": "code",
   "execution_count": 768,
   "outputs": [
    {
     "data": {
      "text/plain": "array([ True,  True,  True, False, False])"
     },
     "execution_count": 768,
     "metadata": {},
     "output_type": "execute_result"
    }
   ],
   "source": [
    "x <= 3"
   ],
   "metadata": {
    "collapsed": false
   }
  },
  {
   "cell_type": "code",
   "execution_count": 769,
   "outputs": [
    {
     "data": {
      "text/plain": "array([ True,  True, False,  True,  True])"
     },
     "execution_count": 769,
     "metadata": {},
     "output_type": "execute_result"
    }
   ],
   "source": [
    "x != 3"
   ],
   "metadata": {
    "collapsed": false
   }
  },
  {
   "cell_type": "code",
   "execution_count": 770,
   "outputs": [
    {
     "data": {
      "text/plain": "array([[5, 0, 3, 3],\n       [7, 9, 3, 5],\n       [2, 4, 7, 6]])"
     },
     "execution_count": 770,
     "metadata": {},
     "output_type": "execute_result"
    }
   ],
   "source": [
    "x = np.array([[5, 0, 3, 3], [7, 9, 3, 5], [2, 4, 7, 6]])\n",
    "x"
   ],
   "metadata": {
    "collapsed": false
   }
  },
  {
   "cell_type": "code",
   "execution_count": 771,
   "outputs": [
    {
     "data": {
      "text/plain": "array([[ True,  True,  True,  True],\n       [False, False,  True,  True],\n       [ True,  True, False, False]])"
     },
     "execution_count": 771,
     "metadata": {},
     "output_type": "execute_result"
    }
   ],
   "source": [
    " x < 6"
   ],
   "metadata": {
    "collapsed": false
   }
  },
  {
   "cell_type": "code",
   "execution_count": 772,
   "outputs": [
    {
     "data": {
      "text/plain": "8"
     },
     "execution_count": 772,
     "metadata": {},
     "output_type": "execute_result"
    }
   ],
   "source": [
    "np.count_nonzero(x < 6) # How many values less than 6"
   ],
   "metadata": {
    "collapsed": false
   }
  },
  {
   "cell_type": "code",
   "execution_count": 773,
   "outputs": [
    {
     "data": {
      "text/plain": "8"
     },
     "execution_count": 773,
     "metadata": {},
     "output_type": "execute_result"
    }
   ],
   "source": [
    "np.sum(x < 6)"
   ],
   "metadata": {
    "collapsed": false
   }
  },
  {
   "cell_type": "code",
   "execution_count": 774,
   "outputs": [
    {
     "data": {
      "text/plain": "array([4, 2, 2])"
     },
     "execution_count": 774,
     "metadata": {},
     "output_type": "execute_result"
    }
   ],
   "source": [
    "np.sum(x < 6, axis=1) # how many true in raw"
   ],
   "metadata": {
    "collapsed": false
   }
  },
  {
   "cell_type": "code",
   "execution_count": 775,
   "outputs": [
    {
     "data": {
      "text/plain": "array([2, 2, 2, 2])"
     },
     "execution_count": 775,
     "metadata": {},
     "output_type": "execute_result"
    }
   ],
   "source": [
    "np.sum(x < 6, axis=0) # how many true in columns"
   ],
   "metadata": {
    "collapsed": false
   }
  },
  {
   "cell_type": "code",
   "execution_count": 776,
   "outputs": [
    {
     "data": {
      "text/plain": "54"
     },
     "execution_count": 776,
     "metadata": {},
     "output_type": "execute_result"
    }
   ],
   "source": [
    "np.sum(x) #сумма всех элементов в матрице"
   ],
   "metadata": {
    "collapsed": false
   }
  },
  {
   "cell_type": "code",
   "execution_count": 777,
   "outputs": [
    {
     "data": {
      "text/plain": "array([ 1,  2,  3,  4,  5,  6,  7,  8,  9, 10])"
     },
     "execution_count": 777,
     "metadata": {},
     "output_type": "execute_result"
    }
   ],
   "source": [
    "x = np.arange(1,11)\n",
    "x"
   ],
   "metadata": {
    "collapsed": false
   }
  },
  {
   "cell_type": "code",
   "execution_count": 778,
   "outputs": [
    {
     "data": {
      "text/plain": "array([False, False,  True,  True,  True,  True,  True, False, False,\n       False])"
     },
     "execution_count": 778,
     "metadata": {},
     "output_type": "execute_result"
    }
   ],
   "source": [
    "(x > 2.5) & (x < 7.5) # & and"
   ],
   "metadata": {
    "collapsed": false
   }
  },
  {
   "cell_type": "code",
   "execution_count": 779,
   "outputs": [
    {
     "data": {
      "text/plain": "5"
     },
     "execution_count": 779,
     "metadata": {},
     "output_type": "execute_result"
    }
   ],
   "source": [
    "np.sum((x > 2.5) & (x < 7.5)) # 5 items TRUE"
   ],
   "metadata": {
    "collapsed": false
   }
  },
  {
   "cell_type": "code",
   "execution_count": 780,
   "outputs": [
    {
     "data": {
      "text/plain": "array([ True,  True, False, False, False, False, False,  True,  True,\n        True])"
     },
     "execution_count": 780,
     "metadata": {},
     "output_type": "execute_result"
    }
   ],
   "source": [
    "(x <= 2.5) | (x >= 7.5) # | or или"
   ],
   "metadata": {
    "collapsed": false
   }
  },
  {
   "cell_type": "code",
   "execution_count": 781,
   "outputs": [
    {
     "data": {
      "text/plain": "array([False, False,  True,  True,  True,  True,  True, False, False,\n       False])"
     },
     "execution_count": 781,
     "metadata": {},
     "output_type": "execute_result"
    }
   ],
   "source": [
    "~( (x <= 2.5) | (x >= 7.5) )"
   ],
   "metadata": {
    "collapsed": false
   }
  },
  {
   "cell_type": "code",
   "execution_count": 782,
   "outputs": [
    {
     "data": {
      "text/plain": "5"
     },
     "execution_count": 782,
     "metadata": {},
     "output_type": "execute_result"
    }
   ],
   "source": [
    "np.sum(~( (x <= 2.5) | (x >= 7.5) )) ## 5 items TRUE"
   ],
   "metadata": {
    "collapsed": false
   }
  },
  {
   "cell_type": "markdown",
   "source": [
    "I/O with NumPy"
   ],
   "metadata": {
    "collapsed": false
   }
  },
  {
   "cell_type": "code",
   "execution_count": 783,
   "outputs": [],
   "source": [
    "import numpy as np\n",
    "x = np.array([[1, 2, 3],\n",
    "                  [4, 5, 6],\n",
    "                  [7, 8, 9]], np.int32)\n",
    "np.savetxt(\"test.txt\", x) # Inspect the file in a viewer"
   ],
   "metadata": {
    "collapsed": false
   }
  },
  {
   "cell_type": "code",
   "execution_count": 784,
   "outputs": [],
   "source": [
    "np.savetxt(\"test2.txt\", x, fmt=\"%2.3f\", delimiter=\",\")"
   ],
   "metadata": {
    "collapsed": false
   }
  },
  {
   "cell_type": "code",
   "execution_count": 785,
   "outputs": [],
   "source": [
    "np.savetxt(\"test3.txt\", x, fmt=\"%04d\", delimiter=\" :-) \")"
   ],
   "metadata": {
    "collapsed": false
   }
  },
  {
   "cell_type": "code",
   "execution_count": 786,
   "outputs": [
    {
     "name": "stdout",
     "output_type": "stream",
     "text": [
      "[[1. 2. 3.]\n",
      " [4. 5. 6.]\n",
      " [7. 8. 9.]]\n"
     ]
    }
   ],
   "source": [
    "y = np.loadtxt(\"test.txt\")\n",
    "print(y)"
   ],
   "metadata": {
    "collapsed": false
   }
  },
  {
   "cell_type": "code",
   "execution_count": 787,
   "outputs": [
    {
     "name": "stdout",
     "output_type": "stream",
     "text": [
      "[[1. 2. 3.]\n",
      " [4. 5. 6.]\n",
      " [7. 8. 9.]]\n"
     ]
    }
   ],
   "source": [
    "y = np.loadtxt(\"test2.txt\", delimiter=\",\")\n",
    "print(y)"
   ],
   "metadata": {
    "collapsed": false
   }
  },
  {
   "cell_type": "code",
   "execution_count": 788,
   "outputs": [
    {
     "name": "stdout",
     "output_type": "stream",
     "text": [
      "[[1. 2. 3.]\n",
      " [4. 5. 6.]\n",
      " [7. 8. 9.]]\n"
     ]
    }
   ],
   "source": [
    "y = np.loadtxt(\"test3.txt\", delimiter=\" :-) \")\n",
    "print(y)"
   ],
   "metadata": {
    "collapsed": false
   }
  },
  {
   "cell_type": "code",
   "execution_count": 789,
   "outputs": [
    {
     "name": "stdout",
     "output_type": "stream",
     "text": [
      "[[1. 2.]\n",
      " [4. 5.]\n",
      " [7. 8.]]\n"
     ]
    }
   ],
   "source": [
    "y = np.loadtxt(\"test3.txt\", delimiter=\" :-) \", usecols=(0,1))\n",
    "print(y)"
   ],
   "metadata": {
    "collapsed": false
   }
  },
  {
   "cell_type": "markdown",
   "source": [
    "Random numbers"
   ],
   "metadata": {
    "collapsed": false
   }
  },
  {
   "cell_type": "code",
   "execution_count": 790,
   "outputs": [
    {
     "data": {
      "text/plain": "array([[0.97978654, 0.37977877],\n       [0.94630267, 0.92983715]])"
     },
     "execution_count": 790,
     "metadata": {},
     "output_type": "execute_result"
    }
   ],
   "source": [
    "import numpy.random as rnd\n",
    "rnd.random((2,2)) # Random numbers in range [0, 1]"
   ],
   "metadata": {
    "collapsed": false
   }
  },
  {
   "cell_type": "code",
   "execution_count": 791,
   "outputs": [
    {
     "data": {
      "text/plain": "2"
     },
     "execution_count": 791,
     "metadata": {},
     "output_type": "execute_result"
    }
   ],
   "source": [
    "rnd.choice(np.arange(4)) # Random number in range [0, 3]"
   ],
   "metadata": {
    "collapsed": false
   }
  },
  {
   "cell_type": "code",
   "execution_count": 792,
   "outputs": [
    {
     "data": {
      "text/plain": "array([1, 1, 3, 2, 3, 1, 0, 2, 1, 0])"
     },
     "execution_count": 792,
     "metadata": {},
     "output_type": "execute_result"
    }
   ],
   "source": [
    "rnd.choice(np.arange(4), 10) # 10 random numbers"
   ],
   "metadata": {
    "collapsed": false
   }
  },
  {
   "cell_type": "code",
   "execution_count": 793,
   "outputs": [
    {
     "data": {
      "text/plain": "array([12, 86, 79, 49, 39, 73, 76, 10, 84, 35, 49, 72, 66, 26, 71, 64, 26,\n       94, 92,  0, 59, 33, 16,  6, 27,  7, 10, 96, 21,  7, 56, 28, 64, 68,\n       38, 50, 73, 73,  3, 71, 65,  0, 11, 48,  5, 85, 49, 20, 95, 36, 59,\n       27, 51, 24, 48, 95, 37, 31, 77, 68, 72, 63, 14, 13, 56, 43, 54, 35,\n       97, 41, 10, 52, 93, 10, 16, 38, 32, 45, 83, 59, 41, 41, 10, 48, 12,\n       44, 71, 25, 80, 30, 35, 76, 42, 33, 35, 55, 46, 96, 37,  4])"
     },
     "execution_count": 793,
     "metadata": {},
     "output_type": "execute_result"
    }
   ],
   "source": [
    "a = rnd.choice(np.arange(100),100) #random numbers exercise\n",
    "a"
   ],
   "metadata": {
    "collapsed": false
   }
  },
  {
   "cell_type": "markdown",
   "source": [
    "Polynomials"
   ],
   "metadata": {
    "collapsed": false
   }
  },
  {
   "cell_type": "code",
   "execution_count": 794,
   "outputs": [
    {
     "data": {
      "text/plain": "array([-4.        , -2.66666667, -1.33333333,  0.        ,  1.33333333,\n        2.66666667,  4.        ])"
     },
     "execution_count": 794,
     "metadata": {},
     "output_type": "execute_result"
    }
   ],
   "source": [
    "x = np.linspace(-4, 4, 7) #7 random numbers from -4 to 4\n",
    "x"
   ],
   "metadata": {
    "collapsed": false
   }
  },
  {
   "cell_type": "code",
   "execution_count": 834,
   "outputs": [
    {
     "data": {
      "text/plain": "array([ 4.25220334,  1.01807499, 16.96137711,  9.79800708, 25.64910443])"
     },
     "execution_count": 834,
     "metadata": {},
     "output_type": "execute_result"
    }
   ],
   "source": [
    "y = x**2 + rnd.random(x.shape) #x.shape - tuple - array of random numbers, match shape of x\n",
    "y"
   ],
   "metadata": {
    "collapsed": false
   }
  },
  {
   "cell_type": "code",
   "execution_count": 833,
   "outputs": [
    {
     "data": {
      "text/plain": "array([0.9116885 , 0.3547988 , 0.57902327])"
     },
     "execution_count": 833,
     "metadata": {},
     "output_type": "execute_result"
    }
   ],
   "source": [
    "p = np.polyfit(x, y, 2) # Fit parabola, ax2+bx+c, выводит a,b,c\n",
    "p"
   ],
   "metadata": {
    "collapsed": false
   }
  },
  {
   "cell_type": "markdown",
   "source": [
    "  Linear algebra"
   ],
   "metadata": {
    "collapsed": false
   }
  },
  {
   "cell_type": "code",
   "execution_count": 797,
   "outputs": [
    {
     "data": {
      "text/plain": "array([[2, 1],\n       [1, 3]])"
     },
     "execution_count": 797,
     "metadata": {},
     "output_type": "execute_result"
    }
   ],
   "source": [
    "A = np.array(((2, 1), (1, 3)))\n",
    "B = np.array(((-2, 4.2), (4.2, 6)))\n",
    "A"
   ],
   "metadata": {
    "collapsed": false
   }
  },
  {
   "cell_type": "code",
   "execution_count": 798,
   "outputs": [
    {
     "data": {
      "text/plain": "array([[-2. ,  4.2],\n       [ 4.2,  6. ]])"
     },
     "execution_count": 798,
     "metadata": {},
     "output_type": "execute_result"
    }
   ],
   "source": [
    "B"
   ],
   "metadata": {
    "collapsed": false
   }
  },
  {
   "cell_type": "code",
   "execution_count": 799,
   "outputs": [
    {
     "data": {
      "text/plain": "array([[ 0.2, 14.4],\n       [10.6, 22.2]])"
     },
     "execution_count": 799,
     "metadata": {},
     "output_type": "execute_result"
    }
   ],
   "source": [
    "C = np.dot(A, B) # [[2*-2+1*4,2 ; 2*4,2+1*6], [1*-2+3*4,2 ; 1*4,2 + 3*6]]\n",
    "C"
   ],
   "metadata": {
    "collapsed": false
   }
  },
  {
   "cell_type": "code",
   "execution_count": 800,
   "outputs": [
    {
     "data": {
      "text/plain": "array([1, 2])"
     },
     "execution_count": 800,
     "metadata": {},
     "output_type": "execute_result"
    }
   ],
   "source": [
    "b= np.array((1, 2)) # vektor\n",
    "b"
   ],
   "metadata": {
    "collapsed": false
   }
  },
  {
   "cell_type": "code",
   "execution_count": 801,
   "outputs": [
    {
     "data": {
      "text/plain": "array([0.04453441, 0.06882591])"
     },
     "execution_count": 801,
     "metadata": {},
     "output_type": "execute_result"
    }
   ],
   "source": [
    "np.linalg.solve(C, b) # solve (C)(X) = (b), gives X matrix"
   ],
   "metadata": {
    "collapsed": false
   }
  },
  {
   "cell_type": "code",
   "execution_count": 802,
   "outputs": [
    {
     "data": {
      "text/plain": "array([[10. ,  0.5],\n       [ 0.5, 13.1]])"
     },
     "execution_count": 802,
     "metadata": {},
     "output_type": "execute_result"
    }
   ],
   "source": [
    "H = np.array(((10., 0.5), (0.5, 13.1)))\n",
    "H"
   ],
   "metadata": {
    "collapsed": false
   }
  },
  {
   "cell_type": "code",
   "execution_count": 835,
   "outputs": [
    {
     "data": {
      "text/plain": "(array([ 9.92135025, 13.17864975]),\n array([[-0.98785338, -0.15538884],\n        [ 0.15538884, -0.98785338]]))"
     },
     "execution_count": 835,
     "metadata": {},
     "output_type": "execute_result"
    }
   ],
   "source": [
    "np.linalg.eig(H) # first array E, second one A"
   ],
   "metadata": {
    "collapsed": false
   }
  },
  {
   "cell_type": "markdown",
   "source": [
    " Advanced \"fancy\" indexing\n"
   ],
   "metadata": {
    "collapsed": false
   }
  },
  {
   "cell_type": "code",
   "execution_count": 841,
   "outputs": [
    {
     "data": {
      "text/plain": "array([10,  9,  8,  7,  6,  5,  4,  3,  2])"
     },
     "execution_count": 841,
     "metadata": {},
     "output_type": "execute_result"
    }
   ],
   "source": [
    "x = np.arange(10,1,-1)\n",
    "x"
   ],
   "metadata": {
    "collapsed": false
   }
  },
  {
   "cell_type": "code",
   "execution_count": 842,
   "outputs": [
    {
     "data": {
      "text/plain": "7"
     },
     "execution_count": 842,
     "metadata": {},
     "output_type": "execute_result"
    }
   ],
   "source": [
    "x[3]"
   ],
   "metadata": {
    "collapsed": false
   }
  },
  {
   "cell_type": "code",
   "execution_count": 843,
   "outputs": [
    {
     "data": {
      "text/plain": "array([7, 7, 9, 2])"
     },
     "execution_count": 843,
     "metadata": {},
     "output_type": "execute_result"
    }
   ],
   "source": [
    "x[np.array([3, 3, 1, 8])] # x[[3, 3, 1, 8]] does the same\n",
    "#вызываем индексы элементов"
   ],
   "metadata": {
    "collapsed": false
   }
  },
  {
   "cell_type": "code",
   "execution_count": 844,
   "outputs": [
    {
     "data": {
      "text/plain": "array([7, 7, 9, 2])"
     },
     "execution_count": 844,
     "metadata": {},
     "output_type": "execute_result"
    }
   ],
   "source": [
    "x[[3, 3, 1, 8]]"
   ],
   "metadata": {
    "collapsed": false
   }
  },
  {
   "cell_type": "code",
   "execution_count": 845,
   "outputs": [
    {
     "data": {
      "text/plain": "array([10,  9,  8,  7,  6,  5,  4,  3,  2])"
     },
     "execution_count": 845,
     "metadata": {},
     "output_type": "execute_result"
    }
   ],
   "source": [
    "x"
   ],
   "metadata": {
    "collapsed": false
   }
  },
  {
   "cell_type": "code",
   "execution_count": 846,
   "outputs": [
    {
     "data": {
      "text/plain": "array([ True,  True,  True, False, False, False, False, False, False])"
     },
     "execution_count": 846,
     "metadata": {},
     "output_type": "execute_result"
    }
   ],
   "source": [
    "m = x > 7\n",
    "m"
   ],
   "metadata": {
    "collapsed": false
   }
  },
  {
   "cell_type": "code",
   "execution_count": 847,
   "outputs": [
    {
     "data": {
      "text/plain": "array([10,  9,  8])"
     },
     "execution_count": 847,
     "metadata": {},
     "output_type": "execute_result"
    }
   ],
   "source": [
    "x[m]"
   ],
   "metadata": {
    "collapsed": false
   }
  },
  {
   "cell_type": "markdown",
   "source": [
    " Vectorized operations\n",
    " for loops in Python are slow\n",
    "• Use \"vectorized\" operations when possible\n"
   ],
   "metadata": {
    "collapsed": false
   }
  },
  {
   "cell_type": "code",
   "execution_count": 2,
   "outputs": [
    {
     "data": {
      "text/plain": "array([1, 1, 1, 1, 1, 1, 1, 1, 1, 1, 1, 1, 1, 1, 1, 1, 1, 1, 1, 1, 1, 1,\n       1, 1, 1, 1, 1, 1, 1, 1, 1, 1, 1, 1, 1, 1, 1, 1, 1, 1, 1, 1, 1, 1,\n       1, 1, 1, 1, 1, 1, 1, 1, 1, 1, 1, 1, 1, 1, 1, 1, 1, 1, 1, 1, 1, 1,\n       1, 1, 1, 1, 1, 1, 1, 1, 1, 1, 1, 1, 1, 1, 1, 1, 1, 1, 1, 1, 1, 1,\n       1, 1, 1, 1, 1, 1, 1, 1, 1, 1, 1, 1, 1, 1, 1, 1, 1, 1, 1, 1, 1, 1,\n       1, 1, 1, 1, 1, 1, 1, 1, 1, 1, 1, 1, 1, 1, 1, 1, 1, 1, 1, 1, 1, 1,\n       1, 1, 1, 1, 1, 1, 1, 1, 1, 1, 1, 1, 1, 1, 1, 1, 1, 1, 1, 1, 1, 1,\n       1, 1, 1, 1, 1, 1, 1, 1, 1, 1, 1, 1, 1, 1, 1, 1, 1, 1, 1, 1, 1, 1,\n       1, 1, 1, 1, 1, 1, 1, 1, 1, 1, 1, 1, 1, 1, 1, 1, 1, 1, 1, 1, 1, 1,\n       1, 1, 1, 1, 1, 1, 1, 1, 1, 1, 1, 1, 1, 1, 1, 1, 1, 1, 1, 1, 1, 1,\n       1, 1, 1, 1, 1, 1, 1, 1, 1, 1, 1, 1, 1, 1, 1, 1, 1, 1, 1, 1, 1, 1,\n       1, 1, 1, 1, 1, 1, 1, 1, 1, 1, 1, 1, 1, 1, 1, 1, 1, 1, 1, 1, 1, 1,\n       1, 1, 1, 1, 1, 1, 1, 1, 1, 1, 1, 1, 1, 1, 1, 1, 1, 1, 1, 1, 1, 1,\n       1, 1, 1, 1, 1, 1, 1, 1, 1, 1, 1, 1, 1, 1, 1, 1, 1, 1, 1, 1, 1, 1,\n       1, 1, 1, 1, 1, 1, 1, 1, 1, 1, 1, 1, 1, 1, 1, 1, 1, 1, 1, 1, 1, 1,\n       1, 1, 1, 1, 1, 1, 1, 1, 1, 1, 1, 1, 1, 1, 1, 1, 1, 1, 1, 1, 1, 1,\n       1, 1, 1, 1, 1, 1, 1, 1, 1, 1, 1, 1, 1, 1, 1, 1, 1, 1, 1, 1, 1, 1,\n       1, 1, 1, 1, 1, 1, 1, 1, 1, 1, 1, 1, 1, 1, 1, 1, 1, 1, 1, 1, 1, 1,\n       1, 1, 1, 1, 1, 1, 1, 1, 1, 1, 1, 1, 1, 1, 1, 1, 1, 1, 1, 1, 1, 1,\n       1, 1, 1, 1, 1, 1, 1, 1, 1, 1, 1, 1, 1, 1, 1, 1, 1, 1, 1, 1, 1, 1,\n       1, 1, 1, 1, 1, 1, 1, 1, 1, 1, 1, 1, 1, 1, 1, 1, 1, 1, 1, 1, 1, 1,\n       1, 1, 1, 1, 1, 1, 1, 1, 1, 1, 1, 1, 1, 1, 1, 1, 1, 1, 1, 1, 1, 1,\n       1, 1, 1, 1, 1, 1, 1, 1, 1, 1, 1, 1, 1, 1, 1, 1, 1, 1, 1, 1, 1, 1,\n       1, 1, 1, 1, 1, 1, 1, 1, 1, 1, 1, 1, 1, 1, 1, 1, 1, 1, 1, 1, 1, 1,\n       1, 1, 1, 1, 1, 1, 1, 1, 1, 1, 1, 1, 1, 1, 1, 1, 1, 1, 1, 1, 1, 1,\n       1, 1, 1, 1, 1, 1, 1, 1, 1, 1, 1, 1, 1, 1, 1, 1, 1, 1, 1, 1, 1, 1,\n       1, 1, 1, 1, 1, 1, 1, 1, 1, 1, 1, 1, 1, 1, 1, 1, 1, 1, 1, 1, 1, 1,\n       1, 1, 1, 1, 1, 1, 1, 1, 1, 1, 1, 1, 1, 1, 1, 1, 1, 1, 1, 1, 1, 1,\n       1, 1, 1, 1, 1, 1, 1, 1, 1, 1, 1, 1, 1, 1, 1, 1, 1, 1, 1, 1, 1, 1,\n       1, 1, 1, 1, 1, 1, 1, 1, 1, 1, 1, 1, 1, 1, 1, 1, 1, 1, 1, 1, 1, 1,\n       1, 1, 1, 1, 1, 1, 1, 1, 1, 1, 1, 1, 1, 1, 1, 1, 1, 1, 1, 1, 1, 1,\n       1, 1, 1, 1, 1, 1, 1, 1, 1, 1, 1, 1, 1, 1, 1, 1, 1, 1, 1, 1, 1, 1,\n       1, 1, 1, 1, 1, 1, 1, 1, 1, 1, 1, 1, 1, 1, 1, 1, 1, 1, 1, 1, 1, 1,\n       1, 1, 1, 1, 1, 1, 1, 1, 1, 1, 1, 1, 1, 1, 1, 1, 1, 1, 1, 1, 1, 1,\n       1, 1, 1, 1, 1, 1, 1, 1, 1, 1, 1, 1, 1, 1, 1, 1, 1, 1, 1, 1, 1, 1,\n       1, 1, 1, 1, 1, 1, 1, 1, 1, 1, 1, 1, 1, 1, 1, 1, 1, 1, 1, 1, 1, 1,\n       1, 1, 1, 1, 1, 1, 1, 1, 1, 1, 1, 1, 1, 1, 1, 1, 1, 1, 1, 1, 1, 1,\n       1, 1, 1, 1, 1, 1, 1, 1, 1, 1, 1, 1, 1, 1, 1, 1, 1, 1, 1, 1, 1, 1,\n       1, 1, 1, 1, 1, 1, 1, 1, 1, 1, 1, 1, 1, 1, 1, 1, 1, 1, 1, 1, 1, 1,\n       1, 1, 1, 1, 1, 1, 1, 1, 1, 1, 1, 1, 1, 1, 1, 1, 1, 1, 1, 1, 1, 1,\n       1, 1, 1, 1, 1, 1, 1, 1, 1, 1, 1, 1, 1, 1, 1, 1, 1, 1, 1, 1, 1, 1,\n       1, 1, 1, 1, 1, 1, 1, 1, 1, 1, 1, 1, 1, 1, 1, 1, 1, 1, 1, 1, 1, 1,\n       1, 1, 1, 1, 1, 1, 1, 1, 1, 1, 1, 1, 1, 1, 1, 1, 1, 1, 1, 1, 1, 1,\n       1, 1, 1, 1, 1, 1, 1, 1, 1, 1, 1, 1, 1, 1, 1, 1, 1, 1, 1, 1, 1, 1,\n       1, 1, 1, 1, 1, 1, 1, 1, 1, 1, 1, 1, 1, 1, 1, 1, 1, 1, 1, 1, 1, 1,\n       1, 1, 1, 1, 1, 1, 1, 1, 1])"
     },
     "execution_count": 2,
     "metadata": {},
     "output_type": "execute_result"
    }
   ],
   "source": [
    "# brute force using a for loop\n",
    "import numpy as np\n",
    "arr = np.arange(1000)\n",
    "dif = np.zeros(999, int)\n",
    "for i in range(1, len(arr)):\n",
    "    dif[i-1] = arr[i] - arr[i-1]\n",
    "dif"
   ],
   "metadata": {
    "collapsed": false
   }
  },
  {
   "cell_type": "code",
   "execution_count": 3,
   "outputs": [
    {
     "data": {
      "text/plain": "array([1, 1, 1, 1, 1, 1, 1, 1, 1, 1, 1, 1, 1, 1, 1, 1, 1, 1, 1, 1, 1, 1,\n       1, 1, 1, 1, 1, 1, 1, 1, 1, 1, 1, 1, 1, 1, 1, 1, 1, 1, 1, 1, 1, 1,\n       1, 1, 1, 1, 1, 1, 1, 1, 1, 1, 1, 1, 1, 1, 1, 1, 1, 1, 1, 1, 1, 1,\n       1, 1, 1, 1, 1, 1, 1, 1, 1, 1, 1, 1, 1, 1, 1, 1, 1, 1, 1, 1, 1, 1,\n       1, 1, 1, 1, 1, 1, 1, 1, 1, 1, 1, 1, 1, 1, 1, 1, 1, 1, 1, 1, 1, 1,\n       1, 1, 1, 1, 1, 1, 1, 1, 1, 1, 1, 1, 1, 1, 1, 1, 1, 1, 1, 1, 1, 1,\n       1, 1, 1, 1, 1, 1, 1, 1, 1, 1, 1, 1, 1, 1, 1, 1, 1, 1, 1, 1, 1, 1,\n       1, 1, 1, 1, 1, 1, 1, 1, 1, 1, 1, 1, 1, 1, 1, 1, 1, 1, 1, 1, 1, 1,\n       1, 1, 1, 1, 1, 1, 1, 1, 1, 1, 1, 1, 1, 1, 1, 1, 1, 1, 1, 1, 1, 1,\n       1, 1, 1, 1, 1, 1, 1, 1, 1, 1, 1, 1, 1, 1, 1, 1, 1, 1, 1, 1, 1, 1,\n       1, 1, 1, 1, 1, 1, 1, 1, 1, 1, 1, 1, 1, 1, 1, 1, 1, 1, 1, 1, 1, 1,\n       1, 1, 1, 1, 1, 1, 1, 1, 1, 1, 1, 1, 1, 1, 1, 1, 1, 1, 1, 1, 1, 1,\n       1, 1, 1, 1, 1, 1, 1, 1, 1, 1, 1, 1, 1, 1, 1, 1, 1, 1, 1, 1, 1, 1,\n       1, 1, 1, 1, 1, 1, 1, 1, 1, 1, 1, 1, 1, 1, 1, 1, 1, 1, 1, 1, 1, 1,\n       1, 1, 1, 1, 1, 1, 1, 1, 1, 1, 1, 1, 1, 1, 1, 1, 1, 1, 1, 1, 1, 1,\n       1, 1, 1, 1, 1, 1, 1, 1, 1, 1, 1, 1, 1, 1, 1, 1, 1, 1, 1, 1, 1, 1,\n       1, 1, 1, 1, 1, 1, 1, 1, 1, 1, 1, 1, 1, 1, 1, 1, 1, 1, 1, 1, 1, 1,\n       1, 1, 1, 1, 1, 1, 1, 1, 1, 1, 1, 1, 1, 1, 1, 1, 1, 1, 1, 1, 1, 1,\n       1, 1, 1, 1, 1, 1, 1, 1, 1, 1, 1, 1, 1, 1, 1, 1, 1, 1, 1, 1, 1, 1,\n       1, 1, 1, 1, 1, 1, 1, 1, 1, 1, 1, 1, 1, 1, 1, 1, 1, 1, 1, 1, 1, 1,\n       1, 1, 1, 1, 1, 1, 1, 1, 1, 1, 1, 1, 1, 1, 1, 1, 1, 1, 1, 1, 1, 1,\n       1, 1, 1, 1, 1, 1, 1, 1, 1, 1, 1, 1, 1, 1, 1, 1, 1, 1, 1, 1, 1, 1,\n       1, 1, 1, 1, 1, 1, 1, 1, 1, 1, 1, 1, 1, 1, 1, 1, 1, 1, 1, 1, 1, 1,\n       1, 1, 1, 1, 1, 1, 1, 1, 1, 1, 1, 1, 1, 1, 1, 1, 1, 1, 1, 1, 1, 1,\n       1, 1, 1, 1, 1, 1, 1, 1, 1, 1, 1, 1, 1, 1, 1, 1, 1, 1, 1, 1, 1, 1,\n       1, 1, 1, 1, 1, 1, 1, 1, 1, 1, 1, 1, 1, 1, 1, 1, 1, 1, 1, 1, 1, 1,\n       1, 1, 1, 1, 1, 1, 1, 1, 1, 1, 1, 1, 1, 1, 1, 1, 1, 1, 1, 1, 1, 1,\n       1, 1, 1, 1, 1, 1, 1, 1, 1, 1, 1, 1, 1, 1, 1, 1, 1, 1, 1, 1, 1, 1,\n       1, 1, 1, 1, 1, 1, 1, 1, 1, 1, 1, 1, 1, 1, 1, 1, 1, 1, 1, 1, 1, 1,\n       1, 1, 1, 1, 1, 1, 1, 1, 1, 1, 1, 1, 1, 1, 1, 1, 1, 1, 1, 1, 1, 1,\n       1, 1, 1, 1, 1, 1, 1, 1, 1, 1, 1, 1, 1, 1, 1, 1, 1, 1, 1, 1, 1, 1,\n       1, 1, 1, 1, 1, 1, 1, 1, 1, 1, 1, 1, 1, 1, 1, 1, 1, 1, 1, 1, 1, 1,\n       1, 1, 1, 1, 1, 1, 1, 1, 1, 1, 1, 1, 1, 1, 1, 1, 1, 1, 1, 1, 1, 1,\n       1, 1, 1, 1, 1, 1, 1, 1, 1, 1, 1, 1, 1, 1, 1, 1, 1, 1, 1, 1, 1, 1,\n       1, 1, 1, 1, 1, 1, 1, 1, 1, 1, 1, 1, 1, 1, 1, 1, 1, 1, 1, 1, 1, 1,\n       1, 1, 1, 1, 1, 1, 1, 1, 1, 1, 1, 1, 1, 1, 1, 1, 1, 1, 1, 1, 1, 1,\n       1, 1, 1, 1, 1, 1, 1, 1, 1, 1, 1, 1, 1, 1, 1, 1, 1, 1, 1, 1, 1, 1,\n       1, 1, 1, 1, 1, 1, 1, 1, 1, 1, 1, 1, 1, 1, 1, 1, 1, 1, 1, 1, 1, 1,\n       1, 1, 1, 1, 1, 1, 1, 1, 1, 1, 1, 1, 1, 1, 1, 1, 1, 1, 1, 1, 1, 1,\n       1, 1, 1, 1, 1, 1, 1, 1, 1, 1, 1, 1, 1, 1, 1, 1, 1, 1, 1, 1, 1, 1,\n       1, 1, 1, 1, 1, 1, 1, 1, 1, 1, 1, 1, 1, 1, 1, 1, 1, 1, 1, 1, 1, 1,\n       1, 1, 1, 1, 1, 1, 1, 1, 1, 1, 1, 1, 1, 1, 1, 1, 1, 1, 1, 1, 1, 1,\n       1, 1, 1, 1, 1, 1, 1, 1, 1, 1, 1, 1, 1, 1, 1, 1, 1, 1, 1, 1, 1, 1,\n       1, 1, 1, 1, 1, 1, 1, 1, 1, 1, 1, 1, 1, 1, 1, 1, 1, 1, 1, 1, 1, 1,\n       1, 1, 1, 1, 1, 1, 1, 1, 1, 1, 1, 1, 1, 1, 1, 1, 1, 1, 1, 1, 1, 1,\n       1, 1, 1, 1, 1, 1, 1, 1, 1])"
     },
     "execution_count": 3,
     "metadata": {},
     "output_type": "execute_result"
    }
   ],
   "source": [
    "# vectorized operation - faster\n",
    "arr = np.arange(1000)\n",
    "dif = arr[1:] - arr[:-1]\n",
    "dif"
   ],
   "metadata": {
    "collapsed": false
   }
  },
  {
   "cell_type": "markdown",
   "source": [
    " Broadcasting"
   ],
   "metadata": {
    "collapsed": false
   }
  },
  {
   "cell_type": "code",
   "execution_count": 852,
   "outputs": [
    {
     "data": {
      "text/plain": "array([5, 6, 7])"
     },
     "execution_count": 852,
     "metadata": {},
     "output_type": "execute_result"
    }
   ],
   "source": [
    "from numpy import array\n",
    "np.arange(3) + 5"
   ],
   "metadata": {
    "collapsed": false
   }
  },
  {
   "cell_type": "code",
   "execution_count": 853,
   "outputs": [
    {
     "data": {
      "text/plain": "array([[1., 2.],\n       [3., 4.],\n       [5., 6.]])"
     },
     "execution_count": 853,
     "metadata": {},
     "output_type": "execute_result"
    }
   ],
   "source": [
    "a = array([[1,2],[3,4],[5,6]], float)\n",
    "a"
   ],
   "metadata": {
    "collapsed": false
   }
  },
  {
   "cell_type": "code",
   "execution_count": 854,
   "outputs": [
    {
     "data": {
      "text/plain": "array([[ 7., 11.]])"
     },
     "execution_count": 854,
     "metadata": {},
     "output_type": "execute_result"
    }
   ],
   "source": [
    "b = array([[7,11]], float)\n",
    "b"
   ],
   "metadata": {
    "collapsed": false
   }
  },
  {
   "cell_type": "code",
   "execution_count": 855,
   "outputs": [
    {
     "data": {
      "text/plain": "array([[ 7., 22.],\n       [21., 44.],\n       [35., 66.]])"
     },
     "execution_count": 855,
     "metadata": {},
     "output_type": "execute_result"
    }
   ],
   "source": [
    "a*b"
   ],
   "metadata": {
    "collapsed": false
   }
  },
  {
   "cell_type": "code",
   "execution_count": 4,
   "outputs": [
    {
     "data": {
      "text/plain": "array([[0],\n       [1],\n       [2],\n       [3],\n       [4]])"
     },
     "execution_count": 4,
     "metadata": {},
     "output_type": "execute_result"
    }
   ],
   "source": [
    "a = np.arange(5).reshape(5, 1)\n",
    "a"
   ],
   "metadata": {
    "collapsed": false
   }
  },
  {
   "cell_type": "code",
   "execution_count": 5,
   "outputs": [
    {
     "data": {
      "text/plain": "array([0, 1, 2, 3])"
     },
     "execution_count": 5,
     "metadata": {},
     "output_type": "execute_result"
    }
   ],
   "source": [
    "b=np.arange(4)\n",
    "b"
   ],
   "metadata": {
    "collapsed": false
   }
  },
  {
   "cell_type": "code",
   "execution_count": 6,
   "outputs": [
    {
     "data": {
      "text/plain": "array([[0, 1, 2, 3],\n       [1, 2, 3, 4],\n       [2, 3, 4, 5],\n       [3, 4, 5, 6],\n       [4, 5, 6, 7]])"
     },
     "execution_count": 6,
     "metadata": {},
     "output_type": "execute_result"
    }
   ],
   "source": [
    "c=  a + b # different shape, expand two matrix\n",
    "c #matrix b - amount of columns, a - amount of raws"
   ],
   "metadata": {
    "collapsed": false
   }
  },
  {
   "cell_type": "code",
   "execution_count": 865,
   "outputs": [
    {
     "data": {
      "text/plain": "array([[4.22227627e-01, 2.93689203e+00, 7.13012220e+00],\n       [1.72124177e-01, 4.25316673e+00, 8.04016777e+00],\n       [6.18582786e-02, 2.65519329e+00, 7.56415523e+00],\n       [3.04830659e-01, 2.84762796e+00, 6.74963433e+00],\n       [4.58213827e-03, 2.40592773e+00, 9.93859799e+00],\n       [4.65554997e-01, 2.76822502e+00, 8.26816213e+00],\n       [9.81090071e-01, 1.47492562e+00, 6.80826085e+00],\n       [5.37163422e-01, 1.57905779e+00, 9.58278121e+00],\n       [7.26249560e-01, 4.05947934e+00, 9.64000490e+00],\n       [2.28056643e-01, 1.51751694e+00, 6.35832676e+00],\n       [1.13317595e-01, 1.72135458e+00, 6.92114854e+00],\n       [3.34344798e-02, 3.50057301e+00, 9.73499631e+00],\n       [9.73981806e-03, 4.20727271e+00, 6.07507965e+00],\n       [1.22892072e-02, 4.59373292e+00, 6.33091774e+00],\n       [3.95349687e-01, 4.58833610e+00, 6.69740144e+00],\n       [2.10350703e-03, 2.39363923e+00, 6.22411397e+00],\n       [1.22893372e-01, 2.80510125e+00, 7.85425410e+00],\n       [9.69993057e-01, 2.01432992e+00, 8.62474676e+00],\n       [9.81891789e-01, 4.16164318e+00, 8.55200068e+00],\n       [4.80359596e-01, 1.74876797e+00, 8.95955581e+00],\n       [2.19647381e-03, 4.81429800e+00, 8.38551989e+00],\n       [2.66314224e-01, 3.20622614e+00, 9.75355981e+00],\n       [3.41893932e-01, 2.51917951e+00, 5.16766991e+00],\n       [5.60519312e-01, 4.04667533e+00, 7.02550217e+00],\n       [4.18800145e-01, 3.51310334e+00, 5.68988705e+00],\n       [2.15944641e-02, 1.56790778e+00, 7.64868987e+00],\n       [9.98670635e-04, 2.70112238e+00, 5.78963834e+00],\n       [7.62135693e-02, 2.11432923e+00, 7.37237507e+00],\n       [2.59303603e-01, 2.47119406e+00, 8.05140761e+00],\n       [4.33970619e-04, 4.18811422e+00, 5.30135862e+00],\n       [1.91123563e-01, 2.46962581e+00, 5.93366877e+00],\n       [1.61492477e-01, 1.67592551e+00, 4.88476906e+00],\n       [8.78597975e-01, 4.78536726e+00, 9.27538660e+00],\n       [7.19867519e-01, 2.19908912e+00, 7.38216220e+00],\n       [1.04610164e-01, 2.91663778e+00, 7.38187009e+00],\n       [4.30806767e-02, 3.03721856e+00, 6.84358324e+00],\n       [1.00007170e-01, 3.88154411e+00, 7.44364805e+00],\n       [1.87322299e-01, 1.92900548e+00, 1.00687693e+01],\n       [4.80617707e-01, 3.76101234e+00, 5.19509772e+00],\n       [7.89314788e-05, 4.80617607e+00, 6.85609635e+00],\n       [8.69166024e-01, 4.40528219e+00, 7.62533597e+00],\n       [6.76036720e-01, 2.93968253e+00, 8.80801715e+00],\n       [7.52422107e-01, 3.08857698e+00, 5.10332717e+00],\n       [2.27441957e-02, 4.78606625e+00, 8.89261429e+00],\n       [7.74044955e-01, 1.85189260e+00, 1.00353490e+01],\n       [5.33116901e-01, 1.56780147e+00, 9.89369959e+00],\n       [4.75064259e-01, 1.70207828e+00, 9.04055087e+00],\n       [3.73164053e-02, 4.46362073e+00, 5.12703782e+00],\n       [9.07508665e-02, 3.65973661e+00, 9.36344513e+00],\n       [4.85826759e-01, 3.26151438e+00, 6.09623064e+00],\n       [1.54295436e-02, 2.54911144e+00, 9.69254049e+00],\n       [1.01972271e-01, 2.71932816e+00, 6.53570346e+00],\n       [1.37867220e-03, 3.58596566e+00, 7.73728933e+00],\n       [4.66597828e-01, 3.53703742e+00, 6.16667600e+00],\n       [2.12290343e-01, 2.32842283e+00, 5.64791661e+00],\n       [1.73889263e-02, 3.89807261e+00, 7.36583845e+00],\n       [8.39983376e-01, 1.77997954e+00, 5.58226406e+00],\n       [5.71592431e-01, 2.82272602e+00, 6.81770828e+00],\n       [7.59425386e-01, 4.51221743e+00, 9.35726807e+00],\n       [3.14879001e-04, 1.76877942e+00, 8.63600248e+00],\n       [3.72111234e-01, 3.31413662e+00, 9.62065867e+00],\n       [4.50706174e-01, 1.97654373e+00, 5.14338144e+00],\n       [2.97143225e-01, 1.77838399e+00, 5.00774275e+00],\n       [8.33087271e-01, 3.82808451e+00, 9.11324743e+00],\n       [2.34066213e-01, 2.32740810e+00, 8.77064051e+00],\n       [8.49922655e-01, 2.61570497e+00, 7.23111577e+00],\n       [6.45258870e-03, 4.52231655e+00, 7.65552221e+00],\n       [5.77101585e-01, 2.16939721e+00, 4.85567144e+00],\n       [3.09405369e-01, 2.89509690e+00, 5.64951916e+00],\n       [8.72131157e-01, 2.24296598e+00, 6.19886396e+00],\n       [1.61468701e-01, 2.70066590e+00, 6.11406140e+00],\n       [3.64547599e-03, 3.54971339e+00, 8.29380128e+00],\n       [2.68410747e-01, 2.13754927e+00, 5.55633516e+00],\n       [7.42298950e-01, 3.90222555e+00, 9.21819905e+00],\n       [6.21394248e-01, 1.63728213e+00, 7.87930414e+00],\n       [4.55608669e-01, 3.22717053e+00, 7.17898176e+00],\n       [6.29182804e-02, 1.62192849e+00, 4.87121930e+00],\n       [3.31213890e-01, 3.10948543e+00, 7.25276757e+00],\n       [6.17395537e-01, 2.06690784e+00, 8.51224161e+00],\n       [1.43900860e-01, 2.61239307e+00, 6.90435348e+00],\n       [6.84484373e-02, 1.80179822e+00, 7.52811232e+00],\n       [8.68716745e-02, 3.23735324e+00, 9.56268384e+00],\n       [6.06244844e-01, 1.64919419e+00, 8.63224723e+00],\n       [3.26777239e-01, 4.55070917e+00, 7.94847194e+00],\n       [8.78284178e-01, 3.15844785e+00, 8.96760241e+00],\n       [7.10244523e-01, 1.80693055e+00, 7.19890514e+00],\n       [1.13422007e-01, 3.55526962e+00, 8.96670806e+00],\n       [2.18676524e-02, 2.76421672e+00, 9.58713300e+00],\n       [6.01584916e-01, 4.52496836e+00, 7.13141149e+00],\n       [7.71522115e-02, 2.06310553e+00, 6.34417268e+00],\n       [1.39681815e-01, 4.57522745e+00, 7.79854152e+00],\n       [3.30176143e-01, 4.37239944e+00, 6.69915125e+00],\n       [9.55440098e-02, 1.62649776e+00, 8.81751328e+00],\n       [1.17952263e-01, 2.30901302e+00, 6.72464470e+00],\n       [2.50422260e-01, 3.19630916e+00, 6.28177303e+00],\n       [8.67052856e-01, 2.41274227e+00, 5.04395846e+00],\n       [6.09546419e-01, 2.13855232e+00, 9.41849596e+00],\n       [1.29663040e-02, 4.44098867e+00, 9.98687888e+00],\n       [2.63008119e-02, 3.82381256e+00, 9.92286445e+00],\n       [2.57656566e-02, 3.95320534e+00, 5.12024426e+00]])"
     },
     "execution_count": 865,
     "metadata": {},
     "output_type": "execute_result"
    }
   ],
   "source": [
    "# Example: calculate distances from a given point • Try with fewer points and print intermediate values!array containing 3d coordinates for 100 points\n",
    "points = np.random.random((100, 3))\n",
    "origin = np.array((1.0, 2.2, -2.2))\n",
    "dists = (points - origin)**2\n",
    "dists"
   ],
   "metadata": {
    "collapsed": false
   }
  },
  {
   "cell_type": "code",
   "execution_count": 870,
   "outputs": [
    {
     "data": {
      "text/plain": "array([3.23870991, 3.53064564, 3.2064321 , 3.14675912, 3.51412974,\n       3.39145133, 3.04372741, 3.42038045, 3.7981224 , 2.84673503,\n       2.95902361, 3.64266438, 3.20812908, 3.30710445, 3.41776056,\n       2.93595925, 3.28363346, 3.4072085 , 3.70074798, 3.34494893,\n       3.63345763, 3.63677057, 2.83350372, 3.41067395, 3.10190112,\n       3.03943944, 2.91406235, 3.09239678, 3.28358117, 3.08056923,\n       2.93162381, 2.59271808, 3.86514577, 3.20953561, 3.22538649,\n       3.15021943, 3.38011824, 3.49071583, 3.07192574, 3.4150185 ,\n       3.59162695, 3.5247321 , 2.99070665, 3.70154356, 3.55827017,\n       3.4633247 , 3.34928252, 3.10289783, 3.62131642, 3.1374467 ,\n       3.50101149, 3.05892201, 3.3652093 , 3.18909254, 2.8615782 ,\n       3.35876465, 2.86395303, 3.19562619, 3.82477593, 3.22569322,\n       3.64786328, 2.75147803, 2.66144133, 3.71139047, 3.36632067,\n       3.27058762, 3.49060043, 2.75720334, 2.97557077, 3.05187829,\n       2.99603004, 3.44197039, 2.82175392, 3.72326786, 3.18401955,\n       3.29571858, 2.56048161, 3.27008668, 3.34612387, 3.1081582 ,\n       3.06567431, 3.58983409, 3.29964941, 3.58133472, 3.6061523 ,\n       3.11706275, 3.55463074, 3.51755844, 3.50113764, 2.91280456,\n       3.53743562, 3.37664432, 3.24646809, 3.0251628 , 3.11905506,\n       2.88509161, 3.48806461, 3.80010972, 3.71119628, 3.01649055])"
     },
     "execution_count": 870,
     "metadata": {},
     "output_type": "execute_result"
    }
   ],
   "source": [
    "dists = np.sqrt(np.sum(dists, axis=1)) #axis = 1 суммы по строкам\n",
    "dists"
   ],
   "metadata": {
    "collapsed": false
   }
  },
  {
   "cell_type": "code",
   "execution_count": 874,
   "outputs": [
    {
     "name": "stdout",
     "output_type": "stream",
     "text": [
      "[0.06266443 0.01245177 0.84555194]\n"
     ]
    }
   ],
   "source": [
    "# find the most distant point\n",
    "i = np.argmax(dists) # index of the biggest value\n",
    "print(points[i]) #value of points list"
   ],
   "metadata": {
    "collapsed": false
   }
  },
  {
   "cell_type": "markdown",
   "source": [
    " Sorting"
   ],
   "metadata": {
    "collapsed": false
   }
  },
  {
   "cell_type": "code",
   "execution_count": 875,
   "outputs": [
    {
     "data": {
      "text/plain": "array([1, 2, 3, 4, 5])"
     },
     "execution_count": 875,
     "metadata": {},
     "output_type": "execute_result"
    }
   ],
   "source": [
    "x = np.array([2, 1, 4, 3, 5])\n",
    "np.sort(x) # x was changed"
   ],
   "metadata": {
    "collapsed": false
   }
  },
  {
   "cell_type": "code",
   "execution_count": 824,
   "outputs": [
    {
     "data": {
      "text/plain": "array([2, 1, 4, 3, 5])"
     },
     "execution_count": 824,
     "metadata": {},
     "output_type": "execute_result"
    }
   ],
   "source": [
    "x"
   ],
   "metadata": {
    "collapsed": false
   }
  },
  {
   "cell_type": "code",
   "execution_count": 877,
   "outputs": [
    {
     "data": {
      "text/plain": "array([2, 1, 4, 3, 5])"
     },
     "execution_count": 877,
     "metadata": {},
     "output_type": "execute_result"
    }
   ],
   "source": [
    "x = np.array([2, 1, 4, 3, 5])\n",
    "x"
   ],
   "metadata": {
    "collapsed": false
   }
  },
  {
   "cell_type": "code",
   "execution_count": 878,
   "outputs": [
    {
     "data": {
      "text/plain": "array([1, 2, 3, 4, 5])"
     },
     "execution_count": 878,
     "metadata": {},
     "output_type": "execute_result"
    }
   ],
   "source": [
    "x.sort() # x was changed\n",
    "x"
   ],
   "metadata": {
    "collapsed": false
   }
  },
  {
   "cell_type": "code",
   "execution_count": 879,
   "outputs": [
    {
     "data": {
      "text/plain": "array([1, 2, 3, 4, 5])"
     },
     "execution_count": 879,
     "metadata": {},
     "output_type": "execute_result"
    }
   ],
   "source": [
    "x"
   ],
   "metadata": {
    "collapsed": false
   }
  },
  {
   "cell_type": "code",
   "execution_count": 880,
   "outputs": [
    {
     "name": "stdout",
     "output_type": "stream",
     "text": [
      "[1 0 3 2 4]\n"
     ]
    }
   ],
   "source": [
    "x = np.array([2, 1, 4, 3, 5])\n",
    "i = np.argsort(x) # sort arguments\n",
    "print(i)"
   ],
   "metadata": {
    "collapsed": false
   }
  },
  {
   "cell_type": "code",
   "execution_count": 826,
   "outputs": [],
   "source": [],
   "metadata": {
    "collapsed": false
   }
  }
 ],
 "metadata": {
  "kernelspec": {
   "display_name": "Python 3 (ipykernel)",
   "language": "python",
   "name": "python3"
  },
  "language_info": {
   "codemirror_mode": {
    "name": "ipython",
    "version": 3
   },
   "file_extension": ".py",
   "mimetype": "text/x-python",
   "name": "python",
   "nbconvert_exporter": "python",
   "pygments_lexer": "ipython3",
   "version": "3.9.13"
  }
 },
 "nbformat": 4,
 "nbformat_minor": 5
}
