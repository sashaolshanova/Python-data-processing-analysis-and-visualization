{
 "cells": [
  {
   "cell_type": "markdown",
   "metadata": {},
   "source": [
    "# NumPy - Part 2\n",
    "\n",
    "API documentation: https://numpy.org/doc/stable/reference/index.html"
   ]
  },
  {
   "cell_type": "markdown",
   "metadata": {
    "colab_type": "text",
    "id": "jdbb11ghzmQd"
   },
   "source": [
    "## Using NumPy\n",
    "\n",
    "Once you've installed NumPy you can import it as a library:"
   ]
  },
  {
   "cell_type": "code",
   "execution_count": 1,
   "metadata": {
    "colab": {},
    "colab_type": "code",
    "id": "qPYOsnkYzmQe"
   },
   "outputs": [],
   "source": [
    "import numpy as np"
   ]
  },
  {
   "cell_type": "markdown",
   "metadata": {
    "colab_type": "text",
    "id": "EiRW0n3qzmWA"
   },
   "source": [
    "## Fast Sorting in NumPy: ``np.sort`` and ``np.argsort``\n",
    "\n",
    "To return a sorted version of the array without modifying the input, you can use ``np.sort``:"
   ]
  },
  {
   "cell_type": "code",
   "execution_count": 4,
   "metadata": {
    "colab": {},
    "colab_type": "code",
    "id": "29TXhkR5zmWB",
    "outputId": "71bed6d6-21b3-482a-f647-f1501af013fc"
   },
   "outputs": [
    {
     "data": {
      "text/plain": "array([1, 2, 3, 4, 5])"
     },
     "execution_count": 4,
     "metadata": {},
     "output_type": "execute_result"
    }
   ],
   "source": [
    "x = np.array([2, 1, 4, 3, 5])\n",
    "np.sort(x) # without changing original array"
   ]
  },
  {
   "cell_type": "markdown",
   "metadata": {
    "colab_type": "text",
    "id": "p472wTPBzmWC"
   },
   "source": [
    "If you prefer to sort the array in-place, you can instead use the ``sort`` method of arrays:"
   ]
  },
  {
   "cell_type": "code",
   "execution_count": 5,
   "metadata": {
    "colab": {},
    "colab_type": "code",
    "id": "yHUPLAfYzmWD",
    "outputId": "83ee12c0-a7b5-4323-d5aa-e1d75b2d7a2b"
   },
   "outputs": [
    {
     "name": "stdout",
     "output_type": "stream",
     "text": [
      "[1 2 3 4 5]\n"
     ]
    }
   ],
   "source": [
    "x.sort()\n",
    "print(x)"
   ]
  },
  {
   "cell_type": "markdown",
   "metadata": {
    "colab_type": "text",
    "id": "TKMFDSVqzmWE"
   },
   "source": [
    "*A related function is ``argsort``, which returns the *indices* of the sorted elements:\n",
    "\n",
    "numpy.argsort() function is used to perform an indirect sort along the given axis using the algorithm specified by the kind keyword. It returns an array of indices of the same shape as arr that would sort the array.*"
   ]
  },
  {
   "cell_type": "code",
   "execution_count": 6,
   "metadata": {
    "colab": {},
    "colab_type": "code",
    "id": "Na_jwhrxzmWF",
    "outputId": "0d660da5-232b-4189-a4e5-72d0580de9ce"
   },
   "outputs": [
    {
     "name": "stdout",
     "output_type": "stream",
     "text": [
      "[1 0 3 2 4]\n"
     ]
    }
   ],
   "source": [
    "x = np.array([2, 1, 4, 3, 5])\n",
    "i = np.argsort(x)\n",
    "print(i)"
   ]
  },
  {
   "cell_type": "markdown",
   "metadata": {
    "colab_type": "text",
    "id": "KfP_slDozmWH"
   },
   "source": [
    "The first element of this result gives the index of the smallest element, the second value gives the index of the second smallest, and so on.\n",
    "These indices can then be used (via fancy indexing) to construct the sorted array if desired:"
   ]
  },
  {
   "cell_type": "code",
   "execution_count": 7,
   "metadata": {
    "colab": {},
    "colab_type": "code",
    "id": "0F_SASxozmWH",
    "outputId": "0f4e00d7-ec19-415e-dec6-dd5966acee12"
   },
   "outputs": [
    {
     "data": {
      "text/plain": "array([1, 2, 3, 4, 5])"
     },
     "execution_count": 7,
     "metadata": {},
     "output_type": "execute_result"
    }
   ],
   "source": [
    "x[i]"
   ]
  },
  {
   "cell_type": "markdown",
   "metadata": {
    "colab_type": "text",
    "id": "oyAcWe7ozmWI"
   },
   "source": [
    "### Sorting along rows or columns"
   ]
  },
  {
   "cell_type": "code",
   "execution_count": 11,
   "metadata": {},
   "outputs": [],
   "source": [
    "a = np.random.seed(42) #Creat the same pseudo random numbers each time\n",
    "a"
   ]
  },
  {
   "cell_type": "markdown",
   "metadata": {
    "colab_type": "text",
    "id": "B0vP0DItzmWJ"
   },
   "source": [
    "A useful feature of NumPy's sorting algorithms is the ability to sort along specific rows or columns of a multidimensional array using the ``axis`` argument. For example:"
   ]
  },
  {
   "cell_type": "code",
   "execution_count": 12,
   "metadata": {
    "colab": {},
    "colab_type": "code",
    "id": "sDcIErGgzmWJ",
    "outputId": "08351539-aa7d-4b27-84d1-1126d6aff27b"
   },
   "outputs": [
    {
     "data": {
      "text/plain": "array([[6, 3, 7, 4, 6, 9],\n       [2, 6, 7, 4, 3, 7],\n       [7, 2, 5, 4, 1, 7],\n       [5, 1, 4, 0, 9, 5]])"
     },
     "execution_count": 12,
     "metadata": {},
     "output_type": "execute_result"
    }
   ],
   "source": [
    "X = np.random.randint(0, 10, (4, 6)) #random.randint(low, high=None, size=None, dtype=int); 4 rows and 6 columns,числа от 0 до 10\n",
    "#X=np.random.randint(0, 10, size=(50)) #for 1-dimentional array\n",
    "X"
   ]
  },
  {
   "cell_type": "code",
   "execution_count": 13,
   "metadata": {
    "colab": {},
    "colab_type": "code",
    "id": "m5oepEIyzmWK",
    "outputId": "68561638-5278-4a38-9306-55db47814f66"
   },
   "outputs": [
    {
     "data": {
      "text/plain": "array([[2, 1, 4, 0, 1, 5],\n       [5, 2, 5, 4, 3, 7],\n       [6, 3, 7, 4, 6, 7],\n       [7, 6, 7, 4, 9, 9]])"
     },
     "execution_count": 13,
     "metadata": {},
     "output_type": "execute_result"
    }
   ],
   "source": [
    "# sort each column of X\n",
    "np.sort(X, axis=0) #сортирует числа внутри столбика, не меняя исходной матрицы"
   ]
  },
  {
   "cell_type": "code",
   "execution_count": 15,
   "metadata": {
    "colab": {},
    "colab_type": "code",
    "id": "q-RLGHRTzmWM",
    "outputId": "3ae53c69-3c74-48a2-f67f-b1fb1384c09d"
   },
   "outputs": [
    {
     "data": {
      "text/plain": "array([[3, 4, 6, 6, 7, 9],\n       [2, 3, 4, 6, 7, 7],\n       [1, 2, 4, 5, 7, 7],\n       [0, 1, 4, 5, 5, 9]])"
     },
     "execution_count": 15,
     "metadata": {},
     "output_type": "execute_result"
    }
   ],
   "source": [
    "# sort each row of X\n",
    "np.sort(X, axis=1) #сортирует числа внутри строки"
   ]
  },
  {
   "cell_type": "markdown",
   "metadata": {
    "colab_type": "text",
    "id": "0rGx-vvvzmWQ"
   },
   "source": [
    "Keep in mind that this treats each row or column as an independent array, and any relationships between the row or column values will be lost!"
   ]
  },
  {
   "cell_type": "markdown",
   "metadata": {
    "colab_type": "text",
    "id": "LSDNUgPdzmUU"
   },
   "source": [
    "## Working with Boolean Arrays\n",
    "\n",
    "Given a Boolean array, there are a host of useful operations you can do.\n",
    "We'll work with ``x``, the two-dimensional array we created earlier."
   ]
  },
  {
   "cell_type": "code",
   "execution_count": 17,
   "metadata": {
    "colab": {},
    "colab_type": "code",
    "id": "56N9GRbMzmUU",
    "outputId": "0068ff6a-2ca3-4822-c0b0-e7a48bbc159a"
   },
   "outputs": [
    {
     "data": {
      "text/plain": "array([[ 3,  1,  8],\n       [ 4,  2,  7],\n       [ 9,  6, 10]])"
     },
     "execution_count": 17,
     "metadata": {},
     "output_type": "execute_result"
    }
   ],
   "source": [
    "x = np.array([[3,  1,  8],  [4,  2,  7],  [9, 6, 10]])\n",
    "x"
   ]
  },
  {
   "cell_type": "code",
   "execution_count": 19,
   "metadata": {
    "colab": {},
    "colab_type": "code",
    "id": "A5_Rhp6wzmUW",
    "outputId": "4fe091e4-4062-4fe0-af06-19aabfd6e9b9"
   },
   "outputs": [
    {
     "data": {
      "text/plain": "array([[ True,  True, False],\n       [ True,  True, False],\n       [False, False, False]])"
     },
     "execution_count": 19,
     "metadata": {},
     "output_type": "execute_result"
    }
   ],
   "source": [
    "x < 6"
   ]
  },
  {
   "cell_type": "markdown",
   "metadata": {
    "colab_type": "text",
    "id": "mm0DFaCFzmUY"
   },
   "source": [
    "### Counting entries\n",
    "\n",
    "To count the number of ``True`` entries in a Boolean array, ``np.count_nonzero`` is useful:"
   ]
  },
  {
   "cell_type": "code",
   "execution_count": 20,
   "metadata": {
    "colab": {},
    "colab_type": "code",
    "id": "TnfaYDS9zmUY",
    "outputId": "1cd84902-92fb-43b6-acf5-cdb318a0cebe"
   },
   "outputs": [
    {
     "data": {
      "text/plain": "4"
     },
     "execution_count": 20,
     "metadata": {},
     "output_type": "execute_result"
    }
   ],
   "source": [
    "# how many values less than 6?\n",
    "np.count_nonzero(x < 6)"
   ]
  },
  {
   "cell_type": "markdown",
   "metadata": {
    "colab_type": "text",
    "id": "bNwvkARGzmUa"
   },
   "source": [
    "We see that there are eight array entries that are less than 6.\n",
    "Another way to get at this information is to use ``np.sum``; in this case, ``False`` is interpreted as ``0``, and ``True`` is interpreted as ``1``:"
   ]
  },
  {
   "cell_type": "code",
   "execution_count": 22,
   "metadata": {
    "colab": {},
    "colab_type": "code",
    "id": "BuCs9XK0zmUb",
    "outputId": "fb1efaee-adaf-4cc3-9acf-58108185feda"
   },
   "outputs": [
    {
     "data": {
      "text/plain": "4"
     },
     "execution_count": 22,
     "metadata": {},
     "output_type": "execute_result"
    }
   ],
   "source": [
    "np.sum(x < 6)"
   ]
  },
  {
   "cell_type": "markdown",
   "metadata": {
    "colab_type": "text",
    "id": "9OtvEcTjzmUd"
   },
   "source": [
    "The benefit of ``sum()`` is that like with other NumPy aggregation functions, this summation can be done along rows or columns as well:"
   ]
  },
  {
   "cell_type": "code",
   "execution_count": 27,
   "metadata": {
    "colab": {},
    "colab_type": "code",
    "id": "AII0V-bRzmUd",
    "outputId": "623a9776-de32-4274-e259-18ffe45cbd8e"
   },
   "outputs": [
    {
     "data": {
      "text/plain": "array([2, 1, 0])"
     },
     "execution_count": 27,
     "metadata": {},
     "output_type": "execute_result"
    }
   ],
   "source": [
    "# how many values less than 4 in each row?\n",
    "np.sum(x < 4, axis=1)"
   ]
  },
  {
   "cell_type": "code",
   "execution_count": 28,
   "outputs": [
    {
     "data": {
      "text/plain": "array([1, 2, 0])"
     },
     "execution_count": 28,
     "metadata": {},
     "output_type": "execute_result"
    }
   ],
   "source": [
    "np.sum(x < 4, axis=0)"
   ],
   "metadata": {
    "collapsed": false
   }
  },
  {
   "cell_type": "markdown",
   "metadata": {
    "colab_type": "text",
    "id": "KR9yttAGzmUf"
   },
   "source": [
    "This counts the number of values less than 6 in each row of the matrix.\n",
    "\n",
    "If we're interested in quickly checking whether any or all the values are true, we can use (you guessed it) ``np.any`` or ``np.all``:"
   ]
  },
  {
   "cell_type": "code",
   "execution_count": 29,
   "metadata": {
    "colab": {},
    "colab_type": "code",
    "id": "VZc1sDcxzmUg",
    "outputId": "5e663d56-9ec9-42ca-93e4-11da063b5aa6"
   },
   "outputs": [
    {
     "data": {
      "text/plain": "True"
     },
     "execution_count": 29,
     "metadata": {},
     "output_type": "execute_result"
    }
   ],
   "source": [
    "# are there any values greater than 8?\n",
    "np.any(x > 8)"
   ]
  },
  {
   "cell_type": "code",
   "execution_count": 30,
   "metadata": {
    "colab": {},
    "colab_type": "code",
    "id": "Zvc_j0rBzmUh",
    "outputId": "3b88aa3e-bb52-43dd-9dc9-4cd47fe62c89"
   },
   "outputs": [
    {
     "data": {
      "text/plain": "False"
     },
     "execution_count": 30,
     "metadata": {},
     "output_type": "execute_result"
    }
   ],
   "source": [
    "# are there any values less than zero?\n",
    "np.any(x < 0)"
   ]
  },
  {
   "cell_type": "code",
   "execution_count": 31,
   "metadata": {
    "colab": {},
    "colab_type": "code",
    "id": "TP2aasHNzmUj",
    "outputId": "946c663b-85af-4b29-9b1c-a8eb89970821"
   },
   "outputs": [
    {
     "data": {
      "text/plain": "False"
     },
     "execution_count": 31,
     "metadata": {},
     "output_type": "execute_result"
    }
   ],
   "source": [
    "# are all values less than 10?\n",
    "np.all(x < 10)"
   ]
  },
  {
   "cell_type": "code",
   "execution_count": 32,
   "metadata": {
    "colab": {},
    "colab_type": "code",
    "id": "HoIyWIIjzmUl",
    "outputId": "2edaf89e-5db6-426f-911b-5b3ba78250c0"
   },
   "outputs": [
    {
     "data": {
      "text/plain": "False"
     },
     "execution_count": 32,
     "metadata": {},
     "output_type": "execute_result"
    }
   ],
   "source": [
    "# are all values equal to 6?\n",
    "np.all(x == 6)"
   ]
  },
  {
   "cell_type": "markdown",
   "metadata": {
    "colab_type": "text",
    "id": "esw8z_udzmUn"
   },
   "source": [
    "``np.all`` and ``np.any`` can be used along particular axes as well. For example:"
   ]
  },
  {
   "cell_type": "code",
   "execution_count": 33,
   "metadata": {
    "colab": {},
    "colab_type": "code",
    "id": "_KdYUSSTzmUn",
    "outputId": "3a82b6a5-8c0e-421a-8e52-659ab0acb4a2"
   },
   "outputs": [
    {
     "data": {
      "text/plain": "array([False,  True, False])"
     },
     "execution_count": 33,
     "metadata": {},
     "output_type": "execute_result"
    }
   ],
   "source": [
    "# are all values in each row less than 4?\n",
    "np.all(x < 8, axis=1)"
   ]
  },
  {
   "cell_type": "markdown",
   "metadata": {
    "colab_type": "text",
    "id": "EXaVqn8DzmUp"
   },
   "source": [
    "Here all the elements in the first and third rows are less than 8, while this is not the case for the second row.\n",
    "\n",
    "Finally, a quick warning: Python has built-in ``sum()``, ``any()``, and ``all()`` functions. These have a different syntax than the NumPy versions, and in particular will fail or produce unintended results when used on multidimensional arrays. Be sure that you are using ``np.sum()``, ``np.any()``, and ``np.all()`` for these examples!"
   ]
  },
  {
   "cell_type": "markdown",
   "metadata": {},
   "source": [
    "### Multiplying Arrays"
   ]
  },
  {
   "cell_type": "code",
   "execution_count": 34,
   "metadata": {},
   "outputs": [
    {
     "data": {
      "text/plain": "12"
     },
     "execution_count": 34,
     "metadata": {},
     "output_type": "execute_result"
    }
   ],
   "source": [
    "np.dot(3,4)"
   ]
  },
  {
   "cell_type": "code",
   "execution_count": 35,
   "metadata": {},
   "outputs": [
    {
     "data": {
      "text/plain": "18"
     },
     "execution_count": 35,
     "metadata": {},
     "output_type": "execute_result"
    }
   ],
   "source": [
    "np.dot([2,3],[3,4]) # 2*3 + 3*4"
   ]
  },
  {
   "cell_type": "code",
   "execution_count": 36,
   "metadata": {},
   "outputs": [
    {
     "data": {
      "text/plain": "array([10, 12])"
     },
     "execution_count": 36,
     "metadata": {},
     "output_type": "execute_result"
    }
   ],
   "source": [
    "np.array([2,3]) * np.array([5,4]) #Element wise multiply"
   ]
  },
  {
   "cell_type": "markdown",
   "metadata": {},
   "source": [
    "Matrix multiplication: Works with @ operator And np.dot() function"
   ]
  },
  {
   "cell_type": "code",
   "execution_count": 41,
   "metadata": {},
   "outputs": [
    {
     "name": "stdout",
     "output_type": "stream",
     "text": [
      "A@B=\n",
      " [[13  5]\n",
      " [ 2  1]]\n",
      "np.dot(A,B)=\n",
      " [[13  5]\n",
      " [ 2  1]]\n",
      "A*B \n",
      " [[9 2]\n",
      " [0 1]]\n"
     ]
    }
   ],
   "source": [
    "A = np.array([[3,2],[0,1]])\n",
    "B = np.array([[3,1],[2,1]])\n",
    "print(\"A@B=\\n\", A@B)\n",
    "print(\"np.dot(A,B)=\\n\",np.dot(A,B))\n",
    "print(\"A*B \\n\",A*B) # перемножает просто по положению в матрице"
   ]
  },
  {
   "cell_type": "code",
   "execution_count": 42,
   "outputs": [
    {
     "data": {
      "text/plain": "array([[3, 2],\n       [0, 1]])"
     },
     "execution_count": 42,
     "metadata": {},
     "output_type": "execute_result"
    }
   ],
   "source": [
    "A"
   ],
   "metadata": {
    "collapsed": false
   }
  },
  {
   "cell_type": "code",
   "execution_count": 43,
   "outputs": [
    {
     "data": {
      "text/plain": "array([[3, 1],\n       [2, 1]])"
     },
     "execution_count": 43,
     "metadata": {},
     "output_type": "execute_result"
    }
   ],
   "source": [
    "B"
   ],
   "metadata": {
    "collapsed": false
   }
  },
  {
   "cell_type": "markdown",
   "metadata": {},
   "source": [
    "# Exercises \n",
    "\n",
    "Now that we've learned about NumPy let's test your knowledge. We'll start off with a few simple tasks, and then you'll be asked some more complicated questions."
   ]
  },
  {
   "cell_type": "code",
   "execution_count": 45,
   "metadata": {},
   "outputs": [
    {
     "data": {
      "text/plain": "array([[ 1,  2,  3,  4,  5],\n       [ 6,  7,  8,  9, 10],\n       [11, 12, 13, 14, 15],\n       [16, 17, 18, 19, 20],\n       [21, 22, 23, 24, 25]])"
     },
     "execution_count": 45,
     "metadata": {},
     "output_type": "execute_result"
    }
   ],
   "source": [
    "mat = np.arange(1,26).reshape(5,5)\n",
    "mat"
   ]
  },
  {
   "cell_type": "markdown",
   "metadata": {},
   "source": [
    "#### Get the sum of all the values in mat"
   ]
  },
  {
   "cell_type": "code",
   "execution_count": 46,
   "metadata": {},
   "outputs": [
    {
     "data": {
      "text/plain": "325"
     },
     "execution_count": 46,
     "metadata": {},
     "output_type": "execute_result"
    }
   ],
   "source": [
    "mat.sum()"
   ]
  },
  {
   "cell_type": "markdown",
   "metadata": {},
   "source": [
    "#### Get the standard deviation of the values in mat. Use Numpy API if you don't remember"
   ]
  },
  {
   "cell_type": "code",
   "execution_count": 47,
   "metadata": {},
   "outputs": [
    {
     "data": {
      "text/plain": "7.211102550927978"
     },
     "execution_count": 47,
     "metadata": {},
     "output_type": "execute_result"
    }
   ],
   "source": [
    "np.std(mat)"
   ]
  },
  {
   "cell_type": "markdown",
   "metadata": {},
   "source": [
    "#### Get the sum of all the columns in mat"
   ]
  },
  {
   "cell_type": "code",
   "execution_count": 48,
   "metadata": {},
   "outputs": [
    {
     "data": {
      "text/plain": "array([55, 60, 65, 70, 75])"
     },
     "execution_count": 48,
     "metadata": {},
     "output_type": "execute_result"
    }
   ],
   "source": [
    "mat.sum(axis=0)"
   ]
  },
  {
   "cell_type": "markdown",
   "metadata": {},
   "source": [
    "**Using the mass_numbers and isotopic_abundances arrays below, evaluate the average mass number for tin.**\n",
    "\n"
   ]
  },
  {
   "cell_type": "code",
   "execution_count": 50,
   "metadata": {},
   "outputs": [
    {
     "data": {
      "text/plain": "118.8077"
     },
     "execution_count": 50,
     "metadata": {},
     "output_type": "execute_result"
    }
   ],
   "source": [
    "mass_numbers = np.array([112, 114, 115, 116, 117, 118, 119, 120, 122, 124])\n",
    "isotopic_abundances = np.array([0.0097, 0.0066, 0.0034, 0.1454, 0.0768, 0.2422, 0.0859, 0.3258, 0.0463, 0.0579])\n",
    "np.dot(mass_numbers,isotopic_abundances)\n",
    "\n"
   ]
  },
  {
   "cell_type": "markdown",
   "metadata": {},
   "source": [
    "# Loading a text file by using NumPy's loadtxt method"
   ]
  },
  {
   "cell_type": "markdown",
   "metadata": {},
   "source": [
    "Each row in the text file must have the same number of values."
   ]
  },
  {
   "cell_type": "markdown",
   "metadata": {},
   "source": [
    "Load data from a text file."
   ]
  },
  {
   "cell_type": "markdown",
   "metadata": {},
   "source": [
    "**numpy.loadtxt**\n",
    "(fname, dtype=<class 'float'>, comments='#', delimiter=None, converters=None, skiprows=0, usecols=None, unpack=False, ndmin=0, encoding='bytes', max_rows=None, *, like=None)"
   ]
  },
  {
   "cell_type": "code",
   "execution_count": 52,
   "metadata": {},
   "outputs": [
    {
     "data": {
      "text/plain": "array([['JW-1', 'M', '19/12/1995', '1.82', '92.4', '119/76', '39.3'],\n       ['JW-2', 'M', '11/01/1996', '1.77', '80.9', '114/73', '35.5'],\n       ['JW-3', 'F', '02/10/1995', '1.68', '69.7', '124/79', '29.1'],\n       ['JW-6', 'M', '06/07/1995', '1.72', '75.5', '110/60', '45.5'],\n       ['JW-9', 'F', '11/12/1995', '1.78', '82.1', '115/75', '32.3'],\n       ['JW-10', 'F', '07/04/1996', '1.6', '-', '-/-', '30.1'],\n       ['JW-11', 'M', '22/08/1995', '1.72', '77.2', '97/63', '48.8'],\n       ['JW-12', 'M', '23/05/1996', '1.83', '88.9', '105/70', '37.7'],\n       ['JW-14', 'F', '12/01/1996', '1.56', '56.3', '108/72', '26'],\n       ['JW-15', 'F', '01/06/1996', '1.64', '65', '99/67', '35.7'],\n       ['JW-16', 'M', '10/09/1995', '1.63', '73', '131/84', '29.9'],\n       ['JW-17', 'M', '17/02/1996', '1.67', '89.8', '101/76', '40.2'],\n       ['JW-18', 'M', '31/07/1996', '1.66', '75.1', '-/-', '-'],\n       ['JW-19', 'F', '30/10/1995', '1.59', '67.3', '103/69', '33.5'],\n       ['JW-22', 'F', '09/03/1996', '1.7', '-', '119/80', '30.9'],\n       ['JW-23', 'M', '15/05/1995', '1.97', '89.2', '124/82', '-'],\n       ['JW-24', 'F', '01/12/1995', '1.66', '63.8', '100/78', '-'],\n       ['JW-25', 'F', '25/10/1995', '1.63', '64.4', '-/-', '28'],\n       ['JW-26', 'M', '17/04/1996', '1.69', '-', '121/82', '39']],\n      dtype='<U10')"
     },
     "execution_count": 52,
     "metadata": {},
     "output_type": "execute_result"
    }
   ],
   "source": [
    "a=np.loadtxt(r\"eg6-a-student-data.csv\", delimiter=\",\",skiprows=2, dtype='str' )\n",
    "a\n",
    "#(Subject,Gender,DOB,Height,Weight,BP,VO2max)"
   ]
  },
  {
   "cell_type": "code",
   "execution_count": 53,
   "metadata": {},
   "outputs": [
    {
     "data": {
      "text/plain": "numpy.ndarray"
     },
     "execution_count": 53,
     "metadata": {},
     "output_type": "execute_result"
    }
   ],
   "source": [
    "type(a)"
   ]
  },
  {
   "cell_type": "markdown",
   "metadata": {},
   "source": [
    "**Calculate the minimum height**"
   ]
  },
  {
   "cell_type": "code",
   "execution_count": 56,
   "metadata": {},
   "outputs": [
    {
     "data": {
      "text/plain": "1.56"
     },
     "execution_count": 56,
     "metadata": {},
     "output_type": "execute_result"
    }
   ],
   "source": [
    "np.min(a[:,3].astype(float))"
   ]
  },
  {
   "cell_type": "code",
   "execution_count": 57,
   "metadata": {},
   "outputs": [
    {
     "data": {
      "text/plain": "8"
     },
     "execution_count": 57,
     "metadata": {},
     "output_type": "execute_result"
    }
   ],
   "source": [
    "np.argmin(a[:,3])"
   ]
  },
  {
   "cell_type": "code",
   "execution_count": 59,
   "metadata": {},
   "outputs": [
    {
     "data": {
      "text/plain": "array(['JW-14', 'F', '12/01/1996', '1.56', '56.3', '108/72', '26'],\n      dtype='<U10')"
     },
     "execution_count": 59,
     "metadata": {},
     "output_type": "execute_result"
    }
   ],
   "source": [
    "a[np.argmin(a[:,3])] # returns the whole row"
   ]
  },
  {
   "cell_type": "markdown",
   "metadata": {},
   "source": [
    "numpy.argmin(a, axis=None, out=None)\n",
    "\n",
    "Returns the indices of the minimum values along an axis."
   ]
  },
  {
   "cell_type": "markdown",
   "metadata": {},
   "source": [
    "**Let's find the average heights of the male students. The columns we need are the second and fourth.**"
   ]
  },
  {
   "cell_type": "code",
   "execution_count": 60,
   "metadata": {},
   "outputs": [
    {
     "data": {
      "text/plain": "array([ True,  True, False,  True, False, False,  True,  True, False,\n       False,  True,  True,  True, False, False,  True, False, False,\n        True])"
     },
     "execution_count": 60,
     "metadata": {},
     "output_type": "execute_result"
    }
   ],
   "source": [
    "a[:,1] == 'M' #Gender"
   ]
  },
  {
   "cell_type": "markdown",
   "metadata": {},
   "source": [
    "The average heights of the **male students** can be seen to be:"
   ]
  },
  {
   "cell_type": "code",
   "execution_count": 61,
   "metadata": {},
   "outputs": [
    {
     "data": {
      "text/plain": "array([1.82, 1.77, 1.72, 1.72, 1.83, 1.63, 1.67, 1.66, 1.97, 1.69])"
     },
     "execution_count": 61,
     "metadata": {},
     "output_type": "execute_result"
    }
   ],
   "source": [
    "Men_Height = a[:,3][a[:,1] == 'M'].astype(float)\n",
    "Men_Height "
   ]
  },
  {
   "cell_type": "code",
   "execution_count": 62,
   "metadata": {},
   "outputs": [
    {
     "data": {
      "text/plain": "numpy.ndarray"
     },
     "execution_count": 62,
     "metadata": {},
     "output_type": "execute_result"
    }
   ],
   "source": [
    "type(Men_Height)"
   ]
  },
  {
   "cell_type": "code",
   "execution_count": 63,
   "metadata": {},
   "outputs": [
    {
     "data": {
      "text/plain": "1.748"
     },
     "execution_count": 63,
     "metadata": {},
     "output_type": "execute_result"
    }
   ],
   "source": [
    "mean_M=np.mean(Men_Height)\n",
    "mean_M"
   ]
  },
  {
   "cell_type": "markdown",
   "metadata": {},
   "source": [
    "Sort the array in **ascending order of height**:"
   ]
  },
  {
   "cell_type": "code",
   "execution_count": 65,
   "metadata": {},
   "outputs": [
    {
     "data": {
      "text/plain": "array([['JW-14', 'F', '12/01/1996', '1.56', '56.3', '108/72', '26'],\n       ['JW-19', 'F', '30/10/1995', '1.59', '67.3', '103/69', '33.5'],\n       ['JW-10', 'F', '07/04/1996', '1.6', '-', '-/-', '30.1'],\n       ['JW-16', 'M', '10/09/1995', '1.63', '73', '131/84', '29.9'],\n       ['JW-25', 'F', '25/10/1995', '1.63', '64.4', '-/-', '28'],\n       ['JW-15', 'F', '01/06/1996', '1.64', '65', '99/67', '35.7'],\n       ['JW-24', 'F', '01/12/1995', '1.66', '63.8', '100/78', '-'],\n       ['JW-18', 'M', '31/07/1996', '1.66', '75.1', '-/-', '-'],\n       ['JW-17', 'M', '17/02/1996', '1.67', '89.8', '101/76', '40.2'],\n       ['JW-3', 'F', '02/10/1995', '1.68', '69.7', '124/79', '29.1'],\n       ['JW-26', 'M', '17/04/1996', '1.69', '-', '121/82', '39'],\n       ['JW-22', 'F', '09/03/1996', '1.7', '-', '119/80', '30.9'],\n       ['JW-11', 'M', '22/08/1995', '1.72', '77.2', '97/63', '48.8'],\n       ['JW-6', 'M', '06/07/1995', '1.72', '75.5', '110/60', '45.5'],\n       ['JW-2', 'M', '11/01/1996', '1.77', '80.9', '114/73', '35.5'],\n       ['JW-9', 'F', '11/12/1995', '1.78', '82.1', '115/75', '32.3'],\n       ['JW-1', 'M', '19/12/1995', '1.82', '92.4', '119/76', '39.3'],\n       ['JW-12', 'M', '23/05/1996', '1.83', '88.9', '105/70', '37.7'],\n       ['JW-23', 'M', '15/05/1995', '1.97', '89.2', '124/82', '-']],\n      dtype='<U10')"
     },
     "execution_count": 65,
     "metadata": {},
     "output_type": "execute_result"
    }
   ],
   "source": [
    "sorted_array_height = a[np.argsort(a[:, 3])]\n",
    "sorted_array_height"
   ]
  },
  {
   "cell_type": "markdown",
   "metadata": {},
   "source": [
    "#### Replacing missing values"
   ]
  },
  {
   "cell_type": "code",
   "execution_count": 66,
   "metadata": {},
   "outputs": [
    {
     "data": {
      "text/plain": "array([['JW-1', 'M', '19/12/1995', '1.82', '92.4', '119/76', '39.3'],\n       ['JW-2', 'M', '11/01/1996', '1.77', '80.9', '114/73', '35.5'],\n       ['JW-3', 'F', '02/10/1995', '1.68', '69.7', '124/79', '29.1'],\n       ['JW-6', 'M', '06/07/1995', '1.72', '75.5', '110/60', '45.5'],\n       ['JW-9', 'F', '11/12/1995', '1.78', '82.1', '115/75', '32.3'],\n       ['JW-10', 'F', '07/04/1996', '1.6', '0', '0', '30.1'],\n       ['JW-11', 'M', '22/08/1995', '1.72', '77.2', '97/63', '48.8'],\n       ['JW-12', 'M', '23/05/1996', '1.83', '88.9', '105/70', '37.7'],\n       ['JW-14', 'F', '12/01/1996', '1.56', '56.3', '108/72', '26'],\n       ['JW-15', 'F', '01/06/1996', '1.64', '65', '99/67', '35.7'],\n       ['JW-16', 'M', '10/09/1995', '1.63', '73', '131/84', '29.9'],\n       ['JW-17', 'M', '17/02/1996', '1.67', '89.8', '101/76', '40.2'],\n       ['JW-18', 'M', '31/07/1996', '1.66', '75.1', '0', '0'],\n       ['JW-19', 'F', '30/10/1995', '1.59', '67.3', '103/69', '33.5'],\n       ['JW-22', 'F', '09/03/1996', '1.7', '0', '119/80', '30.9'],\n       ['JW-23', 'M', '15/05/1995', '1.97', '89.2', '124/82', '0'],\n       ['JW-24', 'F', '01/12/1995', '1.66', '63.8', '100/78', '0'],\n       ['JW-25', 'F', '25/10/1995', '1.63', '64.4', '0', '28'],\n       ['JW-26', 'M', '17/04/1996', '1.69', '0', '121/82', '39']],\n      dtype='<U10')"
     },
     "execution_count": 66,
     "metadata": {},
     "output_type": "execute_result"
    }
   ],
   "source": [
    "a[a == '-'] = 0\n",
    "a[a == '-/-'] = 0\n",
    "a"
   ]
  },
  {
   "cell_type": "markdown",
   "metadata": {},
   "source": [
    "## Exercises on the data"
   ]
  },
  {
   "cell_type": "markdown",
   "metadata": {},
   "source": [
    "The average heights of the **female students**:"
   ]
  },
  {
   "cell_type": "code",
   "execution_count": 67,
   "outputs": [
    {
     "data": {
      "text/plain": "array([['JW-1', 'M', '19/12/1995', '1.82', '92.4', '119/76', '39.3'],\n       ['JW-2', 'M', '11/01/1996', '1.77', '80.9', '114/73', '35.5'],\n       ['JW-3', 'F', '02/10/1995', '1.68', '69.7', '124/79', '29.1'],\n       ['JW-6', 'M', '06/07/1995', '1.72', '75.5', '110/60', '45.5'],\n       ['JW-9', 'F', '11/12/1995', '1.78', '82.1', '115/75', '32.3'],\n       ['JW-10', 'F', '07/04/1996', '1.6', '-', '-/-', '30.1'],\n       ['JW-11', 'M', '22/08/1995', '1.72', '77.2', '97/63', '48.8'],\n       ['JW-12', 'M', '23/05/1996', '1.83', '88.9', '105/70', '37.7'],\n       ['JW-14', 'F', '12/01/1996', '1.56', '56.3', '108/72', '26'],\n       ['JW-15', 'F', '01/06/1996', '1.64', '65', '99/67', '35.7'],\n       ['JW-16', 'M', '10/09/1995', '1.63', '73', '131/84', '29.9'],\n       ['JW-17', 'M', '17/02/1996', '1.67', '89.8', '101/76', '40.2'],\n       ['JW-18', 'M', '31/07/1996', '1.66', '75.1', '-/-', '-'],\n       ['JW-19', 'F', '30/10/1995', '1.59', '67.3', '103/69', '33.5'],\n       ['JW-22', 'F', '09/03/1996', '1.7', '-', '119/80', '30.9'],\n       ['JW-23', 'M', '15/05/1995', '1.97', '89.2', '124/82', '-'],\n       ['JW-24', 'F', '01/12/1995', '1.66', '63.8', '100/78', '-'],\n       ['JW-25', 'F', '25/10/1995', '1.63', '64.4', '-/-', '28'],\n       ['JW-26', 'M', '17/04/1996', '1.69', '-', '121/82', '39']],\n      dtype='<U10')"
     },
     "execution_count": 67,
     "metadata": {},
     "output_type": "execute_result"
    }
   ],
   "source": [
    "a=np.loadtxt(r\"eg6-a-student-data.csv\", delimiter=\",\",skiprows=2, dtype='str' )\n",
    "a\n",
    "#(Subject,Gender,DOB,Height,Weight,BP,VO2max)"
   ],
   "metadata": {
    "collapsed": false
   }
  },
  {
   "cell_type": "code",
   "execution_count": 68,
   "metadata": {},
   "outputs": [
    {
     "data": {
      "text/plain": "array([1.68, 1.78, 1.6 , 1.56, 1.64, 1.59, 1.7 , 1.66, 1.63])"
     },
     "execution_count": 68,
     "metadata": {},
     "output_type": "execute_result"
    }
   ],
   "source": [
    "Female_Height = a[:,3][a[:,1] == 'F'].astype(float)\n",
    "Female_Height"
   ]
  },
  {
   "cell_type": "code",
   "execution_count": 69,
   "metadata": {},
   "outputs": [
    {
     "data": {
      "text/plain": "1.6488888888888888"
     },
     "execution_count": 69,
     "metadata": {},
     "output_type": "execute_result"
    }
   ],
   "source": [
    "mean_F = np.mean(Female_Height)\n",
    "mean_F\n",
    "#Desired Output: 1.6488888888888888"
   ]
  },
  {
   "cell_type": "code",
   "execution_count": 54,
   "metadata": {},
   "outputs": [
    {
     "name": "stdout",
     "output_type": "stream",
     "text": [
      "Male average: 1.75 m, Female average: 1.65 m\n"
     ]
    }
   ],
   "source": [
    "print('Male average: {:.2f} m, Female average: {:.2f} m'.format(mean_M,mean_F)) #to print 2 decimal places we will use str. format() with “{:. 2f}”"
   ]
  },
  {
   "cell_type": "markdown",
   "metadata": {},
   "source": [
    "#### 1. Calculate the average weight by gender:"
   ]
  },
  {
   "cell_type": "code",
   "execution_count": 70,
   "outputs": [
    {
     "data": {
      "text/plain": "array([['JW-1', 'M', '19/12/1995', '1.82', '92.4', '119/76', '39.3'],\n       ['JW-2', 'M', '11/01/1996', '1.77', '80.9', '114/73', '35.5'],\n       ['JW-3', 'F', '02/10/1995', '1.68', '69.7', '124/79', '29.1'],\n       ['JW-6', 'M', '06/07/1995', '1.72', '75.5', '110/60', '45.5'],\n       ['JW-9', 'F', '11/12/1995', '1.78', '82.1', '115/75', '32.3'],\n       ['JW-10', 'F', '07/04/1996', '1.6', '0', '0', '30.1'],\n       ['JW-11', 'M', '22/08/1995', '1.72', '77.2', '97/63', '48.8'],\n       ['JW-12', 'M', '23/05/1996', '1.83', '88.9', '105/70', '37.7'],\n       ['JW-14', 'F', '12/01/1996', '1.56', '56.3', '108/72', '26'],\n       ['JW-15', 'F', '01/06/1996', '1.64', '65', '99/67', '35.7'],\n       ['JW-16', 'M', '10/09/1995', '1.63', '73', '131/84', '29.9'],\n       ['JW-17', 'M', '17/02/1996', '1.67', '89.8', '101/76', '40.2'],\n       ['JW-18', 'M', '31/07/1996', '1.66', '75.1', '0', '0'],\n       ['JW-19', 'F', '30/10/1995', '1.59', '67.3', '103/69', '33.5'],\n       ['JW-22', 'F', '09/03/1996', '1.7', '0', '119/80', '30.9'],\n       ['JW-23', 'M', '15/05/1995', '1.97', '89.2', '124/82', '0'],\n       ['JW-24', 'F', '01/12/1995', '1.66', '63.8', '100/78', '0'],\n       ['JW-25', 'F', '25/10/1995', '1.63', '64.4', '0', '28'],\n       ['JW-26', 'M', '17/04/1996', '1.69', '0', '121/82', '39']],\n      dtype='<U10')"
     },
     "execution_count": 70,
     "metadata": {},
     "output_type": "execute_result"
    }
   ],
   "source": [
    "a[a == '-'] = 0\n",
    "a[a == '-/-'] = 0\n",
    "a"
   ],
   "metadata": {
    "collapsed": false
   }
  },
  {
   "cell_type": "code",
   "execution_count": 74,
   "metadata": {},
   "outputs": [
    {
     "name": "stdout",
     "output_type": "stream",
     "text": [
      "74.2\n",
      "The average weight of men is : 74.20 m\n"
     ]
    }
   ],
   "source": [
    "Men_weight= np.mean(a[:,4][a[:,1] == 'M'].astype(float))\n",
    "print(Men_weight)\n",
    "print (\"The average weight of men is : {:.2f} m\".format(Men_weight))\n",
    "# The average weight of men is : 74.20 m"
   ]
  },
  {
   "cell_type": "code",
   "execution_count": 75,
   "metadata": {},
   "outputs": [
    {
     "name": "stdout",
     "output_type": "stream",
     "text": [
      "52.06666666666667\n",
      "The average weight of Female is : 52.07 m\n"
     ]
    }
   ],
   "source": [
    "Female_weight = np.mean(a[:,4][a[:,1] == 'F'].astype(float))\n",
    "print(Female_weight)\n",
    "print (\"The average weight of Female is : {:.2f} m\".format(Female_weight))\n",
    "#The average weight of Female is : 52.07 m"
   ]
  },
  {
   "cell_type": "markdown",
   "metadata": {},
   "source": [
    "**2. Find the value of the shortest woman and print the line where this value is located**"
   ]
  },
  {
   "cell_type": "code",
   "execution_count": 76,
   "metadata": {},
   "outputs": [
    {
     "data": {
      "text/plain": "1.56"
     },
     "execution_count": 76,
     "metadata": {},
     "output_type": "execute_result"
    }
   ],
   "source": [
    "min_height_female = np.min(a[:,3][a[:,1] == 'F'].astype(float))\n",
    "print(min_height_female)\n"
   ]
  },
  {
   "cell_type": "code",
   "execution_count": 102,
   "outputs": [
    {
     "data": {
      "text/plain": "array([['JW-14', 'F', '12/01/1996', '1.56', '56.3', '108/72', '26']],\n      dtype='<U10')"
     },
     "execution_count": 102,
     "metadata": {},
     "output_type": "execute_result"
    }
   ],
   "source": [
    "#a[[a[:,3] == '1.56'][a[:,1] == 'F']]\n",
    "a[a[:,3] == '1.56']"
   ],
   "metadata": {
    "collapsed": false
   }
  },
  {
   "cell_type": "code",
   "execution_count": null,
   "metadata": {},
   "outputs": [],
   "source": []
  },
  {
   "cell_type": "markdown",
   "metadata": {},
   "source": [
    "**3. Write a NumPy program to create a structured array from given student name, class, height and their data types. Now sort by class, then height if class are equal.**\n",
    "\n",
    "*Original array:*\n",
    "\n",
    "[(b'James', 5, 48.5 ) (b'Nail', 6, 52.5 ) (b'Paul', 5, 42.1 ) (b'Pit', 5, 40.11)]\n",
    "\n",
    "*Sort by age, then height if class are equal:*\n",
    "\n",
    "[(b'Pit', 5, 40.11) (b'Paul', 5, 42.1 ) (b'James', 5, 48.5 ) (b'Nail', 6, 52.5 )]"
   ]
  },
  {
   "cell_type": "code",
   "execution_count": 111,
   "metadata": {},
   "outputs": [],
   "source": [
    "import numpy as np\n",
    "\n",
    "data_type = [('name', 'S15'), ('class', int), ('height', float)]\n",
    "\n",
    "students_details = [('James', 5, 48.5), ('Nail', 6, 52.5),('Paul', 5, 42.10), ('Pit', 5, 40.11)]"
   ]
  },
  {
   "cell_type": "code",
   "execution_count": 110,
   "metadata": {},
   "outputs": [
    {
     "data": {
      "text/plain": "array([(b'James', 5, 48.5 ), (b'Nail', 6, 52.5 ), (b'Paul', 5, 42.1 ),\n       (b'Pit', 5, 40.11)],\n      dtype=[('name', 'S15'), ('class', '<i8'), ('height', '<f8')])"
     },
     "execution_count": 110,
     "metadata": {},
     "output_type": "execute_result"
    }
   ],
   "source": [
    "l = np.array(students_details, dtype = data_type)\n",
    "l"
   ]
  },
  {
   "cell_type": "code",
   "execution_count": 116,
   "metadata": {},
   "outputs": [
    {
     "data": {
      "text/plain": "array([(b'Pit', 5, 40.11), (b'Paul', 5, 42.1 ), (b'James', 5, 48.5 ),\n       (b'Nail', 6, 52.5 )],\n      dtype=[('name', 'S15'), ('class', '<i8'), ('height', '<f8')])"
     },
     "execution_count": 116,
     "metadata": {},
     "output_type": "execute_result"
    }
   ],
   "source": [
    "np.sort(l,order = [\"class\", \"height\"])"
   ]
  },
  {
   "cell_type": "code",
   "execution_count": null,
   "outputs": [],
   "source": [],
   "metadata": {
    "collapsed": false
   }
  }
 ],
 "metadata": {
  "kernelspec": {
   "display_name": "Python 3 (ipykernel)",
   "language": "python",
   "name": "python3"
  },
  "language_info": {
   "codemirror_mode": {
    "name": "ipython",
    "version": 3
   },
   "file_extension": ".py",
   "mimetype": "text/x-python",
   "name": "python",
   "nbconvert_exporter": "python",
   "pygments_lexer": "ipython3",
   "version": "3.9.7"
  }
 },
 "nbformat": 4,
 "nbformat_minor": 4
}
