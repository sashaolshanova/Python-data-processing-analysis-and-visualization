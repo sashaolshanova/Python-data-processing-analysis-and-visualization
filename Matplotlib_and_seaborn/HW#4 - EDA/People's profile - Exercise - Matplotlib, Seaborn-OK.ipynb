{
 "cells": [
  {
   "attachments": {},
   "cell_type": "markdown",
   "metadata": {},
   "source": [
    "# Enter Name and ID\n",
    "\n",
    "## Name: Aleksandra Olshanova\n",
    "\n",
    "## ID: 728945613"
   ]
  },
  {
   "cell_type": "markdown",
   "metadata": {},
   "source": [
    "In this exercise you will gain experience with Python plotting, with an emphasis on the Seaborn and matplotlib packages. You will also perform an Exploratory Data Analysis (EDA).\n",
    "\n",
    "In this assignment you will be specifically instructed on the graphs you need to produce. \n",
    "\n",
    "Pay close attention to clear figure titles, axis labels, and legends. These must be present in all graphs! ***Colors are not important***"
   ]
  },
  {
   "cell_type": "markdown",
   "metadata": {},
   "source": [
    "Good luck!"
   ]
  },
  {
   "cell_type": "markdown",
   "metadata": {},
   "source": [
    "# Data and Setup"
   ]
  },
  {
   "cell_type": "markdown",
   "metadata": {
    "colab_type": "text",
    "id": "w0Do_4_i21TY"
   },
   "source": [
    "Import numpy and pandas:"
   ]
  },
  {
   "cell_type": "code",
   "execution_count": 5,
   "metadata": {
    "colab": {},
    "colab_type": "code",
    "id": "Mbcyor8B21TZ"
   },
   "outputs": [],
   "source": [
    "import numpy as np\n",
    "import pandas as pd"
   ]
  },
  {
   "cell_type": "markdown",
   "metadata": {
    "colab_type": "text",
    "id": "na8g95ai21Tb"
   },
   "source": [
    "Import visualization libraries and set %matplotlib inline:"
   ]
  },
  {
   "cell_type": "code",
   "execution_count": 256,
   "metadata": {
    "colab": {},
    "colab_type": "code",
    "id": "Jq1x-gPM21Tc"
   },
   "outputs": [],
   "source": [
    "import matplotlib.pyplot as plt \n",
    "%matplotlib inline\n",
    "%reload_ext autoreload\n",
    "%autoreload "
   ]
  },
  {
   "cell_type": "markdown",
   "metadata": {
    "colab_type": "text",
    "id": "6ooM2Ksb21Te"
   },
   "source": [
    "Read in the People's profile csv file as a dataframe called profiles and check the head of it:"
   ]
  },
  {
   "cell_type": "code",
   "execution_count": 258,
   "metadata": {},
   "outputs": [
    {
     "data": {
      "text/html": [
       "<div>\n",
       "<style scoped>\n",
       "    .dataframe tbody tr th:only-of-type {\n",
       "        vertical-align: middle;\n",
       "    }\n",
       "\n",
       "    .dataframe tbody tr th {\n",
       "        vertical-align: top;\n",
       "    }\n",
       "\n",
       "    .dataframe thead th {\n",
       "        text-align: right;\n",
       "    }\n",
       "</style>\n",
       "<table border=\"1\" class=\"dataframe\">\n",
       "  <thead>\n",
       "    <tr style=\"text-align: right;\">\n",
       "      <th></th>\n",
       "      <th>age</th>\n",
       "      <th>diet</th>\n",
       "      <th>drinks</th>\n",
       "      <th>drugs</th>\n",
       "      <th>education</th>\n",
       "      <th>height</th>\n",
       "      <th>income</th>\n",
       "      <th>job</th>\n",
       "      <th>gender</th>\n",
       "      <th>sign</th>\n",
       "      <th>smokes</th>\n",
       "      <th>speaks</th>\n",
       "      <th>status</th>\n",
       "    </tr>\n",
       "  </thead>\n",
       "  <tbody>\n",
       "    <tr>\n",
       "      <th>0</th>\n",
       "      <td>22</td>\n",
       "      <td>strictly anything</td>\n",
       "      <td>socially</td>\n",
       "      <td>never</td>\n",
       "      <td>working on college/university</td>\n",
       "      <td>75.0</td>\n",
       "      <td>-1</td>\n",
       "      <td>transportation</td>\n",
       "      <td>m</td>\n",
       "      <td>gemini</td>\n",
       "      <td>sometimes</td>\n",
       "      <td>english</td>\n",
       "      <td>single</td>\n",
       "    </tr>\n",
       "    <tr>\n",
       "      <th>1</th>\n",
       "      <td>35</td>\n",
       "      <td>mostly other</td>\n",
       "      <td>often</td>\n",
       "      <td>sometimes</td>\n",
       "      <td>working on space camp</td>\n",
       "      <td>70.0</td>\n",
       "      <td>80000</td>\n",
       "      <td>hospitality / travel</td>\n",
       "      <td>m</td>\n",
       "      <td>cancer</td>\n",
       "      <td>no</td>\n",
       "      <td>english (fluently), spanish (poorly), french (...</td>\n",
       "      <td>single</td>\n",
       "    </tr>\n",
       "    <tr>\n",
       "      <th>2</th>\n",
       "      <td>38</td>\n",
       "      <td>anything</td>\n",
       "      <td>socially</td>\n",
       "      <td>NaN</td>\n",
       "      <td>graduated from masters program</td>\n",
       "      <td>68.0</td>\n",
       "      <td>-1</td>\n",
       "      <td>NaN</td>\n",
       "      <td>m</td>\n",
       "      <td>pisces but it doesn&amp;rsquo;t matter</td>\n",
       "      <td>no</td>\n",
       "      <td>english, french, c++</td>\n",
       "      <td>available</td>\n",
       "    </tr>\n",
       "    <tr>\n",
       "      <th>3</th>\n",
       "      <td>23</td>\n",
       "      <td>vegetarian</td>\n",
       "      <td>socially</td>\n",
       "      <td>NaN</td>\n",
       "      <td>working on college/university</td>\n",
       "      <td>71.0</td>\n",
       "      <td>20000</td>\n",
       "      <td>student</td>\n",
       "      <td>m</td>\n",
       "      <td>pisces</td>\n",
       "      <td>no</td>\n",
       "      <td>english, german (poorly)</td>\n",
       "      <td>single</td>\n",
       "    </tr>\n",
       "    <tr>\n",
       "      <th>4</th>\n",
       "      <td>29</td>\n",
       "      <td>NaN</td>\n",
       "      <td>socially</td>\n",
       "      <td>never</td>\n",
       "      <td>graduated from college/university</td>\n",
       "      <td>66.0</td>\n",
       "      <td>-1</td>\n",
       "      <td>artistic / musical / writer</td>\n",
       "      <td>m</td>\n",
       "      <td>aquarius</td>\n",
       "      <td>no</td>\n",
       "      <td>english</td>\n",
       "      <td>single</td>\n",
       "    </tr>\n",
       "  </tbody>\n",
       "</table>\n",
       "</div>"
      ],
      "text/plain": [
       "   age               diet    drinks      drugs  \\\n",
       "0   22  strictly anything  socially      never   \n",
       "1   35       mostly other     often  sometimes   \n",
       "2   38           anything  socially        NaN   \n",
       "3   23         vegetarian  socially        NaN   \n",
       "4   29                NaN  socially      never   \n",
       "\n",
       "                           education  height  income  \\\n",
       "0      working on college/university    75.0      -1   \n",
       "1              working on space camp    70.0   80000   \n",
       "2     graduated from masters program    68.0      -1   \n",
       "3      working on college/university    71.0   20000   \n",
       "4  graduated from college/university    66.0      -1   \n",
       "\n",
       "                           job gender                                sign  \\\n",
       "0               transportation      m                              gemini   \n",
       "1         hospitality / travel      m                              cancer   \n",
       "2                          NaN      m  pisces but it doesn&rsquo;t matter   \n",
       "3                      student      m                              pisces   \n",
       "4  artistic / musical / writer      m                            aquarius   \n",
       "\n",
       "      smokes                                             speaks     status  \n",
       "0  sometimes                                            english     single  \n",
       "1         no  english (fluently), spanish (poorly), french (...     single  \n",
       "2         no                               english, french, c++  available  \n",
       "3         no                           english, german (poorly)     single  \n",
       "4         no                                            english     single  "
      ]
     },
     "execution_count": 258,
     "metadata": {},
     "output_type": "execute_result"
    }
   ],
   "source": [
    "df = pd.read_csv('df_profiles.csv')\n",
    "df.head()"
   ]
  },
  {
   "cell_type": "markdown",
   "metadata": {
    "colab_type": "text",
    "id": "n17sRgUd21Tg"
   },
   "source": [
    "Check the info() and describe() of profiles:"
   ]
  },
  {
   "cell_type": "code",
   "execution_count": 259,
   "metadata": {},
   "outputs": [
    {
     "name": "stdout",
     "output_type": "stream",
     "text": [
      "<class 'pandas.core.frame.DataFrame'>\n",
      "RangeIndex: 59946 entries, 0 to 59945\n",
      "Data columns (total 13 columns):\n",
      " #   Column     Non-Null Count  Dtype  \n",
      "---  ------     --------------  -----  \n",
      " 0   age        59946 non-null  int64  \n",
      " 1   diet       35551 non-null  object \n",
      " 2   drinks     56961 non-null  object \n",
      " 3   drugs      45866 non-null  object \n",
      " 4   education  53318 non-null  object \n",
      " 5   height     59943 non-null  float64\n",
      " 6   income     59946 non-null  int64  \n",
      " 7   job        51748 non-null  object \n",
      " 8   gender     59946 non-null  object \n",
      " 9   sign       48890 non-null  object \n",
      " 10  smokes     54434 non-null  object \n",
      " 11  speaks     59896 non-null  object \n",
      " 12  status     59946 non-null  object \n",
      "dtypes: float64(1), int64(2), object(10)\n",
      "memory usage: 5.9+ MB\n"
     ]
    }
   ],
   "source": [
    "df.info()"
   ]
  },
  {
   "cell_type": "code",
   "execution_count": 260,
   "metadata": {},
   "outputs": [
    {
     "data": {
      "text/html": [
       "<div>\n",
       "<style scoped>\n",
       "    .dataframe tbody tr th:only-of-type {\n",
       "        vertical-align: middle;\n",
       "    }\n",
       "\n",
       "    .dataframe tbody tr th {\n",
       "        vertical-align: top;\n",
       "    }\n",
       "\n",
       "    .dataframe thead th {\n",
       "        text-align: right;\n",
       "    }\n",
       "</style>\n",
       "<table border=\"1\" class=\"dataframe\">\n",
       "  <thead>\n",
       "    <tr style=\"text-align: right;\">\n",
       "      <th></th>\n",
       "      <th>age</th>\n",
       "      <th>height</th>\n",
       "      <th>income</th>\n",
       "    </tr>\n",
       "  </thead>\n",
       "  <tbody>\n",
       "    <tr>\n",
       "      <th>count</th>\n",
       "      <td>59946.000000</td>\n",
       "      <td>59943.000000</td>\n",
       "      <td>59946.000000</td>\n",
       "    </tr>\n",
       "    <tr>\n",
       "      <th>mean</th>\n",
       "      <td>32.340290</td>\n",
       "      <td>68.295281</td>\n",
       "      <td>20033.222534</td>\n",
       "    </tr>\n",
       "    <tr>\n",
       "      <th>std</th>\n",
       "      <td>9.452779</td>\n",
       "      <td>3.994803</td>\n",
       "      <td>97346.192104</td>\n",
       "    </tr>\n",
       "    <tr>\n",
       "      <th>min</th>\n",
       "      <td>18.000000</td>\n",
       "      <td>1.000000</td>\n",
       "      <td>-1.000000</td>\n",
       "    </tr>\n",
       "    <tr>\n",
       "      <th>25%</th>\n",
       "      <td>26.000000</td>\n",
       "      <td>66.000000</td>\n",
       "      <td>-1.000000</td>\n",
       "    </tr>\n",
       "    <tr>\n",
       "      <th>50%</th>\n",
       "      <td>30.000000</td>\n",
       "      <td>68.000000</td>\n",
       "      <td>-1.000000</td>\n",
       "    </tr>\n",
       "    <tr>\n",
       "      <th>75%</th>\n",
       "      <td>37.000000</td>\n",
       "      <td>71.000000</td>\n",
       "      <td>-1.000000</td>\n",
       "    </tr>\n",
       "    <tr>\n",
       "      <th>max</th>\n",
       "      <td>110.000000</td>\n",
       "      <td>95.000000</td>\n",
       "      <td>1000000.000000</td>\n",
       "    </tr>\n",
       "  </tbody>\n",
       "</table>\n",
       "</div>"
      ],
      "text/plain": [
       "                age        height          income\n",
       "count  59946.000000  59943.000000    59946.000000\n",
       "mean      32.340290     68.295281    20033.222534\n",
       "std        9.452779      3.994803    97346.192104\n",
       "min       18.000000      1.000000       -1.000000\n",
       "25%       26.000000     66.000000       -1.000000\n",
       "50%       30.000000     68.000000       -1.000000\n",
       "75%       37.000000     71.000000       -1.000000\n",
       "max      110.000000     95.000000  1000000.000000"
      ]
     },
     "execution_count": 260,
     "metadata": {},
     "output_type": "execute_result"
    }
   ],
   "source": [
    "new_table = df.describe()\n",
    "new_table"
   ]
  },
  {
   "cell_type": "markdown",
   "metadata": {},
   "source": [
    "Change height values from inches to centimeters by multiplying it by 2.54."
   ]
  },
  {
   "cell_type": "code",
   "execution_count": 261,
   "metadata": {},
   "outputs": [
    {
     "data": {
      "text/html": [
       "<div>\n",
       "<style scoped>\n",
       "    .dataframe tbody tr th:only-of-type {\n",
       "        vertical-align: middle;\n",
       "    }\n",
       "\n",
       "    .dataframe tbody tr th {\n",
       "        vertical-align: top;\n",
       "    }\n",
       "\n",
       "    .dataframe thead th {\n",
       "        text-align: right;\n",
       "    }\n",
       "</style>\n",
       "<table border=\"1\" class=\"dataframe\">\n",
       "  <thead>\n",
       "    <tr style=\"text-align: right;\">\n",
       "      <th></th>\n",
       "      <th>age</th>\n",
       "      <th>height</th>\n",
       "      <th>income</th>\n",
       "    </tr>\n",
       "  </thead>\n",
       "  <tbody>\n",
       "    <tr>\n",
       "      <th>count</th>\n",
       "      <td>59946.000000</td>\n",
       "      <td>59943.000000</td>\n",
       "      <td>59946.000000</td>\n",
       "    </tr>\n",
       "    <tr>\n",
       "      <th>mean</th>\n",
       "      <td>32.340290</td>\n",
       "      <td>173.470013</td>\n",
       "      <td>20033.222534</td>\n",
       "    </tr>\n",
       "    <tr>\n",
       "      <th>std</th>\n",
       "      <td>9.452779</td>\n",
       "      <td>10.146800</td>\n",
       "      <td>97346.192104</td>\n",
       "    </tr>\n",
       "    <tr>\n",
       "      <th>min</th>\n",
       "      <td>18.000000</td>\n",
       "      <td>2.540000</td>\n",
       "      <td>-1.000000</td>\n",
       "    </tr>\n",
       "    <tr>\n",
       "      <th>25%</th>\n",
       "      <td>26.000000</td>\n",
       "      <td>167.640000</td>\n",
       "      <td>-1.000000</td>\n",
       "    </tr>\n",
       "    <tr>\n",
       "      <th>50%</th>\n",
       "      <td>30.000000</td>\n",
       "      <td>172.720000</td>\n",
       "      <td>-1.000000</td>\n",
       "    </tr>\n",
       "    <tr>\n",
       "      <th>75%</th>\n",
       "      <td>37.000000</td>\n",
       "      <td>180.340000</td>\n",
       "      <td>-1.000000</td>\n",
       "    </tr>\n",
       "    <tr>\n",
       "      <th>max</th>\n",
       "      <td>110.000000</td>\n",
       "      <td>241.300000</td>\n",
       "      <td>1000000.000000</td>\n",
       "    </tr>\n",
       "  </tbody>\n",
       "</table>\n",
       "</div>"
      ],
      "text/plain": [
       "                age        height          income\n",
       "count  59946.000000  59943.000000    59946.000000\n",
       "mean      32.340290    173.470013    20033.222534\n",
       "std        9.452779     10.146800    97346.192104\n",
       "min       18.000000      2.540000       -1.000000\n",
       "25%       26.000000    167.640000       -1.000000\n",
       "50%       30.000000    172.720000       -1.000000\n",
       "75%       37.000000    180.340000       -1.000000\n",
       "max      110.000000    241.300000  1000000.000000"
      ]
     },
     "execution_count": 261,
     "metadata": {},
     "output_type": "execute_result"
    }
   ],
   "source": [
    "df['height'] = df['height']*2.54 \n",
    "df.describe()"
   ]
  },
  {
   "cell_type": "markdown",
   "metadata": {},
   "source": [
    "Find the number of the people that participated in the survey, and number of features of the table.\n"
   ]
  },
  {
   "cell_type": "code",
   "execution_count": 262,
   "metadata": {},
   "outputs": [
    {
     "name": "stdout",
     "output_type": "stream",
     "text": [
      "People:  59946\n",
      "Features:  13\n"
     ]
    }
   ],
   "source": [
    "print('People: ' , df.shape[0])\n",
    "print('Features: ' , df.shape[1])"
   ]
  },
  {
   "cell_type": "markdown",
   "metadata": {
    "colab_type": "text",
    "id": "kKazpTjniTNZ"
   },
   "source": [
    "# EDA (Exploratory data analysis)"
   ]
  },
  {
   "cell_type": "markdown",
   "metadata": {
    "colab_type": "text",
    "id": "SawtQnNOiTNb"
   },
   "source": [
    "## Graph 1"
   ]
  },
  {
   "cell_type": "markdown",
   "metadata": {},
   "source": [
    "Use the violinplot - to display the following graph:"
   ]
  },
  {
   "cell_type": "code",
   "execution_count": 265,
   "metadata": {},
   "outputs": [
    {
     "data": {
      "text/plain": [
       "[Text(0.5, 1.0, 'Violin plot of drinks vs. age')]"
      ]
     },
     "execution_count": 265,
     "metadata": {},
     "output_type": "execute_result"
    },
    {
     "data": {
      "image/png": "[encoded data removed]",
      "text/plain": [
       "<Figure size 640x480 with 1 Axes>"
      ]
     },
     "metadata": {},
     "output_type": "display_data"
    }
   ],
   "source": [
    "import seaborn as sns\n",
    "sns.violinplot(x=\"age\", y=\"drinks\", data=df, hue='gender', split=True).set(title='Violin plot of drinks vs. age')"
   ]
  },
  {
   "cell_type": "markdown",
   "metadata": {},
   "source": [
    "Create this table: <br>(hints: look for groupby().size() and reset_index())"
   ]
  },
  {
   "cell_type": "code",
   "execution_count": 266,
   "metadata": {},
   "outputs": [
    {
     "data": {
      "text/html": [
       "<div>\n",
       "<style scoped>\n",
       "    .dataframe tbody tr th:only-of-type {\n",
       "        vertical-align: middle;\n",
       "    }\n",
       "\n",
       "    .dataframe tbody tr th {\n",
       "        vertical-align: top;\n",
       "    }\n",
       "\n",
       "    .dataframe thead th {\n",
       "        text-align: right;\n",
       "    }\n",
       "</style>\n",
       "<table border=\"1\" class=\"dataframe\">\n",
       "  <thead>\n",
       "    <tr style=\"text-align: right;\">\n",
       "      <th></th>\n",
       "      <th>drinks</th>\n",
       "      <th>gender</th>\n",
       "      <th>numbers</th>\n",
       "    </tr>\n",
       "  </thead>\n",
       "  <tbody>\n",
       "    <tr>\n",
       "      <th>0</th>\n",
       "      <td>desperately</td>\n",
       "      <td>f</td>\n",
       "      <td>114</td>\n",
       "    </tr>\n",
       "    <tr>\n",
       "      <th>1</th>\n",
       "      <td>desperately</td>\n",
       "      <td>m</td>\n",
       "      <td>208</td>\n",
       "    </tr>\n",
       "    <tr>\n",
       "      <th>2</th>\n",
       "      <td>not at all</td>\n",
       "      <td>f</td>\n",
       "      <td>1233</td>\n",
       "    </tr>\n",
       "    <tr>\n",
       "      <th>3</th>\n",
       "      <td>not at all</td>\n",
       "      <td>m</td>\n",
       "      <td>2034</td>\n",
       "    </tr>\n",
       "    <tr>\n",
       "      <th>4</th>\n",
       "      <td>often</td>\n",
       "      <td>f</td>\n",
       "      <td>1850</td>\n",
       "    </tr>\n",
       "    <tr>\n",
       "      <th>5</th>\n",
       "      <td>often</td>\n",
       "      <td>m</td>\n",
       "      <td>3314</td>\n",
       "    </tr>\n",
       "    <tr>\n",
       "      <th>6</th>\n",
       "      <td>rarely</td>\n",
       "      <td>f</td>\n",
       "      <td>2408</td>\n",
       "    </tr>\n",
       "    <tr>\n",
       "      <th>7</th>\n",
       "      <td>rarely</td>\n",
       "      <td>m</td>\n",
       "      <td>3549</td>\n",
       "    </tr>\n",
       "    <tr>\n",
       "      <th>8</th>\n",
       "      <td>socially</td>\n",
       "      <td>f</td>\n",
       "      <td>17223</td>\n",
       "    </tr>\n",
       "    <tr>\n",
       "      <th>9</th>\n",
       "      <td>socially</td>\n",
       "      <td>m</td>\n",
       "      <td>24557</td>\n",
       "    </tr>\n",
       "    <tr>\n",
       "      <th>10</th>\n",
       "      <td>very often</td>\n",
       "      <td>f</td>\n",
       "      <td>177</td>\n",
       "    </tr>\n",
       "    <tr>\n",
       "      <th>11</th>\n",
       "      <td>very often</td>\n",
       "      <td>m</td>\n",
       "      <td>294</td>\n",
       "    </tr>\n",
       "  </tbody>\n",
       "</table>\n",
       "</div>"
      ],
      "text/plain": [
       "         drinks gender  numbers\n",
       "0   desperately      f      114\n",
       "1   desperately      m      208\n",
       "2    not at all      f     1233\n",
       "3    not at all      m     2034\n",
       "4         often      f     1850\n",
       "5         often      m     3314\n",
       "6        rarely      f     2408\n",
       "7        rarely      m     3549\n",
       "8      socially      f    17223\n",
       "9      socially      m    24557\n",
       "10   very often      f      177\n",
       "11   very often      m      294"
      ]
     },
     "execution_count": 266,
     "metadata": {},
     "output_type": "execute_result"
    }
   ],
   "source": [
    "df_grouped = df.groupby(['drinks','gender']).size().reset_index()\n",
    "df_grouped.columns = ['drinks','gender','numbers']\n",
    "df_grouped "
   ]
  },
  {
   "cell_type": "markdown",
   "metadata": {
    "colab_type": "text",
    "id": "qZkJrrZLNgLA"
   },
   "source": [
    "## Graph 2"
   ]
  },
  {
   "cell_type": "markdown",
   "metadata": {
    "colab_type": "text",
    "id": "KkHjITJ1NgLB"
   },
   "source": [
    "**How many languages do they speak? Let's look at our pool of users**"
   ]
  },
  {
   "cell_type": "markdown",
   "metadata": {
    "colab_type": "text",
    "id": "1trBIxMENgLC"
   },
   "source": [
    "Start by replacing all the empty cells in the 'speaks' column with 'no answer'. \n",
    "We assume these users speak only 1 language (most likely English) and therefore did not respond to the question."
   ]
  },
  {
   "cell_type": "code",
   "execution_count": 267,
   "metadata": {},
   "outputs": [],
   "source": [
    "df.loc[df['speaks'].isnull(), ['speaks']] = 'no answer'"
   ]
  },
  {
   "cell_type": "markdown",
   "metadata": {
    "colab_type": "text",
    "id": "imRybGMYNgLF"
   },
   "source": [
    "Now add a column called 'languages' to the dataframe which holds the number of languages each user speaks (Hint: Use the commas)."
   ]
  },
  {
   "cell_type": "code",
   "execution_count": 268,
   "metadata": {},
   "outputs": [
    {
     "data": {
      "text/html": [
       "<div>\n",
       "<style scoped>\n",
       "    .dataframe tbody tr th:only-of-type {\n",
       "        vertical-align: middle;\n",
       "    }\n",
       "\n",
       "    .dataframe tbody tr th {\n",
       "        vertical-align: top;\n",
       "    }\n",
       "\n",
       "    .dataframe thead th {\n",
       "        text-align: right;\n",
       "    }\n",
       "</style>\n",
       "<table border=\"1\" class=\"dataframe\">\n",
       "  <thead>\n",
       "    <tr style=\"text-align: right;\">\n",
       "      <th></th>\n",
       "      <th>age</th>\n",
       "      <th>diet</th>\n",
       "      <th>drinks</th>\n",
       "      <th>drugs</th>\n",
       "      <th>education</th>\n",
       "      <th>height</th>\n",
       "      <th>income</th>\n",
       "      <th>job</th>\n",
       "      <th>gender</th>\n",
       "      <th>sign</th>\n",
       "      <th>smokes</th>\n",
       "      <th>speaks</th>\n",
       "      <th>status</th>\n",
       "      <th>languages</th>\n",
       "    </tr>\n",
       "  </thead>\n",
       "  <tbody>\n",
       "    <tr>\n",
       "      <th>0</th>\n",
       "      <td>22</td>\n",
       "      <td>strictly anything</td>\n",
       "      <td>socially</td>\n",
       "      <td>never</td>\n",
       "      <td>working on college/university</td>\n",
       "      <td>190.50</td>\n",
       "      <td>-1</td>\n",
       "      <td>transportation</td>\n",
       "      <td>m</td>\n",
       "      <td>gemini</td>\n",
       "      <td>sometimes</td>\n",
       "      <td>english</td>\n",
       "      <td>single</td>\n",
       "      <td>1</td>\n",
       "    </tr>\n",
       "    <tr>\n",
       "      <th>1</th>\n",
       "      <td>35</td>\n",
       "      <td>mostly other</td>\n",
       "      <td>often</td>\n",
       "      <td>sometimes</td>\n",
       "      <td>working on space camp</td>\n",
       "      <td>177.80</td>\n",
       "      <td>80000</td>\n",
       "      <td>hospitality / travel</td>\n",
       "      <td>m</td>\n",
       "      <td>cancer</td>\n",
       "      <td>no</td>\n",
       "      <td>english (fluently), spanish (poorly), french (...</td>\n",
       "      <td>single</td>\n",
       "      <td>3</td>\n",
       "    </tr>\n",
       "    <tr>\n",
       "      <th>2</th>\n",
       "      <td>38</td>\n",
       "      <td>anything</td>\n",
       "      <td>socially</td>\n",
       "      <td>NaN</td>\n",
       "      <td>graduated from masters program</td>\n",
       "      <td>172.72</td>\n",
       "      <td>-1</td>\n",
       "      <td>NaN</td>\n",
       "      <td>m</td>\n",
       "      <td>pisces but it doesn&amp;rsquo;t matter</td>\n",
       "      <td>no</td>\n",
       "      <td>english, french, c++</td>\n",
       "      <td>available</td>\n",
       "      <td>3</td>\n",
       "    </tr>\n",
       "    <tr>\n",
       "      <th>3</th>\n",
       "      <td>23</td>\n",
       "      <td>vegetarian</td>\n",
       "      <td>socially</td>\n",
       "      <td>NaN</td>\n",
       "      <td>working on college/university</td>\n",
       "      <td>180.34</td>\n",
       "      <td>20000</td>\n",
       "      <td>student</td>\n",
       "      <td>m</td>\n",
       "      <td>pisces</td>\n",
       "      <td>no</td>\n",
       "      <td>english, german (poorly)</td>\n",
       "      <td>single</td>\n",
       "      <td>2</td>\n",
       "    </tr>\n",
       "    <tr>\n",
       "      <th>4</th>\n",
       "      <td>29</td>\n",
       "      <td>NaN</td>\n",
       "      <td>socially</td>\n",
       "      <td>never</td>\n",
       "      <td>graduated from college/university</td>\n",
       "      <td>167.64</td>\n",
       "      <td>-1</td>\n",
       "      <td>artistic / musical / writer</td>\n",
       "      <td>m</td>\n",
       "      <td>aquarius</td>\n",
       "      <td>no</td>\n",
       "      <td>english</td>\n",
       "      <td>single</td>\n",
       "      <td>1</td>\n",
       "    </tr>\n",
       "  </tbody>\n",
       "</table>\n",
       "</div>"
      ],
      "text/plain": [
       "   age               diet    drinks      drugs  \\\n",
       "0   22  strictly anything  socially      never   \n",
       "1   35       mostly other     often  sometimes   \n",
       "2   38           anything  socially        NaN   \n",
       "3   23         vegetarian  socially        NaN   \n",
       "4   29                NaN  socially      never   \n",
       "\n",
       "                           education  height  income  \\\n",
       "0      working on college/university  190.50      -1   \n",
       "1              working on space camp  177.80   80000   \n",
       "2     graduated from masters program  172.72      -1   \n",
       "3      working on college/university  180.34   20000   \n",
       "4  graduated from college/university  167.64      -1   \n",
       "\n",
       "                           job gender                                sign  \\\n",
       "0               transportation      m                              gemini   \n",
       "1         hospitality / travel      m                              cancer   \n",
       "2                          NaN      m  pisces but it doesn&rsquo;t matter   \n",
       "3                      student      m                              pisces   \n",
       "4  artistic / musical / writer      m                            aquarius   \n",
       "\n",
       "      smokes                                             speaks     status  \\\n",
       "0  sometimes                                            english     single   \n",
       "1         no  english (fluently), spanish (poorly), french (...     single   \n",
       "2         no                               english, french, c++  available   \n",
       "3         no                           english, german (poorly)     single   \n",
       "4         no                                            english     single   \n",
       "\n",
       "   languages  \n",
       "0          1  \n",
       "1          3  \n",
       "2          3  \n",
       "3          2  \n",
       "4          1  "
      ]
     },
     "execution_count": 268,
     "metadata": {},
     "output_type": "execute_result"
    }
   ],
   "source": [
    "pp = df['speaks']\n",
    "number_of_languages_new_column = []\n",
    "for x in range(pp.shape[0]): \n",
    "    A=1\n",
    "    for y in pp[x]:\n",
    "        if y == ',':\n",
    "            A = A + 1  \n",
    "    number_of_languages_new_column.append(A)\n",
    "df['languages'] = number_of_languages_new_column\n",
    "df.head()"
   ]
  },
  {
   "cell_type": "markdown",
   "metadata": {
    "colab_type": "text",
    "id": "fb4EWZ3JNgLI"
   },
   "source": [
    "Use plt.hist to show a histogram of the number of users that speak a certain number of languages."
   ]
  },
  {
   "cell_type": "code",
   "execution_count": 269,
   "metadata": {},
   "outputs": [
    {
     "data": {
      "text/plain": [
       "(array([29122., 17229.,  8682.,  3251.,  1662.]),\n",
       " array([1. , 1.8, 2.6, 3.4, 4.2, 5. ]),\n",
       " <BarContainer object of 5 artists>)"
      ]
     },
     "execution_count": 269,
     "metadata": {},
     "output_type": "execute_result"
    },
    {
     "data": {
      "image/png": "[encoded data removed]",
      "text/plain": [
       "<Figure size 640x480 with 1 Axes>"
      ]
     },
     "metadata": {},
     "output_type": "display_data"
    }
   ],
   "source": [
    "plt.hist(number_of_languages_new_column, bins = 5, histtype='bar', ec='black')"
   ]
  },
  {
   "cell_type": "markdown",
   "metadata": {
    "colab_type": "text",
    "id": "okgS0A8rNgLL"
   },
   "source": [
    "**What is the average number of languages people know in the survey?**"
   ]
  },
  {
   "cell_type": "code",
   "execution_count": 270,
   "metadata": {},
   "outputs": [
    {
     "data": {
      "text/plain": [
       "1.8506655990391352"
      ]
     },
     "execution_count": 270,
     "metadata": {},
     "output_type": "execute_result"
    }
   ],
   "source": [
    "df['languages'].mean()"
   ]
  },
  {
   "cell_type": "markdown",
   "metadata": {
    "colab_type": "text",
    "id": "R39bbxefNgLM"
   },
   "source": [
    "## Graph 3"
   ]
  },
  {
   "cell_type": "markdown",
   "metadata": {
    "colab_type": "text",
    "id": "BjhMFQs7NgLN"
   },
   "source": [
    "According to Wikipedia, the average height for adult males (ages 20+) in the US is 175.7cm and 161.8cm for adult females.   Let's see how this compares with the heights provided by users in their profiles. Use boxplot to show the distribution of users.\n",
    "\n",
    "Note that the heights provided in the dataframe are not in cm, therefore add a new column with the height values in units of centimeters."
   ]
  },
  {
   "cell_type": "code",
   "execution_count": 271,
   "metadata": {},
   "outputs": [
    {
     "data": {
      "text/plain": [
       "<AxesSubplot:xlabel='gender', ylabel='height'>"
      ]
     },
     "execution_count": 271,
     "metadata": {},
     "output_type": "execute_result"
    },
    {
     "data": {
      "image/png": "[encoded data removed]",
      "text/plain": [
       "<Figure size 640x480 with 1 Axes>"
      ]
     },
     "metadata": {},
     "output_type": "display_data"
    }
   ],
   "source": [
    "sns.boxplot(x=\"gender\", y=\"height\", data=df, palette='rainbow')\n"
   ]
  },
  {
   "cell_type": "markdown",
   "metadata": {
    "colab_type": "text",
    "id": "8N7RPzIfNgLP"
   },
   "source": [
    "**Lets adjust the graph to certain expected range.**\n",
    "\n",
    "\n",
    "**What is the average for male and female users though?**"
   ]
  },
  {
   "cell_type": "code",
   "execution_count": 272,
   "metadata": {},
   "outputs": [
    {
     "data": {
      "text/plain": [
       "(140.0, 200.0)"
      ]
     },
     "execution_count": 272,
     "metadata": {},
     "output_type": "execute_result"
    },
    {
     "data": {
      "image/png": "[encoded data removed]",
      "text/plain": [
       "<Figure size 640x480 with 1 Axes>"
      ]
     },
     "metadata": {},
     "output_type": "display_data"
    }
   ],
   "source": [
    "sns.boxplot(x=\"gender\", y=\"height\", data=df, showmeans=True)\n",
    "plt.ylim(140, 200)"
   ]
  },
  {
   "cell_type": "code",
   "execution_count": 273,
   "metadata": {},
   "outputs": [
    {
     "data": {
      "text/plain": [
       "gender\n",
       "f    165.363837\n",
       "m    178.926471\n",
       "Name: height, dtype: float64"
      ]
     },
     "execution_count": 273,
     "metadata": {},
     "output_type": "execute_result"
    }
   ],
   "source": [
    "average_height = df.groupby(['gender'])['height'].mean()\n",
    "average_height"
   ]
  },
  {
   "cell_type": "markdown",
   "metadata": {
    "colab_type": "text",
    "id": "j6uHq2AANgLi"
   },
   "source": [
    "## Graph 4"
   ]
  },
  {
   "cell_type": "markdown",
   "metadata": {
    "colab_type": "text",
    "collapsed": true,
    "id": "Afg6iFUwNgLj"
   },
   "source": [
    "**Let's find out what people do for a living.** \n",
    "\n",
    "<br>**Find out the distribution of each job by precents and sort it.**"
   ]
  },
  {
   "cell_type": "code",
   "execution_count": 274,
   "metadata": {},
   "outputs": [
    {
     "data": {
      "text/plain": [
       "other                                14.665301\n",
       "student                               9.434181\n",
       "science / tech / engineering          9.368478\n",
       "computer / hardware / software        9.099869\n",
       "artistic / musical / writer           8.578109\n",
       "sales / marketing / biz dev           8.485352\n",
       "medicine / health                     7.111386\n",
       "education / academia                  6.788668\n",
       "executive / management                4.585684\n",
       "banking / financial / real estate     4.378913\n",
       "entertainment / media                 4.347994\n",
       "law / legal services                  2.668702\n",
       "hospitality / travel                  2.635851\n",
       "construction / craftsmanship          1.973023\n",
       "clerical / administrative             1.555616\n",
       "political / government                1.368169\n",
       "rather not say                        0.842545\n",
       "transportation                        0.707274\n",
       "unemployed                            0.527557\n",
       "retired                               0.483110\n",
       "military                              0.394218\n",
       "Name: job, dtype: float64"
      ]
     },
     "execution_count": 274,
     "metadata": {},
     "output_type": "execute_result"
    }
   ],
   "source": [
    "job_distribution = df['job'].value_counts()\n",
    "total = df['job'].value_counts().sum()\n",
    "new = job_distribution.apply(lambda x : x * 100 / total)\n",
    "new"
   ]
  },
  {
   "cell_type": "markdown",
   "metadata": {
    "colab_type": "text",
    "id": "cP3K7_4lNgLm"
   },
   "source": [
    "**Let's take a closer look at 4 different fields and try to determine if they are male or female dominated:**"
   ]
  },
  {
   "cell_type": "markdown",
   "metadata": {
    "colab_type": "text",
    "id": "aSZqg1stNgLn"
   },
   "source": [
    "**The four fields we will look at are:**\n",
    "\n",
    "**1. Hi-tech jobs which include 'science / tech / engineering' and 'computer / hardware / software'**\n",
    "\n",
    "**2. Money related jobs which include 'banking / financial / real estate'**\n",
    "\n",
    "**3. Jobs in the medical field including 'medicine / health'**\n",
    "\n",
    "**4. Jobs in the arts 'artistic / musical / writer'**"
   ]
  },
  {
   "cell_type": "code",
   "execution_count": 275,
   "metadata": {},
   "outputs": [
    {
     "data": {
      "text/html": [
       "<div>\n",
       "<style scoped>\n",
       "    .dataframe tbody tr th:only-of-type {\n",
       "        vertical-align: middle;\n",
       "    }\n",
       "\n",
       "    .dataframe tbody tr th {\n",
       "        vertical-align: top;\n",
       "    }\n",
       "\n",
       "    .dataframe thead th {\n",
       "        text-align: right;\n",
       "    }\n",
       "</style>\n",
       "<table border=\"1\" class=\"dataframe\">\n",
       "  <thead>\n",
       "    <tr style=\"text-align: right;\">\n",
       "      <th>gender</th>\n",
       "      <th>f</th>\n",
       "      <th>m</th>\n",
       "    </tr>\n",
       "    <tr>\n",
       "      <th>job</th>\n",
       "      <th></th>\n",
       "      <th></th>\n",
       "    </tr>\n",
       "  </thead>\n",
       "  <tbody>\n",
       "    <tr>\n",
       "      <th>artistic / musical / writer</th>\n",
       "      <td>1882</td>\n",
       "      <td>2557</td>\n",
       "    </tr>\n",
       "    <tr>\n",
       "      <th>banking / financial / real estate</th>\n",
       "      <td>790</td>\n",
       "      <td>1476</td>\n",
       "    </tr>\n",
       "    <tr>\n",
       "      <th>clerical / administrative</th>\n",
       "      <td>572</td>\n",
       "      <td>233</td>\n",
       "    </tr>\n",
       "    <tr>\n",
       "      <th>computer / hardware / software</th>\n",
       "      <td>641</td>\n",
       "      <td>4068</td>\n",
       "    </tr>\n",
       "    <tr>\n",
       "      <th>construction / craftsmanship</th>\n",
       "      <td>81</td>\n",
       "      <td>940</td>\n",
       "    </tr>\n",
       "    <tr>\n",
       "      <th>education / academia</th>\n",
       "      <td>2155</td>\n",
       "      <td>1358</td>\n",
       "    </tr>\n",
       "    <tr>\n",
       "      <th>entertainment / media</th>\n",
       "      <td>681</td>\n",
       "      <td>1569</td>\n",
       "    </tr>\n",
       "    <tr>\n",
       "      <th>executive / management</th>\n",
       "      <td>755</td>\n",
       "      <td>1618</td>\n",
       "    </tr>\n",
       "    <tr>\n",
       "      <th>hospitality / travel</th>\n",
       "      <td>570</td>\n",
       "      <td>794</td>\n",
       "    </tr>\n",
       "    <tr>\n",
       "      <th>law / legal services</th>\n",
       "      <td>640</td>\n",
       "      <td>741</td>\n",
       "    </tr>\n",
       "    <tr>\n",
       "      <th>medicine / health</th>\n",
       "      <td>2187</td>\n",
       "      <td>1493</td>\n",
       "    </tr>\n",
       "    <tr>\n",
       "      <th>military</th>\n",
       "      <td>22</td>\n",
       "      <td>182</td>\n",
       "    </tr>\n",
       "    <tr>\n",
       "      <th>other</th>\n",
       "      <td>3644</td>\n",
       "      <td>3945</td>\n",
       "    </tr>\n",
       "    <tr>\n",
       "      <th>political / government</th>\n",
       "      <td>310</td>\n",
       "      <td>398</td>\n",
       "    </tr>\n",
       "    <tr>\n",
       "      <th>rather not say</th>\n",
       "      <td>171</td>\n",
       "      <td>265</td>\n",
       "    </tr>\n",
       "    <tr>\n",
       "      <th>retired</th>\n",
       "      <td>106</td>\n",
       "      <td>144</td>\n",
       "    </tr>\n",
       "    <tr>\n",
       "      <th>sales / marketing / biz dev</th>\n",
       "      <td>1916</td>\n",
       "      <td>2475</td>\n",
       "    </tr>\n",
       "    <tr>\n",
       "      <th>science / tech / engineering</th>\n",
       "      <td>1016</td>\n",
       "      <td>3832</td>\n",
       "    </tr>\n",
       "    <tr>\n",
       "      <th>student</th>\n",
       "      <td>2151</td>\n",
       "      <td>2731</td>\n",
       "    </tr>\n",
       "    <tr>\n",
       "      <th>transportation</th>\n",
       "      <td>58</td>\n",
       "      <td>308</td>\n",
       "    </tr>\n",
       "    <tr>\n",
       "      <th>unemployed</th>\n",
       "      <td>113</td>\n",
       "      <td>160</td>\n",
       "    </tr>\n",
       "  </tbody>\n",
       "</table>\n",
       "</div>"
      ],
      "text/plain": [
       "gender                                f     m\n",
       "job                                          \n",
       "artistic / musical / writer        1882  2557\n",
       "banking / financial / real estate   790  1476\n",
       "clerical / administrative           572   233\n",
       "computer / hardware / software      641  4068\n",
       "construction / craftsmanship         81   940\n",
       "education / academia               2155  1358\n",
       "entertainment / media               681  1569\n",
       "executive / management              755  1618\n",
       "hospitality / travel                570   794\n",
       "law / legal services                640   741\n",
       "medicine / health                  2187  1493\n",
       "military                             22   182\n",
       "other                              3644  3945\n",
       "political / government              310   398\n",
       "rather not say                      171   265\n",
       "retired                             106   144\n",
       "sales / marketing / biz dev        1916  2475\n",
       "science / tech / engineering       1016  3832\n",
       "student                            2151  2731\n",
       "transportation                       58   308\n",
       "unemployed                          113   160"
      ]
     },
     "execution_count": 275,
     "metadata": {},
     "output_type": "execute_result"
    }
   ],
   "source": [
    "HH = df.groupby(['job'])['gender'].value_counts().unstack()\n",
    "HH"
   ]
  },
  {
   "cell_type": "markdown",
   "metadata": {
    "scrolled": true
   },
   "source": [
    "Using pd.crosstab function (Google it), make the following counter table, and save it in a new dataframe:"
   ]
  },
  {
   "cell_type": "code",
   "execution_count": 276,
   "metadata": {},
   "outputs": [
    {
     "data": {
      "text/html": [
       "<div>\n",
       "<style scoped>\n",
       "    .dataframe tbody tr th:only-of-type {\n",
       "        vertical-align: middle;\n",
       "    }\n",
       "\n",
       "    .dataframe tbody tr th {\n",
       "        vertical-align: top;\n",
       "    }\n",
       "\n",
       "    .dataframe thead th {\n",
       "        text-align: right;\n",
       "    }\n",
       "</style>\n",
       "<table border=\"1\" class=\"dataframe\">\n",
       "  <thead>\n",
       "    <tr style=\"text-align: right;\">\n",
       "      <th>job</th>\n",
       "      <th>Arts job</th>\n",
       "      <th>Hi-tech jobs</th>\n",
       "      <th>Medical jobs</th>\n",
       "      <th>Money jobs</th>\n",
       "    </tr>\n",
       "    <tr>\n",
       "      <th>gender</th>\n",
       "      <th></th>\n",
       "      <th></th>\n",
       "      <th></th>\n",
       "      <th></th>\n",
       "    </tr>\n",
       "  </thead>\n",
       "  <tbody>\n",
       "    <tr>\n",
       "      <th>f</th>\n",
       "      <td>1882</td>\n",
       "      <td>1657</td>\n",
       "      <td>2187</td>\n",
       "      <td>790</td>\n",
       "    </tr>\n",
       "    <tr>\n",
       "      <th>m</th>\n",
       "      <td>2557</td>\n",
       "      <td>7900</td>\n",
       "      <td>1493</td>\n",
       "      <td>1476</td>\n",
       "    </tr>\n",
       "  </tbody>\n",
       "</table>\n",
       "</div>"
      ],
      "text/plain": [
       "job     Arts job  Hi-tech jobs  Medical jobs  Money jobs\n",
       "gender                                                  \n",
       "f           1882          1657          2187         790\n",
       "m           2557          7900          1493        1476"
      ]
     },
     "execution_count": 276,
     "metadata": {},
     "output_type": "execute_result"
    }
   ],
   "source": [
    "MM = pd.crosstab(df.gender, df.job)\n",
    "MM['Hi-tech jobs'] = MM['science / tech / engineering'] + MM['computer / hardware / software']\n",
    "MM.rename(columns = {'artistic / musical / writer' : 'Arts job','medicine / health' : 'Medical jobs','banking / financial / real estate' : 'Money jobs'}, inplace = True)\n",
    "important_fields = MM[['Arts job', 'Hi-tech jobs', 'Medical jobs', 'Money jobs']]\n",
    "important_fields"
   ]
  },
  {
   "cell_type": "markdown",
   "metadata": {},
   "source": [
    "Check out https://pandas.pydata.org/docs/reference/api/pandas.DataFrame.plot.html, then create the next pie plot:"
   ]
  },
  {
   "cell_type": "code",
   "execution_count": 277,
   "metadata": {},
   "outputs": [
    {
     "data": {
      "text/plain": [
       "array([<AxesSubplot:ylabel='Arts job'>,\n",
       "       <AxesSubplot:ylabel='Hi-tech jobs'>,\n",
       "       <AxesSubplot:ylabel='Medical jobs'>,\n",
       "       <AxesSubplot:ylabel='Money jobs'>], dtype=object)"
      ]
     },
     "execution_count": 277,
     "metadata": {},
     "output_type": "execute_result"
    },
    {
     "data": {
      "image/png": "[encoded data removed]",
      "text/plain": [
       "<Figure size 1500x1100 with 4 Axes>"
      ]
     },
     "metadata": {},
     "output_type": "display_data"
    }
   ],
   "source": [
    "plot = important_fields.plot(kind = 'pie', subplots=True, figsize=(15, 11))\n",
    "plot"
   ]
  },
  {
   "cell_type": "markdown",
   "metadata": {},
   "source": [
    "# Graph 5 \n",
    "Find the unique values of smokes column:\n"
   ]
  },
  {
   "cell_type": "code",
   "execution_count": 278,
   "metadata": {},
   "outputs": [
    {
     "data": {
      "text/plain": [
       "array(['sometimes', 'no', nan, 'when drinking', 'yes', 'trying to quit'],\n",
       "      dtype=object)"
      ]
     },
     "execution_count": 278,
     "metadata": {},
     "output_type": "execute_result"
    }
   ],
   "source": [
    "df['smokes'].unique()"
   ]
  },
  {
   "cell_type": "markdown",
   "metadata": {},
   "source": [
    "Select only the people who has value of 'yes' or 'no', and create the following graph with Facetgrid:"
   ]
  },
  {
   "cell_type": "code",
   "execution_count": 279,
   "metadata": {},
   "outputs": [
    {
     "data": {
      "text/html": [
       "<div>\n",
       "<style scoped>\n",
       "    .dataframe tbody tr th:only-of-type {\n",
       "        vertical-align: middle;\n",
       "    }\n",
       "\n",
       "    .dataframe tbody tr th {\n",
       "        vertical-align: top;\n",
       "    }\n",
       "\n",
       "    .dataframe thead th {\n",
       "        text-align: right;\n",
       "    }\n",
       "</style>\n",
       "<table border=\"1\" class=\"dataframe\">\n",
       "  <thead>\n",
       "    <tr style=\"text-align: right;\">\n",
       "      <th></th>\n",
       "      <th>age</th>\n",
       "      <th>diet</th>\n",
       "      <th>drinks</th>\n",
       "      <th>drugs</th>\n",
       "      <th>education</th>\n",
       "      <th>height</th>\n",
       "      <th>income</th>\n",
       "      <th>job</th>\n",
       "      <th>gender</th>\n",
       "      <th>sign</th>\n",
       "      <th>smokes</th>\n",
       "      <th>speaks</th>\n",
       "      <th>status</th>\n",
       "      <th>languages</th>\n",
       "    </tr>\n",
       "  </thead>\n",
       "  <tbody>\n",
       "    <tr>\n",
       "      <th>10</th>\n",
       "      <td>35</td>\n",
       "      <td>mostly anything</td>\n",
       "      <td>socially</td>\n",
       "      <td>NaN</td>\n",
       "      <td>NaN</td>\n",
       "      <td>177.80</td>\n",
       "      <td>-1</td>\n",
       "      <td>NaN</td>\n",
       "      <td>m</td>\n",
       "      <td>taurus</td>\n",
       "      <td>yes</td>\n",
       "      <td>english</td>\n",
       "      <td>available</td>\n",
       "      <td>1</td>\n",
       "    </tr>\n",
       "    <tr>\n",
       "      <th>90</th>\n",
       "      <td>24</td>\n",
       "      <td>anything</td>\n",
       "      <td>socially</td>\n",
       "      <td>never</td>\n",
       "      <td>graduated from college/university</td>\n",
       "      <td>187.96</td>\n",
       "      <td>-1</td>\n",
       "      <td>sales / marketing / biz dev</td>\n",
       "      <td>m</td>\n",
       "      <td>cancer</td>\n",
       "      <td>yes</td>\n",
       "      <td>english</td>\n",
       "      <td>single</td>\n",
       "      <td>1</td>\n",
       "    </tr>\n",
       "    <tr>\n",
       "      <th>130</th>\n",
       "      <td>30</td>\n",
       "      <td>NaN</td>\n",
       "      <td>socially</td>\n",
       "      <td>sometimes</td>\n",
       "      <td>dropped out of college/university</td>\n",
       "      <td>175.26</td>\n",
       "      <td>-1</td>\n",
       "      <td>NaN</td>\n",
       "      <td>m</td>\n",
       "      <td>gemini but it doesn&amp;rsquo;t matter</td>\n",
       "      <td>yes</td>\n",
       "      <td>english</td>\n",
       "      <td>available</td>\n",
       "      <td>1</td>\n",
       "    </tr>\n",
       "    <tr>\n",
       "      <th>146</th>\n",
       "      <td>28</td>\n",
       "      <td>NaN</td>\n",
       "      <td>desperately</td>\n",
       "      <td>often</td>\n",
       "      <td>NaN</td>\n",
       "      <td>177.80</td>\n",
       "      <td>-1</td>\n",
       "      <td>NaN</td>\n",
       "      <td>m</td>\n",
       "      <td>sagittarius</td>\n",
       "      <td>yes</td>\n",
       "      <td>english</td>\n",
       "      <td>single</td>\n",
       "      <td>1</td>\n",
       "    </tr>\n",
       "    <tr>\n",
       "      <th>224</th>\n",
       "      <td>23</td>\n",
       "      <td>NaN</td>\n",
       "      <td>often</td>\n",
       "      <td>sometimes</td>\n",
       "      <td>working on college/university</td>\n",
       "      <td>157.48</td>\n",
       "      <td>20000</td>\n",
       "      <td>artistic / musical / writer</td>\n",
       "      <td>f</td>\n",
       "      <td>sagittarius and it&amp;rsquo;s fun to think about</td>\n",
       "      <td>yes</td>\n",
       "      <td>english</td>\n",
       "      <td>single</td>\n",
       "      <td>1</td>\n",
       "    </tr>\n",
       "  </tbody>\n",
       "</table>\n",
       "</div>"
      ],
      "text/plain": [
       "     age             diet       drinks      drugs  \\\n",
       "10    35  mostly anything     socially        NaN   \n",
       "90    24         anything     socially      never   \n",
       "130   30              NaN     socially  sometimes   \n",
       "146   28              NaN  desperately      often   \n",
       "224   23              NaN        often  sometimes   \n",
       "\n",
       "                             education  height  income  \\\n",
       "10                                 NaN  177.80      -1   \n",
       "90   graduated from college/university  187.96      -1   \n",
       "130  dropped out of college/university  175.26      -1   \n",
       "146                                NaN  177.80      -1   \n",
       "224      working on college/university  157.48   20000   \n",
       "\n",
       "                             job gender  \\\n",
       "10                           NaN      m   \n",
       "90   sales / marketing / biz dev      m   \n",
       "130                          NaN      m   \n",
       "146                          NaN      m   \n",
       "224  artistic / musical / writer      f   \n",
       "\n",
       "                                              sign smokes   speaks     status  \\\n",
       "10                                          taurus    yes  english  available   \n",
       "90                                          cancer    yes  english     single   \n",
       "130             gemini but it doesn&rsquo;t matter    yes  english  available   \n",
       "146                                    sagittarius    yes  english     single   \n",
       "224  sagittarius and it&rsquo;s fun to think about    yes  english     single   \n",
       "\n",
       "     languages  \n",
       "10           1  \n",
       "90           1  \n",
       "130          1  \n",
       "146          1  \n",
       "224          1  "
      ]
     },
     "execution_count": 279,
     "metadata": {},
     "output_type": "execute_result"
    }
   ],
   "source": [
    "Yes = df.loc[df['smokes'] == 'yes']\n",
    "No = df.loc[df['smokes'] == 'no']\n",
    "new_df = pd.concat([Yes, No]) \n",
    "new_df.head()"
   ]
  },
  {
   "cell_type": "code",
   "execution_count": 280,
   "metadata": {},
   "outputs": [
    {
     "data": {
      "text/plain": [
       "<seaborn.axisgrid.FacetGrid at 0x7fbcf1aee040>"
      ]
     },
     "execution_count": 280,
     "metadata": {},
     "output_type": "execute_result"
    },
    {
     "data": {
      "image/png": "[encoded data removed]",
      "text/plain": [
       "<Figure size 600x600 with 4 Axes>"
      ]
     },
     "metadata": {},
     "output_type": "display_data"
    }
   ],
   "source": [
    "g = sns.FacetGrid(new_df, col='smokes', row = 'gender')\n",
    "g.map(sns.kdeplot, 'age', 'income')"
   ]
  }
 ],
 "metadata": {
  "colab": {
   "name": "OKCupid Pandas.ipynb",
   "provenance": []
  },
  "kernelspec": {
   "display_name": "base",
   "language": "python",
   "name": "python3"
  },
  "language_info": {
   "codemirror_mode": {
    "name": "ipython",
    "version": 3
   },
   "file_extension": ".py",
   "mimetype": "text/x-python",
   "name": "python",
   "nbconvert_exporter": "python",
   "pygments_lexer": "ipython3",
   "version": "3.9.13 (main, Aug 25 2022, 18:29:29) \n[Clang 12.0.0 ]"
  },
  "vscode": {
   "interpreter": {
    "hash": "84e1904c3a97487b685189145e054586fd3ad14c413d2a39eefe70200931c1a6"
   }
  }
 },
 "nbformat": 4,
 "nbformat_minor": 1
}
