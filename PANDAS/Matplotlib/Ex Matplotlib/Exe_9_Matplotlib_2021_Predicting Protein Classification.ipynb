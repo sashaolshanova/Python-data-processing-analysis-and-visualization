{
 "cells": [
  {
   "cell_type": "markdown",
   "metadata": {
    "pycharm": {
     "name": "#%% md\n"
    }
   },
   "source": [
    "# Predicting Protein Classification - Matplotlib"
   ]
  },
  {
   "cell_type": "markdown",
   "metadata": {
    "pycharm": {
     "name": "#%% md\n"
    }
   },
   "source": [
    "**Import Pandas and Numpy**\n"
   ]
  },
  {
   "cell_type": "code",
   "execution_count": 1,
   "metadata": {
    "pycharm": {
     "name": "#%%\n"
    }
   },
   "outputs": [],
   "source": [
    "import pandas as pd\n",
    "import numpy as np\n",
    "import matplotlib.pyplot as plt\n",
    "%matplotlib inline"
   ]
  },
  {
   "cell_type": "markdown",
   "metadata": {
    "pycharm": {
     "name": "#%% md\n"
    }
   },
   "source": [
    "**1. Import Datasets**"
   ]
  },
  {
   "cell_type": "markdown",
   "metadata": {
    "pycharm": {
     "name": "#%% md\n"
    }
   },
   "source": [
    "There are two data files. Both are arranged on \"structureId\" of the protein:\n",
    "\n",
    "pdb_data_no_dups.csv contains protein meta data which includes details on protein classification, extraction methods, etc.\n",
    "\n",
    "pdb_data_seq.csv contains >400,000 protein structure sequences."
   ]
  },
  {
   "cell_type": "code",
   "execution_count": 2,
   "metadata": {
    "pycharm": {
     "name": "#%%\n"
    }
   },
   "outputs": [],
   "source": [
    "df_seq = pd.read_csv(r'C:\\Users\\USER\\Desktop\\Exe_Python_2021\\Exe_6-Pandas\\pdb_data_seq.csv')\n",
    "df_char = pd.read_csv(r'C:\\Users\\USER\\Desktop\\Exe_Python_2021\\Exe_6-Pandas\\pdb_data_no_dups.csv')"
   ]
  },
  {
   "cell_type": "code",
   "execution_count": 3,
   "metadata": {
    "pycharm": {
     "name": "#%%\n"
    }
   },
   "outputs": [
    {
     "data": {
      "text/html": [
       "<div>\n",
       "<style scoped>\n",
       "    .dataframe tbody tr th:only-of-type {\n",
       "        vertical-align: middle;\n",
       "    }\n",
       "\n",
       "    .dataframe tbody tr th {\n",
       "        vertical-align: top;\n",
       "    }\n",
       "\n",
       "    .dataframe thead th {\n",
       "        text-align: right;\n",
       "    }\n",
       "</style>\n",
       "<table border=\"1\" class=\"dataframe\">\n",
       "  <thead>\n",
       "    <tr style=\"text-align: right;\">\n",
       "      <th></th>\n",
       "      <th>structureId</th>\n",
       "      <th>chainId</th>\n",
       "      <th>sequence</th>\n",
       "      <th>residueCount</th>\n",
       "      <th>macromoleculeType</th>\n",
       "    </tr>\n",
       "  </thead>\n",
       "  <tbody>\n",
       "    <tr>\n",
       "      <th>0</th>\n",
       "      <td>100D</td>\n",
       "      <td>A</td>\n",
       "      <td>CCGGCGCCGG</td>\n",
       "      <td>20</td>\n",
       "      <td>DNA/RNA Hybrid</td>\n",
       "    </tr>\n",
       "    <tr>\n",
       "      <th>1</th>\n",
       "      <td>100D</td>\n",
       "      <td>B</td>\n",
       "      <td>CCGGCGCCGG</td>\n",
       "      <td>20</td>\n",
       "      <td>DNA/RNA Hybrid</td>\n",
       "    </tr>\n",
       "    <tr>\n",
       "      <th>2</th>\n",
       "      <td>101D</td>\n",
       "      <td>A</td>\n",
       "      <td>CGCGAATTCGCG</td>\n",
       "      <td>24</td>\n",
       "      <td>DNA</td>\n",
       "    </tr>\n",
       "    <tr>\n",
       "      <th>3</th>\n",
       "      <td>101D</td>\n",
       "      <td>B</td>\n",
       "      <td>CGCGAATTCGCG</td>\n",
       "      <td>24</td>\n",
       "      <td>DNA</td>\n",
       "    </tr>\n",
       "    <tr>\n",
       "      <th>4</th>\n",
       "      <td>101M</td>\n",
       "      <td>A</td>\n",
       "      <td>MVLSEGEWQLVLHVWAKVEADVAGHGQDILIRLFKSHPETLEKFDR...</td>\n",
       "      <td>154</td>\n",
       "      <td>Protein</td>\n",
       "    </tr>\n",
       "  </tbody>\n",
       "</table>\n",
       "</div>"
      ],
      "text/plain": [
       "  structureId chainId                                           sequence  \\\n",
       "0        100D       A                                         CCGGCGCCGG   \n",
       "1        100D       B                                         CCGGCGCCGG   \n",
       "2        101D       A                                       CGCGAATTCGCG   \n",
       "3        101D       B                                       CGCGAATTCGCG   \n",
       "4        101M       A  MVLSEGEWQLVLHVWAKVEADVAGHGQDILIRLFKSHPETLEKFDR...   \n",
       "\n",
       "   residueCount macromoleculeType  \n",
       "0            20    DNA/RNA Hybrid  \n",
       "1            20    DNA/RNA Hybrid  \n",
       "2            24               DNA  \n",
       "3            24               DNA  \n",
       "4           154           Protein  "
      ]
     },
     "execution_count": 3,
     "metadata": {},
     "output_type": "execute_result"
    }
   ],
   "source": [
    "df_seq.head()"
   ]
  },
  {
   "cell_type": "code",
   "execution_count": 4,
   "metadata": {
    "pycharm": {
     "name": "#%%\n"
    }
   },
   "outputs": [
    {
     "data": {
      "text/html": [
       "<div>\n",
       "<style scoped>\n",
       "    .dataframe tbody tr th:only-of-type {\n",
       "        vertical-align: middle;\n",
       "    }\n",
       "\n",
       "    .dataframe tbody tr th {\n",
       "        vertical-align: top;\n",
       "    }\n",
       "\n",
       "    .dataframe thead th {\n",
       "        text-align: right;\n",
       "    }\n",
       "</style>\n",
       "<table border=\"1\" class=\"dataframe\">\n",
       "  <thead>\n",
       "    <tr style=\"text-align: right;\">\n",
       "      <th></th>\n",
       "      <th>structureId</th>\n",
       "      <th>classification</th>\n",
       "      <th>experimentalTechnique</th>\n",
       "      <th>macromoleculeType</th>\n",
       "      <th>residueCount</th>\n",
       "      <th>resolution</th>\n",
       "      <th>structureMolecularWeight</th>\n",
       "      <th>crystallizationMethod</th>\n",
       "      <th>crystallizationTempK</th>\n",
       "      <th>densityMatthews</th>\n",
       "      <th>densityPercentSol</th>\n",
       "      <th>pdbxDetails</th>\n",
       "      <th>phValue</th>\n",
       "      <th>publicationYear</th>\n",
       "    </tr>\n",
       "  </thead>\n",
       "  <tbody>\n",
       "    <tr>\n",
       "      <th>0</th>\n",
       "      <td>100D</td>\n",
       "      <td>DNA-RNA HYBRID</td>\n",
       "      <td>X-RAY DIFFRACTION</td>\n",
       "      <td>DNA/RNA Hybrid</td>\n",
       "      <td>20</td>\n",
       "      <td>1.90</td>\n",
       "      <td>6360.30</td>\n",
       "      <td>VAPOR DIFFUSION, HANGING DROP</td>\n",
       "      <td>NaN</td>\n",
       "      <td>1.78</td>\n",
       "      <td>30.89</td>\n",
       "      <td>pH 7.00, VAPOR DIFFUSION, HANGING DROP</td>\n",
       "      <td>7.0</td>\n",
       "      <td>1994.0</td>\n",
       "    </tr>\n",
       "    <tr>\n",
       "      <th>1</th>\n",
       "      <td>101D</td>\n",
       "      <td>DNA</td>\n",
       "      <td>X-RAY DIFFRACTION</td>\n",
       "      <td>DNA</td>\n",
       "      <td>24</td>\n",
       "      <td>2.25</td>\n",
       "      <td>7939.35</td>\n",
       "      <td>NaN</td>\n",
       "      <td>NaN</td>\n",
       "      <td>2.00</td>\n",
       "      <td>38.45</td>\n",
       "      <td>NaN</td>\n",
       "      <td>NaN</td>\n",
       "      <td>1995.0</td>\n",
       "    </tr>\n",
       "    <tr>\n",
       "      <th>2</th>\n",
       "      <td>101M</td>\n",
       "      <td>OXYGEN TRANSPORT</td>\n",
       "      <td>X-RAY DIFFRACTION</td>\n",
       "      <td>Protein</td>\n",
       "      <td>154</td>\n",
       "      <td>2.07</td>\n",
       "      <td>18112.80</td>\n",
       "      <td>NaN</td>\n",
       "      <td>NaN</td>\n",
       "      <td>3.09</td>\n",
       "      <td>60.20</td>\n",
       "      <td>3.0 M AMMONIUM SULFATE, 20 MM TRIS, 1MM EDTA, ...</td>\n",
       "      <td>9.0</td>\n",
       "      <td>1999.0</td>\n",
       "    </tr>\n",
       "    <tr>\n",
       "      <th>3</th>\n",
       "      <td>102D</td>\n",
       "      <td>DNA</td>\n",
       "      <td>X-RAY DIFFRACTION</td>\n",
       "      <td>DNA</td>\n",
       "      <td>24</td>\n",
       "      <td>2.20</td>\n",
       "      <td>7637.17</td>\n",
       "      <td>VAPOR DIFFUSION, SITTING DROP</td>\n",
       "      <td>277.0</td>\n",
       "      <td>2.28</td>\n",
       "      <td>46.06</td>\n",
       "      <td>pH 7.00, VAPOR DIFFUSION, SITTING DROP, temper...</td>\n",
       "      <td>7.0</td>\n",
       "      <td>1995.0</td>\n",
       "    </tr>\n",
       "    <tr>\n",
       "      <th>4</th>\n",
       "      <td>102L</td>\n",
       "      <td>HYDROLASE(O-GLYCOSYL)</td>\n",
       "      <td>X-RAY DIFFRACTION</td>\n",
       "      <td>Protein</td>\n",
       "      <td>165</td>\n",
       "      <td>1.74</td>\n",
       "      <td>18926.61</td>\n",
       "      <td>NaN</td>\n",
       "      <td>NaN</td>\n",
       "      <td>2.75</td>\n",
       "      <td>55.28</td>\n",
       "      <td>NaN</td>\n",
       "      <td>NaN</td>\n",
       "      <td>1993.0</td>\n",
       "    </tr>\n",
       "  </tbody>\n",
       "</table>\n",
       "</div>"
      ],
      "text/plain": [
       "  structureId         classification experimentalTechnique macromoleculeType  \\\n",
       "0        100D         DNA-RNA HYBRID     X-RAY DIFFRACTION    DNA/RNA Hybrid   \n",
       "1        101D                    DNA     X-RAY DIFFRACTION               DNA   \n",
       "2        101M       OXYGEN TRANSPORT     X-RAY DIFFRACTION           Protein   \n",
       "3        102D                    DNA     X-RAY DIFFRACTION               DNA   \n",
       "4        102L  HYDROLASE(O-GLYCOSYL)     X-RAY DIFFRACTION           Protein   \n",
       "\n",
       "   residueCount  resolution  structureMolecularWeight  \\\n",
       "0            20        1.90                   6360.30   \n",
       "1            24        2.25                   7939.35   \n",
       "2           154        2.07                  18112.80   \n",
       "3            24        2.20                   7637.17   \n",
       "4           165        1.74                  18926.61   \n",
       "\n",
       "           crystallizationMethod  crystallizationTempK  densityMatthews  \\\n",
       "0  VAPOR DIFFUSION, HANGING DROP                   NaN             1.78   \n",
       "1                            NaN                   NaN             2.00   \n",
       "2                            NaN                   NaN             3.09   \n",
       "3  VAPOR DIFFUSION, SITTING DROP                 277.0             2.28   \n",
       "4                            NaN                   NaN             2.75   \n",
       "\n",
       "   densityPercentSol                                        pdbxDetails  \\\n",
       "0              30.89             pH 7.00, VAPOR DIFFUSION, HANGING DROP   \n",
       "1              38.45                                                NaN   \n",
       "2              60.20  3.0 M AMMONIUM SULFATE, 20 MM TRIS, 1MM EDTA, ...   \n",
       "3              46.06  pH 7.00, VAPOR DIFFUSION, SITTING DROP, temper...   \n",
       "4              55.28                                                NaN   \n",
       "\n",
       "   phValue  publicationYear  \n",
       "0      7.0           1994.0  \n",
       "1      NaN           1995.0  \n",
       "2      9.0           1999.0  \n",
       "3      7.0           1995.0  \n",
       "4      NaN           1993.0  "
      ]
     },
     "execution_count": 4,
     "metadata": {},
     "output_type": "execute_result"
    }
   ],
   "source": [
    "df_char.head()"
   ]
  },
  {
   "cell_type": "markdown",
   "metadata": {
    "pycharm": {
     "name": "#%% md\n"
    }
   },
   "source": [
    "### Variable Description\n",
    "\n",
    "*structureId:* identity of the structure\n",
    "\n",
    "*classification:* classification type\n",
    "\n",
    "*experimentalTechnique:* technique of experiment\n",
    "\n",
    "*macromoleculeType:* type of macromolecule\n",
    "\n",
    "*residueCount:* number of residue\n",
    "\n",
    "*resolution:* amount of resolution\n",
    "\n",
    "*structureMolecularWeight:* molecular weight\n",
    "\n",
    "*crystallizationMethod:* method of crystallization\n",
    "\n",
    "*crystallizationTempK:* crystallization temperature in Kelvin\n",
    "\n",
    "*densityMatthews:* crystalline density\n",
    "\n",
    "*densityPercentSol:* resolution ratio by density\n",
    "\n",
    "*pdbxDetails:* detail about row\n",
    "\n",
    "*phValue:* PH value\n",
    "\n",
    "*publicationYear:* published year\n"
   ]
  },
  {
   "cell_type": "markdown",
   "metadata": {
    "pycharm": {
     "name": "#%% md\n"
    }
   },
   "source": [
    "**2. Filter and Process Data**"
   ]
  },
  {
   "cell_type": "code",
   "execution_count": 5,
   "metadata": {
    "pycharm": {
     "name": "#%%\n"
    }
   },
   "outputs": [],
   "source": [
    "# Filter for only proteins\n",
    "protein_char = df_char[df_char.macromoleculeType == 'Protein']\n",
    "protein_seq = df_seq[df_seq.macromoleculeType == 'Protein']"
   ]
  },
  {
   "cell_type": "code",
   "execution_count": 6,
   "metadata": {
    "pycharm": {
     "name": "#%%\n"
    }
   },
   "outputs": [
    {
     "data": {
      "text/html": [
       "<div>\n",
       "<style scoped>\n",
       "    .dataframe tbody tr th:only-of-type {\n",
       "        vertical-align: middle;\n",
       "    }\n",
       "\n",
       "    .dataframe tbody tr th {\n",
       "        vertical-align: top;\n",
       "    }\n",
       "\n",
       "    .dataframe thead th {\n",
       "        text-align: right;\n",
       "    }\n",
       "</style>\n",
       "<table border=\"1\" class=\"dataframe\">\n",
       "  <thead>\n",
       "    <tr style=\"text-align: right;\">\n",
       "      <th></th>\n",
       "      <th>structureId</th>\n",
       "      <th>classification</th>\n",
       "      <th>experimentalTechnique</th>\n",
       "      <th>macromoleculeType</th>\n",
       "      <th>residueCount</th>\n",
       "      <th>resolution</th>\n",
       "      <th>structureMolecularWeight</th>\n",
       "      <th>crystallizationMethod</th>\n",
       "      <th>crystallizationTempK</th>\n",
       "      <th>densityMatthews</th>\n",
       "      <th>densityPercentSol</th>\n",
       "      <th>pdbxDetails</th>\n",
       "      <th>phValue</th>\n",
       "      <th>publicationYear</th>\n",
       "    </tr>\n",
       "  </thead>\n",
       "  <tbody>\n",
       "    <tr>\n",
       "      <th>2</th>\n",
       "      <td>101M</td>\n",
       "      <td>OXYGEN TRANSPORT</td>\n",
       "      <td>X-RAY DIFFRACTION</td>\n",
       "      <td>Protein</td>\n",
       "      <td>154</td>\n",
       "      <td>2.07</td>\n",
       "      <td>18112.80</td>\n",
       "      <td>NaN</td>\n",
       "      <td>NaN</td>\n",
       "      <td>3.09</td>\n",
       "      <td>60.20</td>\n",
       "      <td>3.0 M AMMONIUM SULFATE, 20 MM TRIS, 1MM EDTA, ...</td>\n",
       "      <td>9.0</td>\n",
       "      <td>1999.0</td>\n",
       "    </tr>\n",
       "    <tr>\n",
       "      <th>4</th>\n",
       "      <td>102L</td>\n",
       "      <td>HYDROLASE(O-GLYCOSYL)</td>\n",
       "      <td>X-RAY DIFFRACTION</td>\n",
       "      <td>Protein</td>\n",
       "      <td>165</td>\n",
       "      <td>1.74</td>\n",
       "      <td>18926.61</td>\n",
       "      <td>NaN</td>\n",
       "      <td>NaN</td>\n",
       "      <td>2.75</td>\n",
       "      <td>55.28</td>\n",
       "      <td>NaN</td>\n",
       "      <td>NaN</td>\n",
       "      <td>1993.0</td>\n",
       "    </tr>\n",
       "    <tr>\n",
       "      <th>5</th>\n",
       "      <td>102M</td>\n",
       "      <td>OXYGEN TRANSPORT</td>\n",
       "      <td>X-RAY DIFFRACTION</td>\n",
       "      <td>Protein</td>\n",
       "      <td>154</td>\n",
       "      <td>1.84</td>\n",
       "      <td>18010.64</td>\n",
       "      <td>NaN</td>\n",
       "      <td>NaN</td>\n",
       "      <td>3.09</td>\n",
       "      <td>60.20</td>\n",
       "      <td>3.0 M AMMONIUM SULFATE, 20 MM TRIS, 1MM EDTA, ...</td>\n",
       "      <td>9.0</td>\n",
       "      <td>1999.0</td>\n",
       "    </tr>\n",
       "    <tr>\n",
       "      <th>7</th>\n",
       "      <td>103L</td>\n",
       "      <td>HYDROLASE(O-GLYCOSYL)</td>\n",
       "      <td>X-RAY DIFFRACTION</td>\n",
       "      <td>Protein</td>\n",
       "      <td>167</td>\n",
       "      <td>1.90</td>\n",
       "      <td>19092.72</td>\n",
       "      <td>NaN</td>\n",
       "      <td>NaN</td>\n",
       "      <td>2.70</td>\n",
       "      <td>54.46</td>\n",
       "      <td>NaN</td>\n",
       "      <td>NaN</td>\n",
       "      <td>1993.0</td>\n",
       "    </tr>\n",
       "    <tr>\n",
       "      <th>8</th>\n",
       "      <td>103M</td>\n",
       "      <td>OXYGEN TRANSPORT</td>\n",
       "      <td>X-RAY DIFFRACTION</td>\n",
       "      <td>Protein</td>\n",
       "      <td>154</td>\n",
       "      <td>2.07</td>\n",
       "      <td>18093.78</td>\n",
       "      <td>NaN</td>\n",
       "      <td>NaN</td>\n",
       "      <td>3.09</td>\n",
       "      <td>60.30</td>\n",
       "      <td>3.0 M AMMONIUM SULFATE, 20 MM TRIS, 1MM EDTA, ...</td>\n",
       "      <td>9.0</td>\n",
       "      <td>1999.0</td>\n",
       "    </tr>\n",
       "  </tbody>\n",
       "</table>\n",
       "</div>"
      ],
      "text/plain": [
       "  structureId         classification experimentalTechnique macromoleculeType  \\\n",
       "2        101M       OXYGEN TRANSPORT     X-RAY DIFFRACTION           Protein   \n",
       "4        102L  HYDROLASE(O-GLYCOSYL)     X-RAY DIFFRACTION           Protein   \n",
       "5        102M       OXYGEN TRANSPORT     X-RAY DIFFRACTION           Protein   \n",
       "7        103L  HYDROLASE(O-GLYCOSYL)     X-RAY DIFFRACTION           Protein   \n",
       "8        103M       OXYGEN TRANSPORT     X-RAY DIFFRACTION           Protein   \n",
       "\n",
       "   residueCount  resolution  structureMolecularWeight crystallizationMethod  \\\n",
       "2           154        2.07                  18112.80                   NaN   \n",
       "4           165        1.74                  18926.61                   NaN   \n",
       "5           154        1.84                  18010.64                   NaN   \n",
       "7           167        1.90                  19092.72                   NaN   \n",
       "8           154        2.07                  18093.78                   NaN   \n",
       "\n",
       "   crystallizationTempK  densityMatthews  densityPercentSol  \\\n",
       "2                   NaN             3.09              60.20   \n",
       "4                   NaN             2.75              55.28   \n",
       "5                   NaN             3.09              60.20   \n",
       "7                   NaN             2.70              54.46   \n",
       "8                   NaN             3.09              60.30   \n",
       "\n",
       "                                         pdbxDetails  phValue  publicationYear  \n",
       "2  3.0 M AMMONIUM SULFATE, 20 MM TRIS, 1MM EDTA, ...      9.0           1999.0  \n",
       "4                                                NaN      NaN           1993.0  \n",
       "5  3.0 M AMMONIUM SULFATE, 20 MM TRIS, 1MM EDTA, ...      9.0           1999.0  \n",
       "7                                                NaN      NaN           1993.0  \n",
       "8  3.0 M AMMONIUM SULFATE, 20 MM TRIS, 1MM EDTA, ...      9.0           1999.0  "
      ]
     },
     "execution_count": 6,
     "metadata": {},
     "output_type": "execute_result"
    }
   ],
   "source": [
    "protein_char.head()"
   ]
  },
  {
   "cell_type": "code",
   "execution_count": 7,
   "metadata": {
    "pycharm": {
     "name": "#%%\n"
    }
   },
   "outputs": [
    {
     "data": {
      "text/html": [
       "<div>\n",
       "<style scoped>\n",
       "    .dataframe tbody tr th:only-of-type {\n",
       "        vertical-align: middle;\n",
       "    }\n",
       "\n",
       "    .dataframe tbody tr th {\n",
       "        vertical-align: top;\n",
       "    }\n",
       "\n",
       "    .dataframe thead th {\n",
       "        text-align: right;\n",
       "    }\n",
       "</style>\n",
       "<table border=\"1\" class=\"dataframe\">\n",
       "  <thead>\n",
       "    <tr style=\"text-align: right;\">\n",
       "      <th></th>\n",
       "      <th>structureId</th>\n",
       "      <th>chainId</th>\n",
       "      <th>sequence</th>\n",
       "      <th>residueCount</th>\n",
       "      <th>macromoleculeType</th>\n",
       "    </tr>\n",
       "  </thead>\n",
       "  <tbody>\n",
       "    <tr>\n",
       "      <th>4</th>\n",
       "      <td>101M</td>\n",
       "      <td>A</td>\n",
       "      <td>MVLSEGEWQLVLHVWAKVEADVAGHGQDILIRLFKSHPETLEKFDR...</td>\n",
       "      <td>154</td>\n",
       "      <td>Protein</td>\n",
       "    </tr>\n",
       "    <tr>\n",
       "      <th>7</th>\n",
       "      <td>102L</td>\n",
       "      <td>A</td>\n",
       "      <td>MNIFEMLRIDEGLRLKIYKDTEGYYTIGIGHLLTKSPSLNAAAKSE...</td>\n",
       "      <td>165</td>\n",
       "      <td>Protein</td>\n",
       "    </tr>\n",
       "    <tr>\n",
       "      <th>8</th>\n",
       "      <td>102M</td>\n",
       "      <td>A</td>\n",
       "      <td>MVLSEGEWQLVLHVWAKVEADVAGHGQDILIRLFKSHPETLEKFDR...</td>\n",
       "      <td>154</td>\n",
       "      <td>Protein</td>\n",
       "    </tr>\n",
       "    <tr>\n",
       "      <th>11</th>\n",
       "      <td>103L</td>\n",
       "      <td>A</td>\n",
       "      <td>MNIFEMLRIDEGLRLKIYKDTEGYYTIGIGHLLTKSPSLNSLDAAK...</td>\n",
       "      <td>167</td>\n",
       "      <td>Protein</td>\n",
       "    </tr>\n",
       "    <tr>\n",
       "      <th>12</th>\n",
       "      <td>103M</td>\n",
       "      <td>A</td>\n",
       "      <td>MVLSEGEWQLVLHVWAKVEADVAGHGQDILIRLFKSHPETLEKFDR...</td>\n",
       "      <td>154</td>\n",
       "      <td>Protein</td>\n",
       "    </tr>\n",
       "  </tbody>\n",
       "</table>\n",
       "</div>"
      ],
      "text/plain": [
       "   structureId chainId                                           sequence  \\\n",
       "4         101M       A  MVLSEGEWQLVLHVWAKVEADVAGHGQDILIRLFKSHPETLEKFDR...   \n",
       "7         102L       A  MNIFEMLRIDEGLRLKIYKDTEGYYTIGIGHLLTKSPSLNAAAKSE...   \n",
       "8         102M       A  MVLSEGEWQLVLHVWAKVEADVAGHGQDILIRLFKSHPETLEKFDR...   \n",
       "11        103L       A  MNIFEMLRIDEGLRLKIYKDTEGYYTIGIGHLLTKSPSLNSLDAAK...   \n",
       "12        103M       A  MVLSEGEWQLVLHVWAKVEADVAGHGQDILIRLFKSHPETLEKFDR...   \n",
       "\n",
       "    residueCount macromoleculeType  \n",
       "4            154           Protein  \n",
       "7            165           Protein  \n",
       "8            154           Protein  \n",
       "11           167           Protein  \n",
       "12           154           Protein  "
      ]
     },
     "execution_count": 7,
     "metadata": {},
     "output_type": "execute_result"
    }
   ],
   "source": [
    "protein_seq.head()"
   ]
  },
  {
   "cell_type": "code",
   "execution_count": 8,
   "metadata": {
    "pycharm": {
     "name": "#%%\n"
    }
   },
   "outputs": [
    {
     "data": {
      "text/html": [
       "<div>\n",
       "<style scoped>\n",
       "    .dataframe tbody tr th:only-of-type {\n",
       "        vertical-align: middle;\n",
       "    }\n",
       "\n",
       "    .dataframe tbody tr th {\n",
       "        vertical-align: top;\n",
       "    }\n",
       "\n",
       "    .dataframe thead th {\n",
       "        text-align: right;\n",
       "    }\n",
       "</style>\n",
       "<table border=\"1\" class=\"dataframe\">\n",
       "  <thead>\n",
       "    <tr style=\"text-align: right;\">\n",
       "      <th></th>\n",
       "      <th>count</th>\n",
       "      <th>mean</th>\n",
       "      <th>std</th>\n",
       "      <th>min</th>\n",
       "      <th>25%</th>\n",
       "      <th>50%</th>\n",
       "      <th>75%</th>\n",
       "      <th>max</th>\n",
       "    </tr>\n",
       "  </thead>\n",
       "  <tbody>\n",
       "    <tr>\n",
       "      <th>residueCount</th>\n",
       "      <td>345180.0</td>\n",
       "      <td>4717.870508</td>\n",
       "      <td>26527.126728</td>\n",
       "      <td>3.0</td>\n",
       "      <td>398.0</td>\n",
       "      <td>856.0</td>\n",
       "      <td>1976.0</td>\n",
       "      <td>313236.0</td>\n",
       "    </tr>\n",
       "  </tbody>\n",
       "</table>\n",
       "</div>"
      ],
      "text/plain": [
       "                 count         mean           std  min    25%    50%     75%  \\\n",
       "residueCount  345180.0  4717.870508  26527.126728  3.0  398.0  856.0  1976.0   \n",
       "\n",
       "                   max  \n",
       "residueCount  313236.0  "
      ]
     },
     "execution_count": 8,
     "metadata": {},
     "output_type": "execute_result"
    }
   ],
   "source": [
    "protein_seq.describe().T"
   ]
  },
  {
   "cell_type": "code",
   "execution_count": 9,
   "metadata": {
    "pycharm": {
     "name": "#%%\n"
    }
   },
   "outputs": [
    {
     "data": {
      "text/plain": [
       "Index(['structureId', 'classification', 'experimentalTechnique',\n",
       "       'macromoleculeType', 'residueCount', 'resolution',\n",
       "       'structureMolecularWeight', 'crystallizationMethod',\n",
       "       'crystallizationTempK', 'densityMatthews', 'densityPercentSol',\n",
       "       'pdbxDetails', 'phValue', 'publicationYear'],\n",
       "      dtype='object')"
      ]
     },
     "execution_count": 9,
     "metadata": {},
     "output_type": "execute_result"
    }
   ],
   "source": [
    "protein_char.columns"
   ]
  },
  {
   "cell_type": "code",
   "execution_count": 10,
   "metadata": {
    "pycharm": {
     "name": "#%%\n"
    }
   },
   "outputs": [
    {
     "data": {
      "text/html": [
       "<div>\n",
       "<style scoped>\n",
       "    .dataframe tbody tr th:only-of-type {\n",
       "        vertical-align: middle;\n",
       "    }\n",
       "\n",
       "    .dataframe tbody tr th {\n",
       "        vertical-align: top;\n",
       "    }\n",
       "\n",
       "    .dataframe thead th {\n",
       "        text-align: right;\n",
       "    }\n",
       "</style>\n",
       "<table border=\"1\" class=\"dataframe\">\n",
       "  <thead>\n",
       "    <tr style=\"text-align: right;\">\n",
       "      <th></th>\n",
       "      <th>count</th>\n",
       "      <th>mean</th>\n",
       "      <th>std</th>\n",
       "      <th>min</th>\n",
       "      <th>25%</th>\n",
       "      <th>50%</th>\n",
       "      <th>75%</th>\n",
       "      <th>max</th>\n",
       "    </tr>\n",
       "  </thead>\n",
       "  <tbody>\n",
       "    <tr>\n",
       "      <th>residueCount</th>\n",
       "      <td>127798.0</td>\n",
       "      <td>721.049046</td>\n",
       "      <td>1741.791584</td>\n",
       "      <td>3.00</td>\n",
       "      <td>237.00</td>\n",
       "      <td>416.00</td>\n",
       "      <td>800.000</td>\n",
       "      <td>313236.00</td>\n",
       "    </tr>\n",
       "    <tr>\n",
       "      <th>resolution</th>\n",
       "      <td>117008.0</td>\n",
       "      <td>2.208678</td>\n",
       "      <td>1.339638</td>\n",
       "      <td>0.48</td>\n",
       "      <td>1.78</td>\n",
       "      <td>2.04</td>\n",
       "      <td>2.490</td>\n",
       "      <td>70.00</td>\n",
       "    </tr>\n",
       "    <tr>\n",
       "      <th>structureMolecularWeight</th>\n",
       "      <td>127798.0</td>\n",
       "      <td>89558.480262</td>\n",
       "      <td>469048.523022</td>\n",
       "      <td>453.55</td>\n",
       "      <td>26724.29</td>\n",
       "      <td>47060.00</td>\n",
       "      <td>91024.045</td>\n",
       "      <td>97730536.00</td>\n",
       "    </tr>\n",
       "    <tr>\n",
       "      <th>crystallizationTempK</th>\n",
       "      <td>88638.0</td>\n",
       "      <td>291.000731</td>\n",
       "      <td>8.764264</td>\n",
       "      <td>4.00</td>\n",
       "      <td>290.00</td>\n",
       "      <td>293.00</td>\n",
       "      <td>295.000</td>\n",
       "      <td>398.00</td>\n",
       "    </tr>\n",
       "    <tr>\n",
       "      <th>densityMatthews</th>\n",
       "      <td>114341.0</td>\n",
       "      <td>2.652620</td>\n",
       "      <td>0.687323</td>\n",
       "      <td>0.00</td>\n",
       "      <td>2.21</td>\n",
       "      <td>2.48</td>\n",
       "      <td>2.890</td>\n",
       "      <td>13.89</td>\n",
       "    </tr>\n",
       "    <tr>\n",
       "      <th>densityPercentSol</th>\n",
       "      <td>114362.0</td>\n",
       "      <td>51.113914</td>\n",
       "      <td>10.011235</td>\n",
       "      <td>0.00</td>\n",
       "      <td>44.16</td>\n",
       "      <td>50.20</td>\n",
       "      <td>57.320</td>\n",
       "      <td>92.00</td>\n",
       "    </tr>\n",
       "    <tr>\n",
       "      <th>phValue</th>\n",
       "      <td>95902.0</td>\n",
       "      <td>6.786939</td>\n",
       "      <td>1.307179</td>\n",
       "      <td>0.00</td>\n",
       "      <td>6.00</td>\n",
       "      <td>7.00</td>\n",
       "      <td>7.500</td>\n",
       "      <td>100.00</td>\n",
       "    </tr>\n",
       "    <tr>\n",
       "      <th>publicationYear</th>\n",
       "      <td>105931.0</td>\n",
       "      <td>2009.044746</td>\n",
       "      <td>8.521400</td>\n",
       "      <td>201.00</td>\n",
       "      <td>2005.00</td>\n",
       "      <td>2010.00</td>\n",
       "      <td>2014.000</td>\n",
       "      <td>2018.00</td>\n",
       "    </tr>\n",
       "  </tbody>\n",
       "</table>\n",
       "</div>"
      ],
      "text/plain": [
       "                             count          mean            std     min  \\\n",
       "residueCount              127798.0    721.049046    1741.791584    3.00   \n",
       "resolution                117008.0      2.208678       1.339638    0.48   \n",
       "structureMolecularWeight  127798.0  89558.480262  469048.523022  453.55   \n",
       "crystallizationTempK       88638.0    291.000731       8.764264    4.00   \n",
       "densityMatthews           114341.0      2.652620       0.687323    0.00   \n",
       "densityPercentSol         114362.0     51.113914      10.011235    0.00   \n",
       "phValue                    95902.0      6.786939       1.307179    0.00   \n",
       "publicationYear           105931.0   2009.044746       8.521400  201.00   \n",
       "\n",
       "                               25%       50%        75%          max  \n",
       "residueCount                237.00    416.00    800.000    313236.00  \n",
       "resolution                    1.78      2.04      2.490        70.00  \n",
       "structureMolecularWeight  26724.29  47060.00  91024.045  97730536.00  \n",
       "crystallizationTempK        290.00    293.00    295.000       398.00  \n",
       "densityMatthews               2.21      2.48      2.890        13.89  \n",
       "densityPercentSol            44.16     50.20     57.320        92.00  \n",
       "phValue                       6.00      7.00      7.500       100.00  \n",
       "publicationYear            2005.00   2010.00   2014.000      2018.00  "
      ]
     },
     "execution_count": 10,
     "metadata": {},
     "output_type": "execute_result"
    }
   ],
   "source": [
    "protein_char.describe().T"
   ]
  },
  {
   "cell_type": "markdown",
   "metadata": {
    "pycharm": {
     "name": "#%% md\n"
    }
   },
   "source": [
    "when we look this describe table phValue must be 0-14 but there is max value 100.\n",
    "\n",
    "publicationYear has a value of 201, which is unlikely."
   ]
  },
  {
   "cell_type": "code",
   "execution_count": 15,
   "metadata": {
    "pycharm": {
     "name": "#%%\n"
    }
   },
   "outputs": [],
   "source": [
    "protein_char.loc[protein_char.publicationYear==201.0]=np.nan"
   ]
  },
  {
   "cell_type": "code",
   "execution_count": 16,
   "metadata": {
    "pycharm": {
     "name": "#%%\n"
    }
   },
   "outputs": [],
   "source": [
    "protein_char.loc[protein_char.phValue>14]=np.nan"
   ]
  },
  {
   "cell_type": "markdown",
   "metadata": {
    "pycharm": {
     "name": "#%% md\n"
    }
   },
   "source": [
    "We will check that the dataframe has been updated:"
   ]
  },
  {
   "cell_type": "code",
   "execution_count": 18,
   "metadata": {
    "pycharm": {
     "name": "#%%\n"
    }
   },
   "outputs": [
    {
     "data": {
      "text/html": [
       "<div>\n",
       "<style scoped>\n",
       "    .dataframe tbody tr th:only-of-type {\n",
       "        vertical-align: middle;\n",
       "    }\n",
       "\n",
       "    .dataframe tbody tr th {\n",
       "        vertical-align: top;\n",
       "    }\n",
       "\n",
       "    .dataframe thead th {\n",
       "        text-align: right;\n",
       "    }\n",
       "</style>\n",
       "<table border=\"1\" class=\"dataframe\">\n",
       "  <thead>\n",
       "    <tr style=\"text-align: right;\">\n",
       "      <th></th>\n",
       "      <th>count</th>\n",
       "      <th>mean</th>\n",
       "      <th>std</th>\n",
       "      <th>min</th>\n",
       "      <th>25%</th>\n",
       "      <th>50%</th>\n",
       "      <th>75%</th>\n",
       "      <th>max</th>\n",
       "    </tr>\n",
       "  </thead>\n",
       "  <tbody>\n",
       "    <tr>\n",
       "      <th>residueCount</th>\n",
       "      <td>127796.0</td>\n",
       "      <td>721.054274</td>\n",
       "      <td>1741.804493</td>\n",
       "      <td>3.00</td>\n",
       "      <td>237.00</td>\n",
       "      <td>416.00</td>\n",
       "      <td>800.00</td>\n",
       "      <td>313236.00</td>\n",
       "    </tr>\n",
       "    <tr>\n",
       "      <th>resolution</th>\n",
       "      <td>117007.0</td>\n",
       "      <td>2.208683</td>\n",
       "      <td>1.339642</td>\n",
       "      <td>0.48</td>\n",
       "      <td>1.78</td>\n",
       "      <td>2.04</td>\n",
       "      <td>2.49</td>\n",
       "      <td>70.00</td>\n",
       "    </tr>\n",
       "    <tr>\n",
       "      <th>structureMolecularWeight</th>\n",
       "      <td>127796.0</td>\n",
       "      <td>89559.201609</td>\n",
       "      <td>469052.147475</td>\n",
       "      <td>453.55</td>\n",
       "      <td>26726.39</td>\n",
       "      <td>47060.00</td>\n",
       "      <td>91024.90</td>\n",
       "      <td>97730536.00</td>\n",
       "    </tr>\n",
       "    <tr>\n",
       "      <th>crystallizationTempK</th>\n",
       "      <td>88637.0</td>\n",
       "      <td>291.000652</td>\n",
       "      <td>8.764282</td>\n",
       "      <td>4.00</td>\n",
       "      <td>290.00</td>\n",
       "      <td>293.00</td>\n",
       "      <td>295.00</td>\n",
       "      <td>398.00</td>\n",
       "    </tr>\n",
       "    <tr>\n",
       "      <th>densityMatthews</th>\n",
       "      <td>114340.0</td>\n",
       "      <td>2.652625</td>\n",
       "      <td>0.687324</td>\n",
       "      <td>0.00</td>\n",
       "      <td>2.21</td>\n",
       "      <td>2.48</td>\n",
       "      <td>2.89</td>\n",
       "      <td>13.89</td>\n",
       "    </tr>\n",
       "    <tr>\n",
       "      <th>densityPercentSol</th>\n",
       "      <td>114361.0</td>\n",
       "      <td>51.113993</td>\n",
       "      <td>10.011243</td>\n",
       "      <td>0.00</td>\n",
       "      <td>44.16</td>\n",
       "      <td>50.20</td>\n",
       "      <td>57.32</td>\n",
       "      <td>92.00</td>\n",
       "    </tr>\n",
       "    <tr>\n",
       "      <th>phValue</th>\n",
       "      <td>95901.0</td>\n",
       "      <td>6.785967</td>\n",
       "      <td>1.272059</td>\n",
       "      <td>0.00</td>\n",
       "      <td>6.00</td>\n",
       "      <td>7.00</td>\n",
       "      <td>7.50</td>\n",
       "      <td>12.00</td>\n",
       "    </tr>\n",
       "    <tr>\n",
       "      <th>publicationYear</th>\n",
       "      <td>105929.0</td>\n",
       "      <td>2009.061758</td>\n",
       "      <td>6.461747</td>\n",
       "      <td>1969.00</td>\n",
       "      <td>2005.00</td>\n",
       "      <td>2010.00</td>\n",
       "      <td>2014.00</td>\n",
       "      <td>2018.00</td>\n",
       "    </tr>\n",
       "  </tbody>\n",
       "</table>\n",
       "</div>"
      ],
      "text/plain": [
       "                             count          mean            std      min  \\\n",
       "residueCount              127796.0    721.054274    1741.804493     3.00   \n",
       "resolution                117007.0      2.208683       1.339642     0.48   \n",
       "structureMolecularWeight  127796.0  89559.201609  469052.147475   453.55   \n",
       "crystallizationTempK       88637.0    291.000652       8.764282     4.00   \n",
       "densityMatthews           114340.0      2.652625       0.687324     0.00   \n",
       "densityPercentSol         114361.0     51.113993      10.011243     0.00   \n",
       "phValue                    95901.0      6.785967       1.272059     0.00   \n",
       "publicationYear           105929.0   2009.061758       6.461747  1969.00   \n",
       "\n",
       "                               25%       50%       75%          max  \n",
       "residueCount                237.00    416.00    800.00    313236.00  \n",
       "resolution                    1.78      2.04      2.49        70.00  \n",
       "structureMolecularWeight  26726.39  47060.00  91024.90  97730536.00  \n",
       "crystallizationTempK        290.00    293.00    295.00       398.00  \n",
       "densityMatthews               2.21      2.48      2.89        13.89  \n",
       "densityPercentSol            44.16     50.20     57.32        92.00  \n",
       "phValue                       6.00      7.00      7.50        12.00  \n",
       "publicationYear            2005.00   2010.00   2014.00      2018.00  "
      ]
     },
     "execution_count": 18,
     "metadata": {},
     "output_type": "execute_result"
    }
   ],
   "source": [
    "protein_char.describe().T"
   ]
  },
  {
   "cell_type": "code",
   "execution_count": 19,
   "metadata": {
    "pycharm": {
     "name": "#%%\n"
    }
   },
   "outputs": [
    {
     "data": {
      "text/html": [
       "<div>\n",
       "<style scoped>\n",
       "    .dataframe tbody tr th:only-of-type {\n",
       "        vertical-align: middle;\n",
       "    }\n",
       "\n",
       "    .dataframe tbody tr th {\n",
       "        vertical-align: top;\n",
       "    }\n",
       "\n",
       "    .dataframe thead th {\n",
       "        text-align: right;\n",
       "    }\n",
       "</style>\n",
       "<table border=\"1\" class=\"dataframe\">\n",
       "  <thead>\n",
       "    <tr style=\"text-align: right;\">\n",
       "      <th></th>\n",
       "      <th>structureId</th>\n",
       "      <th>classification</th>\n",
       "      <th>experimentalTechnique</th>\n",
       "      <th>residueCount</th>\n",
       "      <th>resolution</th>\n",
       "      <th>structureMolecularWeight</th>\n",
       "      <th>crystallizationTempK</th>\n",
       "      <th>densityMatthews</th>\n",
       "      <th>densityPercentSol</th>\n",
       "      <th>phValue</th>\n",
       "      <th>publicationYear</th>\n",
       "    </tr>\n",
       "  </thead>\n",
       "  <tbody>\n",
       "    <tr>\n",
       "      <th>2</th>\n",
       "      <td>101M</td>\n",
       "      <td>OXYGEN TRANSPORT</td>\n",
       "      <td>X-RAY DIFFRACTION</td>\n",
       "      <td>154.0</td>\n",
       "      <td>2.07</td>\n",
       "      <td>18112.80</td>\n",
       "      <td>NaN</td>\n",
       "      <td>3.09</td>\n",
       "      <td>60.20</td>\n",
       "      <td>9.0</td>\n",
       "      <td>1999.0</td>\n",
       "    </tr>\n",
       "    <tr>\n",
       "      <th>4</th>\n",
       "      <td>102L</td>\n",
       "      <td>HYDROLASE(O-GLYCOSYL)</td>\n",
       "      <td>X-RAY DIFFRACTION</td>\n",
       "      <td>165.0</td>\n",
       "      <td>1.74</td>\n",
       "      <td>18926.61</td>\n",
       "      <td>NaN</td>\n",
       "      <td>2.75</td>\n",
       "      <td>55.28</td>\n",
       "      <td>NaN</td>\n",
       "      <td>1993.0</td>\n",
       "    </tr>\n",
       "    <tr>\n",
       "      <th>5</th>\n",
       "      <td>102M</td>\n",
       "      <td>OXYGEN TRANSPORT</td>\n",
       "      <td>X-RAY DIFFRACTION</td>\n",
       "      <td>154.0</td>\n",
       "      <td>1.84</td>\n",
       "      <td>18010.64</td>\n",
       "      <td>NaN</td>\n",
       "      <td>3.09</td>\n",
       "      <td>60.20</td>\n",
       "      <td>9.0</td>\n",
       "      <td>1999.0</td>\n",
       "    </tr>\n",
       "    <tr>\n",
       "      <th>7</th>\n",
       "      <td>103L</td>\n",
       "      <td>HYDROLASE(O-GLYCOSYL)</td>\n",
       "      <td>X-RAY DIFFRACTION</td>\n",
       "      <td>167.0</td>\n",
       "      <td>1.90</td>\n",
       "      <td>19092.72</td>\n",
       "      <td>NaN</td>\n",
       "      <td>2.70</td>\n",
       "      <td>54.46</td>\n",
       "      <td>NaN</td>\n",
       "      <td>1993.0</td>\n",
       "    </tr>\n",
       "    <tr>\n",
       "      <th>8</th>\n",
       "      <td>103M</td>\n",
       "      <td>OXYGEN TRANSPORT</td>\n",
       "      <td>X-RAY DIFFRACTION</td>\n",
       "      <td>154.0</td>\n",
       "      <td>2.07</td>\n",
       "      <td>18093.78</td>\n",
       "      <td>NaN</td>\n",
       "      <td>3.09</td>\n",
       "      <td>60.30</td>\n",
       "      <td>9.0</td>\n",
       "      <td>1999.0</td>\n",
       "    </tr>\n",
       "  </tbody>\n",
       "</table>\n",
       "</div>"
      ],
      "text/plain": [
       "  structureId         classification experimentalTechnique  residueCount  \\\n",
       "2        101M       OXYGEN TRANSPORT     X-RAY DIFFRACTION         154.0   \n",
       "4        102L  HYDROLASE(O-GLYCOSYL)     X-RAY DIFFRACTION         165.0   \n",
       "5        102M       OXYGEN TRANSPORT     X-RAY DIFFRACTION         154.0   \n",
       "7        103L  HYDROLASE(O-GLYCOSYL)     X-RAY DIFFRACTION         167.0   \n",
       "8        103M       OXYGEN TRANSPORT     X-RAY DIFFRACTION         154.0   \n",
       "\n",
       "   resolution  structureMolecularWeight  crystallizationTempK  \\\n",
       "2        2.07                  18112.80                   NaN   \n",
       "4        1.74                  18926.61                   NaN   \n",
       "5        1.84                  18010.64                   NaN   \n",
       "7        1.90                  19092.72                   NaN   \n",
       "8        2.07                  18093.78                   NaN   \n",
       "\n",
       "   densityMatthews  densityPercentSol  phValue  publicationYear  \n",
       "2             3.09              60.20      9.0           1999.0  \n",
       "4             2.75              55.28      NaN           1993.0  \n",
       "5             3.09              60.20      9.0           1999.0  \n",
       "7             2.70              54.46      NaN           1993.0  \n",
       "8             3.09              60.30      9.0           1999.0  "
      ]
     },
     "execution_count": 19,
     "metadata": {},
     "output_type": "execute_result"
    }
   ],
   "source": [
    "# Select  some variables to join\n",
    "protein_char = protein_char[['structureId','classification','experimentalTechnique','residueCount', 'resolution',\n",
    "       'structureMolecularWeight','crystallizationTempK', 'densityMatthews', 'densityPercentSol', 'phValue', 'publicationYear']]\n",
    "protein_char.head()"
   ]
  },
  {
   "cell_type": "code",
   "execution_count": 20,
   "metadata": {
    "pycharm": {
     "name": "#%%\n"
    }
   },
   "outputs": [
    {
     "data": {
      "text/html": [
       "<div>\n",
       "<style scoped>\n",
       "    .dataframe tbody tr th:only-of-type {\n",
       "        vertical-align: middle;\n",
       "    }\n",
       "\n",
       "    .dataframe tbody tr th {\n",
       "        vertical-align: top;\n",
       "    }\n",
       "\n",
       "    .dataframe thead th {\n",
       "        text-align: right;\n",
       "    }\n",
       "</style>\n",
       "<table border=\"1\" class=\"dataframe\">\n",
       "  <thead>\n",
       "    <tr style=\"text-align: right;\">\n",
       "      <th></th>\n",
       "      <th>structureId</th>\n",
       "      <th>sequence</th>\n",
       "    </tr>\n",
       "  </thead>\n",
       "  <tbody>\n",
       "    <tr>\n",
       "      <th>4</th>\n",
       "      <td>101M</td>\n",
       "      <td>MVLSEGEWQLVLHVWAKVEADVAGHGQDILIRLFKSHPETLEKFDR...</td>\n",
       "    </tr>\n",
       "    <tr>\n",
       "      <th>7</th>\n",
       "      <td>102L</td>\n",
       "      <td>MNIFEMLRIDEGLRLKIYKDTEGYYTIGIGHLLTKSPSLNAAAKSE...</td>\n",
       "    </tr>\n",
       "    <tr>\n",
       "      <th>8</th>\n",
       "      <td>102M</td>\n",
       "      <td>MVLSEGEWQLVLHVWAKVEADVAGHGQDILIRLFKSHPETLEKFDR...</td>\n",
       "    </tr>\n",
       "    <tr>\n",
       "      <th>11</th>\n",
       "      <td>103L</td>\n",
       "      <td>MNIFEMLRIDEGLRLKIYKDTEGYYTIGIGHLLTKSPSLNSLDAAK...</td>\n",
       "    </tr>\n",
       "    <tr>\n",
       "      <th>12</th>\n",
       "      <td>103M</td>\n",
       "      <td>MVLSEGEWQLVLHVWAKVEADVAGHGQDILIRLFKSHPETLEKFDR...</td>\n",
       "    </tr>\n",
       "  </tbody>\n",
       "</table>\n",
       "</div>"
      ],
      "text/plain": [
       "   structureId                                           sequence\n",
       "4         101M  MVLSEGEWQLVLHVWAKVEADVAGHGQDILIRLFKSHPETLEKFDR...\n",
       "7         102L  MNIFEMLRIDEGLRLKIYKDTEGYYTIGIGHLLTKSPSLNAAAKSE...\n",
       "8         102M  MVLSEGEWQLVLHVWAKVEADVAGHGQDILIRLFKSHPETLEKFDR...\n",
       "11        103L  MNIFEMLRIDEGLRLKIYKDTEGYYTIGIGHLLTKSPSLNSLDAAK...\n",
       "12        103M  MVLSEGEWQLVLHVWAKVEADVAGHGQDILIRLFKSHPETLEKFDR..."
      ]
     },
     "execution_count": 20,
     "metadata": {},
     "output_type": "execute_result"
    }
   ],
   "source": [
    "protein_seq = protein_seq[['structureId','sequence']]\n",
    "protein_seq.head()"
   ]
  },
  {
   "cell_type": "markdown",
   "metadata": {
    "pycharm": {
     "name": "#%% md\n"
    }
   },
   "source": [
    "*We can now perform a join using structureId as the index. We'll utilize pandas 'join' method. To do this, we have to set the index for each dataframe to be 'structureId'.*"
   ]
  },
  {
   "cell_type": "markdown",
   "metadata": {
    "pycharm": {
     "name": "#%% md\n"
    }
   },
   "source": [
    "**Join columns of another DataFrame:**\n",
    "\n",
    "**df.join(other, on=None, how='left', lsuffix='', rsuffix='', sort=False)**\n",
    "\n",
    "Join columns with other DataFrame either on index or on a key column. Efficiently join multiple DataFrame objects by index at once by passing a list."
   ]
  },
  {
   "cell_type": "markdown",
   "metadata": {
    "pycharm": {
     "name": "#%% md\n"
    }
   },
   "source": [
    "One option of using the key columns is to use the on parameter. DataFrame.join always uses other’s index but we can use any column in df. This method preserves the original DataFrame’s index in the result."
   ]
  },
  {
   "cell_type": "code",
   "execution_count": 21,
   "metadata": {
    "pycharm": {
     "name": "#%%\n"
    }
   },
   "outputs": [
    {
     "data": {
      "text/html": [
       "<div>\n",
       "<style scoped>\n",
       "    .dataframe tbody tr th:only-of-type {\n",
       "        vertical-align: middle;\n",
       "    }\n",
       "\n",
       "    .dataframe tbody tr th {\n",
       "        vertical-align: top;\n",
       "    }\n",
       "\n",
       "    .dataframe thead th {\n",
       "        text-align: right;\n",
       "    }\n",
       "</style>\n",
       "<table border=\"1\" class=\"dataframe\">\n",
       "  <thead>\n",
       "    <tr style=\"text-align: right;\">\n",
       "      <th></th>\n",
       "      <th>classification</th>\n",
       "      <th>experimentalTechnique</th>\n",
       "      <th>residueCount</th>\n",
       "      <th>resolution</th>\n",
       "      <th>structureMolecularWeight</th>\n",
       "      <th>crystallizationTempK</th>\n",
       "      <th>densityMatthews</th>\n",
       "      <th>densityPercentSol</th>\n",
       "      <th>phValue</th>\n",
       "      <th>publicationYear</th>\n",
       "      <th>sequence</th>\n",
       "    </tr>\n",
       "    <tr>\n",
       "      <th>structureId</th>\n",
       "      <th></th>\n",
       "      <th></th>\n",
       "      <th></th>\n",
       "      <th></th>\n",
       "      <th></th>\n",
       "      <th></th>\n",
       "      <th></th>\n",
       "      <th></th>\n",
       "      <th></th>\n",
       "      <th></th>\n",
       "      <th></th>\n",
       "    </tr>\n",
       "  </thead>\n",
       "  <tbody>\n",
       "    <tr>\n",
       "      <th>101M</th>\n",
       "      <td>OXYGEN TRANSPORT</td>\n",
       "      <td>X-RAY DIFFRACTION</td>\n",
       "      <td>154.0</td>\n",
       "      <td>2.07</td>\n",
       "      <td>18112.80</td>\n",
       "      <td>NaN</td>\n",
       "      <td>3.09</td>\n",
       "      <td>60.20</td>\n",
       "      <td>9.0</td>\n",
       "      <td>1999.0</td>\n",
       "      <td>MVLSEGEWQLVLHVWAKVEADVAGHGQDILIRLFKSHPETLEKFDR...</td>\n",
       "    </tr>\n",
       "    <tr>\n",
       "      <th>102L</th>\n",
       "      <td>HYDROLASE(O-GLYCOSYL)</td>\n",
       "      <td>X-RAY DIFFRACTION</td>\n",
       "      <td>165.0</td>\n",
       "      <td>1.74</td>\n",
       "      <td>18926.61</td>\n",
       "      <td>NaN</td>\n",
       "      <td>2.75</td>\n",
       "      <td>55.28</td>\n",
       "      <td>NaN</td>\n",
       "      <td>1993.0</td>\n",
       "      <td>MNIFEMLRIDEGLRLKIYKDTEGYYTIGIGHLLTKSPSLNAAAKSE...</td>\n",
       "    </tr>\n",
       "    <tr>\n",
       "      <th>102M</th>\n",
       "      <td>OXYGEN TRANSPORT</td>\n",
       "      <td>X-RAY DIFFRACTION</td>\n",
       "      <td>154.0</td>\n",
       "      <td>1.84</td>\n",
       "      <td>18010.64</td>\n",
       "      <td>NaN</td>\n",
       "      <td>3.09</td>\n",
       "      <td>60.20</td>\n",
       "      <td>9.0</td>\n",
       "      <td>1999.0</td>\n",
       "      <td>MVLSEGEWQLVLHVWAKVEADVAGHGQDILIRLFKSHPETLEKFDR...</td>\n",
       "    </tr>\n",
       "    <tr>\n",
       "      <th>103L</th>\n",
       "      <td>HYDROLASE(O-GLYCOSYL)</td>\n",
       "      <td>X-RAY DIFFRACTION</td>\n",
       "      <td>167.0</td>\n",
       "      <td>1.90</td>\n",
       "      <td>19092.72</td>\n",
       "      <td>NaN</td>\n",
       "      <td>2.70</td>\n",
       "      <td>54.46</td>\n",
       "      <td>NaN</td>\n",
       "      <td>1993.0</td>\n",
       "      <td>MNIFEMLRIDEGLRLKIYKDTEGYYTIGIGHLLTKSPSLNSLDAAK...</td>\n",
       "    </tr>\n",
       "    <tr>\n",
       "      <th>103M</th>\n",
       "      <td>OXYGEN TRANSPORT</td>\n",
       "      <td>X-RAY DIFFRACTION</td>\n",
       "      <td>154.0</td>\n",
       "      <td>2.07</td>\n",
       "      <td>18093.78</td>\n",
       "      <td>NaN</td>\n",
       "      <td>3.09</td>\n",
       "      <td>60.30</td>\n",
       "      <td>9.0</td>\n",
       "      <td>1999.0</td>\n",
       "      <td>MVLSEGEWQLVLHVWAKVEADVAGHGQDILIRLFKSHPETLEKFDR...</td>\n",
       "    </tr>\n",
       "  </tbody>\n",
       "</table>\n",
       "</div>"
      ],
      "text/plain": [
       "                    classification experimentalTechnique  residueCount  \\\n",
       "structureId                                                              \n",
       "101M              OXYGEN TRANSPORT     X-RAY DIFFRACTION         154.0   \n",
       "102L         HYDROLASE(O-GLYCOSYL)     X-RAY DIFFRACTION         165.0   \n",
       "102M              OXYGEN TRANSPORT     X-RAY DIFFRACTION         154.0   \n",
       "103L         HYDROLASE(O-GLYCOSYL)     X-RAY DIFFRACTION         167.0   \n",
       "103M              OXYGEN TRANSPORT     X-RAY DIFFRACTION         154.0   \n",
       "\n",
       "             resolution  structureMolecularWeight  crystallizationTempK  \\\n",
       "structureId                                                               \n",
       "101M               2.07                  18112.80                   NaN   \n",
       "102L               1.74                  18926.61                   NaN   \n",
       "102M               1.84                  18010.64                   NaN   \n",
       "103L               1.90                  19092.72                   NaN   \n",
       "103M               2.07                  18093.78                   NaN   \n",
       "\n",
       "             densityMatthews  densityPercentSol  phValue  publicationYear  \\\n",
       "structureId                                                                 \n",
       "101M                    3.09              60.20      9.0           1999.0   \n",
       "102L                    2.75              55.28      NaN           1993.0   \n",
       "102M                    3.09              60.20      9.0           1999.0   \n",
       "103L                    2.70              54.46      NaN           1993.0   \n",
       "103M                    3.09              60.30      9.0           1999.0   \n",
       "\n",
       "                                                      sequence  \n",
       "structureId                                                     \n",
       "101M         MVLSEGEWQLVLHVWAKVEADVAGHGQDILIRLFKSHPETLEKFDR...  \n",
       "102L         MNIFEMLRIDEGLRLKIYKDTEGYYTIGIGHLLTKSPSLNAAAKSE...  \n",
       "102M         MVLSEGEWQLVLHVWAKVEADVAGHGQDILIRLFKSHPETLEKFDR...  \n",
       "103L         MNIFEMLRIDEGLRLKIYKDTEGYYTIGIGHLLTKSPSLNSLDAAK...  \n",
       "103M         MVLSEGEWQLVLHVWAKVEADVAGHGQDILIRLFKSHPETLEKFDR...  "
      ]
     },
     "execution_count": 21,
     "metadata": {},
     "output_type": "execute_result"
    }
   ],
   "source": [
    "# Join two datasets on structureId\n",
    "model_f = protein_char.set_index('structureId').join(protein_seq.set_index('structureId'))\n",
    "model_f.head()"
   ]
  },
  {
   "cell_type": "code",
   "execution_count": 22,
   "metadata": {
    "pycharm": {
     "name": "#%%\n"
    }
   },
   "outputs": [
    {
     "name": "stdout",
     "output_type": "stream",
     "text": [
      "346317 is the number of rows in the joined dataset\n"
     ]
    }
   ],
   "source": [
    "print('%d is the number of rows in the joined dataset' %model_f.shape[0])"
   ]
  },
  {
   "cell_type": "markdown",
   "metadata": {
    "pycharm": {
     "name": "#%% md\n"
    }
   },
   "source": [
    "The two dataframes have officially been joined into one with 346,325 proteins. The data processing is not finished as it's important to take a look at the misingness associated with the columns."
   ]
  },
  {
   "cell_type": "code",
   "execution_count": 24,
   "metadata": {
    "pycharm": {
     "name": "#%%\n"
    }
   },
   "outputs": [
    {
     "data": {
      "text/plain": [
       "classification                   3\n",
       "experimentalTechnique            2\n",
       "residueCount                     2\n",
       "resolution                   16093\n",
       "structureMolecularWeight         2\n",
       "crystallizationTempK        102391\n",
       "densityMatthews              38844\n",
       "densityPercentSol            38710\n",
       "phValue                      87195\n",
       "publicationYear              50964\n",
       "sequence                         5\n",
       "dtype: int64"
      ]
     },
     "execution_count": 24,
     "metadata": {},
     "output_type": "execute_result"
    }
   ],
   "source": [
    "# Check NA counts\n",
    "count_null=model_f.isnull().sum()\n",
    "count_null"
   ]
  },
  {
   "cell_type": "code",
   "execution_count": 27,
   "metadata": {
    "pycharm": {
     "name": "#%%\n"
    }
   },
   "outputs": [
    {
     "data": {
      "text/plain": [
       "pandas.core.series.Series"
      ]
     },
     "execution_count": 27,
     "metadata": {},
     "output_type": "execute_result"
    }
   ],
   "source": [
    "type(count_null)"
   ]
  },
  {
   "cell_type": "markdown",
   "metadata": {
    "pycharm": {
     "name": "#%% md\n"
    }
   },
   "source": [
    "With 346,325 proteins, it appears that simply removing missing values is acceptable."
   ]
  },
  {
   "cell_type": "code",
   "execution_count": 138,
   "metadata": {
    "pycharm": {
     "name": "#%%\n"
    }
   },
   "outputs": [
    {
     "data": {
      "text/html": [
       "<div>\n",
       "<style scoped>\n",
       "    .dataframe tbody tr th:only-of-type {\n",
       "        vertical-align: middle;\n",
       "    }\n",
       "\n",
       "    .dataframe tbody tr th {\n",
       "        vertical-align: top;\n",
       "    }\n",
       "\n",
       "    .dataframe thead th {\n",
       "        text-align: right;\n",
       "    }\n",
       "</style>\n",
       "<table border=\"1\" class=\"dataframe\">\n",
       "  <thead>\n",
       "    <tr style=\"text-align: right;\">\n",
       "      <th></th>\n",
       "      <th>columns</th>\n",
       "      <th>null_count</th>\n",
       "    </tr>\n",
       "  </thead>\n",
       "  <tbody>\n",
       "    <tr>\n",
       "      <th>0</th>\n",
       "      <td>classification</td>\n",
       "      <td>3</td>\n",
       "    </tr>\n",
       "    <tr>\n",
       "      <th>1</th>\n",
       "      <td>experimentalTechnique</td>\n",
       "      <td>2</td>\n",
       "    </tr>\n",
       "    <tr>\n",
       "      <th>2</th>\n",
       "      <td>residueCount</td>\n",
       "      <td>2</td>\n",
       "    </tr>\n",
       "    <tr>\n",
       "      <th>3</th>\n",
       "      <td>resolution</td>\n",
       "      <td>16093</td>\n",
       "    </tr>\n",
       "    <tr>\n",
       "      <th>4</th>\n",
       "      <td>structureMolecularWeight</td>\n",
       "      <td>2</td>\n",
       "    </tr>\n",
       "    <tr>\n",
       "      <th>5</th>\n",
       "      <td>crystallizationTempK</td>\n",
       "      <td>102391</td>\n",
       "    </tr>\n",
       "    <tr>\n",
       "      <th>6</th>\n",
       "      <td>densityMatthews</td>\n",
       "      <td>38844</td>\n",
       "    </tr>\n",
       "    <tr>\n",
       "      <th>7</th>\n",
       "      <td>densityPercentSol</td>\n",
       "      <td>38710</td>\n",
       "    </tr>\n",
       "    <tr>\n",
       "      <th>8</th>\n",
       "      <td>phValue</td>\n",
       "      <td>87195</td>\n",
       "    </tr>\n",
       "    <tr>\n",
       "      <th>9</th>\n",
       "      <td>publicationYear</td>\n",
       "      <td>50964</td>\n",
       "    </tr>\n",
       "    <tr>\n",
       "      <th>10</th>\n",
       "      <td>sequence</td>\n",
       "      <td>5</td>\n",
       "    </tr>\n",
       "  </tbody>\n",
       "</table>\n",
       "</div>"
      ],
      "text/plain": [
       "                     columns  null_count\n",
       "0             classification           3\n",
       "1      experimentalTechnique           2\n",
       "2               residueCount           2\n",
       "3                 resolution       16093\n",
       "4   structureMolecularWeight           2\n",
       "5       crystallizationTempK      102391\n",
       "6            densityMatthews       38844\n",
       "7          densityPercentSol       38710\n",
       "8                    phValue       87195\n",
       "9            publicationYear       50964\n",
       "10                  sequence           5"
      ]
     },
     "execution_count": 138,
     "metadata": {},
     "output_type": "execute_result"
    }
   ],
   "source": [
    "#define DataFrame\n",
    "df_null = pd.DataFrame({'columns':count_null.index, 'null_count':count_null.values}) \n",
    "df_null"
   ]
  },
  {
   "cell_type": "code",
   "execution_count": 59,
   "metadata": {
    "pycharm": {
     "name": "#%%\n"
    }
   },
   "outputs": [
    {
     "data": {
      "text/plain": [
       "Text(0, 0.5, 'Number Of nulls')"
      ]
     },
     "execution_count": 59,
     "metadata": {},
     "output_type": "execute_result"
    },
    {
     "data": {
      "image/png": "[encoded data removed]",
      "text/plain": [
       "<Figure size 432x288 with 1 Axes>"
      ]
     },
     "metadata": {
      "needs_background": "light"
     },
     "output_type": "display_data"
    }
   ],
   "source": [
    "# df_null\n",
    "ax = df_null.plot.bar(x=df_null.keys()[0], y=df_null.keys()[1], rot=90,title='Histogram of Null counts')\n",
    "# df_null.keys()[0] = columns\n",
    "# df_null.keys()[1] = null_count\n",
    "plt.xlabel('Columns')\n",
    "plt.ylabel(\"Number Of nulls\")"
   ]
  },
  {
   "cell_type": "markdown",
   "metadata": {
    "pycharm": {
     "name": "#%% md\n"
    }
   },
   "source": [
    "**3. Drop rows with missing values**"
   ]
  },
  {
   "cell_type": "code",
   "execution_count": 53,
   "metadata": {
    "pycharm": {
     "name": "#%%\n"
    }
   },
   "outputs": [
    {
     "name": "stdout",
     "output_type": "stream",
     "text": [
      "176001 is the number of proteins that have a classification and sequence\n"
     ]
    }
   ],
   "source": [
    "model_f = model_f.dropna()\n",
    "print('%d is the number of proteins that have a classification and sequence' %model_f.shape[0])"
   ]
  },
  {
   "cell_type": "markdown",
   "metadata": {
    "pycharm": {
     "name": "#%% md\n"
    }
   },
   "source": [
    "**4. Types of family groups:**"
   ]
  },
  {
   "cell_type": "code",
   "execution_count": 54,
   "metadata": {
    "pycharm": {
     "name": "#%%\n"
    }
   },
   "outputs": [
    {
     "data": {
      "text/plain": [
       "HYDROLASE                        23716\n",
       "TRANSFERASE                      18709\n",
       "OXIDOREDUCTASE                   17718\n",
       "IMMUNE SYSTEM                    10031\n",
       "HYDROLASE/HYDROLASE INHIBITOR     9166\n",
       "LYASE                             6368\n",
       "TRANSCRIPTION                     4759\n",
       "TRANSPORT PROTEIN                 4190\n",
       "VIRAL PROTEIN                     4120\n",
       "ISOMERASE                         3253\n",
       "Name: classification, dtype: int64"
      ]
     },
     "execution_count": 54,
     "metadata": {},
     "output_type": "execute_result"
    }
   ],
   "source": [
    "# Look at classification type counts\n",
    "counts = model_f.classification.value_counts()\n",
    "counts.head(10)"
   ]
  },
  {
   "cell_type": "markdown",
   "metadata": {
    "pycharm": {
     "name": "#%% md\n"
    }
   },
   "source": [
    "*Displays the end of the dataframe:*"
   ]
  },
  {
   "cell_type": "code",
   "execution_count": 55,
   "metadata": {
    "pycharm": {
     "name": "#%%\n"
    }
   },
   "outputs": [
    {
     "data": {
      "text/plain": [
       "Isomerase, PROTEIN BINDING/INHIBITOR      1\n",
       "VIRAL PROTEIN,RNA BINDING PROTEIN         1\n",
       "TOXIN,LYASE                               1\n",
       "ADENOSINE BINDING PROTEIN                 1\n",
       "Fluorescent Protein, transcription        1\n",
       "Replication/Chaperone                     1\n",
       "hydrolase, hydrolase inhibitor            1\n",
       "PROTEIN BINDING, METAL BINDING PROTEIN    1\n",
       "cellulosome                               1\n",
       "CELLULOSE DEGRADATION                     1\n",
       "Name: classification, dtype: int64"
      ]
     },
     "execution_count": 55,
     "metadata": {},
     "output_type": "execute_result"
    }
   ],
   "source": [
    "counts.tail(10)"
   ]
  },
  {
   "cell_type": "code",
   "execution_count": 68,
   "metadata": {
    "pycharm": {
     "name": "#%%\n"
    }
   },
   "outputs": [
    {
     "data": {
      "text/html": [
       "<div>\n",
       "<style scoped>\n",
       "    .dataframe tbody tr th:only-of-type {\n",
       "        vertical-align: middle;\n",
       "    }\n",
       "\n",
       "    .dataframe tbody tr th {\n",
       "        vertical-align: top;\n",
       "    }\n",
       "\n",
       "    .dataframe thead th {\n",
       "        text-align: right;\n",
       "    }\n",
       "</style>\n",
       "<table border=\"1\" class=\"dataframe\">\n",
       "  <thead>\n",
       "    <tr style=\"text-align: right;\">\n",
       "      <th></th>\n",
       "      <th>Family groups</th>\n",
       "      <th>Amount</th>\n",
       "    </tr>\n",
       "  </thead>\n",
       "  <tbody>\n",
       "    <tr>\n",
       "      <th>0</th>\n",
       "      <td>HYDROLASE</td>\n",
       "      <td>23716</td>\n",
       "    </tr>\n",
       "    <tr>\n",
       "      <th>1</th>\n",
       "      <td>TRANSFERASE</td>\n",
       "      <td>18709</td>\n",
       "    </tr>\n",
       "    <tr>\n",
       "      <th>2</th>\n",
       "      <td>OXIDOREDUCTASE</td>\n",
       "      <td>17718</td>\n",
       "    </tr>\n",
       "    <tr>\n",
       "      <th>3</th>\n",
       "      <td>IMMUNE SYSTEM</td>\n",
       "      <td>10031</td>\n",
       "    </tr>\n",
       "    <tr>\n",
       "      <th>4</th>\n",
       "      <td>HYDROLASE/HYDROLASE INHIBITOR</td>\n",
       "      <td>9166</td>\n",
       "    </tr>\n",
       "    <tr>\n",
       "      <th>...</th>\n",
       "      <td>...</td>\n",
       "      <td>...</td>\n",
       "    </tr>\n",
       "    <tr>\n",
       "      <th>2237</th>\n",
       "      <td>Replication/Chaperone</td>\n",
       "      <td>1</td>\n",
       "    </tr>\n",
       "    <tr>\n",
       "      <th>2238</th>\n",
       "      <td>hydrolase, hydrolase inhibitor</td>\n",
       "      <td>1</td>\n",
       "    </tr>\n",
       "    <tr>\n",
       "      <th>2239</th>\n",
       "      <td>PROTEIN BINDING, METAL BINDING PROTEIN</td>\n",
       "      <td>1</td>\n",
       "    </tr>\n",
       "    <tr>\n",
       "      <th>2240</th>\n",
       "      <td>cellulosome</td>\n",
       "      <td>1</td>\n",
       "    </tr>\n",
       "    <tr>\n",
       "      <th>2241</th>\n",
       "      <td>CELLULOSE DEGRADATION</td>\n",
       "      <td>1</td>\n",
       "    </tr>\n",
       "  </tbody>\n",
       "</table>\n",
       "<p>2242 rows × 2 columns</p>\n",
       "</div>"
      ],
      "text/plain": [
       "                               Family groups  Amount\n",
       "0                                  HYDROLASE   23716\n",
       "1                                TRANSFERASE   18709\n",
       "2                             OXIDOREDUCTASE   17718\n",
       "3                              IMMUNE SYSTEM   10031\n",
       "4              HYDROLASE/HYDROLASE INHIBITOR    9166\n",
       "...                                      ...     ...\n",
       "2237                   Replication/Chaperone       1\n",
       "2238          hydrolase, hydrolase inhibitor       1\n",
       "2239  PROTEIN BINDING, METAL BINDING PROTEIN       1\n",
       "2240                             cellulosome       1\n",
       "2241                   CELLULOSE DEGRADATION       1\n",
       "\n",
       "[2242 rows x 2 columns]"
      ]
     },
     "execution_count": 68,
     "metadata": {},
     "output_type": "execute_result"
    }
   ],
   "source": [
    "df_counts = pd.DataFrame({'Family groups':counts.index, 'Amount':counts.values})\n",
    "df_counts"
   ]
  },
  {
   "cell_type": "code",
   "execution_count": 137,
   "metadata": {
    "pycharm": {
     "name": "#%%\n"
    }
   },
   "outputs": [
    {
     "data": {
      "text/plain": [
       "Text(0, 0.5, 'amount')"
      ]
     },
     "execution_count": 137,
     "metadata": {},
     "output_type": "execute_result"
    },
    {
     "data": {
      "image/png": "[encoded data removed]",
      "text/plain": [
       "<Figure size 432x288 with 1 Axes>"
      ]
     },
     "metadata": {
      "needs_background": "light"
     },
     "output_type": "display_data"
    }
   ],
   "source": [
    "# df_null\n",
    "ax = df_counts.iloc[0:20].plot.bar(x=df_counts.keys()[0], y=df_counts.keys()[1], rot=90,title='Histogram of family groups')\n",
    "plt.xlabel('family groups')\n",
    "plt.ylabel(\"amount\")"
   ]
  },
  {
   "cell_type": "markdown",
   "metadata": {
    "pycharm": {
     "name": "#%% md\n"
    }
   },
   "source": [
    "**5. Calculating the amount of the different classification types in the datafame:**"
   ]
  },
  {
   "cell_type": "markdown",
   "metadata": {
    "pycharm": {
     "name": "#%% md\n"
    }
   },
   "source": [
    "There appears to be a wide distribution of counts for family types. We can do filter for having a certain amount of recordes that are of a specific family type:"
   ]
  },
  {
   "cell_type": "code",
   "execution_count": 70,
   "metadata": {
    "pycharm": {
     "name": "#%%\n"
    }
   },
   "outputs": [
    {
     "name": "stdout",
     "output_type": "stream",
     "text": [
      "30\n"
     ]
    }
   ],
   "source": [
    "# Get classification types where counts are over 1000\n",
    "types = np.asarray(counts[(counts > 1000)].index)\n",
    "print(len(types))"
   ]
  },
  {
   "cell_type": "code",
   "execution_count": 71,
   "metadata": {
    "pycharm": {
     "name": "#%%\n"
    }
   },
   "outputs": [
    {
     "data": {
      "text/plain": [
       "array(['HYDROLASE', 'TRANSFERASE', 'OXIDOREDUCTASE', 'IMMUNE SYSTEM',\n",
       "       'HYDROLASE/HYDROLASE INHIBITOR', 'LYASE', 'TRANSCRIPTION',\n",
       "       'TRANSPORT PROTEIN', 'VIRAL PROTEIN', 'ISOMERASE',\n",
       "       'SIGNALING PROTEIN', 'LIGASE', 'PROTEIN BINDING',\n",
       "       'TRANSFERASE/TRANSFERASE INHIBITOR', 'MEMBRANE PROTEIN',\n",
       "       'SUGAR BINDING PROTEIN', 'STRUCTURAL PROTEIN',\n",
       "       'DNA BINDING PROTEIN', 'CHAPERONE', 'METAL BINDING PROTEIN',\n",
       "       'CELL ADHESION', 'ELECTRON TRANSPORT', 'PROTEIN TRANSPORT',\n",
       "       'UNKNOWN FUNCTION', 'TOXIN', 'PHOTOSYNTHESIS', 'CELL CYCLE',\n",
       "       'OXIDOREDUCTASE/OXIDOREDUCTASE INHIBITOR', 'GENE REGULATION',\n",
       "       'RNA BINDING PROTEIN'], dtype=object)"
      ]
     },
     "execution_count": 71,
     "metadata": {},
     "output_type": "execute_result"
    }
   ],
   "source": [
    "types "
   ]
  },
  {
   "cell_type": "markdown",
   "metadata": {
    "pycharm": {
     "name": "#%% md\n"
    }
   },
   "source": [
    "*Filter dataset's records and drop_duplicates*"
   ]
  },
  {
   "cell_type": "code",
   "execution_count": 72,
   "metadata": {
    "pycharm": {
     "name": "#%%\n"
    }
   },
   "outputs": [
    {
     "data": {
      "text/plain": [
       "136631"
      ]
     },
     "execution_count": 72,
     "metadata": {},
     "output_type": "execute_result"
    }
   ],
   "source": [
    "# Filter dataset's records for classification types > 1000\n",
    "filter_df = model_f[model_f.classification.isin(types)]\n",
    "len(filter_df)"
   ]
  },
  {
   "cell_type": "code",
   "execution_count": 73,
   "metadata": {
    "pycharm": {
     "name": "#%%\n"
    }
   },
   "outputs": [
    {
     "data": {
      "text/html": [
       "<div>\n",
       "<style scoped>\n",
       "    .dataframe tbody tr th:only-of-type {\n",
       "        vertical-align: middle;\n",
       "    }\n",
       "\n",
       "    .dataframe tbody tr th {\n",
       "        vertical-align: top;\n",
       "    }\n",
       "\n",
       "    .dataframe thead th {\n",
       "        text-align: right;\n",
       "    }\n",
       "</style>\n",
       "<table border=\"1\" class=\"dataframe\">\n",
       "  <thead>\n",
       "    <tr style=\"text-align: right;\">\n",
       "      <th></th>\n",
       "      <th>classification</th>\n",
       "      <th>experimentalTechnique</th>\n",
       "      <th>residueCount</th>\n",
       "      <th>resolution</th>\n",
       "      <th>structureMolecularWeight</th>\n",
       "      <th>crystallizationTempK</th>\n",
       "      <th>densityMatthews</th>\n",
       "      <th>densityPercentSol</th>\n",
       "      <th>phValue</th>\n",
       "      <th>publicationYear</th>\n",
       "      <th>sequence</th>\n",
       "    </tr>\n",
       "    <tr>\n",
       "      <th>structureId</th>\n",
       "      <th></th>\n",
       "      <th></th>\n",
       "      <th></th>\n",
       "      <th></th>\n",
       "      <th></th>\n",
       "      <th></th>\n",
       "      <th></th>\n",
       "      <th></th>\n",
       "      <th></th>\n",
       "      <th></th>\n",
       "      <th></th>\n",
       "    </tr>\n",
       "  </thead>\n",
       "  <tbody>\n",
       "    <tr>\n",
       "      <th>1A4S</th>\n",
       "      <td>OXIDOREDUCTASE</td>\n",
       "      <td>X-RAY DIFFRACTION</td>\n",
       "      <td>2012.0</td>\n",
       "      <td>2.10</td>\n",
       "      <td>217689.59</td>\n",
       "      <td>287.0</td>\n",
       "      <td>2.43</td>\n",
       "      <td>41.00</td>\n",
       "      <td>7.5</td>\n",
       "      <td>1998.0</td>\n",
       "      <td>AQLVDSMPSASTGSVVVTDDLNYWGGRRIKSKDGATTEPVFEPATG...</td>\n",
       "    </tr>\n",
       "    <tr>\n",
       "      <th>1A4S</th>\n",
       "      <td>OXIDOREDUCTASE</td>\n",
       "      <td>X-RAY DIFFRACTION</td>\n",
       "      <td>2012.0</td>\n",
       "      <td>2.10</td>\n",
       "      <td>217689.59</td>\n",
       "      <td>287.0</td>\n",
       "      <td>2.43</td>\n",
       "      <td>41.00</td>\n",
       "      <td>7.5</td>\n",
       "      <td>1998.0</td>\n",
       "      <td>AQLVDSMPSASTGSVVVTDDLNYWGGRRIKSKDGATTEPVFEPATG...</td>\n",
       "    </tr>\n",
       "    <tr>\n",
       "      <th>1A4S</th>\n",
       "      <td>OXIDOREDUCTASE</td>\n",
       "      <td>X-RAY DIFFRACTION</td>\n",
       "      <td>2012.0</td>\n",
       "      <td>2.10</td>\n",
       "      <td>217689.59</td>\n",
       "      <td>287.0</td>\n",
       "      <td>2.43</td>\n",
       "      <td>41.00</td>\n",
       "      <td>7.5</td>\n",
       "      <td>1998.0</td>\n",
       "      <td>AQLVDSMPSASTGSVVVTDDLNYWGGRRIKSKDGATTEPVFEPATG...</td>\n",
       "    </tr>\n",
       "    <tr>\n",
       "      <th>1A4S</th>\n",
       "      <td>OXIDOREDUCTASE</td>\n",
       "      <td>X-RAY DIFFRACTION</td>\n",
       "      <td>2012.0</td>\n",
       "      <td>2.10</td>\n",
       "      <td>217689.59</td>\n",
       "      <td>287.0</td>\n",
       "      <td>2.43</td>\n",
       "      <td>41.00</td>\n",
       "      <td>7.5</td>\n",
       "      <td>1998.0</td>\n",
       "      <td>AQLVDSMPSASTGSVVVTDDLNYWGGRRIKSKDGATTEPVFEPATG...</td>\n",
       "    </tr>\n",
       "    <tr>\n",
       "      <th>1A6Q</th>\n",
       "      <td>HYDROLASE</td>\n",
       "      <td>X-RAY DIFFRACTION</td>\n",
       "      <td>382.0</td>\n",
       "      <td>2.00</td>\n",
       "      <td>42707.55</td>\n",
       "      <td>277.0</td>\n",
       "      <td>2.97</td>\n",
       "      <td>59.00</td>\n",
       "      <td>5.0</td>\n",
       "      <td>1996.0</td>\n",
       "      <td>MGAFLDKPKMEKHNAQGQGNGLRYGLSSMQGWRVEMEDAHTAVIGL...</td>\n",
       "    </tr>\n",
       "    <tr>\n",
       "      <th>...</th>\n",
       "      <td>...</td>\n",
       "      <td>...</td>\n",
       "      <td>...</td>\n",
       "      <td>...</td>\n",
       "      <td>...</td>\n",
       "      <td>...</td>\n",
       "      <td>...</td>\n",
       "      <td>...</td>\n",
       "      <td>...</td>\n",
       "      <td>...</td>\n",
       "      <td>...</td>\n",
       "    </tr>\n",
       "    <tr>\n",
       "      <th>6F6P</th>\n",
       "      <td>HYDROLASE</td>\n",
       "      <td>X-RAY DIFFRACTION</td>\n",
       "      <td>424.0</td>\n",
       "      <td>2.45</td>\n",
       "      <td>47994.95</td>\n",
       "      <td>291.0</td>\n",
       "      <td>2.61</td>\n",
       "      <td>56.00</td>\n",
       "      <td>7.3</td>\n",
       "      <td>2018.0</td>\n",
       "      <td>GASSRLRSPSVLEVREKGYERLKEELAKAQRELKLKDEECERLSKV...</td>\n",
       "    </tr>\n",
       "    <tr>\n",
       "      <th>6F6P</th>\n",
       "      <td>HYDROLASE</td>\n",
       "      <td>X-RAY DIFFRACTION</td>\n",
       "      <td>424.0</td>\n",
       "      <td>2.45</td>\n",
       "      <td>47994.95</td>\n",
       "      <td>291.0</td>\n",
       "      <td>2.61</td>\n",
       "      <td>56.00</td>\n",
       "      <td>7.3</td>\n",
       "      <td>2018.0</td>\n",
       "      <td>GAASRLRSPSVLEVREKGYERLKEELAKAQRELKLKDEECERLSKV...</td>\n",
       "    </tr>\n",
       "    <tr>\n",
       "      <th>6F6S</th>\n",
       "      <td>VIRAL PROTEIN</td>\n",
       "      <td>X-RAY DIFFRACTION</td>\n",
       "      <td>497.0</td>\n",
       "      <td>2.29</td>\n",
       "      <td>58337.03</td>\n",
       "      <td>293.0</td>\n",
       "      <td>3.83</td>\n",
       "      <td>67.89</td>\n",
       "      <td>5.2</td>\n",
       "      <td>2018.0</td>\n",
       "      <td>ETGRSIPLGVIHNSALQVSDVDKLVCRDKLSSTNQLRSVGLNLEGN...</td>\n",
       "    </tr>\n",
       "    <tr>\n",
       "      <th>6F6S</th>\n",
       "      <td>VIRAL PROTEIN</td>\n",
       "      <td>X-RAY DIFFRACTION</td>\n",
       "      <td>497.0</td>\n",
       "      <td>2.29</td>\n",
       "      <td>58337.03</td>\n",
       "      <td>293.0</td>\n",
       "      <td>3.83</td>\n",
       "      <td>67.89</td>\n",
       "      <td>5.2</td>\n",
       "      <td>2018.0</td>\n",
       "      <td>EAIVNAQPKCNPNLHYWTTQDEGAAIGLAWIPYFGPAAEGIYIEGL...</td>\n",
       "    </tr>\n",
       "    <tr>\n",
       "      <th>6F8P</th>\n",
       "      <td>VIRAL PROTEIN</td>\n",
       "      <td>X-RAY DIFFRACTION</td>\n",
       "      <td>316.0</td>\n",
       "      <td>1.60</td>\n",
       "      <td>34958.86</td>\n",
       "      <td>298.0</td>\n",
       "      <td>2.47</td>\n",
       "      <td>50.15</td>\n",
       "      <td>7.0</td>\n",
       "      <td>2018.0</td>\n",
       "      <td>EDPHLRNRPGKGHNYIDGMTQEDATCKPVTYAGACSSFDVLLEKGK...</td>\n",
       "    </tr>\n",
       "  </tbody>\n",
       "</table>\n",
       "<p>136631 rows × 11 columns</p>\n",
       "</div>"
      ],
      "text/plain": [
       "             classification experimentalTechnique  residueCount  resolution  \\\n",
       "structureId                                                                   \n",
       "1A4S         OXIDOREDUCTASE     X-RAY DIFFRACTION        2012.0        2.10   \n",
       "1A4S         OXIDOREDUCTASE     X-RAY DIFFRACTION        2012.0        2.10   \n",
       "1A4S         OXIDOREDUCTASE     X-RAY DIFFRACTION        2012.0        2.10   \n",
       "1A4S         OXIDOREDUCTASE     X-RAY DIFFRACTION        2012.0        2.10   \n",
       "1A6Q              HYDROLASE     X-RAY DIFFRACTION         382.0        2.00   \n",
       "...                     ...                   ...           ...         ...   \n",
       "6F6P              HYDROLASE     X-RAY DIFFRACTION         424.0        2.45   \n",
       "6F6P              HYDROLASE     X-RAY DIFFRACTION         424.0        2.45   \n",
       "6F6S          VIRAL PROTEIN     X-RAY DIFFRACTION         497.0        2.29   \n",
       "6F6S          VIRAL PROTEIN     X-RAY DIFFRACTION         497.0        2.29   \n",
       "6F8P          VIRAL PROTEIN     X-RAY DIFFRACTION         316.0        1.60   \n",
       "\n",
       "             structureMolecularWeight  crystallizationTempK  densityMatthews  \\\n",
       "structureId                                                                    \n",
       "1A4S                        217689.59                 287.0             2.43   \n",
       "1A4S                        217689.59                 287.0             2.43   \n",
       "1A4S                        217689.59                 287.0             2.43   \n",
       "1A4S                        217689.59                 287.0             2.43   \n",
       "1A6Q                         42707.55                 277.0             2.97   \n",
       "...                               ...                   ...              ...   \n",
       "6F6P                         47994.95                 291.0             2.61   \n",
       "6F6P                         47994.95                 291.0             2.61   \n",
       "6F6S                         58337.03                 293.0             3.83   \n",
       "6F6S                         58337.03                 293.0             3.83   \n",
       "6F8P                         34958.86                 298.0             2.47   \n",
       "\n",
       "             densityPercentSol  phValue  publicationYear  \\\n",
       "structureId                                                \n",
       "1A4S                     41.00      7.5           1998.0   \n",
       "1A4S                     41.00      7.5           1998.0   \n",
       "1A4S                     41.00      7.5           1998.0   \n",
       "1A4S                     41.00      7.5           1998.0   \n",
       "1A6Q                     59.00      5.0           1996.0   \n",
       "...                        ...      ...              ...   \n",
       "6F6P                     56.00      7.3           2018.0   \n",
       "6F6P                     56.00      7.3           2018.0   \n",
       "6F6S                     67.89      5.2           2018.0   \n",
       "6F6S                     67.89      5.2           2018.0   \n",
       "6F8P                     50.15      7.0           2018.0   \n",
       "\n",
       "                                                      sequence  \n",
       "structureId                                                     \n",
       "1A4S         AQLVDSMPSASTGSVVVTDDLNYWGGRRIKSKDGATTEPVFEPATG...  \n",
       "1A4S         AQLVDSMPSASTGSVVVTDDLNYWGGRRIKSKDGATTEPVFEPATG...  \n",
       "1A4S         AQLVDSMPSASTGSVVVTDDLNYWGGRRIKSKDGATTEPVFEPATG...  \n",
       "1A4S         AQLVDSMPSASTGSVVVTDDLNYWGGRRIKSKDGATTEPVFEPATG...  \n",
       "1A6Q         MGAFLDKPKMEKHNAQGQGNGLRYGLSSMQGWRVEMEDAHTAVIGL...  \n",
       "...                                                        ...  \n",
       "6F6P         GASSRLRSPSVLEVREKGYERLKEELAKAQRELKLKDEECERLSKV...  \n",
       "6F6P         GAASRLRSPSVLEVREKGYERLKEELAKAQRELKLKDEECERLSKV...  \n",
       "6F6S         ETGRSIPLGVIHNSALQVSDVDKLVCRDKLSSTNQLRSVGLNLEGN...  \n",
       "6F6S         EAIVNAQPKCNPNLHYWTTQDEGAAIGLAWIPYFGPAAEGIYIEGL...  \n",
       "6F8P         EDPHLRNRPGKGHNYIDGMTQEDATCKPVTYAGACSSFDVLLEKGK...  \n",
       "\n",
       "[136631 rows x 11 columns]"
      ]
     },
     "execution_count": 73,
     "metadata": {},
     "output_type": "execute_result"
    }
   ],
   "source": [
    "filter_df"
   ]
  },
  {
   "cell_type": "code",
   "execution_count": 74,
   "metadata": {
    "pycharm": {
     "name": "#%%\n"
    }
   },
   "outputs": [
    {
     "data": {
      "text/html": [
       "<div>\n",
       "<style scoped>\n",
       "    .dataframe tbody tr th:only-of-type {\n",
       "        vertical-align: middle;\n",
       "    }\n",
       "\n",
       "    .dataframe tbody tr th {\n",
       "        vertical-align: top;\n",
       "    }\n",
       "\n",
       "    .dataframe thead th {\n",
       "        text-align: right;\n",
       "    }\n",
       "</style>\n",
       "<table border=\"1\" class=\"dataframe\">\n",
       "  <thead>\n",
       "    <tr style=\"text-align: right;\">\n",
       "      <th></th>\n",
       "      <th>classification</th>\n",
       "      <th>experimentalTechnique</th>\n",
       "      <th>residueCount</th>\n",
       "      <th>resolution</th>\n",
       "      <th>structureMolecularWeight</th>\n",
       "      <th>crystallizationTempK</th>\n",
       "      <th>densityMatthews</th>\n",
       "      <th>densityPercentSol</th>\n",
       "      <th>phValue</th>\n",
       "      <th>publicationYear</th>\n",
       "      <th>sequence</th>\n",
       "    </tr>\n",
       "    <tr>\n",
       "      <th>structureId</th>\n",
       "      <th></th>\n",
       "      <th></th>\n",
       "      <th></th>\n",
       "      <th></th>\n",
       "      <th></th>\n",
       "      <th></th>\n",
       "      <th></th>\n",
       "      <th></th>\n",
       "      <th></th>\n",
       "      <th></th>\n",
       "      <th></th>\n",
       "    </tr>\n",
       "  </thead>\n",
       "  <tbody>\n",
       "    <tr>\n",
       "      <th>1A4S</th>\n",
       "      <td>OXIDOREDUCTASE</td>\n",
       "      <td>X-RAY DIFFRACTION</td>\n",
       "      <td>2012.0</td>\n",
       "      <td>2.10</td>\n",
       "      <td>217689.59</td>\n",
       "      <td>287.0</td>\n",
       "      <td>2.43</td>\n",
       "      <td>41.00</td>\n",
       "      <td>7.5</td>\n",
       "      <td>1998.0</td>\n",
       "      <td>AQLVDSMPSASTGSVVVTDDLNYWGGRRIKSKDGATTEPVFEPATG...</td>\n",
       "    </tr>\n",
       "    <tr>\n",
       "      <th>1A6Q</th>\n",
       "      <td>HYDROLASE</td>\n",
       "      <td>X-RAY DIFFRACTION</td>\n",
       "      <td>382.0</td>\n",
       "      <td>2.00</td>\n",
       "      <td>42707.55</td>\n",
       "      <td>277.0</td>\n",
       "      <td>2.97</td>\n",
       "      <td>59.00</td>\n",
       "      <td>5.0</td>\n",
       "      <td>1996.0</td>\n",
       "      <td>MGAFLDKPKMEKHNAQGQGNGLRYGLSSMQGWRVEMEDAHTAVIGL...</td>\n",
       "    </tr>\n",
       "    <tr>\n",
       "      <th>1A72</th>\n",
       "      <td>OXIDOREDUCTASE</td>\n",
       "      <td>X-RAY DIFFRACTION</td>\n",
       "      <td>374.0</td>\n",
       "      <td>2.60</td>\n",
       "      <td>40658.50</td>\n",
       "      <td>277.0</td>\n",
       "      <td>2.30</td>\n",
       "      <td>46.82</td>\n",
       "      <td>8.4</td>\n",
       "      <td>1998.0</td>\n",
       "      <td>STAGKVIKCKAAVLWEEKKPFSIEEVEVAPPKAHEVRIKMVATGIC...</td>\n",
       "    </tr>\n",
       "    <tr>\n",
       "      <th>1A8O</th>\n",
       "      <td>VIRAL PROTEIN</td>\n",
       "      <td>X-RAY DIFFRACTION</td>\n",
       "      <td>70.0</td>\n",
       "      <td>1.70</td>\n",
       "      <td>8175.72</td>\n",
       "      <td>277.0</td>\n",
       "      <td>2.21</td>\n",
       "      <td>43.80</td>\n",
       "      <td>8.0</td>\n",
       "      <td>1997.0</td>\n",
       "      <td>MDIRQGPKEPFRDYVDRFYKTLRAEQASQEVKNWMTETLLVQNANP...</td>\n",
       "    </tr>\n",
       "    <tr>\n",
       "      <th>1ACC</th>\n",
       "      <td>TOXIN</td>\n",
       "      <td>X-RAY DIFFRACTION</td>\n",
       "      <td>735.0</td>\n",
       "      <td>2.10</td>\n",
       "      <td>82849.97</td>\n",
       "      <td>277.0</td>\n",
       "      <td>2.30</td>\n",
       "      <td>47.00</td>\n",
       "      <td>6.0</td>\n",
       "      <td>1997.0</td>\n",
       "      <td>EVKQENRLLNESESSSQGLLGYYFSDLNFQAPMVVTSSTTGDLSIP...</td>\n",
       "    </tr>\n",
       "    <tr>\n",
       "      <th>...</th>\n",
       "      <td>...</td>\n",
       "      <td>...</td>\n",
       "      <td>...</td>\n",
       "      <td>...</td>\n",
       "      <td>...</td>\n",
       "      <td>...</td>\n",
       "      <td>...</td>\n",
       "      <td>...</td>\n",
       "      <td>...</td>\n",
       "      <td>...</td>\n",
       "      <td>...</td>\n",
       "    </tr>\n",
       "    <tr>\n",
       "      <th>6F5U</th>\n",
       "      <td>VIRAL PROTEIN</td>\n",
       "      <td>X-RAY DIFFRACTION</td>\n",
       "      <td>498.0</td>\n",
       "      <td>2.07</td>\n",
       "      <td>57299.72</td>\n",
       "      <td>293.0</td>\n",
       "      <td>3.48</td>\n",
       "      <td>64.67</td>\n",
       "      <td>5.2</td>\n",
       "      <td>2018.0</td>\n",
       "      <td>EAIVNAQPKCNPNLHYWTTQDEGAAIGLAWIPYFGPAAEGIYIEGL...</td>\n",
       "    </tr>\n",
       "    <tr>\n",
       "      <th>6F6P</th>\n",
       "      <td>HYDROLASE</td>\n",
       "      <td>X-RAY DIFFRACTION</td>\n",
       "      <td>424.0</td>\n",
       "      <td>2.45</td>\n",
       "      <td>47994.95</td>\n",
       "      <td>291.0</td>\n",
       "      <td>2.61</td>\n",
       "      <td>56.00</td>\n",
       "      <td>7.3</td>\n",
       "      <td>2018.0</td>\n",
       "      <td>GAASRLRSPSVLEVREKGYERLKEELAKAQRELKLKDEECERLSKV...</td>\n",
       "    </tr>\n",
       "    <tr>\n",
       "      <th>6F6P</th>\n",
       "      <td>HYDROLASE</td>\n",
       "      <td>X-RAY DIFFRACTION</td>\n",
       "      <td>424.0</td>\n",
       "      <td>2.45</td>\n",
       "      <td>47994.95</td>\n",
       "      <td>291.0</td>\n",
       "      <td>2.61</td>\n",
       "      <td>56.00</td>\n",
       "      <td>7.3</td>\n",
       "      <td>2018.0</td>\n",
       "      <td>GASSRLRSPSVLEVREKGYERLKEELAKAQRELKLKDEECERLSKV...</td>\n",
       "    </tr>\n",
       "    <tr>\n",
       "      <th>6F6S</th>\n",
       "      <td>VIRAL PROTEIN</td>\n",
       "      <td>X-RAY DIFFRACTION</td>\n",
       "      <td>497.0</td>\n",
       "      <td>2.29</td>\n",
       "      <td>58337.03</td>\n",
       "      <td>293.0</td>\n",
       "      <td>3.83</td>\n",
       "      <td>67.89</td>\n",
       "      <td>5.2</td>\n",
       "      <td>2018.0</td>\n",
       "      <td>ETGRSIPLGVIHNSALQVSDVDKLVCRDKLSSTNQLRSVGLNLEGN...</td>\n",
       "    </tr>\n",
       "    <tr>\n",
       "      <th>6F8P</th>\n",
       "      <td>VIRAL PROTEIN</td>\n",
       "      <td>X-RAY DIFFRACTION</td>\n",
       "      <td>316.0</td>\n",
       "      <td>1.60</td>\n",
       "      <td>34958.86</td>\n",
       "      <td>298.0</td>\n",
       "      <td>2.47</td>\n",
       "      <td>50.15</td>\n",
       "      <td>7.0</td>\n",
       "      <td>2018.0</td>\n",
       "      <td>EDPHLRNRPGKGHNYIDGMTQEDATCKPVTYAGACSSFDVLLEKGK...</td>\n",
       "    </tr>\n",
       "  </tbody>\n",
       "</table>\n",
       "<p>36146 rows × 11 columns</p>\n",
       "</div>"
      ],
      "text/plain": [
       "             classification experimentalTechnique  residueCount  resolution  \\\n",
       "structureId                                                                   \n",
       "1A4S         OXIDOREDUCTASE     X-RAY DIFFRACTION        2012.0        2.10   \n",
       "1A6Q              HYDROLASE     X-RAY DIFFRACTION         382.0        2.00   \n",
       "1A72         OXIDOREDUCTASE     X-RAY DIFFRACTION         374.0        2.60   \n",
       "1A8O          VIRAL PROTEIN     X-RAY DIFFRACTION          70.0        1.70   \n",
       "1ACC                  TOXIN     X-RAY DIFFRACTION         735.0        2.10   \n",
       "...                     ...                   ...           ...         ...   \n",
       "6F5U          VIRAL PROTEIN     X-RAY DIFFRACTION         498.0        2.07   \n",
       "6F6P              HYDROLASE     X-RAY DIFFRACTION         424.0        2.45   \n",
       "6F6P              HYDROLASE     X-RAY DIFFRACTION         424.0        2.45   \n",
       "6F6S          VIRAL PROTEIN     X-RAY DIFFRACTION         497.0        2.29   \n",
       "6F8P          VIRAL PROTEIN     X-RAY DIFFRACTION         316.0        1.60   \n",
       "\n",
       "             structureMolecularWeight  crystallizationTempK  densityMatthews  \\\n",
       "structureId                                                                    \n",
       "1A4S                        217689.59                 287.0             2.43   \n",
       "1A6Q                         42707.55                 277.0             2.97   \n",
       "1A72                         40658.50                 277.0             2.30   \n",
       "1A8O                          8175.72                 277.0             2.21   \n",
       "1ACC                         82849.97                 277.0             2.30   \n",
       "...                               ...                   ...              ...   \n",
       "6F5U                         57299.72                 293.0             3.48   \n",
       "6F6P                         47994.95                 291.0             2.61   \n",
       "6F6P                         47994.95                 291.0             2.61   \n",
       "6F6S                         58337.03                 293.0             3.83   \n",
       "6F8P                         34958.86                 298.0             2.47   \n",
       "\n",
       "             densityPercentSol  phValue  publicationYear  \\\n",
       "structureId                                                \n",
       "1A4S                     41.00      7.5           1998.0   \n",
       "1A6Q                     59.00      5.0           1996.0   \n",
       "1A72                     46.82      8.4           1998.0   \n",
       "1A8O                     43.80      8.0           1997.0   \n",
       "1ACC                     47.00      6.0           1997.0   \n",
       "...                        ...      ...              ...   \n",
       "6F5U                     64.67      5.2           2018.0   \n",
       "6F6P                     56.00      7.3           2018.0   \n",
       "6F6P                     56.00      7.3           2018.0   \n",
       "6F6S                     67.89      5.2           2018.0   \n",
       "6F8P                     50.15      7.0           2018.0   \n",
       "\n",
       "                                                      sequence  \n",
       "structureId                                                     \n",
       "1A4S         AQLVDSMPSASTGSVVVTDDLNYWGGRRIKSKDGATTEPVFEPATG...  \n",
       "1A6Q         MGAFLDKPKMEKHNAQGQGNGLRYGLSSMQGWRVEMEDAHTAVIGL...  \n",
       "1A72         STAGKVIKCKAAVLWEEKKPFSIEEVEVAPPKAHEVRIKMVATGIC...  \n",
       "1A8O         MDIRQGPKEPFRDYVDRFYKTLRAEQASQEVKNWMTETLLVQNANP...  \n",
       "1ACC         EVKQENRLLNESESSSQGLLGYYFSDLNFQAPMVVTSSTTGDLSIP...  \n",
       "...                                                        ...  \n",
       "6F5U         EAIVNAQPKCNPNLHYWTTQDEGAAIGLAWIPYFGPAAEGIYIEGL...  \n",
       "6F6P         GAASRLRSPSVLEVREKGYERLKEELAKAQRELKLKDEECERLSKV...  \n",
       "6F6P         GASSRLRSPSVLEVREKGYERLKEELAKAQRELKLKDEECERLSKV...  \n",
       "6F6S         ETGRSIPLGVIHNSALQVSDVDKLVCRDKLSSTNQLRSVGLNLEGN...  \n",
       "6F8P         EDPHLRNRPGKGHNYIDGMTQEDATCKPVTYAGACSSFDVLLEKGK...  \n",
       "\n",
       "[36146 rows x 11 columns]"
      ]
     },
     "execution_count": 74,
     "metadata": {},
     "output_type": "execute_result"
    }
   ],
   "source": [
    "filter_df1 = filter_df.drop_duplicates(subset=[\"classification\",\"sequence\"])\n",
    "filter_df1 "
   ]
  },
  {
   "cell_type": "code",
   "execution_count": 75,
   "metadata": {
    "pycharm": {
     "name": "#%%\n"
    }
   },
   "outputs": [
    {
     "data": {
      "text/plain": [
       "(36146, 11)"
      ]
     },
     "execution_count": 75,
     "metadata": {},
     "output_type": "execute_result"
    }
   ],
   "source": [
    "filter_df1.shape"
   ]
  },
  {
   "cell_type": "code",
   "execution_count": 76,
   "metadata": {
    "pycharm": {
     "name": "#%%\n"
    }
   },
   "outputs": [
    {
     "name": "stdout",
     "output_type": "stream",
     "text": [
      "['HYDROLASE' 'TRANSFERASE' 'OXIDOREDUCTASE' 'IMMUNE SYSTEM'\n",
      " 'HYDROLASE/HYDROLASE INHIBITOR' 'LYASE' 'TRANSCRIPTION'\n",
      " 'TRANSPORT PROTEIN' 'VIRAL PROTEIN' 'ISOMERASE' 'SIGNALING PROTEIN'\n",
      " 'LIGASE' 'PROTEIN BINDING' 'TRANSFERASE/TRANSFERASE INHIBITOR'\n",
      " 'MEMBRANE PROTEIN' 'SUGAR BINDING PROTEIN' 'STRUCTURAL PROTEIN'\n",
      " 'DNA BINDING PROTEIN' 'CHAPERONE' 'METAL BINDING PROTEIN' 'CELL ADHESION'\n",
      " 'ELECTRON TRANSPORT' 'PROTEIN TRANSPORT' 'UNKNOWN FUNCTION' 'TOXIN'\n",
      " 'PHOTOSYNTHESIS' 'CELL CYCLE' 'OXIDOREDUCTASE/OXIDOREDUCTASE INHIBITOR'\n",
      " 'GENE REGULATION' 'RNA BINDING PROTEIN']\n",
      "36146 is the number of records in the final filtered dataset\n"
     ]
    }
   ],
   "source": [
    "\n",
    "print(types)\n",
    "print('%d is the number of records in the final filtered dataset' %filter_df1.shape[0])"
   ]
  },
  {
   "cell_type": "markdown",
   "metadata": {
    "pycharm": {
     "name": "#%% md\n"
    }
   },
   "source": [
    "## More exercises"
   ]
  },
  {
   "cell_type": "code",
   "execution_count": 77,
   "metadata": {
    "pycharm": {
     "name": "#%%\n"
    }
   },
   "outputs": [],
   "source": [
    "df_exe=filter_df1.copy()"
   ]
  },
  {
   "cell_type": "code",
   "execution_count": 78,
   "metadata": {
    "pycharm": {
     "name": "#%%\n"
    }
   },
   "outputs": [
    {
     "name": "stdout",
     "output_type": "stream",
     "text": [
      "<class 'pandas.core.frame.DataFrame'>\n",
      "Index: 36146 entries, 1A4S to 6F8P\n",
      "Data columns (total 11 columns):\n",
      " #   Column                    Non-Null Count  Dtype  \n",
      "---  ------                    --------------  -----  \n",
      " 0   classification            36146 non-null  object \n",
      " 1   experimentalTechnique     36146 non-null  object \n",
      " 2   residueCount              36146 non-null  float64\n",
      " 3   resolution                36146 non-null  float64\n",
      " 4   structureMolecularWeight  36146 non-null  float64\n",
      " 5   crystallizationTempK      36146 non-null  float64\n",
      " 6   densityMatthews           36146 non-null  float64\n",
      " 7   densityPercentSol         36146 non-null  float64\n",
      " 8   phValue                   36146 non-null  float64\n",
      " 9   publicationYear           36146 non-null  float64\n",
      " 10  sequence                  36146 non-null  object \n",
      "dtypes: float64(8), object(3)\n",
      "memory usage: 3.3+ MB\n"
     ]
    }
   ],
   "source": [
    "df_exe.info()"
   ]
  },
  {
   "cell_type": "markdown",
   "metadata": {
    "pycharm": {
     "name": "#%% md\n"
    }
   },
   "source": [
    "**6. Find the ten most recently published proteins**"
   ]
  },
  {
   "cell_type": "code",
   "execution_count": 79,
   "metadata": {
    "pycharm": {
     "name": "#%%\n"
    }
   },
   "outputs": [
    {
     "data": {
      "text/html": [
       "<div>\n",
       "<style scoped>\n",
       "    .dataframe tbody tr th:only-of-type {\n",
       "        vertical-align: middle;\n",
       "    }\n",
       "\n",
       "    .dataframe tbody tr th {\n",
       "        vertical-align: top;\n",
       "    }\n",
       "\n",
       "    .dataframe thead th {\n",
       "        text-align: right;\n",
       "    }\n",
       "</style>\n",
       "<table border=\"1\" class=\"dataframe\">\n",
       "  <thead>\n",
       "    <tr style=\"text-align: right;\">\n",
       "      <th></th>\n",
       "      <th>classification</th>\n",
       "      <th>experimentalTechnique</th>\n",
       "      <th>residueCount</th>\n",
       "      <th>resolution</th>\n",
       "      <th>structureMolecularWeight</th>\n",
       "      <th>crystallizationTempK</th>\n",
       "      <th>densityMatthews</th>\n",
       "      <th>densityPercentSol</th>\n",
       "      <th>phValue</th>\n",
       "      <th>publicationYear</th>\n",
       "      <th>sequence</th>\n",
       "    </tr>\n",
       "    <tr>\n",
       "      <th>structureId</th>\n",
       "      <th></th>\n",
       "      <th></th>\n",
       "      <th></th>\n",
       "      <th></th>\n",
       "      <th></th>\n",
       "      <th></th>\n",
       "      <th></th>\n",
       "      <th></th>\n",
       "      <th></th>\n",
       "      <th></th>\n",
       "      <th></th>\n",
       "    </tr>\n",
       "  </thead>\n",
       "  <tbody>\n",
       "    <tr>\n",
       "      <th>2OZ9</th>\n",
       "      <td>DNA BINDING PROTEIN</td>\n",
       "      <td>X-RAY DIFFRACTION</td>\n",
       "      <td>107.0</td>\n",
       "      <td>1.65</td>\n",
       "      <td>12562.21</td>\n",
       "      <td>298.0</td>\n",
       "      <td>1.93</td>\n",
       "      <td>36.30</td>\n",
       "      <td>5.0</td>\n",
       "      <td>1988.0</td>\n",
       "      <td>AQQSPYSAAMAEQRHQEWLRFVDLLKNAYQNDLHLPLLNLMLTPDE...</td>\n",
       "    </tr>\n",
       "    <tr>\n",
       "      <th>1FR1</th>\n",
       "      <td>HYDROLASE</td>\n",
       "      <td>X-RAY DIFFRACTION</td>\n",
       "      <td>722.0</td>\n",
       "      <td>2.00</td>\n",
       "      <td>79510.50</td>\n",
       "      <td>295.0</td>\n",
       "      <td>2.34</td>\n",
       "      <td>47.46</td>\n",
       "      <td>8.0</td>\n",
       "      <td>1990.0</td>\n",
       "      <td>AAKTEQQIADIVNRTITPLMQEQAIPGMAVAIIYQGKPYYFTWGKA...</td>\n",
       "    </tr>\n",
       "    <tr>\n",
       "      <th>1N8S</th>\n",
       "      <td>HYDROLASE</td>\n",
       "      <td>X-RAY DIFFRACTION</td>\n",
       "      <td>544.0</td>\n",
       "      <td>3.04</td>\n",
       "      <td>59919.29</td>\n",
       "      <td>293.0</td>\n",
       "      <td>3.90</td>\n",
       "      <td>68.44</td>\n",
       "      <td>6.0</td>\n",
       "      <td>1992.0</td>\n",
       "      <td>VPDPRGIIINLDEGELCLNSAQCKSNCCQHDTILSLLRCALKAREN...</td>\n",
       "    </tr>\n",
       "    <tr>\n",
       "      <th>1N8S</th>\n",
       "      <td>HYDROLASE</td>\n",
       "      <td>X-RAY DIFFRACTION</td>\n",
       "      <td>544.0</td>\n",
       "      <td>3.04</td>\n",
       "      <td>59919.29</td>\n",
       "      <td>293.0</td>\n",
       "      <td>3.90</td>\n",
       "      <td>68.44</td>\n",
       "      <td>6.0</td>\n",
       "      <td>1992.0</td>\n",
       "      <td>KEVCYERLGCFSDDSPWSGITERPLHILPWSPKDVNTRFLLYTNEN...</td>\n",
       "    </tr>\n",
       "    <tr>\n",
       "      <th>1N0J</th>\n",
       "      <td>OXIDOREDUCTASE</td>\n",
       "      <td>X-RAY DIFFRACTION</td>\n",
       "      <td>398.0</td>\n",
       "      <td>2.20</td>\n",
       "      <td>44838.49</td>\n",
       "      <td>293.0</td>\n",
       "      <td>2.31</td>\n",
       "      <td>46.81</td>\n",
       "      <td>7.5</td>\n",
       "      <td>1992.0</td>\n",
       "      <td>MKHSLPDLPYDYGALEPHINAQIMQLHHSKHHAAYVNNLNVTEEKY...</td>\n",
       "    </tr>\n",
       "    <tr>\n",
       "      <th>...</th>\n",
       "      <td>...</td>\n",
       "      <td>...</td>\n",
       "      <td>...</td>\n",
       "      <td>...</td>\n",
       "      <td>...</td>\n",
       "      <td>...</td>\n",
       "      <td>...</td>\n",
       "      <td>...</td>\n",
       "      <td>...</td>\n",
       "      <td>...</td>\n",
       "      <td>...</td>\n",
       "    </tr>\n",
       "    <tr>\n",
       "      <th>5NJU</th>\n",
       "      <td>VIRAL PROTEIN</td>\n",
       "      <td>X-RAY DIFFRACTION</td>\n",
       "      <td>520.0</td>\n",
       "      <td>2.10</td>\n",
       "      <td>58629.55</td>\n",
       "      <td>291.0</td>\n",
       "      <td>2.58</td>\n",
       "      <td>52.33</td>\n",
       "      <td>5.0</td>\n",
       "      <td>2018.0</td>\n",
       "      <td>GETLGEKWKARLNQMSALEFYSYKKSGITEVCREEARRALKDGVAT...</td>\n",
       "    </tr>\n",
       "    <tr>\n",
       "      <th>5NJD</th>\n",
       "      <td>IMMUNE SYSTEM</td>\n",
       "      <td>X-RAY DIFFRACTION</td>\n",
       "      <td>6360.0</td>\n",
       "      <td>3.90</td>\n",
       "      <td>701488.06</td>\n",
       "      <td>287.0</td>\n",
       "      <td>3.83</td>\n",
       "      <td>67.87</td>\n",
       "      <td>6.0</td>\n",
       "      <td>2018.0</td>\n",
       "      <td>MGILPSPGMPALLSLVSLLSVLLMGCVAQVQLVESGGGVVQPGRSL...</td>\n",
       "    </tr>\n",
       "    <tr>\n",
       "      <th>5NJD</th>\n",
       "      <td>IMMUNE SYSTEM</td>\n",
       "      <td>X-RAY DIFFRACTION</td>\n",
       "      <td>6360.0</td>\n",
       "      <td>3.90</td>\n",
       "      <td>701488.06</td>\n",
       "      <td>287.0</td>\n",
       "      <td>3.83</td>\n",
       "      <td>67.87</td>\n",
       "      <td>6.0</td>\n",
       "      <td>2018.0</td>\n",
       "      <td>MGILPSPGMPALLSLVSLLSVLLMGCVAQSVLTQPPSVSGAPGQRV...</td>\n",
       "    </tr>\n",
       "    <tr>\n",
       "      <th>5Y9D</th>\n",
       "      <td>OXIDOREDUCTASE</td>\n",
       "      <td>X-RAY DIFFRACTION</td>\n",
       "      <td>1418.0</td>\n",
       "      <td>2.50</td>\n",
       "      <td>160662.97</td>\n",
       "      <td>298.0</td>\n",
       "      <td>2.17</td>\n",
       "      <td>43.32</td>\n",
       "      <td>5.0</td>\n",
       "      <td>2018.0</td>\n",
       "      <td>MGSSHHHHHHSSGLVPRGSHMTTNTFTDPPVEMAKERGKTQFTVRD...</td>\n",
       "    </tr>\n",
       "    <tr>\n",
       "      <th>6F8P</th>\n",
       "      <td>VIRAL PROTEIN</td>\n",
       "      <td>X-RAY DIFFRACTION</td>\n",
       "      <td>316.0</td>\n",
       "      <td>1.60</td>\n",
       "      <td>34958.86</td>\n",
       "      <td>298.0</td>\n",
       "      <td>2.47</td>\n",
       "      <td>50.15</td>\n",
       "      <td>7.0</td>\n",
       "      <td>2018.0</td>\n",
       "      <td>EDPHLRNRPGKGHNYIDGMTQEDATCKPVTYAGACSSFDVLLEKGK...</td>\n",
       "    </tr>\n",
       "  </tbody>\n",
       "</table>\n",
       "<p>36146 rows × 11 columns</p>\n",
       "</div>"
      ],
      "text/plain": [
       "                  classification experimentalTechnique  residueCount  \\\n",
       "structureId                                                            \n",
       "2OZ9         DNA BINDING PROTEIN     X-RAY DIFFRACTION         107.0   \n",
       "1FR1                   HYDROLASE     X-RAY DIFFRACTION         722.0   \n",
       "1N8S                   HYDROLASE     X-RAY DIFFRACTION         544.0   \n",
       "1N8S                   HYDROLASE     X-RAY DIFFRACTION         544.0   \n",
       "1N0J              OXIDOREDUCTASE     X-RAY DIFFRACTION         398.0   \n",
       "...                          ...                   ...           ...   \n",
       "5NJU               VIRAL PROTEIN     X-RAY DIFFRACTION         520.0   \n",
       "5NJD               IMMUNE SYSTEM     X-RAY DIFFRACTION        6360.0   \n",
       "5NJD               IMMUNE SYSTEM     X-RAY DIFFRACTION        6360.0   \n",
       "5Y9D              OXIDOREDUCTASE     X-RAY DIFFRACTION        1418.0   \n",
       "6F8P               VIRAL PROTEIN     X-RAY DIFFRACTION         316.0   \n",
       "\n",
       "             resolution  structureMolecularWeight  crystallizationTempK  \\\n",
       "structureId                                                               \n",
       "2OZ9               1.65                  12562.21                 298.0   \n",
       "1FR1               2.00                  79510.50                 295.0   \n",
       "1N8S               3.04                  59919.29                 293.0   \n",
       "1N8S               3.04                  59919.29                 293.0   \n",
       "1N0J               2.20                  44838.49                 293.0   \n",
       "...                 ...                       ...                   ...   \n",
       "5NJU               2.10                  58629.55                 291.0   \n",
       "5NJD               3.90                 701488.06                 287.0   \n",
       "5NJD               3.90                 701488.06                 287.0   \n",
       "5Y9D               2.50                 160662.97                 298.0   \n",
       "6F8P               1.60                  34958.86                 298.0   \n",
       "\n",
       "             densityMatthews  densityPercentSol  phValue  publicationYear  \\\n",
       "structureId                                                                 \n",
       "2OZ9                    1.93              36.30      5.0           1988.0   \n",
       "1FR1                    2.34              47.46      8.0           1990.0   \n",
       "1N8S                    3.90              68.44      6.0           1992.0   \n",
       "1N8S                    3.90              68.44      6.0           1992.0   \n",
       "1N0J                    2.31              46.81      7.5           1992.0   \n",
       "...                      ...                ...      ...              ...   \n",
       "5NJU                    2.58              52.33      5.0           2018.0   \n",
       "5NJD                    3.83              67.87      6.0           2018.0   \n",
       "5NJD                    3.83              67.87      6.0           2018.0   \n",
       "5Y9D                    2.17              43.32      5.0           2018.0   \n",
       "6F8P                    2.47              50.15      7.0           2018.0   \n",
       "\n",
       "                                                      sequence  \n",
       "structureId                                                     \n",
       "2OZ9         AQQSPYSAAMAEQRHQEWLRFVDLLKNAYQNDLHLPLLNLMLTPDE...  \n",
       "1FR1         AAKTEQQIADIVNRTITPLMQEQAIPGMAVAIIYQGKPYYFTWGKA...  \n",
       "1N8S         VPDPRGIIINLDEGELCLNSAQCKSNCCQHDTILSLLRCALKAREN...  \n",
       "1N8S         KEVCYERLGCFSDDSPWSGITERPLHILPWSPKDVNTRFLLYTNEN...  \n",
       "1N0J         MKHSLPDLPYDYGALEPHINAQIMQLHHSKHHAAYVNNLNVTEEKY...  \n",
       "...                                                        ...  \n",
       "5NJU         GETLGEKWKARLNQMSALEFYSYKKSGITEVCREEARRALKDGVAT...  \n",
       "5NJD         MGILPSPGMPALLSLVSLLSVLLMGCVAQVQLVESGGGVVQPGRSL...  \n",
       "5NJD         MGILPSPGMPALLSLVSLLSVLLMGCVAQSVLTQPPSVSGAPGQRV...  \n",
       "5Y9D         MGSSHHHHHHSSGLVPRGSHMTTNTFTDPPVEMAKERGKTQFTVRD...  \n",
       "6F8P         EDPHLRNRPGKGHNYIDGMTQEDATCKPVTYAGACSSFDVLLEKGK...  \n",
       "\n",
       "[36146 rows x 11 columns]"
      ]
     },
     "execution_count": 79,
     "metadata": {},
     "output_type": "execute_result"
    }
   ],
   "source": [
    "df_exe.sort_values('publicationYear')"
   ]
  },
  {
   "cell_type": "code",
   "execution_count": 80,
   "metadata": {
    "pycharm": {
     "name": "#%%\n"
    }
   },
   "outputs": [
    {
     "data": {
      "text/html": [
       "<div>\n",
       "<style scoped>\n",
       "    .dataframe tbody tr th:only-of-type {\n",
       "        vertical-align: middle;\n",
       "    }\n",
       "\n",
       "    .dataframe tbody tr th {\n",
       "        vertical-align: top;\n",
       "    }\n",
       "\n",
       "    .dataframe thead th {\n",
       "        text-align: right;\n",
       "    }\n",
       "</style>\n",
       "<table border=\"1\" class=\"dataframe\">\n",
       "  <thead>\n",
       "    <tr style=\"text-align: right;\">\n",
       "      <th></th>\n",
       "      <th>classification</th>\n",
       "      <th>experimentalTechnique</th>\n",
       "      <th>residueCount</th>\n",
       "      <th>resolution</th>\n",
       "      <th>structureMolecularWeight</th>\n",
       "      <th>crystallizationTempK</th>\n",
       "      <th>densityMatthews</th>\n",
       "      <th>densityPercentSol</th>\n",
       "      <th>phValue</th>\n",
       "      <th>publicationYear</th>\n",
       "      <th>sequence</th>\n",
       "    </tr>\n",
       "    <tr>\n",
       "      <th>structureId</th>\n",
       "      <th></th>\n",
       "      <th></th>\n",
       "      <th></th>\n",
       "      <th></th>\n",
       "      <th></th>\n",
       "      <th></th>\n",
       "      <th></th>\n",
       "      <th></th>\n",
       "      <th></th>\n",
       "      <th></th>\n",
       "      <th></th>\n",
       "    </tr>\n",
       "  </thead>\n",
       "  <tbody>\n",
       "    <tr>\n",
       "      <th>6F0I</th>\n",
       "      <td>MEMBRANE PROTEIN</td>\n",
       "      <td>X-RAY DIFFRACTION</td>\n",
       "      <td>1585.0</td>\n",
       "      <td>3.00</td>\n",
       "      <td>186384.34</td>\n",
       "      <td>291.15</td>\n",
       "      <td>5.19</td>\n",
       "      <td>76.31</td>\n",
       "      <td>4.0</td>\n",
       "      <td>2017.0</td>\n",
       "      <td>GQDMVSPPPPIADEPLTVNTGIYLIACYSLDDKAETFKVNAFLSLS...</td>\n",
       "    </tr>\n",
       "    <tr>\n",
       "      <th>6F1C</th>\n",
       "      <td>HYDROLASE</td>\n",
       "      <td>X-RAY DIFFRACTION</td>\n",
       "      <td>1136.0</td>\n",
       "      <td>4.20</td>\n",
       "      <td>133183.53</td>\n",
       "      <td>293.00</td>\n",
       "      <td>4.58</td>\n",
       "      <td>73.12</td>\n",
       "      <td>8.0</td>\n",
       "      <td>2018.0</td>\n",
       "      <td>SIPIPQKLFGEVTSPLFPKPYPNNFETTTVITVPTGYRVKLVFQQF...</td>\n",
       "    </tr>\n",
       "    <tr>\n",
       "      <th>6F1C</th>\n",
       "      <td>HYDROLASE</td>\n",
       "      <td>X-RAY DIFFRACTION</td>\n",
       "      <td>1136.0</td>\n",
       "      <td>4.20</td>\n",
       "      <td>133183.53</td>\n",
       "      <td>293.00</td>\n",
       "      <td>4.58</td>\n",
       "      <td>73.12</td>\n",
       "      <td>8.0</td>\n",
       "      <td>2018.0</td>\n",
       "      <td>EPTMYGEILSPNYPQAYPSEVEKSWDIEVPEGYGIHLYFTHLDIEL...</td>\n",
       "    </tr>\n",
       "    <tr>\n",
       "      <th>6F1D</th>\n",
       "      <td>HYDROLASE</td>\n",
       "      <td>X-RAY DIFFRACTION</td>\n",
       "      <td>117.0</td>\n",
       "      <td>1.95</td>\n",
       "      <td>13480.91</td>\n",
       "      <td>298.00</td>\n",
       "      <td>2.91</td>\n",
       "      <td>57.70</td>\n",
       "      <td>8.5</td>\n",
       "      <td>2018.0</td>\n",
       "      <td>AECSSELYTEASGYISSLEYPRSYPPDLRCNYSIRVERGLTLHLKF...</td>\n",
       "    </tr>\n",
       "    <tr>\n",
       "      <th>6F5U</th>\n",
       "      <td>VIRAL PROTEIN</td>\n",
       "      <td>X-RAY DIFFRACTION</td>\n",
       "      <td>498.0</td>\n",
       "      <td>2.07</td>\n",
       "      <td>57299.72</td>\n",
       "      <td>293.00</td>\n",
       "      <td>3.48</td>\n",
       "      <td>64.67</td>\n",
       "      <td>5.2</td>\n",
       "      <td>2018.0</td>\n",
       "      <td>ETGRSIPLGVIHNSALQVSDVDKLVCRDKLSSTNQLRSVGLNLEGN...</td>\n",
       "    </tr>\n",
       "    <tr>\n",
       "      <th>6F5U</th>\n",
       "      <td>VIRAL PROTEIN</td>\n",
       "      <td>X-RAY DIFFRACTION</td>\n",
       "      <td>498.0</td>\n",
       "      <td>2.07</td>\n",
       "      <td>57299.72</td>\n",
       "      <td>293.00</td>\n",
       "      <td>3.48</td>\n",
       "      <td>64.67</td>\n",
       "      <td>5.2</td>\n",
       "      <td>2018.0</td>\n",
       "      <td>EAIVNAQPKCNPNLHYWTTQDEGAAIGLAWIPYFGPAAEGIYIEGL...</td>\n",
       "    </tr>\n",
       "    <tr>\n",
       "      <th>6F6P</th>\n",
       "      <td>HYDROLASE</td>\n",
       "      <td>X-RAY DIFFRACTION</td>\n",
       "      <td>424.0</td>\n",
       "      <td>2.45</td>\n",
       "      <td>47994.95</td>\n",
       "      <td>291.00</td>\n",
       "      <td>2.61</td>\n",
       "      <td>56.00</td>\n",
       "      <td>7.3</td>\n",
       "      <td>2018.0</td>\n",
       "      <td>GAASRLRSPSVLEVREKGYERLKEELAKAQRELKLKDEECERLSKV...</td>\n",
       "    </tr>\n",
       "    <tr>\n",
       "      <th>6F6P</th>\n",
       "      <td>HYDROLASE</td>\n",
       "      <td>X-RAY DIFFRACTION</td>\n",
       "      <td>424.0</td>\n",
       "      <td>2.45</td>\n",
       "      <td>47994.95</td>\n",
       "      <td>291.00</td>\n",
       "      <td>2.61</td>\n",
       "      <td>56.00</td>\n",
       "      <td>7.3</td>\n",
       "      <td>2018.0</td>\n",
       "      <td>GASSRLRSPSVLEVREKGYERLKEELAKAQRELKLKDEECERLSKV...</td>\n",
       "    </tr>\n",
       "    <tr>\n",
       "      <th>6F6S</th>\n",
       "      <td>VIRAL PROTEIN</td>\n",
       "      <td>X-RAY DIFFRACTION</td>\n",
       "      <td>497.0</td>\n",
       "      <td>2.29</td>\n",
       "      <td>58337.03</td>\n",
       "      <td>293.00</td>\n",
       "      <td>3.83</td>\n",
       "      <td>67.89</td>\n",
       "      <td>5.2</td>\n",
       "      <td>2018.0</td>\n",
       "      <td>ETGRSIPLGVIHNSALQVSDVDKLVCRDKLSSTNQLRSVGLNLEGN...</td>\n",
       "    </tr>\n",
       "    <tr>\n",
       "      <th>6F8P</th>\n",
       "      <td>VIRAL PROTEIN</td>\n",
       "      <td>X-RAY DIFFRACTION</td>\n",
       "      <td>316.0</td>\n",
       "      <td>1.60</td>\n",
       "      <td>34958.86</td>\n",
       "      <td>298.00</td>\n",
       "      <td>2.47</td>\n",
       "      <td>50.15</td>\n",
       "      <td>7.0</td>\n",
       "      <td>2018.0</td>\n",
       "      <td>EDPHLRNRPGKGHNYIDGMTQEDATCKPVTYAGACSSFDVLLEKGK...</td>\n",
       "    </tr>\n",
       "  </tbody>\n",
       "</table>\n",
       "</div>"
      ],
      "text/plain": [
       "               classification experimentalTechnique  residueCount  resolution  \\\n",
       "structureId                                                                     \n",
       "6F0I         MEMBRANE PROTEIN     X-RAY DIFFRACTION        1585.0        3.00   \n",
       "6F1C                HYDROLASE     X-RAY DIFFRACTION        1136.0        4.20   \n",
       "6F1C                HYDROLASE     X-RAY DIFFRACTION        1136.0        4.20   \n",
       "6F1D                HYDROLASE     X-RAY DIFFRACTION         117.0        1.95   \n",
       "6F5U            VIRAL PROTEIN     X-RAY DIFFRACTION         498.0        2.07   \n",
       "6F5U            VIRAL PROTEIN     X-RAY DIFFRACTION         498.0        2.07   \n",
       "6F6P                HYDROLASE     X-RAY DIFFRACTION         424.0        2.45   \n",
       "6F6P                HYDROLASE     X-RAY DIFFRACTION         424.0        2.45   \n",
       "6F6S            VIRAL PROTEIN     X-RAY DIFFRACTION         497.0        2.29   \n",
       "6F8P            VIRAL PROTEIN     X-RAY DIFFRACTION         316.0        1.60   \n",
       "\n",
       "             structureMolecularWeight  crystallizationTempK  densityMatthews  \\\n",
       "structureId                                                                    \n",
       "6F0I                        186384.34                291.15             5.19   \n",
       "6F1C                        133183.53                293.00             4.58   \n",
       "6F1C                        133183.53                293.00             4.58   \n",
       "6F1D                         13480.91                298.00             2.91   \n",
       "6F5U                         57299.72                293.00             3.48   \n",
       "6F5U                         57299.72                293.00             3.48   \n",
       "6F6P                         47994.95                291.00             2.61   \n",
       "6F6P                         47994.95                291.00             2.61   \n",
       "6F6S                         58337.03                293.00             3.83   \n",
       "6F8P                         34958.86                298.00             2.47   \n",
       "\n",
       "             densityPercentSol  phValue  publicationYear  \\\n",
       "structureId                                                \n",
       "6F0I                     76.31      4.0           2017.0   \n",
       "6F1C                     73.12      8.0           2018.0   \n",
       "6F1C                     73.12      8.0           2018.0   \n",
       "6F1D                     57.70      8.5           2018.0   \n",
       "6F5U                     64.67      5.2           2018.0   \n",
       "6F5U                     64.67      5.2           2018.0   \n",
       "6F6P                     56.00      7.3           2018.0   \n",
       "6F6P                     56.00      7.3           2018.0   \n",
       "6F6S                     67.89      5.2           2018.0   \n",
       "6F8P                     50.15      7.0           2018.0   \n",
       "\n",
       "                                                      sequence  \n",
       "structureId                                                     \n",
       "6F0I         GQDMVSPPPPIADEPLTVNTGIYLIACYSLDDKAETFKVNAFLSLS...  \n",
       "6F1C         SIPIPQKLFGEVTSPLFPKPYPNNFETTTVITVPTGYRVKLVFQQF...  \n",
       "6F1C         EPTMYGEILSPNYPQAYPSEVEKSWDIEVPEGYGIHLYFTHLDIEL...  \n",
       "6F1D         AECSSELYTEASGYISSLEYPRSYPPDLRCNYSIRVERGLTLHLKF...  \n",
       "6F5U         ETGRSIPLGVIHNSALQVSDVDKLVCRDKLSSTNQLRSVGLNLEGN...  \n",
       "6F5U         EAIVNAQPKCNPNLHYWTTQDEGAAIGLAWIPYFGPAAEGIYIEGL...  \n",
       "6F6P         GAASRLRSPSVLEVREKGYERLKEELAKAQRELKLKDEECERLSKV...  \n",
       "6F6P         GASSRLRSPSVLEVREKGYERLKEELAKAQRELKLKDEECERLSKV...  \n",
       "6F6S         ETGRSIPLGVIHNSALQVSDVDKLVCRDKLSSTNQLRSVGLNLEGN...  \n",
       "6F8P         EDPHLRNRPGKGHNYIDGMTQEDATCKPVTYAGACSSFDVLLEKGK...  "
      ]
     },
     "execution_count": 80,
     "metadata": {},
     "output_type": "execute_result"
    }
   ],
   "source": [
    "df_exe.tail(10)"
   ]
  },
  {
   "cell_type": "markdown",
   "metadata": {
    "pycharm": {
     "name": "#%% md\n"
    }
   },
   "source": [
    "**7. Write a program that finds the percentage distribution of PH values according to Acid-Base-Neutral Balance.**\n",
    "\n",
    "**Acidic:**\n",
    "\n",
    "**Base:**\n",
    "\n",
    "**Neutral:**"
   ]
  },
  {
   "cell_type": "code",
   "execution_count": 93,
   "metadata": {
    "pycharm": {
     "name": "#%%\n"
    }
   },
   "outputs": [],
   "source": [
    "def ph(ph):\n",
    "    if ph < 7 :\n",
    "        ph = 'Acidic'\n",
    "    elif ph > 7:\n",
    "        ph = 'Base'\n",
    "    else:\n",
    "        ph = 'Neutral'\n",
    "    return ph"
   ]
  },
  {
   "cell_type": "code",
   "execution_count": 94,
   "metadata": {
    "pycharm": {
     "name": "#%%\n"
    }
   },
   "outputs": [
    {
     "name": "stdout",
     "output_type": "stream",
     "text": [
      "<class 'pandas.core.frame.DataFrame'>\n",
      "Index: 36146 entries, 1A4S to 6F8P\n",
      "Data columns (total 12 columns):\n",
      " #   Column                    Non-Null Count  Dtype  \n",
      "---  ------                    --------------  -----  \n",
      " 0   classification            36146 non-null  object \n",
      " 1   experimentalTechnique     36146 non-null  object \n",
      " 2   residueCount              36146 non-null  float64\n",
      " 3   resolution                36146 non-null  float64\n",
      " 4   structureMolecularWeight  36146 non-null  float64\n",
      " 5   crystallizationTempK      36146 non-null  float64\n",
      " 6   densityMatthews           36146 non-null  float64\n",
      " 7   densityPercentSol         36146 non-null  float64\n",
      " 8   phValue                   36146 non-null  float64\n",
      " 9   publicationYear           36146 non-null  float64\n",
      " 10  sequence                  36146 non-null  object \n",
      " 11  pH                        36146 non-null  object \n",
      "dtypes: float64(8), object(4)\n",
      "memory usage: 3.6+ MB\n"
     ]
    }
   ],
   "source": [
    "df_exe.info()"
   ]
  },
  {
   "cell_type": "code",
   "execution_count": 135,
   "metadata": {
    "pycharm": {
     "name": "#%%\n"
    }
   },
   "outputs": [
    {
     "data": {
      "text/html": [
       "<div>\n",
       "<style scoped>\n",
       "    .dataframe tbody tr th:only-of-type {\n",
       "        vertical-align: middle;\n",
       "    }\n",
       "\n",
       "    .dataframe tbody tr th {\n",
       "        vertical-align: top;\n",
       "    }\n",
       "\n",
       "    .dataframe thead th {\n",
       "        text-align: right;\n",
       "    }\n",
       "</style>\n",
       "<table border=\"1\" class=\"dataframe\">\n",
       "  <thead>\n",
       "    <tr style=\"text-align: right;\">\n",
       "      <th></th>\n",
       "      <th>classification</th>\n",
       "      <th>experimentalTechnique</th>\n",
       "      <th>residueCount</th>\n",
       "      <th>resolution</th>\n",
       "      <th>structureMolecularWeight</th>\n",
       "      <th>crystallizationTempK</th>\n",
       "      <th>densityMatthews</th>\n",
       "      <th>densityPercentSol</th>\n",
       "      <th>phValue</th>\n",
       "      <th>publicationYear</th>\n",
       "      <th>sequence</th>\n",
       "      <th>pH</th>\n",
       "    </tr>\n",
       "    <tr>\n",
       "      <th>structureId</th>\n",
       "      <th></th>\n",
       "      <th></th>\n",
       "      <th></th>\n",
       "      <th></th>\n",
       "      <th></th>\n",
       "      <th></th>\n",
       "      <th></th>\n",
       "      <th></th>\n",
       "      <th></th>\n",
       "      <th></th>\n",
       "      <th></th>\n",
       "      <th></th>\n",
       "    </tr>\n",
       "  </thead>\n",
       "  <tbody>\n",
       "    <tr>\n",
       "      <th>1A4S</th>\n",
       "      <td>OXIDOREDUCTASE</td>\n",
       "      <td>X-RAY DIFFRACTION</td>\n",
       "      <td>2012.0</td>\n",
       "      <td>2.1</td>\n",
       "      <td>217689.59</td>\n",
       "      <td>287.0</td>\n",
       "      <td>2.43</td>\n",
       "      <td>41.00</td>\n",
       "      <td>7.5</td>\n",
       "      <td>1998.0</td>\n",
       "      <td>AQLVDSMPSASTGSVVVTDDLNYWGGRRIKSKDGATTEPVFEPATG...</td>\n",
       "      <td>Base</td>\n",
       "    </tr>\n",
       "    <tr>\n",
       "      <th>1A6Q</th>\n",
       "      <td>HYDROLASE</td>\n",
       "      <td>X-RAY DIFFRACTION</td>\n",
       "      <td>382.0</td>\n",
       "      <td>2.0</td>\n",
       "      <td>42707.55</td>\n",
       "      <td>277.0</td>\n",
       "      <td>2.97</td>\n",
       "      <td>59.00</td>\n",
       "      <td>5.0</td>\n",
       "      <td>1996.0</td>\n",
       "      <td>MGAFLDKPKMEKHNAQGQGNGLRYGLSSMQGWRVEMEDAHTAVIGL...</td>\n",
       "      <td>Acidic</td>\n",
       "    </tr>\n",
       "    <tr>\n",
       "      <th>1A72</th>\n",
       "      <td>OXIDOREDUCTASE</td>\n",
       "      <td>X-RAY DIFFRACTION</td>\n",
       "      <td>374.0</td>\n",
       "      <td>2.6</td>\n",
       "      <td>40658.50</td>\n",
       "      <td>277.0</td>\n",
       "      <td>2.30</td>\n",
       "      <td>46.82</td>\n",
       "      <td>8.4</td>\n",
       "      <td>1998.0</td>\n",
       "      <td>STAGKVIKCKAAVLWEEKKPFSIEEVEVAPPKAHEVRIKMVATGIC...</td>\n",
       "      <td>Base</td>\n",
       "    </tr>\n",
       "    <tr>\n",
       "      <th>1A8O</th>\n",
       "      <td>VIRAL PROTEIN</td>\n",
       "      <td>X-RAY DIFFRACTION</td>\n",
       "      <td>70.0</td>\n",
       "      <td>1.7</td>\n",
       "      <td>8175.72</td>\n",
       "      <td>277.0</td>\n",
       "      <td>2.21</td>\n",
       "      <td>43.80</td>\n",
       "      <td>8.0</td>\n",
       "      <td>1997.0</td>\n",
       "      <td>MDIRQGPKEPFRDYVDRFYKTLRAEQASQEVKNWMTETLLVQNANP...</td>\n",
       "      <td>Base</td>\n",
       "    </tr>\n",
       "    <tr>\n",
       "      <th>1ACC</th>\n",
       "      <td>TOXIN</td>\n",
       "      <td>X-RAY DIFFRACTION</td>\n",
       "      <td>735.0</td>\n",
       "      <td>2.1</td>\n",
       "      <td>82849.97</td>\n",
       "      <td>277.0</td>\n",
       "      <td>2.30</td>\n",
       "      <td>47.00</td>\n",
       "      <td>6.0</td>\n",
       "      <td>1997.0</td>\n",
       "      <td>EVKQENRLLNESESSSQGLLGYYFSDLNFQAPMVVTSSTTGDLSIP...</td>\n",
       "      <td>Acidic</td>\n",
       "    </tr>\n",
       "  </tbody>\n",
       "</table>\n",
       "</div>"
      ],
      "text/plain": [
       "             classification experimentalTechnique  residueCount  resolution  \\\n",
       "structureId                                                                   \n",
       "1A4S         OXIDOREDUCTASE     X-RAY DIFFRACTION        2012.0         2.1   \n",
       "1A6Q              HYDROLASE     X-RAY DIFFRACTION         382.0         2.0   \n",
       "1A72         OXIDOREDUCTASE     X-RAY DIFFRACTION         374.0         2.6   \n",
       "1A8O          VIRAL PROTEIN     X-RAY DIFFRACTION          70.0         1.7   \n",
       "1ACC                  TOXIN     X-RAY DIFFRACTION         735.0         2.1   \n",
       "\n",
       "             structureMolecularWeight  crystallizationTempK  densityMatthews  \\\n",
       "structureId                                                                    \n",
       "1A4S                        217689.59                 287.0             2.43   \n",
       "1A6Q                         42707.55                 277.0             2.97   \n",
       "1A72                         40658.50                 277.0             2.30   \n",
       "1A8O                          8175.72                 277.0             2.21   \n",
       "1ACC                         82849.97                 277.0             2.30   \n",
       "\n",
       "             densityPercentSol  phValue  publicationYear  \\\n",
       "structureId                                                \n",
       "1A4S                     41.00      7.5           1998.0   \n",
       "1A6Q                     59.00      5.0           1996.0   \n",
       "1A72                     46.82      8.4           1998.0   \n",
       "1A8O                     43.80      8.0           1997.0   \n",
       "1ACC                     47.00      6.0           1997.0   \n",
       "\n",
       "                                                      sequence      pH  \n",
       "structureId                                                             \n",
       "1A4S         AQLVDSMPSASTGSVVVTDDLNYWGGRRIKSKDGATTEPVFEPATG...    Base  \n",
       "1A6Q         MGAFLDKPKMEKHNAQGQGNGLRYGLSSMQGWRVEMEDAHTAVIGL...  Acidic  \n",
       "1A72         STAGKVIKCKAAVLWEEKKPFSIEEVEVAPPKAHEVRIKMVATGIC...    Base  \n",
       "1A8O         MDIRQGPKEPFRDYVDRFYKTLRAEQASQEVKNWMTETLLVQNANP...    Base  \n",
       "1ACC         EVKQENRLLNESESSSQGLLGYYFSDLNFQAPMVVTSSTTGDLSIP...  Acidic  "
      ]
     },
     "execution_count": 135,
     "metadata": {},
     "output_type": "execute_result"
    }
   ],
   "source": [
    "\n",
    "df_exe['pH'] = df_exe['phValue'].apply(ph)\n",
    "df_exe.head()"
   ]
  },
  {
   "cell_type": "code",
   "execution_count": 136,
   "metadata": {
    "pycharm": {
     "name": "#%%\n"
    }
   },
   "outputs": [
    {
     "data": {
      "text/plain": [
       "36146"
      ]
     },
     "execution_count": 136,
     "metadata": {},
     "output_type": "execute_result"
    }
   ],
   "source": [
    "len(df_exe)"
   ]
  },
  {
   "cell_type": "code",
   "execution_count": 97,
   "metadata": {
    "pycharm": {
     "name": "#%%\n"
    }
   },
   "outputs": [
    {
     "data": {
      "text/plain": [
       "Acidic     17214\n",
       "Base       15301\n",
       "Neutral     3631\n",
       "Name: pH, dtype: int64"
      ]
     },
     "execution_count": 97,
     "metadata": {},
     "output_type": "execute_result"
    }
   ],
   "source": [
    "counts_ph = df_exe.pH.value_counts()\n",
    "counts_ph"
   ]
  },
  {
   "cell_type": "code",
   "execution_count": 98,
   "metadata": {
    "pycharm": {
     "name": "#%%\n"
    }
   },
   "outputs": [
    {
     "data": {
      "text/plain": [
       "Acidic     47.623527\n",
       "Base       42.331102\n",
       "Neutral    10.045372\n",
       "Name: pH, dtype: float64"
      ]
     },
     "execution_count": 98,
     "metadata": {},
     "output_type": "execute_result"
    }
   ],
   "source": [
    "perc=counts_ph*100/len(df_exe)\n",
    "perc"
   ]
  },
  {
   "cell_type": "code",
   "execution_count": 113,
   "metadata": {
    "pycharm": {
     "name": "#%%\n"
    }
   },
   "outputs": [
    {
     "data": {
      "text/html": [
       "<div>\n",
       "<style scoped>\n",
       "    .dataframe tbody tr th:only-of-type {\n",
       "        vertical-align: middle;\n",
       "    }\n",
       "\n",
       "    .dataframe tbody tr th {\n",
       "        vertical-align: top;\n",
       "    }\n",
       "\n",
       "    .dataframe thead th {\n",
       "        text-align: right;\n",
       "    }\n",
       "</style>\n",
       "<table border=\"1\" class=\"dataframe\">\n",
       "  <thead>\n",
       "    <tr style=\"text-align: right;\">\n",
       "      <th></th>\n",
       "      <th>Type</th>\n",
       "      <th>perc_PH_dis</th>\n",
       "    </tr>\n",
       "  </thead>\n",
       "  <tbody>\n",
       "    <tr>\n",
       "      <th>0</th>\n",
       "      <td>Acidic</td>\n",
       "      <td>47.623527</td>\n",
       "    </tr>\n",
       "    <tr>\n",
       "      <th>1</th>\n",
       "      <td>Base</td>\n",
       "      <td>42.331102</td>\n",
       "    </tr>\n",
       "    <tr>\n",
       "      <th>2</th>\n",
       "      <td>Neutral</td>\n",
       "      <td>10.045372</td>\n",
       "    </tr>\n",
       "  </tbody>\n",
       "</table>\n",
       "</div>"
      ],
      "text/plain": [
       "      Type  perc_PH_dis\n",
       "0   Acidic    47.623527\n",
       "1     Base    42.331102\n",
       "2  Neutral    10.045372"
      ]
     },
     "execution_count": 113,
     "metadata": {},
     "output_type": "execute_result"
    }
   ],
   "source": [
    "#define DataFrame\n",
    "df_ph = pd.DataFrame({'Type':perc.index, 'perc_PH_dis':perc.values})\n",
    "df_ph"
   ]
  },
  {
   "cell_type": "code",
   "execution_count": 114,
   "metadata": {
    "pycharm": {
     "name": "#%%\n"
    }
   },
   "outputs": [],
   "source": [
    "#Graph\n",
    "labels= df_ph.keys()[0]\n",
    "values= df_ph.keys()[1] "
   ]
  },
  {
   "cell_type": "code",
   "execution_count": 116,
   "metadata": {
    "pycharm": {
     "name": "#%%\n"
    }
   },
   "outputs": [
    {
     "data": {
      "text/plain": [
       "Text(0, 0.5, 'perc_PH_dis')"
      ]
     },
     "execution_count": 116,
     "metadata": {},
     "output_type": "execute_result"
    },
    {
     "data": {
      "image/png": "[encoded data removed]",
      "text/plain": [
       "<Figure size 432x288 with 1 Axes>"
      ]
     },
     "metadata": {
      "needs_background": "light"
     },
     "output_type": "display_data"
    }
   ],
   "source": [
    "# df_null\n",
    "ax = df_ph.plot.bar(x=df_ph.keys()[0], y=df_ph.keys()[1], rot=90,title='Histogram of ph groups')\n",
    "# df_null.keys()[0] = columns\n",
    "# df_null.keys()[1] = null_count\n",
    "plt.xlabel('Type')\n",
    "plt.ylabel(\"perc_PH_dis\")"
   ]
  },
  {
   "cell_type": "code",
   "execution_count": 134,
   "metadata": {
    "pycharm": {
     "name": "#%%\n"
    }
   },
   "outputs": [
    {
     "data": {
      "image/png": "[encoded data removed]",
      "text/plain": [
       "<Figure size 432x288 with 1 Axes>"
      ]
     },
     "metadata": {},
     "output_type": "display_data"
    }
   ],
   "source": [
    "labels = df_ph['Type']\n",
    "colors = ['red', 'blue', 'gold']\n",
    "plt.pie(df_ph['perc_PH_dis'], labels= labels, colors=colors, startangle=90, autopct='%.1f%%')\n",
    "plt.show()"
   ]
  },
  {
   "cell_type": "markdown",
   "metadata": {
    "pycharm": {
     "name": "#%% md\n"
    }
   },
   "source": [
    "**8.Use groupby to find for each crystallization temperature which proteins crystallize at that temperature.**"
   ]
  },
  {
   "cell_type": "code",
   "execution_count": 65,
   "metadata": {
    "pycharm": {
     "name": "#%%\n"
    }
   },
   "outputs": [
    {
     "data": {
      "text/plain": [
       "crystallizationTempK\n",
       "4.0                               [1EC7, 1EQG, 1FBS, 1QB0]\n",
       "20.0      [1C12, 1C12, 1EH5, 1F4D, 1FBM, 1IYW, 1QD0, 1WE0]\n",
       "25.0                                                [1JEH]\n",
       "129.0                                               [1FCN]\n",
       "140.0                                               [1EYE]\n",
       "                               ...                        \n",
       "323.0    [1DFA, 1F9Z, 1G4U, 1G4U, 1I2M, 1I2M, 1M54, 1MF...\n",
       "333.0                                         [2I1W, 2I2F]\n",
       "334.0                                               [1JJE]\n",
       "335.0                                               [1P2F]\n",
       "398.0                                               [1N9E]\n",
       "Length: 134, dtype: object"
      ]
     },
     "execution_count": 65,
     "metadata": {},
     "output_type": "execute_result"
    }
   ],
   "source": [
    "df_exe.groupby(['crystallizationTempK']).apply(lambda x: x.index.tolist())\n"
   ]
  },
  {
   "cell_type": "code",
   "execution_count": 66,
   "metadata": {
    "pycharm": {
     "name": "#%%\n"
    }
   },
   "outputs": [
    {
     "data": {
      "text/plain": [
       "structureId\n",
       "1A4S    OXIDOREDUCTASE\n",
       "1A6Q         HYDROLASE\n",
       "1A72    OXIDOREDUCTASE\n",
       "1A8O     VIRAL PROTEIN\n",
       "1ACC             TOXIN\n",
       "             ...      \n",
       "6F5U     VIRAL PROTEIN\n",
       "6F6P         HYDROLASE\n",
       "6F6P         HYDROLASE\n",
       "6F6S     VIRAL PROTEIN\n",
       "6F8P     VIRAL PROTEIN\n",
       "Name: classification, Length: 36146, dtype: object"
      ]
     },
     "execution_count": 66,
     "metadata": {},
     "output_type": "execute_result"
    }
   ],
   "source": [
    "first_column = df_exe.iloc[:,0]\n",
    "first_column"
   ]
  },
  {
   "cell_type": "markdown",
   "metadata": {
    "pycharm": {
     "name": "#%% md\n"
    }
   },
   "source": [
    "**9.Create a new dataframe which contain only the maximum value of 'structureMolecularWeight' for each classification:**"
   ]
  },
  {
   "cell_type": "code",
   "execution_count": 71,
   "metadata": {
    "pycharm": {
     "name": "#%%\n"
    }
   },
   "outputs": [
    {
     "data": {
      "text/plain": [
       "array(['OXIDOREDUCTASE', 'HYDROLASE', 'VIRAL PROTEIN', 'TOXIN',\n",
       "       'HYDROLASE/HYDROLASE INHIBITOR', 'ELECTRON TRANSPORT',\n",
       "       'TRANSFERASE', 'LIGASE', 'SIGNALING PROTEIN', 'IMMUNE SYSTEM',\n",
       "       'LYASE', 'DNA BINDING PROTEIN', 'GENE REGULATION',\n",
       "       'MEMBRANE PROTEIN', 'CHAPERONE', 'SUGAR BINDING PROTEIN',\n",
       "       'TRANSCRIPTION', 'TRANSFERASE/TRANSFERASE INHIBITOR', 'ISOMERASE',\n",
       "       'CELL ADHESION', 'STRUCTURAL PROTEIN', 'RNA BINDING PROTEIN',\n",
       "       'TRANSPORT PROTEIN', 'PHOTOSYNTHESIS', 'METAL BINDING PROTEIN',\n",
       "       'UNKNOWN FUNCTION', 'CELL CYCLE', 'PROTEIN BINDING',\n",
       "       'PROTEIN TRANSPORT', 'OXIDOREDUCTASE/OXIDOREDUCTASE INHIBITOR'],\n",
       "      dtype=object)"
      ]
     },
     "execution_count": 71,
     "metadata": {},
     "output_type": "execute_result"
    }
   ],
   "source": [
    "type_classificarion = df_exe['classification'].unique()\n",
    "type_classificarion"
   ]
  },
  {
   "cell_type": "code",
   "execution_count": 74,
   "metadata": {
    "pycharm": {
     "name": "#%%\n"
    }
   },
   "outputs": [
    {
     "data": {
      "text/html": [
       "<div>\n",
       "<style scoped>\n",
       "    .dataframe tbody tr th:only-of-type {\n",
       "        vertical-align: middle;\n",
       "    }\n",
       "\n",
       "    .dataframe tbody tr th {\n",
       "        vertical-align: top;\n",
       "    }\n",
       "\n",
       "    .dataframe thead th {\n",
       "        text-align: right;\n",
       "    }\n",
       "</style>\n",
       "<table border=\"1\" class=\"dataframe\">\n",
       "  <thead>\n",
       "    <tr style=\"text-align: right;\">\n",
       "      <th></th>\n",
       "      <th>classification</th>\n",
       "      <th>experimentalTechnique</th>\n",
       "      <th>residueCount</th>\n",
       "      <th>resolution</th>\n",
       "      <th>structureMolecularWeight</th>\n",
       "      <th>crystallizationTempK</th>\n",
       "      <th>densityMatthews</th>\n",
       "      <th>densityPercentSol</th>\n",
       "      <th>phValue</th>\n",
       "      <th>publicationYear</th>\n",
       "      <th>sequence</th>\n",
       "      <th>pH</th>\n",
       "    </tr>\n",
       "    <tr>\n",
       "      <th>structureId</th>\n",
       "      <th></th>\n",
       "      <th></th>\n",
       "      <th></th>\n",
       "      <th></th>\n",
       "      <th></th>\n",
       "      <th></th>\n",
       "      <th></th>\n",
       "      <th></th>\n",
       "      <th></th>\n",
       "      <th></th>\n",
       "      <th></th>\n",
       "      <th></th>\n",
       "    </tr>\n",
       "  </thead>\n",
       "  <tbody>\n",
       "    <tr>\n",
       "      <th>3K6S</th>\n",
       "      <td>CELL ADHESION</td>\n",
       "      <td>X-RAY DIFFRACTION</td>\n",
       "      <td>7128.0</td>\n",
       "      <td>3.50</td>\n",
       "      <td>796314.75</td>\n",
       "      <td>277.0</td>\n",
       "      <td>3.69</td>\n",
       "      <td>66.64</td>\n",
       "      <td>6.50</td>\n",
       "      <td>2010.0</td>\n",
       "      <td>FNLDTEELTAFRVDSAGFGDSVVQYANSWVVVGAPQKITAANQTGG...</td>\n",
       "      <td>Acidic</td>\n",
       "    </tr>\n",
       "    <tr>\n",
       "      <th>3K6S</th>\n",
       "      <td>CELL ADHESION</td>\n",
       "      <td>X-RAY DIFFRACTION</td>\n",
       "      <td>7128.0</td>\n",
       "      <td>3.50</td>\n",
       "      <td>796314.75</td>\n",
       "      <td>277.0</td>\n",
       "      <td>3.69</td>\n",
       "      <td>66.64</td>\n",
       "      <td>6.50</td>\n",
       "      <td>2010.0</td>\n",
       "      <td>QECTKFKVSSCRECIESGPGCTWCQKLNFTGPGDPDSIRCDTRPQL...</td>\n",
       "      <td>Acidic</td>\n",
       "    </tr>\n",
       "    <tr>\n",
       "      <th>3DBL</th>\n",
       "      <td>CELL CYCLE</td>\n",
       "      <td>X-RAY DIFFRACTION</td>\n",
       "      <td>4212.0</td>\n",
       "      <td>2.90</td>\n",
       "      <td>473996.34</td>\n",
       "      <td>291.0</td>\n",
       "      <td>3.00</td>\n",
       "      <td>59.02</td>\n",
       "      <td>7.50</td>\n",
       "      <td>2008.0</td>\n",
       "      <td>MKLDWEGRWNHVKKFLERSGPFTHPDFEPSTESLQFLLDTCKVLVI...</td>\n",
       "      <td>Base</td>\n",
       "    </tr>\n",
       "    <tr>\n",
       "      <th>3DBL</th>\n",
       "      <td>CELL CYCLE</td>\n",
       "      <td>X-RAY DIFFRACTION</td>\n",
       "      <td>4212.0</td>\n",
       "      <td>2.90</td>\n",
       "      <td>473996.34</td>\n",
       "      <td>291.0</td>\n",
       "      <td>3.00</td>\n",
       "      <td>59.02</td>\n",
       "      <td>7.50</td>\n",
       "      <td>2008.0</td>\n",
       "      <td>GSRRASVGSGGSMLIKVKTLTGKEIEIDIEPTDKVERIKERVEEKE...</td>\n",
       "      <td>Base</td>\n",
       "    </tr>\n",
       "    <tr>\n",
       "      <th>6EKC</th>\n",
       "      <td>CHAPERONE</td>\n",
       "      <td>X-RAY DIFFRACTION</td>\n",
       "      <td>44480.0</td>\n",
       "      <td>2.63</td>\n",
       "      <td>4921404.50</td>\n",
       "      <td>291.0</td>\n",
       "      <td>2.56</td>\n",
       "      <td>52.02</td>\n",
       "      <td>7.00</td>\n",
       "      <td>2017.0</td>\n",
       "      <td>MAYTQSKSQKVGYQAGVKDYRLTYYTPDYTPKDTDILAAFRVTPQP...</td>\n",
       "      <td>Neutral</td>\n",
       "    </tr>\n",
       "    <tr>\n",
       "      <th>...</th>\n",
       "      <td>...</td>\n",
       "      <td>...</td>\n",
       "      <td>...</td>\n",
       "      <td>...</td>\n",
       "      <td>...</td>\n",
       "      <td>...</td>\n",
       "      <td>...</td>\n",
       "      <td>...</td>\n",
       "      <td>...</td>\n",
       "      <td>...</td>\n",
       "      <td>...</td>\n",
       "      <td>...</td>\n",
       "    </tr>\n",
       "    <tr>\n",
       "      <th>4NPQ</th>\n",
       "      <td>TRANSPORT PROTEIN</td>\n",
       "      <td>X-RAY DIFFRACTION</td>\n",
       "      <td>6360.0</td>\n",
       "      <td>4.35</td>\n",
       "      <td>726976.12</td>\n",
       "      <td>293.0</td>\n",
       "      <td>5.10</td>\n",
       "      <td>75.89</td>\n",
       "      <td>7.50</td>\n",
       "      <td>2014.0</td>\n",
       "      <td>AQDMVSPPPPIADEPLTVNTGIYLIECYSLDDKAETFKVNAFLSLS...</td>\n",
       "      <td>Base</td>\n",
       "    </tr>\n",
       "    <tr>\n",
       "      <th>4RKM</th>\n",
       "      <td>UNKNOWN FUNCTION</td>\n",
       "      <td>X-RAY DIFFRACTION</td>\n",
       "      <td>8784.0</td>\n",
       "      <td>2.20</td>\n",
       "      <td>1048876.38</td>\n",
       "      <td>298.0</td>\n",
       "      <td>2.55</td>\n",
       "      <td>51.68</td>\n",
       "      <td>7.25</td>\n",
       "      <td>2015.0</td>\n",
       "      <td>MLSGWSVLKGGNMKYWDKALLSLFMCVSTLSIAATHAVAMEGMQMT...</td>\n",
       "      <td>Base</td>\n",
       "    </tr>\n",
       "    <tr>\n",
       "      <th>4V96</th>\n",
       "      <td>VIRAL PROTEIN</td>\n",
       "      <td>X-RAY DIFFRACTION</td>\n",
       "      <td>16242.0</td>\n",
       "      <td>3.80</td>\n",
       "      <td>1776025.25</td>\n",
       "      <td>293.0</td>\n",
       "      <td>4.19</td>\n",
       "      <td>70.61</td>\n",
       "      <td>8.00</td>\n",
       "      <td>2012.0</td>\n",
       "      <td>MTEHFITLSTTEPNNNIGIVKLRHADVNSQAIVAQIVENGQPKNFE...</td>\n",
       "      <td>Base</td>\n",
       "    </tr>\n",
       "    <tr>\n",
       "      <th>4V96</th>\n",
       "      <td>VIRAL PROTEIN</td>\n",
       "      <td>X-RAY DIFFRACTION</td>\n",
       "      <td>16242.0</td>\n",
       "      <td>3.80</td>\n",
       "      <td>1776025.25</td>\n",
       "      <td>293.0</td>\n",
       "      <td>4.19</td>\n",
       "      <td>70.61</td>\n",
       "      <td>8.00</td>\n",
       "      <td>2012.0</td>\n",
       "      <td>GYKFRDTTKQKHYRNLPFIPTSAMSYDGAWLEELIEGYQTLAVEGR...</td>\n",
       "      <td>Base</td>\n",
       "    </tr>\n",
       "    <tr>\n",
       "      <th>4V96</th>\n",
       "      <td>VIRAL PROTEIN</td>\n",
       "      <td>X-RAY DIFFRACTION</td>\n",
       "      <td>16242.0</td>\n",
       "      <td>3.80</td>\n",
       "      <td>1776025.25</td>\n",
       "      <td>293.0</td>\n",
       "      <td>4.19</td>\n",
       "      <td>70.61</td>\n",
       "      <td>8.00</td>\n",
       "      <td>2012.0</td>\n",
       "      <td>MASIKKVYRGMKNGAETINDDLEAINSELTSGGNVVHKTGDETIAG...</td>\n",
       "      <td>Base</td>\n",
       "    </tr>\n",
       "  </tbody>\n",
       "</table>\n",
       "<p>113 rows × 12 columns</p>\n",
       "</div>"
      ],
      "text/plain": [
       "                classification experimentalTechnique  residueCount  \\\n",
       "structureId                                                          \n",
       "3K6S             CELL ADHESION     X-RAY DIFFRACTION        7128.0   \n",
       "3K6S             CELL ADHESION     X-RAY DIFFRACTION        7128.0   \n",
       "3DBL                CELL CYCLE     X-RAY DIFFRACTION        4212.0   \n",
       "3DBL                CELL CYCLE     X-RAY DIFFRACTION        4212.0   \n",
       "6EKC                 CHAPERONE     X-RAY DIFFRACTION       44480.0   \n",
       "...                        ...                   ...           ...   \n",
       "4NPQ         TRANSPORT PROTEIN     X-RAY DIFFRACTION        6360.0   \n",
       "4RKM          UNKNOWN FUNCTION     X-RAY DIFFRACTION        8784.0   \n",
       "4V96             VIRAL PROTEIN     X-RAY DIFFRACTION       16242.0   \n",
       "4V96             VIRAL PROTEIN     X-RAY DIFFRACTION       16242.0   \n",
       "4V96             VIRAL PROTEIN     X-RAY DIFFRACTION       16242.0   \n",
       "\n",
       "             resolution  structureMolecularWeight  crystallizationTempK  \\\n",
       "structureId                                                               \n",
       "3K6S               3.50                 796314.75                 277.0   \n",
       "3K6S               3.50                 796314.75                 277.0   \n",
       "3DBL               2.90                 473996.34                 291.0   \n",
       "3DBL               2.90                 473996.34                 291.0   \n",
       "6EKC               2.63                4921404.50                 291.0   \n",
       "...                 ...                       ...                   ...   \n",
       "4NPQ               4.35                 726976.12                 293.0   \n",
       "4RKM               2.20                1048876.38                 298.0   \n",
       "4V96               3.80                1776025.25                 293.0   \n",
       "4V96               3.80                1776025.25                 293.0   \n",
       "4V96               3.80                1776025.25                 293.0   \n",
       "\n",
       "             densityMatthews  densityPercentSol  phValue  publicationYear  \\\n",
       "structureId                                                                 \n",
       "3K6S                    3.69              66.64     6.50           2010.0   \n",
       "3K6S                    3.69              66.64     6.50           2010.0   \n",
       "3DBL                    3.00              59.02     7.50           2008.0   \n",
       "3DBL                    3.00              59.02     7.50           2008.0   \n",
       "6EKC                    2.56              52.02     7.00           2017.0   \n",
       "...                      ...                ...      ...              ...   \n",
       "4NPQ                    5.10              75.89     7.50           2014.0   \n",
       "4RKM                    2.55              51.68     7.25           2015.0   \n",
       "4V96                    4.19              70.61     8.00           2012.0   \n",
       "4V96                    4.19              70.61     8.00           2012.0   \n",
       "4V96                    4.19              70.61     8.00           2012.0   \n",
       "\n",
       "                                                      sequence       pH  \n",
       "structureId                                                              \n",
       "3K6S         FNLDTEELTAFRVDSAGFGDSVVQYANSWVVVGAPQKITAANQTGG...   Acidic  \n",
       "3K6S         QECTKFKVSSCRECIESGPGCTWCQKLNFTGPGDPDSIRCDTRPQL...   Acidic  \n",
       "3DBL         MKLDWEGRWNHVKKFLERSGPFTHPDFEPSTESLQFLLDTCKVLVI...     Base  \n",
       "3DBL         GSRRASVGSGGSMLIKVKTLTGKEIEIDIEPTDKVERIKERVEEKE...     Base  \n",
       "6EKC         MAYTQSKSQKVGYQAGVKDYRLTYYTPDYTPKDTDILAAFRVTPQP...  Neutral  \n",
       "...                                                        ...      ...  \n",
       "4NPQ         AQDMVSPPPPIADEPLTVNTGIYLIECYSLDDKAETFKVNAFLSLS...     Base  \n",
       "4RKM         MLSGWSVLKGGNMKYWDKALLSLFMCVSTLSIAATHAVAMEGMQMT...     Base  \n",
       "4V96         MTEHFITLSTTEPNNNIGIVKLRHADVNSQAIVAQIVENGQPKNFE...     Base  \n",
       "4V96         GYKFRDTTKQKHYRNLPFIPTSAMSYDGAWLEELIEGYQTLAVEGR...     Base  \n",
       "4V96         MASIKKVYRGMKNGAETINDDLEAINSELTSGGNVVHKTGDETIAG...     Base  \n",
       "\n",
       "[113 rows x 12 columns]"
      ]
     },
     "execution_count": 74,
     "metadata": {},
     "output_type": "execute_result"
    }
   ],
   "source": [
    "df_exe.loc[df_exe.groupby('classification')['structureMolecularWeight'].idxmax()]"
   ]
  },
  {
   "cell_type": "code",
   "execution_count": null,
   "metadata": {
    "pycharm": {
     "name": "#%%\n"
    }
   },
   "outputs": [],
   "source": []
  }
 ],
 "metadata": {
  "kernelspec": {
   "display_name": "Python 3 (ipykernel)",
   "language": "python",
   "name": "python3"
  },
  "language_info": {
   "codemirror_mode": {
    "name": "ipython",
    "version": 3
   },
   "file_extension": ".py",
   "mimetype": "text/x-python",
   "name": "python",
   "nbconvert_exporter": "python",
   "pygments_lexer": "ipython3",
   "version": "3.9.7"
  }
 },
 "nbformat": 4,
 "nbformat_minor": 4
}