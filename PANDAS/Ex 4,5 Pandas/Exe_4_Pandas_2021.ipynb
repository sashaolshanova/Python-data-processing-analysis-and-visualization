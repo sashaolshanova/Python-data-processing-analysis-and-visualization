{
 "cells": [
  {
   "cell_type": "markdown",
   "metadata": {},
   "source": [
    "# Pandas"
   ]
  },
  {
   "cell_type": "markdown",
   "metadata": {},
   "source": [
    "**What is Pandas?**\n",
    "Pandas is a Python library used for working with data sets.\n",
    "\n",
    "It has functions for analyzing, cleaning, exploring, and manipulating data.\n",
    "\n",
    "**Why Use Pandas?**\n",
    "Pandas allows us to analyze big data and make conclusions based on statistical theories.\n",
    "\n",
    "Pandas can clean messy data sets, and make them readable and relevant.\n",
    "\n",
    "Relevant data is very important in data science."
   ]
  },
  {
   "cell_type": "markdown",
   "metadata": {},
   "source": [
    "**Installation of Pandas**\n",
    "\n",
    "    Install it by running this cell:\n",
    "\n",
    "    "
   ]
  },
  {
   "cell_type": "code",
   "execution_count": 1,
   "metadata": {},
   "outputs": [
    {
     "name": "stdout",
     "output_type": "stream",
     "text": [
      "Requirement already satisfied: pandas in /Users/sashaolshanova/opt/anaconda3/lib/python3.9/site-packages (1.4.4)\n",
      "Requirement already satisfied: python-dateutil>=2.8.1 in /Users/sashaolshanova/opt/anaconda3/lib/python3.9/site-packages (from pandas) (2.8.2)\n",
      "Requirement already satisfied: pytz>=2020.1 in /Users/sashaolshanova/opt/anaconda3/lib/python3.9/site-packages (from pandas) (2022.1)\n",
      "Requirement already satisfied: numpy>=1.18.5 in /Users/sashaolshanova/opt/anaconda3/lib/python3.9/site-packages (from pandas) (1.21.5)\n",
      "Requirement already satisfied: six>=1.5 in /Users/sashaolshanova/opt/anaconda3/lib/python3.9/site-packages (from python-dateutil>=2.8.1->pandas) (1.16.0)\n"
     ]
    }
   ],
   "source": [
    "!pip install pandas"
   ]
  },
  {
   "cell_type": "markdown",
   "metadata": {},
   "source": [
    "**Import Pandas**\n",
    "\n",
    "Once Pandas is installed, import it in your applications by adding the import keyword:\n"
   ]
  },
  {
   "cell_type": "code",
   "execution_count": 1,
   "metadata": {},
   "outputs": [],
   "source": [
    "import pandas as pd"
   ]
  },
  {
   "cell_type": "code",
   "execution_count": 2,
   "metadata": {},
   "outputs": [],
   "source": [
    "import numpy as np"
   ]
  },
  {
   "cell_type": "markdown",
   "metadata": {},
   "source": [
    "Data sets in Pandas are usually multi-dimensional tables, called **DataFrames**.\n",
    "\n",
    "**Series** is like a column, a DataFrame is the whole table.\n",
    "\n",
    "We can use either dictionary or series object to create a new DataFrame:"
   ]
  },
  {
   "cell_type": "code",
   "execution_count": 4,
   "metadata": {},
   "outputs": [
    {
     "data": {
      "text/html": [
       "<div>\n",
       "<style scoped>\n",
       "    .dataframe tbody tr th:only-of-type {\n",
       "        vertical-align: middle;\n",
       "    }\n",
       "\n",
       "    .dataframe tbody tr th {\n",
       "        vertical-align: top;\n",
       "    }\n",
       "\n",
       "    .dataframe thead th {\n",
       "        text-align: right;\n",
       "    }\n",
       "</style>\n",
       "<table border=\"1\" class=\"dataframe\">\n",
       "  <thead>\n",
       "    <tr style=\"text-align: right;\">\n",
       "      <th></th>\n",
       "      <th>A</th>\n",
       "      <th>B</th>\n",
       "      <th>C</th>\n",
       "    </tr>\n",
       "  </thead>\n",
       "  <tbody>\n",
       "    <tr>\n",
       "      <th>0</th>\n",
       "      <td>1</td>\n",
       "      <td>5</td>\n",
       "      <td>9</td>\n",
       "    </tr>\n",
       "    <tr>\n",
       "      <th>1</th>\n",
       "      <td>2</td>\n",
       "      <td>6</td>\n",
       "      <td>10</td>\n",
       "    </tr>\n",
       "    <tr>\n",
       "      <th>2</th>\n",
       "      <td>3</td>\n",
       "      <td>7</td>\n",
       "      <td>11</td>\n",
       "    </tr>\n",
       "    <tr>\n",
       "      <th>3</th>\n",
       "      <td>4</td>\n",
       "      <td>8</td>\n",
       "      <td>12</td>\n",
       "    </tr>\n",
       "  </tbody>\n",
       "</table>\n",
       "</div>"
      ],
      "text/plain": [
       "   A  B   C\n",
       "0  1  5   9\n",
       "1  2  6  10\n",
       "2  3  7  11\n",
       "3  4  8  12"
      ]
     },
     "execution_count": 4,
     "metadata": {},
     "output_type": "execute_result"
    }
   ],
   "source": [
    "df = pd.DataFrame({'A': [1,2,3,4], 'B': [5,6,7,8], 'C': [9,10,11,12]})\n",
    "df"
   ]
  },
  {
   "cell_type": "markdown",
   "metadata": {},
   "source": [
    "You can pass a list of columns to [] to select columns in that order. If a column is not contained in the DataFrame, an exception will be raised. Multiple columns can also be set in this manner:"
   ]
  },
  {
   "cell_type": "code",
   "execution_count": 5,
   "metadata": {},
   "outputs": [
    {
     "data": {
      "text/html": [
       "<div>\n",
       "<style scoped>\n",
       "    .dataframe tbody tr th:only-of-type {\n",
       "        vertical-align: middle;\n",
       "    }\n",
       "\n",
       "    .dataframe tbody tr th {\n",
       "        vertical-align: top;\n",
       "    }\n",
       "\n",
       "    .dataframe thead th {\n",
       "        text-align: right;\n",
       "    }\n",
       "</style>\n",
       "<table border=\"1\" class=\"dataframe\">\n",
       "  <thead>\n",
       "    <tr style=\"text-align: right;\">\n",
       "      <th></th>\n",
       "      <th>B</th>\n",
       "      <th>A</th>\n",
       "    </tr>\n",
       "  </thead>\n",
       "  <tbody>\n",
       "    <tr>\n",
       "      <th>0</th>\n",
       "      <td>5</td>\n",
       "      <td>1</td>\n",
       "    </tr>\n",
       "    <tr>\n",
       "      <th>1</th>\n",
       "      <td>6</td>\n",
       "      <td>2</td>\n",
       "    </tr>\n",
       "    <tr>\n",
       "      <th>2</th>\n",
       "      <td>7</td>\n",
       "      <td>3</td>\n",
       "    </tr>\n",
       "    <tr>\n",
       "      <th>3</th>\n",
       "      <td>8</td>\n",
       "      <td>4</td>\n",
       "    </tr>\n",
       "  </tbody>\n",
       "</table>\n",
       "</div>"
      ],
      "text/plain": [
       "   B  A\n",
       "0  5  1\n",
       "1  6  2\n",
       "2  7  3\n",
       "3  8  4"
      ]
     },
     "execution_count": 5,
     "metadata": {},
     "output_type": "execute_result"
    }
   ],
   "source": [
    "df[['B', 'A']] "
   ]
  },
  {
   "cell_type": "code",
   "execution_count": 5,
   "metadata": {},
   "outputs": [
    {
     "data": {
      "text/html": [
       "<div>\n",
       "<style scoped>\n",
       "    .dataframe tbody tr th:only-of-type {\n",
       "        vertical-align: middle;\n",
       "    }\n",
       "\n",
       "    .dataframe tbody tr th {\n",
       "        vertical-align: top;\n",
       "    }\n",
       "\n",
       "    .dataframe thead th {\n",
       "        text-align: right;\n",
       "    }\n",
       "</style>\n",
       "<table border=\"1\" class=\"dataframe\">\n",
       "  <thead>\n",
       "    <tr style=\"text-align: right;\">\n",
       "      <th></th>\n",
       "      <th>A</th>\n",
       "      <th>B</th>\n",
       "    </tr>\n",
       "  </thead>\n",
       "  <tbody>\n",
       "    <tr>\n",
       "      <th>0</th>\n",
       "      <td>1</td>\n",
       "      <td>5</td>\n",
       "    </tr>\n",
       "    <tr>\n",
       "      <th>1</th>\n",
       "      <td>2</td>\n",
       "      <td>6</td>\n",
       "    </tr>\n",
       "    <tr>\n",
       "      <th>2</th>\n",
       "      <td>3</td>\n",
       "      <td>7</td>\n",
       "    </tr>\n",
       "    <tr>\n",
       "      <th>3</th>\n",
       "      <td>4</td>\n",
       "      <td>8</td>\n",
       "    </tr>\n",
       "  </tbody>\n",
       "</table>\n",
       "</div>"
      ],
      "text/plain": [
       "   A  B\n",
       "0  1  5\n",
       "1  2  6\n",
       "2  3  7\n",
       "3  4  8"
      ]
     },
     "execution_count": 5,
     "metadata": {},
     "output_type": "execute_result"
    }
   ],
   "source": [
    "df[['A', 'B']]"
   ]
  },
  {
   "cell_type": "markdown",
   "metadata": {},
   "source": [
    "Getting values from an object with multi-axes selection uses the following notation (using .loc as an example, but the following applies to .iloc as well). Any of the axes accessors may be the null slice :. Axes left out of the specification are assumed to be :, e.g. p.loc['a'] is equivalent to p.loc['a', :, :].\n",
    "\n",
    "       "
   ]
  },
  {
   "cell_type": "markdown",
   "metadata": {},
   "source": [
    "**Object Type:**\n",
    "\n",
    "<table>\n",
    "    <tr><th> Object Type </th><th>Indexers </td></tr>\n",
    "    <tr><td> Series </th><td>  s.loc[ indexer ] </td></tr>\n",
    "    <tr><td> DataFrame </th><td> df.loc[ row_indexer, column_indexer ] </td></tr>\n",
    "  "
   ]
  },
  {
   "cell_type": "markdown",
   "metadata": {
    "hidden": true,
    "id": "VcOr8xi2s-24"
   },
   "source": [
    "**Indexing columns is view**\n",
    "\n",
    "By analogy to getting a entire list from 2d array by indexing as view, when pandas selects a single column from a DataFrame, pandas creates a view and not a copy."
   ]
  },
  {
   "cell_type": "code",
   "execution_count": 6,
   "metadata": {
    "colab": {
     "base_uri": "https://localhost:8080/",
     "height": 171
    },
    "executionInfo": {
     "elapsed": 597,
     "status": "ok",
     "timestamp": 1584995547720,
     "user": {
      "displayName": "Refael Kohen",
      "photoUrl": "https://lh3.googleusercontent.com/a-/AOh14Gg5ZeyNYsDdD964kaFUw8v-zfPRfPa1_PiNDhBIMsY=s64",
      "userId": "05391267118572439304"
     },
     "user_tz": -120
    },
    "hidden": true,
    "id": "F_3P5Dll4RhW",
    "outputId": "dfee816d-962a-4adc-fc8e-fab92c536658"
   },
   "outputs": [
    {
     "data": {
      "text/html": [
       "<div>\n",
       "<style scoped>\n",
       "    .dataframe tbody tr th:only-of-type {\n",
       "        vertical-align: middle;\n",
       "    }\n",
       "\n",
       "    .dataframe tbody tr th {\n",
       "        vertical-align: top;\n",
       "    }\n",
       "\n",
       "    .dataframe thead th {\n",
       "        text-align: right;\n",
       "    }\n",
       "</style>\n",
       "<table border=\"1\" class=\"dataframe\">\n",
       "  <thead>\n",
       "    <tr style=\"text-align: right;\">\n",
       "      <th></th>\n",
       "      <th>A</th>\n",
       "      <th>B</th>\n",
       "      <th>C</th>\n",
       "    </tr>\n",
       "  </thead>\n",
       "  <tbody>\n",
       "    <tr>\n",
       "      <th>0</th>\n",
       "      <td>900</td>\n",
       "      <td>5</td>\n",
       "      <td>9</td>\n",
       "    </tr>\n",
       "    <tr>\n",
       "      <th>1</th>\n",
       "      <td>900</td>\n",
       "      <td>6</td>\n",
       "      <td>10</td>\n",
       "    </tr>\n",
       "    <tr>\n",
       "      <th>2</th>\n",
       "      <td>3</td>\n",
       "      <td>7</td>\n",
       "      <td>11</td>\n",
       "    </tr>\n",
       "    <tr>\n",
       "      <th>3</th>\n",
       "      <td>4</td>\n",
       "      <td>8</td>\n",
       "      <td>12</td>\n",
       "    </tr>\n",
       "  </tbody>\n",
       "</table>\n",
       "</div>"
      ],
      "text/plain": [
       "     A  B   C\n",
       "0  900  5   9\n",
       "1  900  6  10\n",
       "2    3  7  11\n",
       "3    4  8  12"
      ]
     },
     "execution_count": 6,
     "metadata": {},
     "output_type": "execute_result"
    }
   ],
   "source": [
    "df = pd.DataFrame({'A': [1,2,3,4], 'B': [5,6,7,8], 'C': [9,10,11,12]})\n",
    "s = df['A'] #viev\n",
    "s[0:2]=900\n",
    "df"
   ]
  },
  {
   "cell_type": "code",
   "execution_count": 20,
   "metadata": {},
   "outputs": [
    {
     "data": {
      "text/html": [
       "<div>\n",
       "<style scoped>\n",
       "    .dataframe tbody tr th:only-of-type {\n",
       "        vertical-align: middle;\n",
       "    }\n",
       "\n",
       "    .dataframe tbody tr th {\n",
       "        vertical-align: top;\n",
       "    }\n",
       "\n",
       "    .dataframe thead th {\n",
       "        text-align: right;\n",
       "    }\n",
       "</style>\n",
       "<table border=\"1\" class=\"dataframe\">\n",
       "  <thead>\n",
       "    <tr style=\"text-align: right;\">\n",
       "      <th></th>\n",
       "      <th>A</th>\n",
       "      <th>B</th>\n",
       "      <th>C</th>\n",
       "    </tr>\n",
       "  </thead>\n",
       "  <tbody>\n",
       "    <tr>\n",
       "      <th>0</th>\n",
       "      <td>100</td>\n",
       "      <td>100</td>\n",
       "      <td>9</td>\n",
       "    </tr>\n",
       "    <tr>\n",
       "      <th>1</th>\n",
       "      <td>2</td>\n",
       "      <td>6</td>\n",
       "      <td>10</td>\n",
       "    </tr>\n",
       "    <tr>\n",
       "      <th>2</th>\n",
       "      <td>3</td>\n",
       "      <td>7</td>\n",
       "      <td>11</td>\n",
       "    </tr>\n",
       "    <tr>\n",
       "      <th>3</th>\n",
       "      <td>4</td>\n",
       "      <td>8</td>\n",
       "      <td>12</td>\n",
       "    </tr>\n",
       "  </tbody>\n",
       "</table>\n",
       "</div>"
      ],
      "text/plain": [
       "     A    B   C\n",
       "0  100  100   9\n",
       "1    2    6  10\n",
       "2    3    7  11\n",
       "3    4    8  12"
      ]
     },
     "execution_count": 20,
     "metadata": {},
     "output_type": "execute_result"
    }
   ],
   "source": [
    "df2 = pd.DataFrame({'A': [1,2,3,4], 'B': [5,6,7,8], 'C': [9,10,11,12]})\n",
    "df2.loc[0, ['A','B']] = 100\n",
    "df2"
   ]
  },
  {
   "cell_type": "markdown",
   "metadata": {
    "hidden": true,
    "id": "BhNvr7oPs-25"
   },
   "source": [
    "**\"Fancy indexing\"** is **copy**\n",
    "\n",
    "Whenever you make a subset selection, pandas creates either **a view or a copy.**\n",
    "\n",
    "The SettingWithCopy warning gets triggered when you make a subset selection and then try to assign new values within this selection."
   ]
  },
  {
   "cell_type": "code",
   "execution_count": 10,
   "metadata": {
    "hidden": true,
    "id": "_OxYzriPs-25",
    "outputId": "f930d7d1-2202-4156-a871-e0ca454793a3"
   },
   "outputs": [
    {
     "name": "stderr",
     "output_type": "stream",
     "text": [
      "/var/folders/m8/v8_kdm011wg6m28tjk9k1lww0000gn/T/ipykernel_33442/3930379489.py:3: SettingWithCopyWarning: \n",
      "A value is trying to be set on a copy of a slice from a DataFrame\n",
      "\n",
      "See the caveats in the documentation: https://pandas.pydata.org/pandas-docs/stable/user_guide/indexing.html#returning-a-view-versus-a-copy\n",
      "  SSS.loc[0:2,'A']=100\n"
     ]
    },
    {
     "data": {
      "text/html": [
       "<div>\n",
       "<style scoped>\n",
       "    .dataframe tbody tr th:only-of-type {\n",
       "        vertical-align: middle;\n",
       "    }\n",
       "\n",
       "    .dataframe tbody tr th {\n",
       "        vertical-align: top;\n",
       "    }\n",
       "\n",
       "    .dataframe thead th {\n",
       "        text-align: right;\n",
       "    }\n",
       "</style>\n",
       "<table border=\"1\" class=\"dataframe\">\n",
       "  <thead>\n",
       "    <tr style=\"text-align: right;\">\n",
       "      <th></th>\n",
       "      <th>A</th>\n",
       "      <th>B</th>\n",
       "      <th>C</th>\n",
       "    </tr>\n",
       "  </thead>\n",
       "  <tbody>\n",
       "    <tr>\n",
       "      <th>0</th>\n",
       "      <td>1</td>\n",
       "      <td>5</td>\n",
       "      <td>9</td>\n",
       "    </tr>\n",
       "    <tr>\n",
       "      <th>1</th>\n",
       "      <td>2</td>\n",
       "      <td>6</td>\n",
       "      <td>10</td>\n",
       "    </tr>\n",
       "    <tr>\n",
       "      <th>2</th>\n",
       "      <td>3</td>\n",
       "      <td>7</td>\n",
       "      <td>11</td>\n",
       "    </tr>\n",
       "    <tr>\n",
       "      <th>3</th>\n",
       "      <td>4</td>\n",
       "      <td>8</td>\n",
       "      <td>12</td>\n",
       "    </tr>\n",
       "  </tbody>\n",
       "</table>\n",
       "</div>"
      ],
      "text/plain": [
       "   A  B   C\n",
       "0  1  5   9\n",
       "1  2  6  10\n",
       "2  3  7  11\n",
       "3  4  8  12"
      ]
     },
     "execution_count": 10,
     "metadata": {},
     "output_type": "execute_result"
    }
   ],
   "source": [
    "df = pd.DataFrame({'A': [1,2,3,4], 'B': [5,6,7,8], 'C': [9,10,11,12]})\n",
    "SSS= df[['A', 'C']] #copy\n",
    "SSS.loc[0:2,'A']=100\n",
    "df\n",
    "#The warning is correct. You try to set value on copy. "
   ]
  },
  {
   "cell_type": "markdown",
   "metadata": {
    "hidden": true,
    "id": "vjxlBdzzOKqE"
   },
   "source": [
    "**The correct way:**"
   ]
  },
  {
   "cell_type": "code",
   "execution_count": 11,
   "metadata": {
    "colab": {
     "base_uri": "https://localhost:8080/",
     "height": 171
    },
    "executionInfo": {
     "elapsed": 715,
     "status": "ok",
     "timestamp": 1584997689388,
     "user": {
      "displayName": "Refael Kohen",
      "photoUrl": "https://lh3.googleusercontent.com/a-/AOh14Gg5ZeyNYsDdD964kaFUw8v-zfPRfPa1_PiNDhBIMsY=s64",
      "userId": "05391267118572439304"
     },
     "user_tz": -120
    },
    "hidden": true,
    "id": "gDv3LEiOOOhm",
    "outputId": "ae087e32-2b62-43d4-c28a-844fa3f0ea63"
   },
   "outputs": [
    {
     "data": {
      "text/html": [
       "<div>\n",
       "<style scoped>\n",
       "    .dataframe tbody tr th:only-of-type {\n",
       "        vertical-align: middle;\n",
       "    }\n",
       "\n",
       "    .dataframe tbody tr th {\n",
       "        vertical-align: top;\n",
       "    }\n",
       "\n",
       "    .dataframe thead th {\n",
       "        text-align: right;\n",
       "    }\n",
       "</style>\n",
       "<table border=\"1\" class=\"dataframe\">\n",
       "  <thead>\n",
       "    <tr style=\"text-align: right;\">\n",
       "      <th></th>\n",
       "      <th>A</th>\n",
       "      <th>B</th>\n",
       "      <th>C</th>\n",
       "    </tr>\n",
       "  </thead>\n",
       "  <tbody>\n",
       "    <tr>\n",
       "      <th>0</th>\n",
       "      <td>100</td>\n",
       "      <td>100</td>\n",
       "      <td>9</td>\n",
       "    </tr>\n",
       "    <tr>\n",
       "      <th>1</th>\n",
       "      <td>2</td>\n",
       "      <td>6</td>\n",
       "      <td>10</td>\n",
       "    </tr>\n",
       "    <tr>\n",
       "      <th>2</th>\n",
       "      <td>3</td>\n",
       "      <td>7</td>\n",
       "      <td>11</td>\n",
       "    </tr>\n",
       "    <tr>\n",
       "      <th>3</th>\n",
       "      <td>4</td>\n",
       "      <td>8</td>\n",
       "      <td>12</td>\n",
       "    </tr>\n",
       "  </tbody>\n",
       "</table>\n",
       "</div>"
      ],
      "text/plain": [
       "     A    B   C\n",
       "0  100  100   9\n",
       "1    2    6  10\n",
       "2    3    7  11\n",
       "3    4    8  12"
      ]
     },
     "execution_count": 11,
     "metadata": {},
     "output_type": "execute_result"
    }
   ],
   "source": [
    "df = pd.DataFrame({'A': [1,2,3,4], 'B': [5,6,7,8], 'C': [9,10,11,12]})\n",
    "df.loc[0, ['A','B']] = 100\n",
    "df"
   ]
  },
  {
   "cell_type": "markdown",
   "metadata": {
    "hidden": true,
    "id": "XpzwSxj2ZbaL"
   },
   "source": [
    "<br>**Chain indexing - Multi-index**"
   ]
  },
  {
   "cell_type": "code",
   "execution_count": 12,
   "metadata": {
    "colab": {
     "base_uri": "https://localhost:8080/",
     "height": 232
    },
    "executionInfo": {
     "elapsed": 775,
     "status": "ok",
     "timestamp": 1585034308059,
     "user": {
      "displayName": "Refael Kohen",
      "photoUrl": "https://lh3.googleusercontent.com/a-/AOh14Gg5ZeyNYsDdD964kaFUw8v-zfPRfPa1_PiNDhBIMsY=s64",
      "userId": "05391267118572439304"
     },
     "user_tz": -120
    },
    "hidden": true,
    "id": "91Tc6qkiZhxc",
    "outputId": "2570649d-01c6-4da1-d21a-37f9911e3ee0"
   },
   "outputs": [
    {
     "data": {
      "text/html": [
       "<div>\n",
       "<style scoped>\n",
       "    .dataframe tbody tr th:only-of-type {\n",
       "        vertical-align: middle;\n",
       "    }\n",
       "\n",
       "    .dataframe tbody tr th {\n",
       "        vertical-align: top;\n",
       "    }\n",
       "\n",
       "    .dataframe thead th {\n",
       "        text-align: right;\n",
       "    }\n",
       "</style>\n",
       "<table border=\"1\" class=\"dataframe\">\n",
       "  <thead>\n",
       "    <tr style=\"text-align: right;\">\n",
       "      <th></th>\n",
       "      <th></th>\n",
       "      <th>A</th>\n",
       "      <th>B</th>\n",
       "    </tr>\n",
       "  </thead>\n",
       "  <tbody>\n",
       "    <tr>\n",
       "      <th rowspan=\"3\" valign=\"top\">G1</th>\n",
       "      <th>1</th>\n",
       "      <td>0.025531</td>\n",
       "      <td>0.004768</td>\n",
       "    </tr>\n",
       "    <tr>\n",
       "      <th>2</th>\n",
       "      <td>0.650119</td>\n",
       "      <td>-0.486317</td>\n",
       "    </tr>\n",
       "    <tr>\n",
       "      <th>3</th>\n",
       "      <td>-0.410586</td>\n",
       "      <td>2.683617</td>\n",
       "    </tr>\n",
       "    <tr>\n",
       "      <th rowspan=\"3\" valign=\"top\">G2</th>\n",
       "      <th>1</th>\n",
       "      <td>1.679767</td>\n",
       "      <td>-0.482007</td>\n",
       "    </tr>\n",
       "    <tr>\n",
       "      <th>2</th>\n",
       "      <td>0.857967</td>\n",
       "      <td>0.866130</td>\n",
       "    </tr>\n",
       "    <tr>\n",
       "      <th>3</th>\n",
       "      <td>-0.391702</td>\n",
       "      <td>0.494468</td>\n",
       "    </tr>\n",
       "  </tbody>\n",
       "</table>\n",
       "</div>"
      ],
      "text/plain": [
       "             A         B\n",
       "G1 1  0.025531  0.004768\n",
       "   2  0.650119 -0.486317\n",
       "   3 -0.410586  2.683617\n",
       "G2 1  1.679767 -0.482007\n",
       "   2  0.857967  0.866130\n",
       "   3 -0.391702  0.494468"
      ]
     },
     "execution_count": 12,
     "metadata": {},
     "output_type": "execute_result"
    }
   ],
   "source": [
    "# Index Levels\n",
    "outside = ['G1','G1','G1','G2','G2','G2']\n",
    "inside = [1,2,3,1,2,3]\n",
    "hier_index = list(zip(outside,inside))\n",
    "FFF = pd.MultiIndex.from_tuples(hier_index)\n",
    "df = pd.DataFrame(np.random.randn(6,2),index=FFF,columns=[\"A\",\"B\"])\n",
    "df"
   ]
  },
  {
   "cell_type": "code",
   "execution_count": 12,
   "metadata": {},
   "outputs": [
    {
     "data": {
      "text/plain": [
       "[('G1', 1), ('G1', 2), ('G1', 3), ('G2', 1), ('G2', 2), ('G2', 3)]"
      ]
     },
     "execution_count": 12,
     "metadata": {},
     "output_type": "execute_result"
    }
   ],
   "source": [
    "hier_index"
   ]
  },
  {
   "cell_type": "code",
   "execution_count": 13,
   "metadata": {},
   "outputs": [
    {
     "data": {
      "text/html": [
       "<div>\n",
       "<style scoped>\n",
       "    .dataframe tbody tr th:only-of-type {\n",
       "        vertical-align: middle;\n",
       "    }\n",
       "\n",
       "    .dataframe tbody tr th {\n",
       "        vertical-align: top;\n",
       "    }\n",
       "\n",
       "    .dataframe thead th {\n",
       "        text-align: right;\n",
       "    }\n",
       "</style>\n",
       "<table border=\"1\" class=\"dataframe\">\n",
       "  <thead>\n",
       "    <tr style=\"text-align: right;\">\n",
       "      <th></th>\n",
       "      <th></th>\n",
       "      <th>A</th>\n",
       "      <th>B</th>\n",
       "    </tr>\n",
       "  </thead>\n",
       "  <tbody>\n",
       "    <tr>\n",
       "      <th rowspan=\"3\" valign=\"top\">G1</th>\n",
       "      <th>1</th>\n",
       "      <td>0.025531</td>\n",
       "      <td>0.004768</td>\n",
       "    </tr>\n",
       "    <tr>\n",
       "      <th>2</th>\n",
       "      <td>1000.000000</td>\n",
       "      <td>-0.486317</td>\n",
       "    </tr>\n",
       "    <tr>\n",
       "      <th>3</th>\n",
       "      <td>-0.410586</td>\n",
       "      <td>2.683617</td>\n",
       "    </tr>\n",
       "    <tr>\n",
       "      <th rowspan=\"3\" valign=\"top\">G2</th>\n",
       "      <th>1</th>\n",
       "      <td>1.679767</td>\n",
       "      <td>-0.482007</td>\n",
       "    </tr>\n",
       "    <tr>\n",
       "      <th>2</th>\n",
       "      <td>0.857967</td>\n",
       "      <td>0.866130</td>\n",
       "    </tr>\n",
       "    <tr>\n",
       "      <th>3</th>\n",
       "      <td>-0.391702</td>\n",
       "      <td>0.494468</td>\n",
       "    </tr>\n",
       "  </tbody>\n",
       "</table>\n",
       "</div>"
      ],
      "text/plain": [
       "                A         B\n",
       "G1 1     0.025531  0.004768\n",
       "   2  1000.000000 -0.486317\n",
       "   3    -0.410586  2.683617\n",
       "G2 1     1.679767 -0.482007\n",
       "   2     0.857967  0.866130\n",
       "   3    -0.391702  0.494468"
      ]
     },
     "execution_count": 13,
     "metadata": {},
     "output_type": "execute_result"
    }
   ],
   "source": [
    "df.loc[('G1',2),'A'] = 1000\n",
    "df"
   ]
  },
  {
   "cell_type": "markdown",
   "metadata": {},
   "source": [
    "# Pandas dtypes"
   ]
  },
  {
   "cell_type": "code",
   "execution_count": 14,
   "metadata": {},
   "outputs": [
    {
     "data": {
      "text/html": [
       "<div>\n",
       "<style scoped>\n",
       "    .dataframe tbody tr th:only-of-type {\n",
       "        vertical-align: middle;\n",
       "    }\n",
       "\n",
       "    .dataframe tbody tr th {\n",
       "        vertical-align: top;\n",
       "    }\n",
       "\n",
       "    .dataframe thead th {\n",
       "        text-align: right;\n",
       "    }\n",
       "</style>\n",
       "<table border=\"1\" class=\"dataframe\">\n",
       "  <thead>\n",
       "    <tr style=\"text-align: right;\">\n",
       "      <th></th>\n",
       "      <th>integer_1</th>\n",
       "      <th>mixed-int</th>\n",
       "      <th>mixed-str</th>\n",
       "      <th>float_1</th>\n",
       "      <th>text</th>\n",
       "      <th>float_2</th>\n",
       "      <th>integer_2</th>\n",
       "      <th>two-values</th>\n",
       "      <th>category</th>\n",
       "      <th>bool</th>\n",
       "    </tr>\n",
       "  </thead>\n",
       "  <tbody>\n",
       "    <tr>\n",
       "      <th>0</th>\n",
       "      <td>1</td>\n",
       "      <td>1</td>\n",
       "      <td>a</td>\n",
       "      <td>3.0</td>\n",
       "      <td>a</td>\n",
       "      <td>11.0</td>\n",
       "      <td>11</td>\n",
       "      <td>T</td>\n",
       "      <td>clsA</td>\n",
       "      <td>True</td>\n",
       "    </tr>\n",
       "    <tr>\n",
       "      <th>1</th>\n",
       "      <td>2</td>\n",
       "      <td>2</td>\n",
       "      <td>b</td>\n",
       "      <td>2.0</td>\n",
       "      <td>b</td>\n",
       "      <td>20.0</td>\n",
       "      <td>12</td>\n",
       "      <td>F</td>\n",
       "      <td>clsB</td>\n",
       "      <td>False</td>\n",
       "    </tr>\n",
       "    <tr>\n",
       "      <th>2</th>\n",
       "      <td>3</td>\n",
       "      <td>3</td>\n",
       "      <td>c</td>\n",
       "      <td>8.0</td>\n",
       "      <td>c</td>\n",
       "      <td>13.0</td>\n",
       "      <td>13</td>\n",
       "      <td>F</td>\n",
       "      <td>clsA</td>\n",
       "      <td>False</td>\n",
       "    </tr>\n",
       "    <tr>\n",
       "      <th>3</th>\n",
       "      <td>4</td>\n",
       "      <td>4</td>\n",
       "      <td>d</td>\n",
       "      <td>9.0</td>\n",
       "      <td>d</td>\n",
       "      <td>1.0</td>\n",
       "      <td>14</td>\n",
       "      <td>T</td>\n",
       "      <td>clsC</td>\n",
       "      <td>True</td>\n",
       "    </tr>\n",
       "    <tr>\n",
       "      <th>4</th>\n",
       "      <td>5</td>\n",
       "      <td>5</td>\n",
       "      <td>e</td>\n",
       "      <td>6.0</td>\n",
       "      <td>e</td>\n",
       "      <td>15.0</td>\n",
       "      <td>15</td>\n",
       "      <td>T</td>\n",
       "      <td>clsA</td>\n",
       "      <td>True</td>\n",
       "    </tr>\n",
       "    <tr>\n",
       "      <th>5</th>\n",
       "      <td>6</td>\n",
       "      <td>6</td>\n",
       "      <td>f</td>\n",
       "      <td>6.0</td>\n",
       "      <td>f</td>\n",
       "      <td>16.0</td>\n",
       "      <td>16</td>\n",
       "      <td>F</td>\n",
       "      <td>clsB</td>\n",
       "      <td>False</td>\n",
       "    </tr>\n",
       "    <tr>\n",
       "      <th>6</th>\n",
       "      <td>7</td>\n",
       "      <td>7</td>\n",
       "      <td>g</td>\n",
       "      <td>10.0</td>\n",
       "      <td>g</td>\n",
       "      <td>2.0</td>\n",
       "      <td>17</td>\n",
       "      <td>F</td>\n",
       "      <td>clsC</td>\n",
       "      <td>False</td>\n",
       "    </tr>\n",
       "    <tr>\n",
       "      <th>7</th>\n",
       "      <td>8</td>\n",
       "      <td>8</td>\n",
       "      <td>h</td>\n",
       "      <td>8.0</td>\n",
       "      <td>h</td>\n",
       "      <td>18.0</td>\n",
       "      <td>18</td>\n",
       "      <td>T</td>\n",
       "      <td>clsB</td>\n",
       "      <td>True</td>\n",
       "    </tr>\n",
       "    <tr>\n",
       "      <th>8</th>\n",
       "      <td>9</td>\n",
       "      <td>9</td>\n",
       "      <td>i</td>\n",
       "      <td>6.0</td>\n",
       "      <td>i</td>\n",
       "      <td>10.0</td>\n",
       "      <td>19</td>\n",
       "      <td>T</td>\n",
       "      <td>clsA</td>\n",
       "      <td>False</td>\n",
       "    </tr>\n",
       "    <tr>\n",
       "      <th>9</th>\n",
       "      <td>10</td>\n",
       "      <td>d</td>\n",
       "      <td>4</td>\n",
       "      <td>6.0</td>\n",
       "      <td>jjj</td>\n",
       "      <td>12.0</td>\n",
       "      <td>20</td>\n",
       "      <td>T</td>\n",
       "      <td>clsA</td>\n",
       "      <td>False</td>\n",
       "    </tr>\n",
       "  </tbody>\n",
       "</table>\n",
       "</div>"
      ],
      "text/plain": [
       "   integer_1 mixed-int mixed-str  float_1 text  float_2  integer_2 two-values  \\\n",
       "0          1         1         a      3.0    a     11.0         11          T   \n",
       "1          2         2         b      2.0    b     20.0         12          F   \n",
       "2          3         3         c      8.0    c     13.0         13          F   \n",
       "3          4         4         d      9.0    d      1.0         14          T   \n",
       "4          5         5         e      6.0    e     15.0         15          T   \n",
       "5          6         6         f      6.0    f     16.0         16          F   \n",
       "6          7         7         g     10.0    g      2.0         17          F   \n",
       "7          8         8         h      8.0    h     18.0         18          T   \n",
       "8          9         9         i      6.0    i     10.0         19          T   \n",
       "9         10         d         4      6.0  jjj     12.0         20          T   \n",
       "\n",
       "  category   bool  \n",
       "0     clsA   True  \n",
       "1     clsB  False  \n",
       "2     clsA  False  \n",
       "3     clsC   True  \n",
       "4     clsA   True  \n",
       "5     clsB  False  \n",
       "6     clsC  False  \n",
       "7     clsB   True  \n",
       "8     clsA  False  \n",
       "9     clsA  False  "
      ]
     },
     "execution_count": 14,
     "metadata": {},
     "output_type": "execute_result"
    }
   ],
   "source": [
    "df3=pd.DataFrame({'integer_1'  : [1, 2, 3, 4, 5, 6, 7, 8, 9, 10],\n",
    "                 'mixed-int'  : [1, 2, 3, 4, 5, 6, 7, 8, 9, 'd'], \n",
    "                 'mixed-str'  : ['a','b','c','d','e','f','g','h','i',4],\n",
    "                 'float_1'    : [3., 2., 8., 9., 6., 6., 10., 8., 6., 6.],\n",
    "                 'text'       : ['a','b','c','d','e','f','g','h','i','jjj'],\n",
    "                 'float_2'    : [11., 20., 13., 1., 15., 16., 2., 18.,10., 12.],\n",
    "                 'integer_2'  : [11, 12, 13, 14, 15, 16, 17, 18,19, 20],\n",
    "                 'two-values' : ['T', 'F', 'F', 'T','T', 'F', 'F', 'T','T','T'],\n",
    "                 'category'   : ['clsA','clsB','clsA','clsC','clsA','clsB','clsC','clsB','clsA','clsA'],\n",
    "                 'bool'       : [True,False,False,True,True,False,False,True,False,False],\n",
    "                })\n",
    "\n",
    "df3"
   ]
  },
  {
   "cell_type": "code",
   "execution_count": 15,
   "metadata": {},
   "outputs": [
    {
     "data": {
      "text/plain": [
       "integer_1       int64\n",
       "mixed-int      object\n",
       "mixed-str      object\n",
       "float_1       float64\n",
       "text           object\n",
       "float_2       float64\n",
       "integer_2       int64\n",
       "two-values     object\n",
       "category       object\n",
       "bool             bool\n",
       "dtype: object"
      ]
     },
     "execution_count": 15,
     "metadata": {},
     "output_type": "execute_result"
    }
   ],
   "source": [
    "df3.dtypes"
   ]
  },
  {
   "cell_type": "markdown",
   "metadata": {},
   "source": [
    "**The dtype of the columns:**\n",
    "\n",
    "    \n",
    "* **int64:** Integer numbers\n",
    "\n",
    "\n",
    "* **float64:** Floating point numbers\n",
    "\n",
    "\n",
    "* **bool:** True and False values\n",
    "\n",
    "\n",
    "* **datetime64:** time values\n",
    "\n",
    "\n",
    "* **timedelta:** used to capture the difference between two DateTime values.\n",
    "\n",
    "\n",
    "* **category:** used for finite list of text values\n",
    "\n",
    "\n",
    "* **object:** used for text and for mixed column of numeric and text values. \n",
    "\n",
    "    numpy dtype: object (pointer to regular python object)\n",
    "    \n",
    "\n",
    "* **string** (StringDtype): used for text\n",
    "\n",
    "    A new and exprimental dtype.\n",
    "\n",
    "    Currently, the performance of object dtype and StringDtype are about the same.\n",
    "\n",
    "\n"
   ]
  },
  {
   "cell_type": "code",
   "execution_count": 15,
   "metadata": {},
   "outputs": [
    {
     "data": {
      "text/html": [
       "<div>\n",
       "<style scoped>\n",
       "    .dataframe tbody tr th:only-of-type {\n",
       "        vertical-align: middle;\n",
       "    }\n",
       "\n",
       "    .dataframe tbody tr th {\n",
       "        vertical-align: top;\n",
       "    }\n",
       "\n",
       "    .dataframe thead th {\n",
       "        text-align: right;\n",
       "    }\n",
       "</style>\n",
       "<table border=\"1\" class=\"dataframe\">\n",
       "  <thead>\n",
       "    <tr style=\"text-align: right;\">\n",
       "      <th></th>\n",
       "      <th>integer_1</th>\n",
       "      <th>mixed-int</th>\n",
       "      <th>mixed-str</th>\n",
       "      <th>float_1</th>\n",
       "      <th>text</th>\n",
       "      <th>float_2</th>\n",
       "      <th>integer_2</th>\n",
       "      <th>two-values</th>\n",
       "      <th>category</th>\n",
       "      <th>bool</th>\n",
       "    </tr>\n",
       "  </thead>\n",
       "  <tbody>\n",
       "    <tr>\n",
       "      <th>0</th>\n",
       "      <td>1</td>\n",
       "      <td>1</td>\n",
       "      <td>a</td>\n",
       "      <td>3</td>\n",
       "      <td>a</td>\n",
       "      <td>11.0</td>\n",
       "      <td>11</td>\n",
       "      <td>T</td>\n",
       "      <td>clsA</td>\n",
       "      <td>True</td>\n",
       "    </tr>\n",
       "    <tr>\n",
       "      <th>1</th>\n",
       "      <td>2</td>\n",
       "      <td>2</td>\n",
       "      <td>b</td>\n",
       "      <td>2</td>\n",
       "      <td>b</td>\n",
       "      <td>20.0</td>\n",
       "      <td>12</td>\n",
       "      <td>F</td>\n",
       "      <td>clsB</td>\n",
       "      <td>False</td>\n",
       "    </tr>\n",
       "    <tr>\n",
       "      <th>2</th>\n",
       "      <td>3</td>\n",
       "      <td>3</td>\n",
       "      <td>c</td>\n",
       "      <td>8</td>\n",
       "      <td>c</td>\n",
       "      <td>13.0</td>\n",
       "      <td>13</td>\n",
       "      <td>F</td>\n",
       "      <td>clsA</td>\n",
       "      <td>False</td>\n",
       "    </tr>\n",
       "    <tr>\n",
       "      <th>3</th>\n",
       "      <td>4</td>\n",
       "      <td>4</td>\n",
       "      <td>d</td>\n",
       "      <td>9</td>\n",
       "      <td>d</td>\n",
       "      <td>1.0</td>\n",
       "      <td>14</td>\n",
       "      <td>T</td>\n",
       "      <td>clsC</td>\n",
       "      <td>True</td>\n",
       "    </tr>\n",
       "    <tr>\n",
       "      <th>4</th>\n",
       "      <td>5</td>\n",
       "      <td>5</td>\n",
       "      <td>e</td>\n",
       "      <td>6</td>\n",
       "      <td>e</td>\n",
       "      <td>15.0</td>\n",
       "      <td>15</td>\n",
       "      <td>T</td>\n",
       "      <td>clsA</td>\n",
       "      <td>True</td>\n",
       "    </tr>\n",
       "    <tr>\n",
       "      <th>5</th>\n",
       "      <td>6</td>\n",
       "      <td>6</td>\n",
       "      <td>f</td>\n",
       "      <td>6</td>\n",
       "      <td>f</td>\n",
       "      <td>16.0</td>\n",
       "      <td>16</td>\n",
       "      <td>F</td>\n",
       "      <td>clsB</td>\n",
       "      <td>False</td>\n",
       "    </tr>\n",
       "    <tr>\n",
       "      <th>6</th>\n",
       "      <td>7</td>\n",
       "      <td>7</td>\n",
       "      <td>g</td>\n",
       "      <td>10</td>\n",
       "      <td>g</td>\n",
       "      <td>2.0</td>\n",
       "      <td>17</td>\n",
       "      <td>F</td>\n",
       "      <td>clsC</td>\n",
       "      <td>False</td>\n",
       "    </tr>\n",
       "    <tr>\n",
       "      <th>7</th>\n",
       "      <td>8</td>\n",
       "      <td>8</td>\n",
       "      <td>h</td>\n",
       "      <td>8</td>\n",
       "      <td>h</td>\n",
       "      <td>18.0</td>\n",
       "      <td>18</td>\n",
       "      <td>T</td>\n",
       "      <td>clsB</td>\n",
       "      <td>True</td>\n",
       "    </tr>\n",
       "    <tr>\n",
       "      <th>8</th>\n",
       "      <td>9</td>\n",
       "      <td>9</td>\n",
       "      <td>i</td>\n",
       "      <td>6</td>\n",
       "      <td>i</td>\n",
       "      <td>10.0</td>\n",
       "      <td>19</td>\n",
       "      <td>T</td>\n",
       "      <td>clsA</td>\n",
       "      <td>False</td>\n",
       "    </tr>\n",
       "    <tr>\n",
       "      <th>9</th>\n",
       "      <td>10</td>\n",
       "      <td>d</td>\n",
       "      <td>4</td>\n",
       "      <td>6</td>\n",
       "      <td>jjj</td>\n",
       "      <td>12.0</td>\n",
       "      <td>20</td>\n",
       "      <td>T</td>\n",
       "      <td>clsA</td>\n",
       "      <td>False</td>\n",
       "    </tr>\n",
       "  </tbody>\n",
       "</table>\n",
       "</div>"
      ],
      "text/plain": [
       "   integer_1 mixed-int mixed-str  float_1 text  float_2  integer_2 two-values  \\\n",
       "0          1         1         a        3    a     11.0         11          T   \n",
       "1          2         2         b        2    b     20.0         12          F   \n",
       "2          3         3         c        8    c     13.0         13          F   \n",
       "3          4         4         d        9    d      1.0         14          T   \n",
       "4          5         5         e        6    e     15.0         15          T   \n",
       "5          6         6         f        6    f     16.0         16          F   \n",
       "6          7         7         g       10    g      2.0         17          F   \n",
       "7          8         8         h        8    h     18.0         18          T   \n",
       "8          9         9         i        6    i     10.0         19          T   \n",
       "9         10         d         4        6  jjj     12.0         20          T   \n",
       "\n",
       "  category   bool  \n",
       "0     clsA   True  \n",
       "1     clsB  False  \n",
       "2     clsA  False  \n",
       "3     clsC   True  \n",
       "4     clsA   True  \n",
       "5     clsB  False  \n",
       "6     clsC  False  \n",
       "7     clsB   True  \n",
       "8     clsA  False  \n",
       "9     clsA  False  "
      ]
     },
     "execution_count": 15,
     "metadata": {},
     "output_type": "execute_result"
    }
   ],
   "source": [
    "df3['float_1'] = df3['float_1'].astype(int)\n",
    "df3"
   ]
  },
  {
   "cell_type": "markdown",
   "metadata": {
    "heading_collapsed": true,
    "hidden": true,
    "id": "CtItr8kpy98z"
   },
   "source": [
    "## Apply vs. transform"
   ]
  },
  {
   "cell_type": "markdown",
   "metadata": {
    "hidden": true,
    "id": "jpQEWjV7TqHi"
   },
   "source": [
    "HW: explanation on transfrom:\n",
    "https://pbpython.com/pandas_transform.html\n"
   ]
  },
  {
   "cell_type": "markdown",
   "metadata": {
    "hidden": true,
    "id": "SxPZ3B09Sm5w"
   },
   "source": [
    "There are 2 types of operations: trasform and aggregation.\n",
    "\n",
    "**Transform**: Converts EACH item of the data frame to another value.\n",
    "\n",
    "**Aggregation**: Converts all items in a column (or row) to one value or to a set of values of different dimensions from the input.\n",
    "\n"
   ]
  },
  {
   "cell_type": "code",
   "execution_count": 16,
   "metadata": {
    "colab": {
     "base_uri": "https://localhost:8080/",
     "height": 171
    },
    "executionInfo": {
     "elapsed": 509,
     "status": "ok",
     "timestamp": 1585486145162,
     "user": {
      "displayName": "Refael Kohen",
      "photoUrl": "https://lh3.googleusercontent.com/a-/AOh14Gg5ZeyNYsDdD964kaFUw8v-zfPRfPa1_PiNDhBIMsY=s64",
      "userId": "05391267118572439304"
     },
     "user_tz": -180
    },
    "hidden": true,
    "id": "GIv7VAq5eh8T",
    "outputId": "ee3e4df5-462c-4200-f0a0-195d220b78c5",
    "scrolled": true
   },
   "outputs": [
    {
     "data": {
      "text/html": [
       "<div>\n",
       "<style scoped>\n",
       "    .dataframe tbody tr th:only-of-type {\n",
       "        vertical-align: middle;\n",
       "    }\n",
       "\n",
       "    .dataframe tbody tr th {\n",
       "        vertical-align: top;\n",
       "    }\n",
       "\n",
       "    .dataframe thead th {\n",
       "        text-align: right;\n",
       "    }\n",
       "</style>\n",
       "<table border=\"1\" class=\"dataframe\">\n",
       "  <thead>\n",
       "    <tr style=\"text-align: right;\">\n",
       "      <th></th>\n",
       "      <th>a</th>\n",
       "      <th>b</th>\n",
       "      <th>c</th>\n",
       "    </tr>\n",
       "  </thead>\n",
       "  <tbody>\n",
       "    <tr>\n",
       "      <th>0</th>\n",
       "      <td>1</td>\n",
       "      <td>4</td>\n",
       "      <td>8</td>\n",
       "    </tr>\n",
       "    <tr>\n",
       "      <th>1</th>\n",
       "      <td>1</td>\n",
       "      <td>5</td>\n",
       "      <td>9</td>\n",
       "    </tr>\n",
       "    <tr>\n",
       "      <th>2</th>\n",
       "      <td>2</td>\n",
       "      <td>6</td>\n",
       "      <td>10</td>\n",
       "    </tr>\n",
       "    <tr>\n",
       "      <th>3</th>\n",
       "      <td>3</td>\n",
       "      <td>7</td>\n",
       "      <td>11</td>\n",
       "    </tr>\n",
       "  </tbody>\n",
       "</table>\n",
       "</div>"
      ],
      "text/plain": [
       "   a  b   c\n",
       "0  1  4   8\n",
       "1  1  5   9\n",
       "2  2  6  10\n",
       "3  3  7  11"
      ]
     },
     "execution_count": 16,
     "metadata": {},
     "output_type": "execute_result"
    }
   ],
   "source": [
    "\n",
    "df = pd.DataFrame({'a':[1,1,2,3],\n",
    "                   'b':[4,5,6,7],\n",
    "                   'c':[8,9,10,11]})\n",
    "df\n"
   ]
  },
  {
   "cell_type": "markdown",
   "metadata": {
    "heading_collapsed": true,
    "hidden": true,
    "id": "J-CRa1r2TOTO"
   },
   "source": [
    "### ***Apply*** function can perform an aggregation:"
   ]
  },
  {
   "cell_type": "markdown",
   "metadata": {
    "hidden": true,
    "id": "tCFRyRP2Wwvw"
   },
   "source": [
    "**Example 1:** Example 1: Each column is replaced by the sum of the column.\n",
    "\n",
    "The result is **series**."
   ]
  },
  {
   "cell_type": "code",
   "execution_count": 17,
   "metadata": {
    "colab": {
     "base_uri": "https://localhost:8080/",
     "height": 86
    },
    "executionInfo": {
     "elapsed": 750,
     "status": "ok",
     "timestamp": 1585320314934,
     "user": {
      "displayName": "Refael Kohen",
      "photoUrl": "https://lh3.googleusercontent.com/a-/AOh14Gg5ZeyNYsDdD964kaFUw8v-zfPRfPa1_PiNDhBIMsY=s64",
      "userId": "05391267118572439304"
     },
     "user_tz": -180
    },
    "hidden": true,
    "id": "24wf306reh6c",
    "outputId": "05f48fc9-15e9-4ef2-8dd2-e3dc914d114f"
   },
   "outputs": [
    {
     "data": {
      "text/plain": [
       "a     7\n",
       "b    22\n",
       "c    38\n",
       "dtype: int64"
      ]
     },
     "execution_count": 17,
     "metadata": {},
     "output_type": "execute_result"
    }
   ],
   "source": [
    "df.apply(sum, axis=0)"
   ]
  },
  {
   "cell_type": "markdown",
   "metadata": {
    "hidden": true,
    "id": "wvIb4KweXRel"
   },
   "source": [
    "**Example 2:** Each column is replaced by the fixed list [1,2,3].\n",
    "\n",
    "The result is **series**.\n",
    "\n"
   ]
  },
  {
   "cell_type": "code",
   "execution_count": 19,
   "metadata": {
    "colab": {
     "base_uri": "https://localhost:8080/",
     "height": 86
    },
    "executionInfo": {
     "elapsed": 1297,
     "status": "ok",
     "timestamp": 1585318581000,
     "user": {
      "displayName": "Refael Kohen",
      "photoUrl": "https://lh3.googleusercontent.com/a-/AOh14Gg5ZeyNYsDdD964kaFUw8v-zfPRfPa1_PiNDhBIMsY=s64",
      "userId": "05391267118572439304"
     },
     "user_tz": -180
    },
    "hidden": true,
    "id": "pZJ2_Q1zVtAW",
    "outputId": "39430ca8-7ba5-4be0-d78e-b5423eb35155"
   },
   "outputs": [
    {
     "data": {
      "text/html": [
       "<div>\n",
       "<style scoped>\n",
       "    .dataframe tbody tr th:only-of-type {\n",
       "        vertical-align: middle;\n",
       "    }\n",
       "\n",
       "    .dataframe tbody tr th {\n",
       "        vertical-align: top;\n",
       "    }\n",
       "\n",
       "    .dataframe thead th {\n",
       "        text-align: right;\n",
       "    }\n",
       "</style>\n",
       "<table border=\"1\" class=\"dataframe\">\n",
       "  <thead>\n",
       "    <tr style=\"text-align: right;\">\n",
       "      <th></th>\n",
       "      <th>a</th>\n",
       "      <th>b</th>\n",
       "      <th>c</th>\n",
       "    </tr>\n",
       "  </thead>\n",
       "  <tbody>\n",
       "    <tr>\n",
       "      <th>0</th>\n",
       "      <td>1</td>\n",
       "      <td>1</td>\n",
       "      <td>1</td>\n",
       "    </tr>\n",
       "    <tr>\n",
       "      <th>1</th>\n",
       "      <td>2</td>\n",
       "      <td>2</td>\n",
       "      <td>2</td>\n",
       "    </tr>\n",
       "    <tr>\n",
       "      <th>2</th>\n",
       "      <td>3</td>\n",
       "      <td>3</td>\n",
       "      <td>3</td>\n",
       "    </tr>\n",
       "  </tbody>\n",
       "</table>\n",
       "</div>"
      ],
      "text/plain": [
       "   a  b  c\n",
       "0  1  1  1\n",
       "1  2  2  2\n",
       "2  3  3  3"
      ]
     },
     "execution_count": 19,
     "metadata": {},
     "output_type": "execute_result"
    }
   ],
   "source": [
    "df2=df.apply(lambda x: [1,2,3], axis=0)\n",
    "df2\n",
    "#type(df2)"
   ]
  },
  {
   "cell_type": "markdown",
   "metadata": {
    "hidden": true,
    "id": "fMDvnTvAXiI-"
   },
   "source": [
    "**Example 3:** If the function returns output of the same dimension as the input - apply also will do ***transform***:\n",
    "\n",
    "Each column of 4d is replaced by array of 4d.\n",
    "\n",
    "The result is **DataFrame**.\n",
    "\n"
   ]
  },
  {
   "cell_type": "code",
   "execution_count": 20,
   "metadata": {},
   "outputs": [
    {
     "data": {
      "text/html": [
       "<div>\n",
       "<style scoped>\n",
       "    .dataframe tbody tr th:only-of-type {\n",
       "        vertical-align: middle;\n",
       "    }\n",
       "\n",
       "    .dataframe tbody tr th {\n",
       "        vertical-align: top;\n",
       "    }\n",
       "\n",
       "    .dataframe thead th {\n",
       "        text-align: right;\n",
       "    }\n",
       "</style>\n",
       "<table border=\"1\" class=\"dataframe\">\n",
       "  <thead>\n",
       "    <tr style=\"text-align: right;\">\n",
       "      <th></th>\n",
       "      <th>a</th>\n",
       "      <th>b</th>\n",
       "      <th>c</th>\n",
       "    </tr>\n",
       "  </thead>\n",
       "  <tbody>\n",
       "    <tr>\n",
       "      <th>0</th>\n",
       "      <td>2</td>\n",
       "      <td>5</td>\n",
       "      <td>9</td>\n",
       "    </tr>\n",
       "    <tr>\n",
       "      <th>1</th>\n",
       "      <td>2</td>\n",
       "      <td>6</td>\n",
       "      <td>10</td>\n",
       "    </tr>\n",
       "    <tr>\n",
       "      <th>2</th>\n",
       "      <td>3</td>\n",
       "      <td>7</td>\n",
       "      <td>11</td>\n",
       "    </tr>\n",
       "    <tr>\n",
       "      <th>3</th>\n",
       "      <td>4</td>\n",
       "      <td>8</td>\n",
       "      <td>12</td>\n",
       "    </tr>\n",
       "  </tbody>\n",
       "</table>\n",
       "</div>"
      ],
      "text/plain": [
       "   a  b   c\n",
       "0  2  5   9\n",
       "1  2  6  10\n",
       "2  3  7  11\n",
       "3  4  8  12"
      ]
     },
     "execution_count": 20,
     "metadata": {},
     "output_type": "execute_result"
    }
   ],
   "source": [
    "df.apply(lambda x: x+1, axis=0)"
   ]
  },
  {
   "cell_type": "code",
   "execution_count": 21,
   "metadata": {
    "colab": {
     "base_uri": "https://localhost:8080/",
     "height": 171
    },
    "executionInfo": {
     "elapsed": 1044,
     "status": "ok",
     "timestamp": 1585320320494,
     "user": {
      "displayName": "Refael Kohen",
      "photoUrl": "https://lh3.googleusercontent.com/a-/AOh14Gg5ZeyNYsDdD964kaFUw8v-zfPRfPa1_PiNDhBIMsY=s64",
      "userId": "05391267118572439304"
     },
     "user_tz": -180
    },
    "hidden": true,
    "id": "Po5Qzfua6KB7",
    "outputId": "44bfdb8b-3341-4dab-8e65-3052e62a7a68"
   },
   "outputs": [
    {
     "data": {
      "text/plain": [
       "0    [1, 2, 3, 4]\n",
       "1    [1, 2, 3, 4]\n",
       "2    [1, 2, 3, 4]\n",
       "3    [1, 2, 3, 4]\n",
       "dtype: object"
      ]
     },
     "execution_count": 21,
     "metadata": {},
     "output_type": "execute_result"
    }
   ],
   "source": [
    "df.apply(lambda x: [1,2,3,4], axis=1)"
   ]
  },
  {
   "cell_type": "markdown",
   "metadata": {
    "heading_collapsed": true,
    "hidden": true,
    "id": "zwYpmE-FYwmD"
   },
   "source": [
    "### ***Transform*** function on ***DataFrame object*** convers each item to other item.\n",
    "\n",
    "Thus, it can get only function that return the same dimension of the input.\n",
    "\n",
    "Return **DataFrame**\n",
    "\n"
   ]
  },
  {
   "cell_type": "markdown",
   "metadata": {
    "hidden": true,
    "id": "2X3bIUiIa52Z"
   },
   "source": [
    "\n",
    "**Example 1:** Each item x is replaced by x+1.\n",
    "\n",
    "The result is **DataFrame**."
   ]
  },
  {
   "cell_type": "code",
   "execution_count": 22,
   "metadata": {
    "colab": {
     "base_uri": "https://localhost:8080/",
     "height": 171
    },
    "executionInfo": {
     "elapsed": 787,
     "status": "ok",
     "timestamp": 1585320324477,
     "user": {
      "displayName": "Refael Kohen",
      "photoUrl": "https://lh3.googleusercontent.com/a-/AOh14Gg5ZeyNYsDdD964kaFUw8v-zfPRfPa1_PiNDhBIMsY=s64",
      "userId": "05391267118572439304"
     },
     "user_tz": -180
    },
    "hidden": true,
    "id": "4qSI8errSOYg",
    "outputId": "6b613f1b-aaa3-4da7-fdfa-9f38e8499137"
   },
   "outputs": [
    {
     "data": {
      "text/html": [
       "<div>\n",
       "<style scoped>\n",
       "    .dataframe tbody tr th:only-of-type {\n",
       "        vertical-align: middle;\n",
       "    }\n",
       "\n",
       "    .dataframe tbody tr th {\n",
       "        vertical-align: top;\n",
       "    }\n",
       "\n",
       "    .dataframe thead th {\n",
       "        text-align: right;\n",
       "    }\n",
       "</style>\n",
       "<table border=\"1\" class=\"dataframe\">\n",
       "  <thead>\n",
       "    <tr style=\"text-align: right;\">\n",
       "      <th></th>\n",
       "      <th>a</th>\n",
       "      <th>b</th>\n",
       "      <th>c</th>\n",
       "    </tr>\n",
       "  </thead>\n",
       "  <tbody>\n",
       "    <tr>\n",
       "      <th>0</th>\n",
       "      <td>2</td>\n",
       "      <td>5</td>\n",
       "      <td>9</td>\n",
       "    </tr>\n",
       "    <tr>\n",
       "      <th>1</th>\n",
       "      <td>2</td>\n",
       "      <td>6</td>\n",
       "      <td>10</td>\n",
       "    </tr>\n",
       "    <tr>\n",
       "      <th>2</th>\n",
       "      <td>3</td>\n",
       "      <td>7</td>\n",
       "      <td>11</td>\n",
       "    </tr>\n",
       "    <tr>\n",
       "      <th>3</th>\n",
       "      <td>4</td>\n",
       "      <td>8</td>\n",
       "      <td>12</td>\n",
       "    </tr>\n",
       "  </tbody>\n",
       "</table>\n",
       "</div>"
      ],
      "text/plain": [
       "   a  b   c\n",
       "0  2  5   9\n",
       "1  2  6  10\n",
       "2  3  7  11\n",
       "3  4  8  12"
      ]
     },
     "execution_count": 22,
     "metadata": {},
     "output_type": "execute_result"
    }
   ],
   "source": [
    "df.transform(lambda x: x + 1)"
   ]
  },
  {
   "cell_type": "markdown",
   "metadata": {
    "hidden": true,
    "id": "rfvnbJwxa8y1"
   },
   "source": [
    "\n",
    "**Example 2:** Each item x is replaced by fix array [1,2,3,4].\n",
    "\n",
    "The result is **DataFrame**."
   ]
  },
  {
   "cell_type": "code",
   "execution_count": 23,
   "metadata": {
    "colab": {
     "base_uri": "https://localhost:8080/",
     "height": 171
    },
    "executionInfo": {
     "elapsed": 846,
     "status": "ok",
     "timestamp": 1585320328280,
     "user": {
      "displayName": "Refael Kohen",
      "photoUrl": "https://lh3.googleusercontent.com/a-/AOh14Gg5ZeyNYsDdD964kaFUw8v-zfPRfPa1_PiNDhBIMsY=s64",
      "userId": "05391267118572439304"
     },
     "user_tz": -180
    },
    "hidden": true,
    "id": "KdvVWKl1bOwE",
    "outputId": "704bc6ec-0339-4eea-ed76-4c9bcd520bfb"
   },
   "outputs": [
    {
     "data": {
      "text/html": [
       "<div>\n",
       "<style scoped>\n",
       "    .dataframe tbody tr th:only-of-type {\n",
       "        vertical-align: middle;\n",
       "    }\n",
       "\n",
       "    .dataframe tbody tr th {\n",
       "        vertical-align: top;\n",
       "    }\n",
       "\n",
       "    .dataframe thead th {\n",
       "        text-align: right;\n",
       "    }\n",
       "</style>\n",
       "<table border=\"1\" class=\"dataframe\">\n",
       "  <thead>\n",
       "    <tr style=\"text-align: right;\">\n",
       "      <th></th>\n",
       "      <th>a</th>\n",
       "      <th>b</th>\n",
       "      <th>c</th>\n",
       "    </tr>\n",
       "  </thead>\n",
       "  <tbody>\n",
       "    <tr>\n",
       "      <th>0</th>\n",
       "      <td>1</td>\n",
       "      <td>1</td>\n",
       "      <td>1</td>\n",
       "    </tr>\n",
       "    <tr>\n",
       "      <th>1</th>\n",
       "      <td>2</td>\n",
       "      <td>2</td>\n",
       "      <td>2</td>\n",
       "    </tr>\n",
       "    <tr>\n",
       "      <th>2</th>\n",
       "      <td>3</td>\n",
       "      <td>3</td>\n",
       "      <td>3</td>\n",
       "    </tr>\n",
       "    <tr>\n",
       "      <th>3</th>\n",
       "      <td>4</td>\n",
       "      <td>4</td>\n",
       "      <td>4</td>\n",
       "    </tr>\n",
       "  </tbody>\n",
       "</table>\n",
       "</div>"
      ],
      "text/plain": [
       "   a  b  c\n",
       "0  1  1  1\n",
       "1  2  2  2\n",
       "2  3  3  3\n",
       "3  4  4  4"
      ]
     },
     "execution_count": 23,
     "metadata": {},
     "output_type": "execute_result"
    }
   ],
   "source": [
    "df.transform(lambda x: [1,2,3,4])"
   ]
  },
  {
   "cell_type": "markdown",
   "metadata": {},
   "source": [
    "**Group by: split-apply-combine**\n",
    "    \n",
    "By “group by” we are referring to a process involving one or more of the following steps:\n",
    "\n",
    "-Splitting the data into groups based on some criteria.\n",
    "\n",
    "-Applying a function to each group independently.\n",
    "\n",
    "-Combining the results into a data structure."
   ]
  },
  {
   "cell_type": "code",
   "execution_count": 24,
   "metadata": {},
   "outputs": [],
   "source": [
    "Animals = pd.DataFrame(\n",
    "    [\n",
    "        (\"bird\", \"Falconiformes\", 389.0),\n",
    "        (\"bird\", \"Psittaciformes\", 24.0),\n",
    "        (\"mammal\", \"Carnivora\", 80.2),\n",
    "        (\"mammal\", \"Primates\", np.nan),\n",
    "        (\"mammal\", \"Carnivora\", 58),\n",
    "    ],\n",
    "    index=[\"falcon\", \"parrot\", \"lion\", \"monkey\", \"leopard\"],\n",
    "    columns=(\"class\", \"order\", \"max_speed\"),)\n"
   ]
  },
  {
   "cell_type": "code",
   "execution_count": 25,
   "metadata": {},
   "outputs": [
    {
     "data": {
      "text/html": [
       "<div>\n",
       "<style scoped>\n",
       "    .dataframe tbody tr th:only-of-type {\n",
       "        vertical-align: middle;\n",
       "    }\n",
       "\n",
       "    .dataframe tbody tr th {\n",
       "        vertical-align: top;\n",
       "    }\n",
       "\n",
       "    .dataframe thead th {\n",
       "        text-align: right;\n",
       "    }\n",
       "</style>\n",
       "<table border=\"1\" class=\"dataframe\">\n",
       "  <thead>\n",
       "    <tr style=\"text-align: right;\">\n",
       "      <th></th>\n",
       "      <th>class</th>\n",
       "      <th>order</th>\n",
       "      <th>max_speed</th>\n",
       "    </tr>\n",
       "  </thead>\n",
       "  <tbody>\n",
       "    <tr>\n",
       "      <th>falcon</th>\n",
       "      <td>bird</td>\n",
       "      <td>Falconiformes</td>\n",
       "      <td>389.0</td>\n",
       "    </tr>\n",
       "    <tr>\n",
       "      <th>parrot</th>\n",
       "      <td>bird</td>\n",
       "      <td>Psittaciformes</td>\n",
       "      <td>24.0</td>\n",
       "    </tr>\n",
       "    <tr>\n",
       "      <th>lion</th>\n",
       "      <td>mammal</td>\n",
       "      <td>Carnivora</td>\n",
       "      <td>80.2</td>\n",
       "    </tr>\n",
       "    <tr>\n",
       "      <th>monkey</th>\n",
       "      <td>mammal</td>\n",
       "      <td>Primates</td>\n",
       "      <td>NaN</td>\n",
       "    </tr>\n",
       "    <tr>\n",
       "      <th>leopard</th>\n",
       "      <td>mammal</td>\n",
       "      <td>Carnivora</td>\n",
       "      <td>58.0</td>\n",
       "    </tr>\n",
       "  </tbody>\n",
       "</table>\n",
       "</div>"
      ],
      "text/plain": [
       "          class           order  max_speed\n",
       "falcon     bird   Falconiformes      389.0\n",
       "parrot     bird  Psittaciformes       24.0\n",
       "lion     mammal       Carnivora       80.2\n",
       "monkey   mammal        Primates        NaN\n",
       "leopard  mammal       Carnivora       58.0"
      ]
     },
     "execution_count": 25,
     "metadata": {},
     "output_type": "execute_result"
    }
   ],
   "source": [
    "Animals"
   ]
  },
  {
   "cell_type": "code",
   "execution_count": 26,
   "metadata": {},
   "outputs": [
    {
     "data": {
      "text/html": [
       "<div>\n",
       "<style scoped>\n",
       "    .dataframe tbody tr th:only-of-type {\n",
       "        vertical-align: middle;\n",
       "    }\n",
       "\n",
       "    .dataframe tbody tr th {\n",
       "        vertical-align: top;\n",
       "    }\n",
       "\n",
       "    .dataframe thead th {\n",
       "        text-align: right;\n",
       "    }\n",
       "</style>\n",
       "<table border=\"1\" class=\"dataframe\">\n",
       "  <thead>\n",
       "    <tr style=\"text-align: right;\">\n",
       "      <th></th>\n",
       "      <th>max_speed</th>\n",
       "    </tr>\n",
       "    <tr>\n",
       "      <th>class</th>\n",
       "      <th></th>\n",
       "    </tr>\n",
       "  </thead>\n",
       "  <tbody>\n",
       "    <tr>\n",
       "      <th>bird</th>\n",
       "      <td>206.5</td>\n",
       "    </tr>\n",
       "    <tr>\n",
       "      <th>mammal</th>\n",
       "      <td>69.1</td>\n",
       "    </tr>\n",
       "  </tbody>\n",
       "</table>\n",
       "</div>"
      ],
      "text/plain": [
       "        max_speed\n",
       "class            \n",
       "bird        206.5\n",
       "mammal       69.1"
      ]
     },
     "execution_count": 26,
     "metadata": {},
     "output_type": "execute_result"
    }
   ],
   "source": [
    "# default is axis=0\n",
    "Animals.groupby(\"class\").mean()"
   ]
  },
  {
   "cell_type": "markdown",
   "metadata": {
    "heading_collapsed": true,
    "hidden": true,
    "id": "l18uKrl2_JAg"
   },
   "source": [
    "## Filter"
   ]
  },
  {
   "cell_type": "markdown",
   "metadata": {
    "hidden": true,
    "id": "hVjleDLsy99A"
   },
   "source": [
    "The filter operation is also aggregate, but the filter can only use the function that returns a SCALAR."
   ]
  },
  {
   "cell_type": "markdown",
   "metadata": {
    "hidden": true,
    "id": "o84dT1HVs-3E"
   },
   "source": [
    "**For example:**\n",
    "    \n",
    "\n",
    "Notice: the input of the function is the whole DataFrame (like as apply), so the output of the sum function on the dataframe is series - not scalar !!!"
   ]
  },
  {
   "cell_type": "code",
   "execution_count": 27,
   "metadata": {},
   "outputs": [
    {
     "data": {
      "text/html": [
       "<div>\n",
       "<style scoped>\n",
       "    .dataframe tbody tr th:only-of-type {\n",
       "        vertical-align: middle;\n",
       "    }\n",
       "\n",
       "    .dataframe tbody tr th {\n",
       "        vertical-align: top;\n",
       "    }\n",
       "\n",
       "    .dataframe thead th {\n",
       "        text-align: right;\n",
       "    }\n",
       "</style>\n",
       "<table border=\"1\" class=\"dataframe\">\n",
       "  <thead>\n",
       "    <tr style=\"text-align: right;\">\n",
       "      <th></th>\n",
       "      <th>a</th>\n",
       "      <th>b</th>\n",
       "      <th>c</th>\n",
       "    </tr>\n",
       "  </thead>\n",
       "  <tbody>\n",
       "    <tr>\n",
       "      <th>0</th>\n",
       "      <td>1</td>\n",
       "      <td>4</td>\n",
       "      <td>8</td>\n",
       "    </tr>\n",
       "    <tr>\n",
       "      <th>1</th>\n",
       "      <td>1</td>\n",
       "      <td>5</td>\n",
       "      <td>9</td>\n",
       "    </tr>\n",
       "    <tr>\n",
       "      <th>2</th>\n",
       "      <td>2</td>\n",
       "      <td>6</td>\n",
       "      <td>10</td>\n",
       "    </tr>\n",
       "    <tr>\n",
       "      <th>3</th>\n",
       "      <td>3</td>\n",
       "      <td>7</td>\n",
       "      <td>12</td>\n",
       "    </tr>\n",
       "  </tbody>\n",
       "</table>\n",
       "</div>"
      ],
      "text/plain": [
       "   a  b   c\n",
       "0  1  4   8\n",
       "1  1  5   9\n",
       "2  2  6  10\n",
       "3  3  7  12"
      ]
     },
     "execution_count": 27,
     "metadata": {},
     "output_type": "execute_result"
    }
   ],
   "source": [
    "df = pd.DataFrame({'a':[1,1,2,3],\n",
    "                   'b':[4,5,6,7],\n",
    "                   'c':[8,9,10,12]})\n",
    "df"
   ]
  },
  {
   "cell_type": "code",
   "execution_count": 28,
   "metadata": {
    "colab": {
     "base_uri": "https://localhost:8080/",
     "height": 35
    },
    "executionInfo": {
     "elapsed": 760,
     "status": "ok",
     "timestamp": 1585497257204,
     "user": {
      "displayName": "Refael Kohen",
      "photoUrl": "https://lh3.googleusercontent.com/a-/AOh14Gg5ZeyNYsDdD964kaFUw8v-zfPRfPa1_PiNDhBIMsY=s64",
      "userId": "05391267118572439304"
     },
     "user_tz": -180
    },
    "hidden": true,
    "id": "O5gS9QBIVvkI",
    "outputId": "7260d7c7-45fe-4681-b414-ce77f52dd303"
   },
   "outputs": [
    {
     "name": "stdout",
     "output_type": "stream",
     "text": [
      "filter function returned a Series, but expected a scalar bool\n"
     ]
    }
   ],
   "source": [
    "try: df.groupby('a').filter(lambda x: x.sum()>2) #invalid function\n",
    "except TypeError as e: print(e)"
   ]
  },
  {
   "cell_type": "code",
   "execution_count": 29,
   "metadata": {
    "colab": {
     "base_uri": "https://localhost:8080/",
     "height": 172
    },
    "executionInfo": {
     "elapsed": 580,
     "status": "ok",
     "timestamp": 1585497376129,
     "user": {
      "displayName": "Refael Kohen",
      "photoUrl": "https://lh3.googleusercontent.com/a-/AOh14Gg5ZeyNYsDdD964kaFUw8v-zfPRfPa1_PiNDhBIMsY=s64",
      "userId": "05391267118572439304"
     },
     "user_tz": -180
    },
    "hidden": true,
    "id": "MsgC4SXPzfrA",
    "outputId": "f96abd46-6463-4e7c-cab6-c58e9791110b"
   },
   "outputs": [
    {
     "data": {
      "text/html": [
       "<div>\n",
       "<style scoped>\n",
       "    .dataframe tbody tr th:only-of-type {\n",
       "        vertical-align: middle;\n",
       "    }\n",
       "\n",
       "    .dataframe tbody tr th {\n",
       "        vertical-align: top;\n",
       "    }\n",
       "\n",
       "    .dataframe thead th {\n",
       "        text-align: right;\n",
       "    }\n",
       "</style>\n",
       "<table border=\"1\" class=\"dataframe\">\n",
       "  <thead>\n",
       "    <tr style=\"text-align: right;\">\n",
       "      <th></th>\n",
       "      <th>a</th>\n",
       "      <th>b</th>\n",
       "      <th>c</th>\n",
       "    </tr>\n",
       "  </thead>\n",
       "  <tbody>\n",
       "    <tr>\n",
       "      <th>3</th>\n",
       "      <td>3</td>\n",
       "      <td>7</td>\n",
       "      <td>12</td>\n",
       "    </tr>\n",
       "  </tbody>\n",
       "</table>\n",
       "</div>"
      ],
      "text/plain": [
       "   a  b   c\n",
       "3  3  7  12"
      ]
     },
     "execution_count": 29,
     "metadata": {},
     "output_type": "execute_result"
    }
   ],
   "source": [
    "df.groupby('a').filter(lambda x: x['a'].sum()>2) #valid function"
   ]
  },
  {
   "cell_type": "markdown",
   "metadata": {
    "heading_collapsed": true,
    "hidden": true,
    "id": "2LiX9sSNwSpF"
   },
   "source": [
    "## Summary"
   ]
  },
  {
   "cell_type": "markdown",
   "metadata": {
    "hidden": true,
    "id": "fBPx0CIGtaXK"
   },
   "source": [
    "Summary of function map/applymap/transform/agg/apply in Series, DataFrame, DataFrame.Groupby\n"
   ]
  },
  {
   "cell_type": "markdown",
   "metadata": {
    "hidden": true,
    "id": "lTfQiY_vs-3F"
   },
   "source": [
    "### Series"
   ]
  },
  {
   "cell_type": "markdown",
   "metadata": {
    "hidden": true,
    "id": "SwFFN13ts-3F"
   },
   "source": [
    "|\t|Operation|\tParameter to function\t|lambda x: x/x.mean() - transformation\t|lambda x: x.mean() - aggregation\t|lambda x: x+1 - transromation|\n",
    "|:---|:---|:---|:---|:---|:---|\n",
    "|map|\tElement-Wise (func or dict)\t|value|\tinvalid - value has no mean() function\t|invalid - value has no mean() function|\tvalid|\n",
    "|transform|\tElement-Wise|\tvalue\t|invalid - value has no mean() function|\tinvalid - value has no mean() function\t|valid|\n",
    "|apply| Element-wise|\tvalue|\tinvalid - value has no mean() function\t|invalid - value has no mean() function|\tvalid|\n",
    "|agg|\tAggregation or Element-wise|\tSeries|\tvalid|valid |\tvalid|"
   ]
  },
  {
   "cell_type": "markdown",
   "metadata": {
    "hidden": true,
    "id": "mpjgJ6EOs-3G"
   },
   "source": [
    "### DataFrame"
   ]
  },
  {
   "cell_type": "markdown",
   "metadata": {
    "hidden": true,
    "id": "A2RM3rljy99F"
   },
   "source": [
    "Transfrom cannot make an aggregation"
   ]
  },
  {
   "cell_type": "markdown",
   "metadata": {
    "hidden": true,
    "id": "juOpm8O7s-3G"
   },
   "source": [
    "|\t|Operation|\tParameter to function\t|lambda x: x/x.mean() - transformation\t|lambda x: x.mean() - aggregation\t|lambda x: x+1 - transromation|\n",
    "|:---|:---|:---|:---|:---|:---|\n",
    "|applymap|\tElement-Wise Operations|\tvalue|\tinvalid - value has no mean() function|\tinvalid - value has no mean() function|\tvalid|\n",
    "|transform|\tElement-Wise Operations|\tSeries|\tvalid - x.mean() on each x (Series)|\tinvalid - x.mean() is aggregation|\tvalid|\n",
    "|agg/apply|\tAggregation or Element-wise|\tSeries|\tvalid - x.mean() on each x (Series)|\tvalid|\tvalid|\n"
   ]
  },
  {
   "cell_type": "markdown",
   "metadata": {
    "hidden": true,
    "id": "AODsV-0Ys-3G"
   },
   "source": [
    "### DataFrame.Groupby"
   ]
  },
  {
   "cell_type": "markdown",
   "metadata": {
    "hidden": true,
    "id": "Vm12SiAos-3G"
   },
   "source": [
    "|  |Operation|\tParameter to function|\tlambda x: x.mean() - aggregation|\tlambda x: x * x[\"A\"].mean() - aggregation|\t{\"colA\": [\"min\", \"max\"], \"colB\": \"lambda x: x.sum()\"}|\n",
    "|:---|:---|:---|:---|:---|:---|\n",
    "|transform|\tElement-Wise Operations|\tSeries|\tvalid - Applies the agg function to each value|\tinvalid - the series x has no access to df[\"colname\"]|\tinvalid|\n",
    "|agg|\tAggregation or Element-wise|\tSeries|\tvalid - Applies the aggregation function to each series|\tinvalid - the series x has no access to df[\"colname\"]|\tvalid|\n",
    "|apply|\tAggregation or Element-wise|\tDataFrame|\tvalid - Applies the same function at once to all columns|\tvalid - the dataframe x HAS access to df[\"colname\"]|\tinvalid|\n"
   ]
  },
  {
   "cell_type": "code",
   "execution_count": null,
   "metadata": {},
   "outputs": [],
   "source": []
  },
  {
   "cell_type": "code",
   "execution_count": null,
   "metadata": {},
   "outputs": [],
   "source": []
  }
 ],
 "metadata": {
  "kernelspec": {
   "display_name": "base",
   "language": "python",
   "name": "python3"
  },
  "language_info": {
   "codemirror_mode": {
    "name": "ipython",
    "version": 3
   },
   "file_extension": ".py",
   "mimetype": "text/x-python",
   "name": "python",
   "nbconvert_exporter": "python",
   "pygments_lexer": "ipython3",
   "version": "3.9.13 (main, Aug 25 2022, 18:29:29) \n[Clang 12.0.0 ]"
  },
  "vscode": {
   "interpreter": {
    "hash": "84e1904c3a97487b685189145e054586fd3ad14c413d2a39eefe70200931c1a6"
   }
  }
 },
 "nbformat": 4,
 "nbformat_minor": 4
}
