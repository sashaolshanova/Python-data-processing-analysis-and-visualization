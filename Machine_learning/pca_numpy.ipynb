{
 "cells": [
  {
   "cell_type": "code",
   "execution_count": 2,
   "id": "2ff7ad08",
   "metadata": {},
   "outputs": [],
   "source": [
    "import numpy as np\n",
    "import numpy.linalg as linalg\n",
    "from sklearn.datasets import make_classification"
   ]
  },
  {
   "cell_type": "code",
   "execution_count": 6,
   "id": "e710b5b9",
   "metadata": {},
   "outputs": [],
   "source": [
    "X = np.array([[1, 2], [3, 4], [5, 6]])\n",
    "n_samples = X.shape[0]\n",
    "n_samples\n",
    "n_features = 2"
   ]
  },
  {
   "cell_type": "code",
   "execution_count": 9,
   "id": "41f3e952",
   "metadata": {},
   "outputs": [
    {
     "data": {
      "text/plain": [
       "array([[-2., -2.],\n",
       "       [ 0.,  0.],\n",
       "       [ 2.,  2.]])"
      ]
     },
     "execution_count": 9,
     "metadata": {},
     "output_type": "execute_result"
    }
   ],
   "source": [
    "# We center the data and compute the sample covariance matrix.\n",
    "X_centered = (X - np.mean(X, axis=0)) # Note the broadcasting!\n",
    "X_centered "
   ]
  },
  {
   "cell_type": "code",
   "execution_count": 12,
   "id": "ad2dcc69",
   "metadata": {},
   "outputs": [
    {
     "data": {
      "text/plain": [
       "array([[4., 4.],\n",
       "       [4., 4.]])"
      ]
     },
     "execution_count": 12,
     "metadata": {},
     "output_type": "execute_result"
    }
   ],
   "source": [
    "cov_matrix = np.dot(X_centered.T, X_centered) / (n_samples - 1) # Same as np.cov(X_centered.T)\n",
    "cov_matrix"
   ]
  },
  {
   "cell_type": "code",
   "execution_count": 16,
   "id": "5e54bcff",
   "metadata": {
    "collapsed": true
   },
   "outputs": [
    {
     "name": "stdout",
     "output_type": "stream",
     "text": [
      "Original dataset\n",
      " [[1 2]\n",
      " [3 4]\n",
      " [5 6]]\n",
      "Transformed dataset\n",
      " [[-2.82842712  0.        ]\n",
      " [ 0.          0.        ]\n",
      " [ 2.82842712  0.        ]]\n"
     ]
    }
   ],
   "source": [
    "# Eigendecomposition of covariance matrix\n",
    "eigenvalues, eigenvectors = linalg.eig(cov_matrix)\n",
    "# Sort eigenvalues and associated eigenvectors using index-based sorting\n",
    "idx = eigenvalues.argsort()[::-1]  \n",
    "eigenvalues = eigenvalues[idx]\n",
    "eigenvectors = eigenvectors[:,idx]\n",
    "# Eigenvectors corresponding to the k maximum eigenvalues\n",
    "W = eigenvectors[:,0:n_features]\n",
    "# Transform the samples onto the new subspace\n",
    "X_transformed = np.dot(W.T, X_centered.T)\n",
    "print(\"Original dataset\\n\", X)\n",
    "print(\"Transformed dataset\\n\", X_transformed.T)"
   ]
  },
  {
   "cell_type": "code",
   "execution_count": 17,
   "id": "4f1dc5ac",
   "metadata": {
    "collapsed": true
   },
   "outputs": [
    {
     "name": "stdout",
     "output_type": "stream",
     "text": [
      "Original dataset\n",
      " [[1 2]\n",
      " [3 4]\n",
      " [5 6]]\n",
      "Transformed dataset\n",
      " [[-2.82842712e+00  4.74426853e-17]\n",
      " [ 0.00000000e+00  0.00000000e+00]\n",
      " [ 2.82842712e+00  4.74426853e-17]]\n"
     ]
    }
   ],
   "source": [
    "from sklearn.decomposition import PCA\n",
    "from sklearn.preprocessing import StandardScaler\n",
    "\n",
    "pca = PCA()\n",
    "pca.fit(X)\n",
    "# access values and vectors\n",
    "eigenvalues_pca = pca.explained_variance_\n",
    "eigenvectors_pca = pca.components_\n",
    "X_transformed = pca.fit_transform(X)\n",
    "print(\"Original dataset\\n\", X)\n",
    "print(\"Transformed dataset\\n\", X_transformed)"
   ]
  },
  {
   "cell_type": "code",
   "execution_count": null,
   "id": "bc3f977c",
   "metadata": {},
   "outputs": [],
   "source": []
  }
 ],
 "metadata": {
  "kernelspec": {
   "display_name": "base",
   "language": "python",
   "name": "python3"
  },
  "language_info": {
   "codemirror_mode": {
    "name": "ipython",
    "version": 3
   },
   "file_extension": ".py",
   "mimetype": "text/x-python",
   "name": "python",
   "nbconvert_exporter": "python",
   "pygments_lexer": "ipython3",
   "version": "3.9.13 (main, Aug 25 2022, 18:29:29) \n[Clang 12.0.0 ]"
  },
  "vscode": {
   "interpreter": {
    "hash": "84e1904c3a97487b685189145e054586fd3ad14c413d2a39eefe70200931c1a6"
   }
  }
 },
 "nbformat": 4,
 "nbformat_minor": 5
}
