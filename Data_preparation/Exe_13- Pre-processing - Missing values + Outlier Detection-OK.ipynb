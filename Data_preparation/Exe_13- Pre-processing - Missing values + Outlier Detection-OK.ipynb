{
 "cells": [
  {
   "cell_type": "markdown",
   "metadata": {
    "pycharm": {
     "name": "#%% md\n"
    }
   },
   "source": [
    "# Pre-processing"
   ]
  },
  {
   "cell_type": "markdown",
   "metadata": {
    "pycharm": {
     "name": "#%% md\n"
    }
   },
   "source": [
    "Data preprocessing is an important task. It is a data mining technique that transforms raw data into a more understandable, useful and efficient format."
   ]
  },
  {
   "cell_type": "markdown",
   "metadata": {
    "pycharm": {
     "name": "#%% md\n"
    }
   },
   "source": [
    "**Why is data preprocessing required?**\n",
    "\n",
    "Real world data is generally:\n",
    "- *Incomplete:* Certain attributes or values or both are missing or only aggregate data is available.\n",
    "- *Noisy:* Data contains errors or outliers\n",
    "- *Inconsistent:* Data contains differences in codes or names etc."
   ]
  },
  {
   "cell_type": "markdown",
   "metadata": {
    "pycharm": {
     "name": "#%% md\n"
    }
   },
   "source": [
    "**Tasks in data preprocessing:**\n",
    "1. **Data Cleaning:** It is also known as scrubbing. This task involves filling of missing values, smoothing or removing noisy data and outliers along with resolving inconsistencies.\n",
    "2. **Data Integration:** This task involves integrating data from multiple sources such as databases (relational and non-relational), data cubes, files, etc. The data sources can be homogeneous or heterogeneous. The data obtained from the sources can be structured, unstructured or semi-structured in format.\n",
    "3. **Data Transformation:** This involves normalisation and aggregation of data according to the needs of the data set.\n",
    "4. **Data Reduction:** During this step data is reduced. The number of records or the number of attributes or dimensions can be reduced. Reduction is performed by keeping in mind that reduced data should produce the same results as original data.\n",
    "5. **Data Discretization:** It is considered as a part of data reduction. The numerical attributes are replaced with nominal ones."
   ]
  },
  {
   "cell_type": "markdown",
   "metadata": {
    "pycharm": {
     "name": "#%% md\n"
    }
   },
   "source": [
    "## Data Cleaning"
   ]
  },
  {
   "cell_type": "markdown",
   "metadata": {
    "pycharm": {
     "name": "#%% md\n"
    }
   },
   "source": [
    "The data cleaning process detects and removes the errors and inconsistencies present in the data and improves its quality. Data quality problems occur due to misspellings during data entry, missing values or any other invalid data. Basically, “dirty” data is transformed into clean data. “Dirty” data does not produce the accurate and good results. Garbage data gives garbage out. So it becomes very important to handle this data. Professionals spend a lot of their time on this step."
   ]
  },
  {
   "cell_type": "markdown",
   "metadata": {
    "pycharm": {
     "name": "#%% md\n"
    }
   },
   "source": [
    "The different ways to handle missing data are:\n",
    "1. Ignore the data row.\n",
    "2. Fill the missing values manually.\n",
    "3. Use attribute mean or median.\n",
    "4. Use similarity between objects\n",
    "6. Use forward fill or backward fill method.\n",
    "7. Use a data-mining algorithm to predict the most probable value."
   ]
  },
  {
   "cell_type": "code",
   "execution_count": 51,
   "metadata": {
    "pycharm": {
     "name": "#%%\n"
    }
   },
   "outputs": [],
   "source": [
    "import numpy as np\n",
    "import pandas as pd\n",
    "import matplotlib.pyplot as plt\n",
    "%matplotlib inline\n",
    "import seaborn as sns\n",
    "import scipy"
   ]
  },
  {
   "cell_type": "markdown",
   "metadata": {
    "pycharm": {
     "name": "#%% md\n"
    }
   },
   "source": [
    "## The Data:"
   ]
  },
  {
   "cell_type": "code",
   "execution_count": 52,
   "metadata": {
    "pycharm": {
     "name": "#%%\n"
    }
   },
   "outputs": [
    {
     "data": {
      "text/html": [
       "<div>\n",
       "<style scoped>\n",
       "    .dataframe tbody tr th:only-of-type {\n",
       "        vertical-align: middle;\n",
       "    }\n",
       "\n",
       "    .dataframe tbody tr th {\n",
       "        vertical-align: top;\n",
       "    }\n",
       "\n",
       "    .dataframe thead th {\n",
       "        text-align: right;\n",
       "    }\n",
       "</style>\n",
       "<table border=\"1\" class=\"dataframe\">\n",
       "  <thead>\n",
       "    <tr style=\"text-align: right;\">\n",
       "      <th></th>\n",
       "      <th>structureId</th>\n",
       "      <th>chainId</th>\n",
       "      <th>sequence</th>\n",
       "      <th>residueCount</th>\n",
       "      <th>macromoleculeType</th>\n",
       "    </tr>\n",
       "  </thead>\n",
       "  <tbody>\n",
       "    <tr>\n",
       "      <th>0</th>\n",
       "      <td>100D</td>\n",
       "      <td>A</td>\n",
       "      <td>CCGGCGCCGG</td>\n",
       "      <td>20</td>\n",
       "      <td>DNA/RNA Hybrid</td>\n",
       "    </tr>\n",
       "    <tr>\n",
       "      <th>1</th>\n",
       "      <td>100D</td>\n",
       "      <td>B</td>\n",
       "      <td>CCGGCGCCGG</td>\n",
       "      <td>20</td>\n",
       "      <td>DNA/RNA Hybrid</td>\n",
       "    </tr>\n",
       "    <tr>\n",
       "      <th>2</th>\n",
       "      <td>101D</td>\n",
       "      <td>A</td>\n",
       "      <td>CGCGAATTCGCG</td>\n",
       "      <td>24</td>\n",
       "      <td>DNA</td>\n",
       "    </tr>\n",
       "    <tr>\n",
       "      <th>3</th>\n",
       "      <td>101D</td>\n",
       "      <td>B</td>\n",
       "      <td>CGCGAATTCGCG</td>\n",
       "      <td>24</td>\n",
       "      <td>DNA</td>\n",
       "    </tr>\n",
       "    <tr>\n",
       "      <th>4</th>\n",
       "      <td>101M</td>\n",
       "      <td>A</td>\n",
       "      <td>MVLSEGEWQLVLHVWAKVEADVAGHGQDILIRLFKSHPETLEKFDR...</td>\n",
       "      <td>154</td>\n",
       "      <td>Protein</td>\n",
       "    </tr>\n",
       "    <tr>\n",
       "      <th>...</th>\n",
       "      <td>...</td>\n",
       "      <td>...</td>\n",
       "      <td>...</td>\n",
       "      <td>...</td>\n",
       "      <td>...</td>\n",
       "    </tr>\n",
       "    <tr>\n",
       "      <th>467299</th>\n",
       "      <td>9XIA</td>\n",
       "      <td>A</td>\n",
       "      <td>MNYQPTPEDRFTFGLWTVGWQGRDPFGDATRRALDPVESVQRLAEL...</td>\n",
       "      <td>388</td>\n",
       "      <td>Protein</td>\n",
       "    </tr>\n",
       "    <tr>\n",
       "      <th>467300</th>\n",
       "      <td>9XIM</td>\n",
       "      <td>A</td>\n",
       "      <td>SVQATREDKFSFGLWTVGWQARDAFGDATRTALDPVEAVHKLAEIG...</td>\n",
       "      <td>1572</td>\n",
       "      <td>Protein</td>\n",
       "    </tr>\n",
       "    <tr>\n",
       "      <th>467301</th>\n",
       "      <td>9XIM</td>\n",
       "      <td>B</td>\n",
       "      <td>SVQATREDKFSFGLWTVGWQARDAFGDATRTALDPVEAVHKLAEIG...</td>\n",
       "      <td>1572</td>\n",
       "      <td>Protein</td>\n",
       "    </tr>\n",
       "    <tr>\n",
       "      <th>467302</th>\n",
       "      <td>9XIM</td>\n",
       "      <td>C</td>\n",
       "      <td>SVQATREDKFSFGLWTVGWQARDAFGDATRTALDPVEAVHKLAEIG...</td>\n",
       "      <td>1572</td>\n",
       "      <td>Protein</td>\n",
       "    </tr>\n",
       "    <tr>\n",
       "      <th>467303</th>\n",
       "      <td>9XIM</td>\n",
       "      <td>D</td>\n",
       "      <td>SVQATREDKFSFGLWTVGWQARDAFGDATRTALDPVEAVHKLAEIG...</td>\n",
       "      <td>1572</td>\n",
       "      <td>Protein</td>\n",
       "    </tr>\n",
       "  </tbody>\n",
       "</table>\n",
       "<p>467304 rows × 5 columns</p>\n",
       "</div>"
      ],
      "text/plain": [
       "       structureId chainId                                           sequence  \\\n",
       "0             100D       A                                         CCGGCGCCGG   \n",
       "1             100D       B                                         CCGGCGCCGG   \n",
       "2             101D       A                                       CGCGAATTCGCG   \n",
       "3             101D       B                                       CGCGAATTCGCG   \n",
       "4             101M       A  MVLSEGEWQLVLHVWAKVEADVAGHGQDILIRLFKSHPETLEKFDR...   \n",
       "...            ...     ...                                                ...   \n",
       "467299        9XIA       A  MNYQPTPEDRFTFGLWTVGWQGRDPFGDATRRALDPVESVQRLAEL...   \n",
       "467300        9XIM       A  SVQATREDKFSFGLWTVGWQARDAFGDATRTALDPVEAVHKLAEIG...   \n",
       "467301        9XIM       B  SVQATREDKFSFGLWTVGWQARDAFGDATRTALDPVEAVHKLAEIG...   \n",
       "467302        9XIM       C  SVQATREDKFSFGLWTVGWQARDAFGDATRTALDPVEAVHKLAEIG...   \n",
       "467303        9XIM       D  SVQATREDKFSFGLWTVGWQARDAFGDATRTALDPVEAVHKLAEIG...   \n",
       "\n",
       "        residueCount macromoleculeType  \n",
       "0                 20    DNA/RNA Hybrid  \n",
       "1                 20    DNA/RNA Hybrid  \n",
       "2                 24               DNA  \n",
       "3                 24               DNA  \n",
       "4                154           Protein  \n",
       "...              ...               ...  \n",
       "467299           388           Protein  \n",
       "467300          1572           Protein  \n",
       "467301          1572           Protein  \n",
       "467302          1572           Protein  \n",
       "467303          1572           Protein  \n",
       "\n",
       "[467304 rows x 5 columns]"
      ]
     },
     "execution_count": 52,
     "metadata": {},
     "output_type": "execute_result"
    }
   ],
   "source": [
    "df_seq = pd.read_csv(r'pdb_data_seq.csv')\n",
    "df_char = pd.read_csv(r'pdb_data_no_dups.csv')\n",
    "df_seq"
   ]
  },
  {
   "cell_type": "code",
   "execution_count": 54,
   "metadata": {
    "pycharm": {
     "name": "#%%\n"
    }
   },
   "outputs": [],
   "source": [
    "# Filter for only proteins\n",
    "protein_char = df_char[df_char.macromoleculeType == 'Protein']\n",
    "protein_seq = df_seq[df_seq.macromoleculeType == 'Protein']\n",
    "#Select  some variables to join\n",
    "protein_char = protein_char[['structureId','classification','experimentalTechnique','residueCount', 'resolution',\n",
    "     'structureMolecularWeight','crystallizationMethod','crystallizationTempK', 'densityMatthews', 'densityPercentSol', 'phValue', 'publicationYear']].copy()\n"
   ]
  },
  {
   "cell_type": "code",
   "execution_count": 55,
   "metadata": {
    "pycharm": {
     "name": "#%%\n"
    }
   },
   "outputs": [
    {
     "data": {
      "text/html": [
       "<div>\n",
       "<style scoped>\n",
       "    .dataframe tbody tr th:only-of-type {\n",
       "        vertical-align: middle;\n",
       "    }\n",
       "\n",
       "    .dataframe tbody tr th {\n",
       "        vertical-align: top;\n",
       "    }\n",
       "\n",
       "    .dataframe thead th {\n",
       "        text-align: right;\n",
       "    }\n",
       "</style>\n",
       "<table border=\"1\" class=\"dataframe\">\n",
       "  <thead>\n",
       "    <tr style=\"text-align: right;\">\n",
       "      <th></th>\n",
       "      <th>structureId</th>\n",
       "      <th>chainId</th>\n",
       "      <th>sequence</th>\n",
       "      <th>residueCount</th>\n",
       "      <th>macromoleculeType</th>\n",
       "    </tr>\n",
       "  </thead>\n",
       "  <tbody>\n",
       "    <tr>\n",
       "      <th>4</th>\n",
       "      <td>101M</td>\n",
       "      <td>A</td>\n",
       "      <td>MVLSEGEWQLVLHVWAKVEADVAGHGQDILIRLFKSHPETLEKFDR...</td>\n",
       "      <td>154</td>\n",
       "      <td>Protein</td>\n",
       "    </tr>\n",
       "    <tr>\n",
       "      <th>7</th>\n",
       "      <td>102L</td>\n",
       "      <td>A</td>\n",
       "      <td>MNIFEMLRIDEGLRLKIYKDTEGYYTIGIGHLLTKSPSLNAAAKSE...</td>\n",
       "      <td>165</td>\n",
       "      <td>Protein</td>\n",
       "    </tr>\n",
       "    <tr>\n",
       "      <th>8</th>\n",
       "      <td>102M</td>\n",
       "      <td>A</td>\n",
       "      <td>MVLSEGEWQLVLHVWAKVEADVAGHGQDILIRLFKSHPETLEKFDR...</td>\n",
       "      <td>154</td>\n",
       "      <td>Protein</td>\n",
       "    </tr>\n",
       "    <tr>\n",
       "      <th>11</th>\n",
       "      <td>103L</td>\n",
       "      <td>A</td>\n",
       "      <td>MNIFEMLRIDEGLRLKIYKDTEGYYTIGIGHLLTKSPSLNSLDAAK...</td>\n",
       "      <td>167</td>\n",
       "      <td>Protein</td>\n",
       "    </tr>\n",
       "    <tr>\n",
       "      <th>12</th>\n",
       "      <td>103M</td>\n",
       "      <td>A</td>\n",
       "      <td>MVLSEGEWQLVLHVWAKVEADVAGHGQDILIRLFKSHPETLEKFDR...</td>\n",
       "      <td>154</td>\n",
       "      <td>Protein</td>\n",
       "    </tr>\n",
       "  </tbody>\n",
       "</table>\n",
       "</div>"
      ],
      "text/plain": [
       "   structureId chainId                                           sequence  \\\n",
       "4         101M       A  MVLSEGEWQLVLHVWAKVEADVAGHGQDILIRLFKSHPETLEKFDR...   \n",
       "7         102L       A  MNIFEMLRIDEGLRLKIYKDTEGYYTIGIGHLLTKSPSLNAAAKSE...   \n",
       "8         102M       A  MVLSEGEWQLVLHVWAKVEADVAGHGQDILIRLFKSHPETLEKFDR...   \n",
       "11        103L       A  MNIFEMLRIDEGLRLKIYKDTEGYYTIGIGHLLTKSPSLNSLDAAK...   \n",
       "12        103M       A  MVLSEGEWQLVLHVWAKVEADVAGHGQDILIRLFKSHPETLEKFDR...   \n",
       "\n",
       "    residueCount macromoleculeType  \n",
       "4            154           Protein  \n",
       "7            165           Protein  \n",
       "8            154           Protein  \n",
       "11           167           Protein  \n",
       "12           154           Protein  "
      ]
     },
     "execution_count": 55,
     "metadata": {},
     "output_type": "execute_result"
    }
   ],
   "source": [
    "protein_seq.head()"
   ]
  },
  {
   "cell_type": "code",
   "execution_count": 56,
   "metadata": {
    "pycharm": {
     "name": "#%%\n"
    }
   },
   "outputs": [
    {
     "data": {
      "text/html": [
       "<div>\n",
       "<style scoped>\n",
       "    .dataframe tbody tr th:only-of-type {\n",
       "        vertical-align: middle;\n",
       "    }\n",
       "\n",
       "    .dataframe tbody tr th {\n",
       "        vertical-align: top;\n",
       "    }\n",
       "\n",
       "    .dataframe thead th {\n",
       "        text-align: right;\n",
       "    }\n",
       "</style>\n",
       "<table border=\"1\" class=\"dataframe\">\n",
       "  <thead>\n",
       "    <tr style=\"text-align: right;\">\n",
       "      <th></th>\n",
       "      <th>structureId</th>\n",
       "      <th>classification</th>\n",
       "      <th>experimentalTechnique</th>\n",
       "      <th>residueCount</th>\n",
       "      <th>resolution</th>\n",
       "      <th>structureMolecularWeight</th>\n",
       "      <th>crystallizationMethod</th>\n",
       "      <th>crystallizationTempK</th>\n",
       "      <th>densityMatthews</th>\n",
       "      <th>densityPercentSol</th>\n",
       "      <th>phValue</th>\n",
       "      <th>publicationYear</th>\n",
       "    </tr>\n",
       "  </thead>\n",
       "  <tbody>\n",
       "    <tr>\n",
       "      <th>2</th>\n",
       "      <td>101M</td>\n",
       "      <td>OXYGEN TRANSPORT</td>\n",
       "      <td>X-RAY DIFFRACTION</td>\n",
       "      <td>154</td>\n",
       "      <td>2.07</td>\n",
       "      <td>18112.80</td>\n",
       "      <td>NaN</td>\n",
       "      <td>NaN</td>\n",
       "      <td>3.09</td>\n",
       "      <td>60.20</td>\n",
       "      <td>9.0</td>\n",
       "      <td>1999.0</td>\n",
       "    </tr>\n",
       "    <tr>\n",
       "      <th>4</th>\n",
       "      <td>102L</td>\n",
       "      <td>HYDROLASE(O-GLYCOSYL)</td>\n",
       "      <td>X-RAY DIFFRACTION</td>\n",
       "      <td>165</td>\n",
       "      <td>1.74</td>\n",
       "      <td>18926.61</td>\n",
       "      <td>NaN</td>\n",
       "      <td>NaN</td>\n",
       "      <td>2.75</td>\n",
       "      <td>55.28</td>\n",
       "      <td>NaN</td>\n",
       "      <td>1993.0</td>\n",
       "    </tr>\n",
       "    <tr>\n",
       "      <th>5</th>\n",
       "      <td>102M</td>\n",
       "      <td>OXYGEN TRANSPORT</td>\n",
       "      <td>X-RAY DIFFRACTION</td>\n",
       "      <td>154</td>\n",
       "      <td>1.84</td>\n",
       "      <td>18010.64</td>\n",
       "      <td>NaN</td>\n",
       "      <td>NaN</td>\n",
       "      <td>3.09</td>\n",
       "      <td>60.20</td>\n",
       "      <td>9.0</td>\n",
       "      <td>1999.0</td>\n",
       "    </tr>\n",
       "    <tr>\n",
       "      <th>7</th>\n",
       "      <td>103L</td>\n",
       "      <td>HYDROLASE(O-GLYCOSYL)</td>\n",
       "      <td>X-RAY DIFFRACTION</td>\n",
       "      <td>167</td>\n",
       "      <td>1.90</td>\n",
       "      <td>19092.72</td>\n",
       "      <td>NaN</td>\n",
       "      <td>NaN</td>\n",
       "      <td>2.70</td>\n",
       "      <td>54.46</td>\n",
       "      <td>NaN</td>\n",
       "      <td>1993.0</td>\n",
       "    </tr>\n",
       "    <tr>\n",
       "      <th>8</th>\n",
       "      <td>103M</td>\n",
       "      <td>OXYGEN TRANSPORT</td>\n",
       "      <td>X-RAY DIFFRACTION</td>\n",
       "      <td>154</td>\n",
       "      <td>2.07</td>\n",
       "      <td>18093.78</td>\n",
       "      <td>NaN</td>\n",
       "      <td>NaN</td>\n",
       "      <td>3.09</td>\n",
       "      <td>60.30</td>\n",
       "      <td>9.0</td>\n",
       "      <td>1999.0</td>\n",
       "    </tr>\n",
       "  </tbody>\n",
       "</table>\n",
       "</div>"
      ],
      "text/plain": [
       "  structureId         classification experimentalTechnique  residueCount  \\\n",
       "2        101M       OXYGEN TRANSPORT     X-RAY DIFFRACTION           154   \n",
       "4        102L  HYDROLASE(O-GLYCOSYL)     X-RAY DIFFRACTION           165   \n",
       "5        102M       OXYGEN TRANSPORT     X-RAY DIFFRACTION           154   \n",
       "7        103L  HYDROLASE(O-GLYCOSYL)     X-RAY DIFFRACTION           167   \n",
       "8        103M       OXYGEN TRANSPORT     X-RAY DIFFRACTION           154   \n",
       "\n",
       "   resolution  structureMolecularWeight crystallizationMethod  \\\n",
       "2        2.07                  18112.80                   NaN   \n",
       "4        1.74                  18926.61                   NaN   \n",
       "5        1.84                  18010.64                   NaN   \n",
       "7        1.90                  19092.72                   NaN   \n",
       "8        2.07                  18093.78                   NaN   \n",
       "\n",
       "   crystallizationTempK  densityMatthews  densityPercentSol  phValue  \\\n",
       "2                   NaN             3.09              60.20      9.0   \n",
       "4                   NaN             2.75              55.28      NaN   \n",
       "5                   NaN             3.09              60.20      9.0   \n",
       "7                   NaN             2.70              54.46      NaN   \n",
       "8                   NaN             3.09              60.30      9.0   \n",
       "\n",
       "   publicationYear  \n",
       "2           1999.0  \n",
       "4           1993.0  \n",
       "5           1999.0  \n",
       "7           1993.0  \n",
       "8           1999.0  "
      ]
     },
     "execution_count": 56,
     "metadata": {},
     "output_type": "execute_result"
    }
   ],
   "source": [
    "protein_char.head()"
   ]
  },
  {
   "cell_type": "code",
   "execution_count": 57,
   "metadata": {
    "pycharm": {
     "name": "#%%\n"
    }
   },
   "outputs": [
    {
     "data": {
      "text/html": [
       "<div>\n",
       "<style scoped>\n",
       "    .dataframe tbody tr th:only-of-type {\n",
       "        vertical-align: middle;\n",
       "    }\n",
       "\n",
       "    .dataframe tbody tr th {\n",
       "        vertical-align: top;\n",
       "    }\n",
       "\n",
       "    .dataframe thead th {\n",
       "        text-align: right;\n",
       "    }\n",
       "</style>\n",
       "<table border=\"1\" class=\"dataframe\">\n",
       "  <thead>\n",
       "    <tr style=\"text-align: right;\">\n",
       "      <th></th>\n",
       "      <th>structureId</th>\n",
       "      <th>sequence</th>\n",
       "    </tr>\n",
       "  </thead>\n",
       "  <tbody>\n",
       "    <tr>\n",
       "      <th>4</th>\n",
       "      <td>101M</td>\n",
       "      <td>MVLSEGEWQLVLHVWAKVEADVAGHGQDILIRLFKSHPETLEKFDR...</td>\n",
       "    </tr>\n",
       "    <tr>\n",
       "      <th>7</th>\n",
       "      <td>102L</td>\n",
       "      <td>MNIFEMLRIDEGLRLKIYKDTEGYYTIGIGHLLTKSPSLNAAAKSE...</td>\n",
       "    </tr>\n",
       "    <tr>\n",
       "      <th>8</th>\n",
       "      <td>102M</td>\n",
       "      <td>MVLSEGEWQLVLHVWAKVEADVAGHGQDILIRLFKSHPETLEKFDR...</td>\n",
       "    </tr>\n",
       "    <tr>\n",
       "      <th>11</th>\n",
       "      <td>103L</td>\n",
       "      <td>MNIFEMLRIDEGLRLKIYKDTEGYYTIGIGHLLTKSPSLNSLDAAK...</td>\n",
       "    </tr>\n",
       "    <tr>\n",
       "      <th>12</th>\n",
       "      <td>103M</td>\n",
       "      <td>MVLSEGEWQLVLHVWAKVEADVAGHGQDILIRLFKSHPETLEKFDR...</td>\n",
       "    </tr>\n",
       "  </tbody>\n",
       "</table>\n",
       "</div>"
      ],
      "text/plain": [
       "   structureId                                           sequence\n",
       "4         101M  MVLSEGEWQLVLHVWAKVEADVAGHGQDILIRLFKSHPETLEKFDR...\n",
       "7         102L  MNIFEMLRIDEGLRLKIYKDTEGYYTIGIGHLLTKSPSLNAAAKSE...\n",
       "8         102M  MVLSEGEWQLVLHVWAKVEADVAGHGQDILIRLFKSHPETLEKFDR...\n",
       "11        103L  MNIFEMLRIDEGLRLKIYKDTEGYYTIGIGHLLTKSPSLNSLDAAK...\n",
       "12        103M  MVLSEGEWQLVLHVWAKVEADVAGHGQDILIRLFKSHPETLEKFDR..."
      ]
     },
     "execution_count": 57,
     "metadata": {},
     "output_type": "execute_result"
    }
   ],
   "source": [
    "protein_seq= protein_seq[['structureId','sequence']]\n",
    "protein_seq.head()"
   ]
  },
  {
   "cell_type": "code",
   "execution_count": 58,
   "metadata": {
    "pycharm": {
     "name": "#%%\n"
    }
   },
   "outputs": [
    {
     "data": {
      "text/html": [
       "<div>\n",
       "<style scoped>\n",
       "    .dataframe tbody tr th:only-of-type {\n",
       "        vertical-align: middle;\n",
       "    }\n",
       "\n",
       "    .dataframe tbody tr th {\n",
       "        vertical-align: top;\n",
       "    }\n",
       "\n",
       "    .dataframe thead th {\n",
       "        text-align: right;\n",
       "    }\n",
       "</style>\n",
       "<table border=\"1\" class=\"dataframe\">\n",
       "  <thead>\n",
       "    <tr style=\"text-align: right;\">\n",
       "      <th></th>\n",
       "      <th>classification</th>\n",
       "      <th>experimentalTechnique</th>\n",
       "      <th>residueCount</th>\n",
       "      <th>resolution</th>\n",
       "      <th>structureMolecularWeight</th>\n",
       "      <th>crystallizationMethod</th>\n",
       "      <th>crystallizationTempK</th>\n",
       "      <th>densityMatthews</th>\n",
       "      <th>densityPercentSol</th>\n",
       "      <th>phValue</th>\n",
       "      <th>publicationYear</th>\n",
       "      <th>sequence</th>\n",
       "    </tr>\n",
       "    <tr>\n",
       "      <th>structureId</th>\n",
       "      <th></th>\n",
       "      <th></th>\n",
       "      <th></th>\n",
       "      <th></th>\n",
       "      <th></th>\n",
       "      <th></th>\n",
       "      <th></th>\n",
       "      <th></th>\n",
       "      <th></th>\n",
       "      <th></th>\n",
       "      <th></th>\n",
       "      <th></th>\n",
       "    </tr>\n",
       "  </thead>\n",
       "  <tbody>\n",
       "    <tr>\n",
       "      <th>101M</th>\n",
       "      <td>OXYGEN TRANSPORT</td>\n",
       "      <td>X-RAY DIFFRACTION</td>\n",
       "      <td>154</td>\n",
       "      <td>2.07</td>\n",
       "      <td>18112.80</td>\n",
       "      <td>NaN</td>\n",
       "      <td>NaN</td>\n",
       "      <td>3.09</td>\n",
       "      <td>60.20</td>\n",
       "      <td>9.0</td>\n",
       "      <td>1999.0</td>\n",
       "      <td>MVLSEGEWQLVLHVWAKVEADVAGHGQDILIRLFKSHPETLEKFDR...</td>\n",
       "    </tr>\n",
       "    <tr>\n",
       "      <th>102L</th>\n",
       "      <td>HYDROLASE(O-GLYCOSYL)</td>\n",
       "      <td>X-RAY DIFFRACTION</td>\n",
       "      <td>165</td>\n",
       "      <td>1.74</td>\n",
       "      <td>18926.61</td>\n",
       "      <td>NaN</td>\n",
       "      <td>NaN</td>\n",
       "      <td>2.75</td>\n",
       "      <td>55.28</td>\n",
       "      <td>NaN</td>\n",
       "      <td>1993.0</td>\n",
       "      <td>MNIFEMLRIDEGLRLKIYKDTEGYYTIGIGHLLTKSPSLNAAAKSE...</td>\n",
       "    </tr>\n",
       "    <tr>\n",
       "      <th>102M</th>\n",
       "      <td>OXYGEN TRANSPORT</td>\n",
       "      <td>X-RAY DIFFRACTION</td>\n",
       "      <td>154</td>\n",
       "      <td>1.84</td>\n",
       "      <td>18010.64</td>\n",
       "      <td>NaN</td>\n",
       "      <td>NaN</td>\n",
       "      <td>3.09</td>\n",
       "      <td>60.20</td>\n",
       "      <td>9.0</td>\n",
       "      <td>1999.0</td>\n",
       "      <td>MVLSEGEWQLVLHVWAKVEADVAGHGQDILIRLFKSHPETLEKFDR...</td>\n",
       "    </tr>\n",
       "    <tr>\n",
       "      <th>103L</th>\n",
       "      <td>HYDROLASE(O-GLYCOSYL)</td>\n",
       "      <td>X-RAY DIFFRACTION</td>\n",
       "      <td>167</td>\n",
       "      <td>1.90</td>\n",
       "      <td>19092.72</td>\n",
       "      <td>NaN</td>\n",
       "      <td>NaN</td>\n",
       "      <td>2.70</td>\n",
       "      <td>54.46</td>\n",
       "      <td>NaN</td>\n",
       "      <td>1993.0</td>\n",
       "      <td>MNIFEMLRIDEGLRLKIYKDTEGYYTIGIGHLLTKSPSLNSLDAAK...</td>\n",
       "    </tr>\n",
       "    <tr>\n",
       "      <th>103M</th>\n",
       "      <td>OXYGEN TRANSPORT</td>\n",
       "      <td>X-RAY DIFFRACTION</td>\n",
       "      <td>154</td>\n",
       "      <td>2.07</td>\n",
       "      <td>18093.78</td>\n",
       "      <td>NaN</td>\n",
       "      <td>NaN</td>\n",
       "      <td>3.09</td>\n",
       "      <td>60.30</td>\n",
       "      <td>9.0</td>\n",
       "      <td>1999.0</td>\n",
       "      <td>MVLSEGEWQLVLHVWAKVEADVAGHGQDILIRLFKSHPETLEKFDR...</td>\n",
       "    </tr>\n",
       "  </tbody>\n",
       "</table>\n",
       "</div>"
      ],
      "text/plain": [
       "                    classification experimentalTechnique  residueCount  \\\n",
       "structureId                                                              \n",
       "101M              OXYGEN TRANSPORT     X-RAY DIFFRACTION           154   \n",
       "102L         HYDROLASE(O-GLYCOSYL)     X-RAY DIFFRACTION           165   \n",
       "102M              OXYGEN TRANSPORT     X-RAY DIFFRACTION           154   \n",
       "103L         HYDROLASE(O-GLYCOSYL)     X-RAY DIFFRACTION           167   \n",
       "103M              OXYGEN TRANSPORT     X-RAY DIFFRACTION           154   \n",
       "\n",
       "             resolution  structureMolecularWeight crystallizationMethod  \\\n",
       "structureId                                                               \n",
       "101M               2.07                  18112.80                   NaN   \n",
       "102L               1.74                  18926.61                   NaN   \n",
       "102M               1.84                  18010.64                   NaN   \n",
       "103L               1.90                  19092.72                   NaN   \n",
       "103M               2.07                  18093.78                   NaN   \n",
       "\n",
       "             crystallizationTempK  densityMatthews  densityPercentSol  \\\n",
       "structureId                                                             \n",
       "101M                          NaN             3.09              60.20   \n",
       "102L                          NaN             2.75              55.28   \n",
       "102M                          NaN             3.09              60.20   \n",
       "103L                          NaN             2.70              54.46   \n",
       "103M                          NaN             3.09              60.30   \n",
       "\n",
       "             phValue  publicationYear  \\\n",
       "structureId                             \n",
       "101M             9.0           1999.0   \n",
       "102L             NaN           1993.0   \n",
       "102M             9.0           1999.0   \n",
       "103L             NaN           1993.0   \n",
       "103M             9.0           1999.0   \n",
       "\n",
       "                                                      sequence  \n",
       "structureId                                                     \n",
       "101M         MVLSEGEWQLVLHVWAKVEADVAGHGQDILIRLFKSHPETLEKFDR...  \n",
       "102L         MNIFEMLRIDEGLRLKIYKDTEGYYTIGIGHLLTKSPSLNAAAKSE...  \n",
       "102M         MVLSEGEWQLVLHVWAKVEADVAGHGQDILIRLFKSHPETLEKFDR...  \n",
       "103L         MNIFEMLRIDEGLRLKIYKDTEGYYTIGIGHLLTKSPSLNSLDAAK...  \n",
       "103M         MVLSEGEWQLVLHVWAKVEADVAGHGQDILIRLFKSHPETLEKFDR...  "
      ]
     },
     "execution_count": 58,
     "metadata": {},
     "output_type": "execute_result"
    }
   ],
   "source": [
    "# Join two datasets on structureId\n",
    "model_f =  protein_char.set_index('structureId').join(protein_seq.set_index('structureId'))\n",
    "model_f.head()"
   ]
  },
  {
   "cell_type": "code",
   "execution_count": 59,
   "metadata": {
    "pycharm": {
     "name": "#%%\n"
    }
   },
   "outputs": [
    {
     "data": {
      "text/plain": [
       "(346325, 12)"
      ]
     },
     "execution_count": 59,
     "metadata": {},
     "output_type": "execute_result"
    }
   ],
   "source": [
    "model_f.shape"
   ]
  },
  {
   "cell_type": "markdown",
   "metadata": {
    "pycharm": {
     "name": "#%% md\n"
    }
   },
   "source": [
    "**Attribute types, and amount of missing values:**"
   ]
  },
  {
   "cell_type": "code",
   "execution_count": 60,
   "metadata": {
    "pycharm": {
     "name": "#%%\n"
    }
   },
   "outputs": [
    {
     "name": "stdout",
     "output_type": "stream",
     "text": [
      "<class 'pandas.core.frame.DataFrame'>\n",
      "Index: 346325 entries, 101M to 9XIM\n",
      "Data columns (total 12 columns):\n",
      " #   Column                    Non-Null Count   Dtype  \n",
      "---  ------                    --------------   -----  \n",
      " 0   classification            346324 non-null  object \n",
      " 1   experimentalTechnique     346325 non-null  object \n",
      " 2   residueCount              346325 non-null  int64  \n",
      " 3   resolution                330232 non-null  float64\n",
      " 4   structureMolecularWeight  346325 non-null  float64\n",
      " 5   crystallizationMethod     240597 non-null  object \n",
      " 6   crystallizationTempK      243934 non-null  float64\n",
      " 7   densityMatthews           307481 non-null  float64\n",
      " 8   densityPercentSol         307615 non-null  float64\n",
      " 9   phValue                   259130 non-null  float64\n",
      " 10  publicationYear           295363 non-null  float64\n",
      " 11  sequence                  346322 non-null  object \n",
      "dtypes: float64(7), int64(1), object(4)\n",
      "memory usage: 34.3+ MB\n"
     ]
    }
   ],
   "source": [
    "model_f.info()"
   ]
  },
  {
   "cell_type": "code",
   "execution_count": 62,
   "metadata": {
    "pycharm": {
     "name": "#%%\n"
    }
   },
   "outputs": [
    {
     "name": "stdout",
     "output_type": "stream",
     "text": [
      "classification                   1\n",
      "experimentalTechnique            0\n",
      "residueCount                     0\n",
      "resolution                   16093\n",
      "structureMolecularWeight         0\n",
      "crystallizationMethod       105728\n",
      "crystallizationTempK        102391\n",
      "densityMatthews              38844\n",
      "densityPercentSol            38710\n",
      "phValue                      87195\n",
      "publicationYear              50962\n",
      "sequence                         3\n",
      "dtype: int64\n"
     ]
    }
   ],
   "source": [
    "print(model_f.isnull().sum()) "
   ]
  },
  {
   "cell_type": "code",
   "execution_count": 63,
   "metadata": {
    "pycharm": {
     "name": "#%%\n"
    }
   },
   "outputs": [
    {
     "data": {
      "text/html": [
       "<div>\n",
       "<style scoped>\n",
       "    .dataframe tbody tr th:only-of-type {\n",
       "        vertical-align: middle;\n",
       "    }\n",
       "\n",
       "    .dataframe tbody tr th {\n",
       "        vertical-align: top;\n",
       "    }\n",
       "\n",
       "    .dataframe thead th {\n",
       "        text-align: right;\n",
       "    }\n",
       "</style>\n",
       "<table border=\"1\" class=\"dataframe\">\n",
       "  <thead>\n",
       "    <tr style=\"text-align: right;\">\n",
       "      <th></th>\n",
       "      <th>residueCount</th>\n",
       "      <th>resolution</th>\n",
       "      <th>structureMolecularWeight</th>\n",
       "      <th>crystallizationTempK</th>\n",
       "      <th>densityMatthews</th>\n",
       "      <th>densityPercentSol</th>\n",
       "      <th>phValue</th>\n",
       "      <th>publicationYear</th>\n",
       "    </tr>\n",
       "  </thead>\n",
       "  <tbody>\n",
       "    <tr>\n",
       "      <th>count</th>\n",
       "      <td>346325.000000</td>\n",
       "      <td>330232.000000</td>\n",
       "      <td>3.463250e+05</td>\n",
       "      <td>243934.000000</td>\n",
       "      <td>307481.000000</td>\n",
       "      <td>307615.000000</td>\n",
       "      <td>259130.000000</td>\n",
       "      <td>295363.000000</td>\n",
       "    </tr>\n",
       "    <tr>\n",
       "      <th>mean</th>\n",
       "      <td>4708.536765</td>\n",
       "      <td>2.716206</td>\n",
       "      <td>5.516918e+05</td>\n",
       "      <td>291.243141</td>\n",
       "      <td>2.760855</td>\n",
       "      <td>52.817512</td>\n",
       "      <td>6.801273</td>\n",
       "      <td>2010.044315</td>\n",
       "    </tr>\n",
       "    <tr>\n",
       "      <th>std</th>\n",
       "      <td>26484.160063</td>\n",
       "      <td>3.083736</td>\n",
       "      <td>3.129940e+06</td>\n",
       "      <td>8.498793</td>\n",
       "      <td>0.738698</td>\n",
       "      <td>10.135556</td>\n",
       "      <td>1.344769</td>\n",
       "      <td>7.652921</td>\n",
       "    </tr>\n",
       "    <tr>\n",
       "      <th>min</th>\n",
       "      <td>3.000000</td>\n",
       "      <td>0.480000</td>\n",
       "      <td>4.535500e+02</td>\n",
       "      <td>4.000000</td>\n",
       "      <td>0.000000</td>\n",
       "      <td>0.000000</td>\n",
       "      <td>0.000000</td>\n",
       "      <td>201.000000</td>\n",
       "    </tr>\n",
       "    <tr>\n",
       "      <th>25%</th>\n",
       "      <td>398.000000</td>\n",
       "      <td>1.900000</td>\n",
       "      <td>4.541398e+04</td>\n",
       "      <td>291.000000</td>\n",
       "      <td>2.280000</td>\n",
       "      <td>45.820000</td>\n",
       "      <td>6.000000</td>\n",
       "      <td>2006.000000</td>\n",
       "    </tr>\n",
       "    <tr>\n",
       "      <th>50%</th>\n",
       "      <td>856.000000</td>\n",
       "      <td>2.300000</td>\n",
       "      <td>9.703276e+04</td>\n",
       "      <td>293.000000</td>\n",
       "      <td>2.570000</td>\n",
       "      <td>52.000000</td>\n",
       "      <td>7.000000</td>\n",
       "      <td>2012.000000</td>\n",
       "    </tr>\n",
       "    <tr>\n",
       "      <th>75%</th>\n",
       "      <td>1976.000000</td>\n",
       "      <td>2.800000</td>\n",
       "      <td>2.253119e+05</td>\n",
       "      <td>295.000000</td>\n",
       "      <td>3.030000</td>\n",
       "      <td>59.380000</td>\n",
       "      <td>7.500000</td>\n",
       "      <td>2015.000000</td>\n",
       "    </tr>\n",
       "    <tr>\n",
       "      <th>max</th>\n",
       "      <td>313236.000000</td>\n",
       "      <td>70.000000</td>\n",
       "      <td>9.773054e+07</td>\n",
       "      <td>398.000000</td>\n",
       "      <td>13.890000</td>\n",
       "      <td>92.000000</td>\n",
       "      <td>100.000000</td>\n",
       "      <td>2018.000000</td>\n",
       "    </tr>\n",
       "  </tbody>\n",
       "</table>\n",
       "</div>"
      ],
      "text/plain": [
       "        residueCount     resolution  structureMolecularWeight  \\\n",
       "count  346325.000000  330232.000000              3.463250e+05   \n",
       "mean     4708.536765       2.716206              5.516918e+05   \n",
       "std     26484.160063       3.083736              3.129940e+06   \n",
       "min         3.000000       0.480000              4.535500e+02   \n",
       "25%       398.000000       1.900000              4.541398e+04   \n",
       "50%       856.000000       2.300000              9.703276e+04   \n",
       "75%      1976.000000       2.800000              2.253119e+05   \n",
       "max    313236.000000      70.000000              9.773054e+07   \n",
       "\n",
       "       crystallizationTempK  densityMatthews  densityPercentSol  \\\n",
       "count         243934.000000    307481.000000      307615.000000   \n",
       "mean             291.243141         2.760855          52.817512   \n",
       "std                8.498793         0.738698          10.135556   \n",
       "min                4.000000         0.000000           0.000000   \n",
       "25%              291.000000         2.280000          45.820000   \n",
       "50%              293.000000         2.570000          52.000000   \n",
       "75%              295.000000         3.030000          59.380000   \n",
       "max              398.000000        13.890000          92.000000   \n",
       "\n",
       "             phValue  publicationYear  \n",
       "count  259130.000000    295363.000000  \n",
       "mean        6.801273      2010.044315  \n",
       "std         1.344769         7.652921  \n",
       "min         0.000000       201.000000  \n",
       "25%         6.000000      2006.000000  \n",
       "50%         7.000000      2012.000000  \n",
       "75%         7.500000      2015.000000  \n",
       "max       100.000000      2018.000000  "
      ]
     },
     "execution_count": 63,
     "metadata": {},
     "output_type": "execute_result"
    }
   ],
   "source": [
    "model_f.describe()"
   ]
  },
  {
   "cell_type": "markdown",
   "metadata": {
    "pycharm": {
     "name": "#%% md\n"
    }
   },
   "source": [
    "# Checking the Missing Mechanisms\n"
   ]
  },
  {
   "cell_type": "code",
   "execution_count": 64,
   "metadata": {
    "pycharm": {
     "name": "#%%\n"
    }
   },
   "outputs": [
    {
     "data": {
      "text/plain": [
       "<AxesSubplot:>"
      ]
     },
     "execution_count": 64,
     "metadata": {},
     "output_type": "execute_result"
    },
    {
     "data": {
      "image/png": "[encoded data removed]",
      "text/plain": [
       "<Figure size 2500x1000 with 2 Axes>"
      ]
     },
     "metadata": {},
     "output_type": "display_data"
    }
   ],
   "source": [
    "#!pip install missingno\n",
    "import missingno as msno\n",
    "### plot the missingness (nullity) matrix\n",
    "missingdata_df = model_f.columns[model_f.isnull().any()].tolist()  #list of columns with missing values \n",
    "msno.matrix(model_f[missingdata_df])"
   ]
  },
  {
   "cell_type": "code",
   "execution_count": 65,
   "metadata": {
    "pycharm": {
     "name": "#%%\n"
    }
   },
   "outputs": [
    {
     "data": {
      "text/plain": [
       "<AxesSubplot:>"
      ]
     },
     "execution_count": 65,
     "metadata": {},
     "output_type": "execute_result"
    },
    {
     "data": {
      "image/png": "[encoded data removed]",
      "text/plain": [
       "<Figure size 2000x1200 with 2 Axes>"
      ]
     },
     "metadata": {},
     "output_type": "display_data"
    }
   ],
   "source": [
    "## missingness correlation heatmap\n",
    "\n",
    "msno.heatmap(model_f[missingdata_df])"
   ]
  },
  {
   "cell_type": "markdown",
   "metadata": {
    "pycharm": {
     "name": "#%% md\n"
    }
   },
   "source": [
    "# Missing Values Imputation\n",
    "\n",
    "### 1. Dropout"
   ]
  },
  {
   "cell_type": "code",
   "execution_count": 66,
   "metadata": {
    "pycharm": {
     "name": "#%%\n"
    }
   },
   "outputs": [
    {
     "name": "stdout",
     "output_type": "stream",
     "text": [
      "(170237, 12)\n"
     ]
    }
   ],
   "source": [
    "model_f2 = model_f.copy()\n",
    "# drop rows with missing values\n",
    "model_f2.dropna(inplace=True)\n",
    "# summarize the number of rows and columns in the dataset\n",
    "print(model_f2.shape)"
   ]
  },
  {
   "cell_type": "markdown",
   "metadata": {
    "pycharm": {
     "name": "#%% md\n"
    }
   },
   "source": [
    "**From 346325 rows initially, we have 170154 rows now...**"
   ]
  },
  {
   "cell_type": "markdown",
   "metadata": {
    "pycharm": {
     "name": "#%% md\n"
    }
   },
   "source": [
    "**In order to examine the effect of deleting the missing values, we will use the \"describe\" function to check the change in mean values and standard deviation:**"
   ]
  },
  {
   "cell_type": "code",
   "execution_count": 67,
   "metadata": {
    "pycharm": {
     "name": "#%%\n"
    }
   },
   "outputs": [
    {
     "data": {
      "text/html": [
       "<div>\n",
       "<style scoped>\n",
       "    .dataframe tbody tr th:only-of-type {\n",
       "        vertical-align: middle;\n",
       "    }\n",
       "\n",
       "    .dataframe tbody tr th {\n",
       "        vertical-align: top;\n",
       "    }\n",
       "\n",
       "    .dataframe thead th {\n",
       "        text-align: right;\n",
       "    }\n",
       "</style>\n",
       "<table border=\"1\" class=\"dataframe\">\n",
       "  <thead>\n",
       "    <tr style=\"text-align: right;\">\n",
       "      <th></th>\n",
       "      <th>residueCount</th>\n",
       "      <th>resolution</th>\n",
       "      <th>structureMolecularWeight</th>\n",
       "      <th>crystallizationTempK</th>\n",
       "      <th>densityMatthews</th>\n",
       "      <th>densityPercentSol</th>\n",
       "      <th>phValue</th>\n",
       "      <th>publicationYear</th>\n",
       "    </tr>\n",
       "  </thead>\n",
       "  <tbody>\n",
       "    <tr>\n",
       "      <th>count</th>\n",
       "      <td>346325.000000</td>\n",
       "      <td>330232.000000</td>\n",
       "      <td>3.463250e+05</td>\n",
       "      <td>243934.000000</td>\n",
       "      <td>307481.000000</td>\n",
       "      <td>307615.000000</td>\n",
       "      <td>259130.000000</td>\n",
       "      <td>295363.000000</td>\n",
       "    </tr>\n",
       "    <tr>\n",
       "      <th>mean</th>\n",
       "      <td>4708.536765</td>\n",
       "      <td>2.716206</td>\n",
       "      <td>5.516918e+05</td>\n",
       "      <td>291.243141</td>\n",
       "      <td>2.760855</td>\n",
       "      <td>52.817512</td>\n",
       "      <td>6.801273</td>\n",
       "      <td>2010.044315</td>\n",
       "    </tr>\n",
       "    <tr>\n",
       "      <th>std</th>\n",
       "      <td>26484.160063</td>\n",
       "      <td>3.083736</td>\n",
       "      <td>3.129940e+06</td>\n",
       "      <td>8.498793</td>\n",
       "      <td>0.738698</td>\n",
       "      <td>10.135556</td>\n",
       "      <td>1.344769</td>\n",
       "      <td>7.652921</td>\n",
       "    </tr>\n",
       "    <tr>\n",
       "      <th>min</th>\n",
       "      <td>3.000000</td>\n",
       "      <td>0.480000</td>\n",
       "      <td>4.535500e+02</td>\n",
       "      <td>4.000000</td>\n",
       "      <td>0.000000</td>\n",
       "      <td>0.000000</td>\n",
       "      <td>0.000000</td>\n",
       "      <td>201.000000</td>\n",
       "    </tr>\n",
       "    <tr>\n",
       "      <th>25%</th>\n",
       "      <td>398.000000</td>\n",
       "      <td>1.900000</td>\n",
       "      <td>4.541398e+04</td>\n",
       "      <td>291.000000</td>\n",
       "      <td>2.280000</td>\n",
       "      <td>45.820000</td>\n",
       "      <td>6.000000</td>\n",
       "      <td>2006.000000</td>\n",
       "    </tr>\n",
       "    <tr>\n",
       "      <th>50%</th>\n",
       "      <td>856.000000</td>\n",
       "      <td>2.300000</td>\n",
       "      <td>9.703276e+04</td>\n",
       "      <td>293.000000</td>\n",
       "      <td>2.570000</td>\n",
       "      <td>52.000000</td>\n",
       "      <td>7.000000</td>\n",
       "      <td>2012.000000</td>\n",
       "    </tr>\n",
       "    <tr>\n",
       "      <th>75%</th>\n",
       "      <td>1976.000000</td>\n",
       "      <td>2.800000</td>\n",
       "      <td>2.253119e+05</td>\n",
       "      <td>295.000000</td>\n",
       "      <td>3.030000</td>\n",
       "      <td>59.380000</td>\n",
       "      <td>7.500000</td>\n",
       "      <td>2015.000000</td>\n",
       "    </tr>\n",
       "    <tr>\n",
       "      <th>max</th>\n",
       "      <td>313236.000000</td>\n",
       "      <td>70.000000</td>\n",
       "      <td>9.773054e+07</td>\n",
       "      <td>398.000000</td>\n",
       "      <td>13.890000</td>\n",
       "      <td>92.000000</td>\n",
       "      <td>100.000000</td>\n",
       "      <td>2018.000000</td>\n",
       "    </tr>\n",
       "  </tbody>\n",
       "</table>\n",
       "</div>"
      ],
      "text/plain": [
       "        residueCount     resolution  structureMolecularWeight  \\\n",
       "count  346325.000000  330232.000000              3.463250e+05   \n",
       "mean     4708.536765       2.716206              5.516918e+05   \n",
       "std     26484.160063       3.083736              3.129940e+06   \n",
       "min         3.000000       0.480000              4.535500e+02   \n",
       "25%       398.000000       1.900000              4.541398e+04   \n",
       "50%       856.000000       2.300000              9.703276e+04   \n",
       "75%      1976.000000       2.800000              2.253119e+05   \n",
       "max    313236.000000      70.000000              9.773054e+07   \n",
       "\n",
       "       crystallizationTempK  densityMatthews  densityPercentSol  \\\n",
       "count         243934.000000    307481.000000      307615.000000   \n",
       "mean             291.243141         2.760855          52.817512   \n",
       "std                8.498793         0.738698          10.135556   \n",
       "min                4.000000         0.000000           0.000000   \n",
       "25%              291.000000         2.280000          45.820000   \n",
       "50%              293.000000         2.570000          52.000000   \n",
       "75%              295.000000         3.030000          59.380000   \n",
       "max              398.000000        13.890000          92.000000   \n",
       "\n",
       "             phValue  publicationYear  \n",
       "count  259130.000000    295363.000000  \n",
       "mean        6.801273      2010.044315  \n",
       "std         1.344769         7.652921  \n",
       "min         0.000000       201.000000  \n",
       "25%         6.000000      2006.000000  \n",
       "50%         7.000000      2012.000000  \n",
       "75%         7.500000      2015.000000  \n",
       "max       100.000000      2018.000000  "
      ]
     },
     "execution_count": 67,
     "metadata": {},
     "output_type": "execute_result"
    }
   ],
   "source": [
    "model_f.describe()"
   ]
  },
  {
   "cell_type": "code",
   "execution_count": 41,
   "metadata": {
    "pycharm": {
     "name": "#%%\n"
    }
   },
   "outputs": [
    {
     "data": {
      "text/html": [
       "<div>\n",
       "<style scoped>\n",
       "    .dataframe tbody tr th:only-of-type {\n",
       "        vertical-align: middle;\n",
       "    }\n",
       "\n",
       "    .dataframe tbody tr th {\n",
       "        vertical-align: top;\n",
       "    }\n",
       "\n",
       "    .dataframe thead th {\n",
       "        text-align: right;\n",
       "    }\n",
       "</style>\n",
       "<table border=\"1\" class=\"dataframe\">\n",
       "  <thead>\n",
       "    <tr style=\"text-align: right;\">\n",
       "      <th></th>\n",
       "      <th>residueCount</th>\n",
       "      <th>resolution</th>\n",
       "      <th>structureMolecularWeight</th>\n",
       "      <th>crystallizationTempK</th>\n",
       "      <th>densityMatthews</th>\n",
       "      <th>densityPercentSol</th>\n",
       "      <th>phValue</th>\n",
       "      <th>publicationYear</th>\n",
       "    </tr>\n",
       "  </thead>\n",
       "  <tbody>\n",
       "    <tr>\n",
       "      <th>count</th>\n",
       "      <td>170237.000000</td>\n",
       "      <td>170237.000000</td>\n",
       "      <td>1.702370e+05</td>\n",
       "      <td>170237.000000</td>\n",
       "      <td>170237.000000</td>\n",
       "      <td>170237.000000</td>\n",
       "      <td>170237.000000</td>\n",
       "      <td>170237.000000</td>\n",
       "    </tr>\n",
       "    <tr>\n",
       "      <th>mean</th>\n",
       "      <td>1806.690731</td>\n",
       "      <td>2.337195</td>\n",
       "      <td>2.054701e+05</td>\n",
       "      <td>291.305042</td>\n",
       "      <td>2.793865</td>\n",
       "      <td>53.404706</td>\n",
       "      <td>6.806446</td>\n",
       "      <td>2010.688011</td>\n",
       "    </tr>\n",
       "    <tr>\n",
       "      <th>std</th>\n",
       "      <td>2971.476615</td>\n",
       "      <td>0.655708</td>\n",
       "      <td>3.461086e+05</td>\n",
       "      <td>8.926603</td>\n",
       "      <td>0.751980</td>\n",
       "      <td>10.103654</td>\n",
       "      <td>1.375376</td>\n",
       "      <td>4.841658</td>\n",
       "    </tr>\n",
       "    <tr>\n",
       "      <th>min</th>\n",
       "      <td>5.000000</td>\n",
       "      <td>0.480000</td>\n",
       "      <td>4.885400e+02</td>\n",
       "      <td>4.000000</td>\n",
       "      <td>0.000000</td>\n",
       "      <td>0.000000</td>\n",
       "      <td>0.000000</td>\n",
       "      <td>1986.000000</td>\n",
       "    </tr>\n",
       "    <tr>\n",
       "      <th>25%</th>\n",
       "      <td>436.000000</td>\n",
       "      <td>1.900000</td>\n",
       "      <td>4.907945e+04</td>\n",
       "      <td>291.000000</td>\n",
       "      <td>2.290000</td>\n",
       "      <td>46.120000</td>\n",
       "      <td>6.000000</td>\n",
       "      <td>2007.000000</td>\n",
       "    </tr>\n",
       "    <tr>\n",
       "      <th>50%</th>\n",
       "      <td>864.000000</td>\n",
       "      <td>2.250000</td>\n",
       "      <td>9.772414e+04</td>\n",
       "      <td>293.000000</td>\n",
       "      <td>2.590000</td>\n",
       "      <td>52.530000</td>\n",
       "      <td>7.000000</td>\n",
       "      <td>2012.000000</td>\n",
       "    </tr>\n",
       "    <tr>\n",
       "      <th>75%</th>\n",
       "      <td>1862.000000</td>\n",
       "      <td>2.700000</td>\n",
       "      <td>2.092386e+05</td>\n",
       "      <td>295.000000</td>\n",
       "      <td>3.100000</td>\n",
       "      <td>60.290000</td>\n",
       "      <td>7.500000</td>\n",
       "      <td>2015.000000</td>\n",
       "    </tr>\n",
       "    <tr>\n",
       "      <th>max</th>\n",
       "      <td>57792.000000</td>\n",
       "      <td>9.010000</td>\n",
       "      <td>1.249011e+07</td>\n",
       "      <td>398.000000</td>\n",
       "      <td>12.700000</td>\n",
       "      <td>90.330000</td>\n",
       "      <td>100.000000</td>\n",
       "      <td>2018.000000</td>\n",
       "    </tr>\n",
       "  </tbody>\n",
       "</table>\n",
       "</div>"
      ],
      "text/plain": [
       "        residueCount     resolution  structureMolecularWeight  \\\n",
       "count  170237.000000  170237.000000              1.702370e+05   \n",
       "mean     1806.690731       2.337195              2.054701e+05   \n",
       "std      2971.476615       0.655708              3.461086e+05   \n",
       "min         5.000000       0.480000              4.885400e+02   \n",
       "25%       436.000000       1.900000              4.907945e+04   \n",
       "50%       864.000000       2.250000              9.772414e+04   \n",
       "75%      1862.000000       2.700000              2.092386e+05   \n",
       "max     57792.000000       9.010000              1.249011e+07   \n",
       "\n",
       "       crystallizationTempK  densityMatthews  densityPercentSol  \\\n",
       "count         170237.000000    170237.000000      170237.000000   \n",
       "mean             291.305042         2.793865          53.404706   \n",
       "std                8.926603         0.751980          10.103654   \n",
       "min                4.000000         0.000000           0.000000   \n",
       "25%              291.000000         2.290000          46.120000   \n",
       "50%              293.000000         2.590000          52.530000   \n",
       "75%              295.000000         3.100000          60.290000   \n",
       "max              398.000000        12.700000          90.330000   \n",
       "\n",
       "             phValue  publicationYear  \n",
       "count  170237.000000    170237.000000  \n",
       "mean        6.806446      2010.688011  \n",
       "std         1.375376         4.841658  \n",
       "min         0.000000      1986.000000  \n",
       "25%         6.000000      2007.000000  \n",
       "50%         7.000000      2012.000000  \n",
       "75%         7.500000      2015.000000  \n",
       "max       100.000000      2018.000000  "
      ]
     },
     "execution_count": 41,
     "metadata": {},
     "output_type": "execute_result"
    }
   ],
   "source": [
    "model_f2.describe()"
   ]
  },
  {
   "cell_type": "markdown",
   "metadata": {
    "pycharm": {
     "name": "#%% md\n"
    }
   },
   "source": [
    "**If the mean and standard deviation do not change then the lines can be deleted, and if the values (mean, standard deviation) change significantly then another solution is needed to delete the lines with the missing values.**"
   ]
  },
  {
   "cell_type": "markdown",
   "metadata": {
    "pycharm": {
     "name": "#%% md\n"
    }
   },
   "source": [
    "## 2. Statistical Imputation\n",
    " \n",
    "**This imply to substitute missing values by a statistical measure. The most commonly used are the mean and the median.**"
   ]
  },
  {
   "cell_type": "code",
   "execution_count": 68,
   "metadata": {
    "pycharm": {
     "name": "#%%\n"
    }
   },
   "outputs": [],
   "source": [
    "##### indicate the missing points with one_zero \n",
    "\n",
    "model_f_one = model_f.copy()\n",
    "\n",
    "model_f_one['resolution_na'] = 0 #adding new colomn \n",
    "model_f_one.loc[(model_f_one['resolution'].isnull()),['resolution_na']] = 1"
   ]
  },
  {
   "cell_type": "markdown",
   "metadata": {
    "pycharm": {
     "name": "#%% md\n"
    }
   },
   "source": [
    "**Complete it for the rest of the features:**<br>\n",
    "crystallizationMethod, crystallizationTempK, densityMatthews, densityPercentSol, phValue, publicationYear"
   ]
  },
  {
   "cell_type": "code",
   "execution_count": 69,
   "metadata": {
    "pycharm": {
     "name": "#%%\n"
    }
   },
   "outputs": [
    {
     "data": {
      "text/html": [
       "<div>\n",
       "<style scoped>\n",
       "    .dataframe tbody tr th:only-of-type {\n",
       "        vertical-align: middle;\n",
       "    }\n",
       "\n",
       "    .dataframe tbody tr th {\n",
       "        vertical-align: top;\n",
       "    }\n",
       "\n",
       "    .dataframe thead th {\n",
       "        text-align: right;\n",
       "    }\n",
       "</style>\n",
       "<table border=\"1\" class=\"dataframe\">\n",
       "  <thead>\n",
       "    <tr style=\"text-align: right;\">\n",
       "      <th></th>\n",
       "      <th>classification</th>\n",
       "      <th>experimentalTechnique</th>\n",
       "      <th>residueCount</th>\n",
       "      <th>resolution</th>\n",
       "      <th>structureMolecularWeight</th>\n",
       "      <th>crystallizationMethod</th>\n",
       "      <th>crystallizationTempK</th>\n",
       "      <th>densityMatthews</th>\n",
       "      <th>densityPercentSol</th>\n",
       "      <th>phValue</th>\n",
       "      <th>publicationYear</th>\n",
       "      <th>sequence</th>\n",
       "      <th>resolution_na</th>\n",
       "      <th>crystallizationMethod_na</th>\n",
       "      <th>crystallizationTempK_na</th>\n",
       "      <th>densityMatthews_na</th>\n",
       "      <th>densityPercentSol_na</th>\n",
       "      <th>phValue_na</th>\n",
       "      <th>publicationYear_na</th>\n",
       "    </tr>\n",
       "    <tr>\n",
       "      <th>structureId</th>\n",
       "      <th></th>\n",
       "      <th></th>\n",
       "      <th></th>\n",
       "      <th></th>\n",
       "      <th></th>\n",
       "      <th></th>\n",
       "      <th></th>\n",
       "      <th></th>\n",
       "      <th></th>\n",
       "      <th></th>\n",
       "      <th></th>\n",
       "      <th></th>\n",
       "      <th></th>\n",
       "      <th></th>\n",
       "      <th></th>\n",
       "      <th></th>\n",
       "      <th></th>\n",
       "      <th></th>\n",
       "      <th></th>\n",
       "    </tr>\n",
       "  </thead>\n",
       "  <tbody>\n",
       "    <tr>\n",
       "      <th>101M</th>\n",
       "      <td>OXYGEN TRANSPORT</td>\n",
       "      <td>X-RAY DIFFRACTION</td>\n",
       "      <td>154</td>\n",
       "      <td>2.07</td>\n",
       "      <td>18112.80</td>\n",
       "      <td>NaN</td>\n",
       "      <td>NaN</td>\n",
       "      <td>3.09</td>\n",
       "      <td>60.20</td>\n",
       "      <td>9.0</td>\n",
       "      <td>1999.0</td>\n",
       "      <td>MVLSEGEWQLVLHVWAKVEADVAGHGQDILIRLFKSHPETLEKFDR...</td>\n",
       "      <td>0</td>\n",
       "      <td>1</td>\n",
       "      <td>1</td>\n",
       "      <td>0</td>\n",
       "      <td>0</td>\n",
       "      <td>0</td>\n",
       "      <td>0</td>\n",
       "    </tr>\n",
       "    <tr>\n",
       "      <th>102L</th>\n",
       "      <td>HYDROLASE(O-GLYCOSYL)</td>\n",
       "      <td>X-RAY DIFFRACTION</td>\n",
       "      <td>165</td>\n",
       "      <td>1.74</td>\n",
       "      <td>18926.61</td>\n",
       "      <td>NaN</td>\n",
       "      <td>NaN</td>\n",
       "      <td>2.75</td>\n",
       "      <td>55.28</td>\n",
       "      <td>NaN</td>\n",
       "      <td>1993.0</td>\n",
       "      <td>MNIFEMLRIDEGLRLKIYKDTEGYYTIGIGHLLTKSPSLNAAAKSE...</td>\n",
       "      <td>0</td>\n",
       "      <td>1</td>\n",
       "      <td>1</td>\n",
       "      <td>0</td>\n",
       "      <td>0</td>\n",
       "      <td>1</td>\n",
       "      <td>0</td>\n",
       "    </tr>\n",
       "    <tr>\n",
       "      <th>102M</th>\n",
       "      <td>OXYGEN TRANSPORT</td>\n",
       "      <td>X-RAY DIFFRACTION</td>\n",
       "      <td>154</td>\n",
       "      <td>1.84</td>\n",
       "      <td>18010.64</td>\n",
       "      <td>NaN</td>\n",
       "      <td>NaN</td>\n",
       "      <td>3.09</td>\n",
       "      <td>60.20</td>\n",
       "      <td>9.0</td>\n",
       "      <td>1999.0</td>\n",
       "      <td>MVLSEGEWQLVLHVWAKVEADVAGHGQDILIRLFKSHPETLEKFDR...</td>\n",
       "      <td>0</td>\n",
       "      <td>1</td>\n",
       "      <td>1</td>\n",
       "      <td>0</td>\n",
       "      <td>0</td>\n",
       "      <td>0</td>\n",
       "      <td>0</td>\n",
       "    </tr>\n",
       "    <tr>\n",
       "      <th>103L</th>\n",
       "      <td>HYDROLASE(O-GLYCOSYL)</td>\n",
       "      <td>X-RAY DIFFRACTION</td>\n",
       "      <td>167</td>\n",
       "      <td>1.90</td>\n",
       "      <td>19092.72</td>\n",
       "      <td>NaN</td>\n",
       "      <td>NaN</td>\n",
       "      <td>2.70</td>\n",
       "      <td>54.46</td>\n",
       "      <td>NaN</td>\n",
       "      <td>1993.0</td>\n",
       "      <td>MNIFEMLRIDEGLRLKIYKDTEGYYTIGIGHLLTKSPSLNSLDAAK...</td>\n",
       "      <td>0</td>\n",
       "      <td>1</td>\n",
       "      <td>1</td>\n",
       "      <td>0</td>\n",
       "      <td>0</td>\n",
       "      <td>1</td>\n",
       "      <td>0</td>\n",
       "    </tr>\n",
       "    <tr>\n",
       "      <th>103M</th>\n",
       "      <td>OXYGEN TRANSPORT</td>\n",
       "      <td>X-RAY DIFFRACTION</td>\n",
       "      <td>154</td>\n",
       "      <td>2.07</td>\n",
       "      <td>18093.78</td>\n",
       "      <td>NaN</td>\n",
       "      <td>NaN</td>\n",
       "      <td>3.09</td>\n",
       "      <td>60.30</td>\n",
       "      <td>9.0</td>\n",
       "      <td>1999.0</td>\n",
       "      <td>MVLSEGEWQLVLHVWAKVEADVAGHGQDILIRLFKSHPETLEKFDR...</td>\n",
       "      <td>0</td>\n",
       "      <td>1</td>\n",
       "      <td>1</td>\n",
       "      <td>0</td>\n",
       "      <td>0</td>\n",
       "      <td>0</td>\n",
       "      <td>0</td>\n",
       "    </tr>\n",
       "  </tbody>\n",
       "</table>\n",
       "</div>"
      ],
      "text/plain": [
       "                    classification experimentalTechnique  residueCount  \\\n",
       "structureId                                                              \n",
       "101M              OXYGEN TRANSPORT     X-RAY DIFFRACTION           154   \n",
       "102L         HYDROLASE(O-GLYCOSYL)     X-RAY DIFFRACTION           165   \n",
       "102M              OXYGEN TRANSPORT     X-RAY DIFFRACTION           154   \n",
       "103L         HYDROLASE(O-GLYCOSYL)     X-RAY DIFFRACTION           167   \n",
       "103M              OXYGEN TRANSPORT     X-RAY DIFFRACTION           154   \n",
       "\n",
       "             resolution  structureMolecularWeight crystallizationMethod  \\\n",
       "structureId                                                               \n",
       "101M               2.07                  18112.80                   NaN   \n",
       "102L               1.74                  18926.61                   NaN   \n",
       "102M               1.84                  18010.64                   NaN   \n",
       "103L               1.90                  19092.72                   NaN   \n",
       "103M               2.07                  18093.78                   NaN   \n",
       "\n",
       "             crystallizationTempK  densityMatthews  densityPercentSol  \\\n",
       "structureId                                                             \n",
       "101M                          NaN             3.09              60.20   \n",
       "102L                          NaN             2.75              55.28   \n",
       "102M                          NaN             3.09              60.20   \n",
       "103L                          NaN             2.70              54.46   \n",
       "103M                          NaN             3.09              60.30   \n",
       "\n",
       "             phValue  publicationYear  \\\n",
       "structureId                             \n",
       "101M             9.0           1999.0   \n",
       "102L             NaN           1993.0   \n",
       "102M             9.0           1999.0   \n",
       "103L             NaN           1993.0   \n",
       "103M             9.0           1999.0   \n",
       "\n",
       "                                                      sequence  resolution_na  \\\n",
       "structureId                                                                     \n",
       "101M         MVLSEGEWQLVLHVWAKVEADVAGHGQDILIRLFKSHPETLEKFDR...              0   \n",
       "102L         MNIFEMLRIDEGLRLKIYKDTEGYYTIGIGHLLTKSPSLNAAAKSE...              0   \n",
       "102M         MVLSEGEWQLVLHVWAKVEADVAGHGQDILIRLFKSHPETLEKFDR...              0   \n",
       "103L         MNIFEMLRIDEGLRLKIYKDTEGYYTIGIGHLLTKSPSLNSLDAAK...              0   \n",
       "103M         MVLSEGEWQLVLHVWAKVEADVAGHGQDILIRLFKSHPETLEKFDR...              0   \n",
       "\n",
       "             crystallizationMethod_na  crystallizationTempK_na  \\\n",
       "structureId                                                      \n",
       "101M                                1                        1   \n",
       "102L                                1                        1   \n",
       "102M                                1                        1   \n",
       "103L                                1                        1   \n",
       "103M                                1                        1   \n",
       "\n",
       "             densityMatthews_na  densityPercentSol_na  phValue_na  \\\n",
       "structureId                                                         \n",
       "101M                          0                     0           0   \n",
       "102L                          0                     0           1   \n",
       "102M                          0                     0           0   \n",
       "103L                          0                     0           1   \n",
       "103M                          0                     0           0   \n",
       "\n",
       "             publicationYear_na  \n",
       "structureId                      \n",
       "101M                          0  \n",
       "102L                          0  \n",
       "102M                          0  \n",
       "103L                          0  \n",
       "103M                          0  "
      ]
     },
     "execution_count": 69,
     "metadata": {},
     "output_type": "execute_result"
    }
   ],
   "source": [
    "cols =['crystallizationMethod','crystallizationTempK','densityMatthews','densityPercentSol','phValue', 'publicationYear']\n",
    "\n",
    "\n",
    "for col in cols:\n",
    "    model_f_one[col+\"_na\"] = 0 \n",
    "    model_f_one.loc[(model_f_one[col].isnull()),[col+\"_na\"]] = 1\n",
    "    \n",
    "model_f_one.head() "
   ]
  },
  {
   "cell_type": "markdown",
   "metadata": {
    "pycharm": {
     "name": "#%% md\n"
    }
   },
   "source": [
    "**Find the most common value for the nominal variable:**"
   ]
  },
  {
   "cell_type": "code",
   "execution_count": 48,
   "metadata": {
    "pycharm": {
     "name": "#%%\n"
    }
   },
   "outputs": [
    {
     "data": {
      "text/plain": [
       "VAPOR DIFFUSION, HANGING DROP                             135626\n",
       "VAPOR DIFFUSION, SITTING DROP                              75488\n",
       "VAPOR DIFFUSION                                            13554\n",
       "MICROBATCH                                                  2559\n",
       "EVAPORATION                                                 2543\n",
       "                                                           ...  \n",
       "vapor diffusion - sitting drop in microgravity                 1\n",
       "hanging drop and soaking of crystals in UDPGlcA 100 mM         1\n",
       "vapor diffusion, siting drop                                   1\n",
       "batch under oil                                                1\n",
       "Microbatch, Douglas Instrument robot                           1\n",
       "Name: crystallizationMethod, Length: 526, dtype: int64"
      ]
     },
     "execution_count": 48,
     "metadata": {},
     "output_type": "execute_result"
    }
   ],
   "source": [
    "counts = model_f_one['crystallizationMethod'].value_counts()\n",
    "counts"
   ]
  },
  {
   "cell_type": "code",
   "execution_count": 71,
   "metadata": {
    "pycharm": {
     "name": "#%%\n"
    }
   },
   "outputs": [
    {
     "data": {
      "text/plain": [
       "'VAPOR DIFFUSION, HANGING DROP'"
      ]
     },
     "execution_count": 71,
     "metadata": {},
     "output_type": "execute_result"
    }
   ],
   "source": [
    "counts.index[0] # the most common value"
   ]
  },
  {
   "cell_type": "code",
   "execution_count": 72,
   "metadata": {
    "pycharm": {
     "name": "#%%\n"
    }
   },
   "outputs": [
    {
     "data": {
      "text/html": [
       "<div>\n",
       "<style scoped>\n",
       "    .dataframe tbody tr th:only-of-type {\n",
       "        vertical-align: middle;\n",
       "    }\n",
       "\n",
       "    .dataframe tbody tr th {\n",
       "        vertical-align: top;\n",
       "    }\n",
       "\n",
       "    .dataframe thead th {\n",
       "        text-align: right;\n",
       "    }\n",
       "</style>\n",
       "<table border=\"1\" class=\"dataframe\">\n",
       "  <thead>\n",
       "    <tr style=\"text-align: right;\">\n",
       "      <th></th>\n",
       "      <th>classification</th>\n",
       "      <th>experimentalTechnique</th>\n",
       "      <th>residueCount</th>\n",
       "      <th>resolution</th>\n",
       "      <th>structureMolecularWeight</th>\n",
       "      <th>crystallizationMethod</th>\n",
       "      <th>crystallizationTempK</th>\n",
       "      <th>densityMatthews</th>\n",
       "      <th>densityPercentSol</th>\n",
       "      <th>phValue</th>\n",
       "      <th>publicationYear</th>\n",
       "      <th>sequence</th>\n",
       "      <th>resolution_na</th>\n",
       "      <th>crystallizationMethod_na</th>\n",
       "      <th>crystallizationTempK_na</th>\n",
       "      <th>densityMatthews_na</th>\n",
       "      <th>densityPercentSol_na</th>\n",
       "      <th>phValue_na</th>\n",
       "      <th>publicationYear_na</th>\n",
       "    </tr>\n",
       "    <tr>\n",
       "      <th>structureId</th>\n",
       "      <th></th>\n",
       "      <th></th>\n",
       "      <th></th>\n",
       "      <th></th>\n",
       "      <th></th>\n",
       "      <th></th>\n",
       "      <th></th>\n",
       "      <th></th>\n",
       "      <th></th>\n",
       "      <th></th>\n",
       "      <th></th>\n",
       "      <th></th>\n",
       "      <th></th>\n",
       "      <th></th>\n",
       "      <th></th>\n",
       "      <th></th>\n",
       "      <th></th>\n",
       "      <th></th>\n",
       "      <th></th>\n",
       "    </tr>\n",
       "  </thead>\n",
       "  <tbody>\n",
       "    <tr>\n",
       "      <th>101M</th>\n",
       "      <td>OXYGEN TRANSPORT</td>\n",
       "      <td>X-RAY DIFFRACTION</td>\n",
       "      <td>154</td>\n",
       "      <td>2.07</td>\n",
       "      <td>18112.80</td>\n",
       "      <td>VAPOR DIFFUSION, HANGING DROP</td>\n",
       "      <td>NaN</td>\n",
       "      <td>3.09</td>\n",
       "      <td>60.20</td>\n",
       "      <td>9.0</td>\n",
       "      <td>1999.0</td>\n",
       "      <td>MVLSEGEWQLVLHVWAKVEADVAGHGQDILIRLFKSHPETLEKFDR...</td>\n",
       "      <td>0</td>\n",
       "      <td>1</td>\n",
       "      <td>1</td>\n",
       "      <td>0</td>\n",
       "      <td>0</td>\n",
       "      <td>0</td>\n",
       "      <td>0</td>\n",
       "    </tr>\n",
       "    <tr>\n",
       "      <th>102L</th>\n",
       "      <td>HYDROLASE(O-GLYCOSYL)</td>\n",
       "      <td>X-RAY DIFFRACTION</td>\n",
       "      <td>165</td>\n",
       "      <td>1.74</td>\n",
       "      <td>18926.61</td>\n",
       "      <td>VAPOR DIFFUSION, HANGING DROP</td>\n",
       "      <td>NaN</td>\n",
       "      <td>2.75</td>\n",
       "      <td>55.28</td>\n",
       "      <td>NaN</td>\n",
       "      <td>1993.0</td>\n",
       "      <td>MNIFEMLRIDEGLRLKIYKDTEGYYTIGIGHLLTKSPSLNAAAKSE...</td>\n",
       "      <td>0</td>\n",
       "      <td>1</td>\n",
       "      <td>1</td>\n",
       "      <td>0</td>\n",
       "      <td>0</td>\n",
       "      <td>1</td>\n",
       "      <td>0</td>\n",
       "    </tr>\n",
       "    <tr>\n",
       "      <th>102M</th>\n",
       "      <td>OXYGEN TRANSPORT</td>\n",
       "      <td>X-RAY DIFFRACTION</td>\n",
       "      <td>154</td>\n",
       "      <td>1.84</td>\n",
       "      <td>18010.64</td>\n",
       "      <td>VAPOR DIFFUSION, HANGING DROP</td>\n",
       "      <td>NaN</td>\n",
       "      <td>3.09</td>\n",
       "      <td>60.20</td>\n",
       "      <td>9.0</td>\n",
       "      <td>1999.0</td>\n",
       "      <td>MVLSEGEWQLVLHVWAKVEADVAGHGQDILIRLFKSHPETLEKFDR...</td>\n",
       "      <td>0</td>\n",
       "      <td>1</td>\n",
       "      <td>1</td>\n",
       "      <td>0</td>\n",
       "      <td>0</td>\n",
       "      <td>0</td>\n",
       "      <td>0</td>\n",
       "    </tr>\n",
       "    <tr>\n",
       "      <th>103L</th>\n",
       "      <td>HYDROLASE(O-GLYCOSYL)</td>\n",
       "      <td>X-RAY DIFFRACTION</td>\n",
       "      <td>167</td>\n",
       "      <td>1.90</td>\n",
       "      <td>19092.72</td>\n",
       "      <td>VAPOR DIFFUSION, HANGING DROP</td>\n",
       "      <td>NaN</td>\n",
       "      <td>2.70</td>\n",
       "      <td>54.46</td>\n",
       "      <td>NaN</td>\n",
       "      <td>1993.0</td>\n",
       "      <td>MNIFEMLRIDEGLRLKIYKDTEGYYTIGIGHLLTKSPSLNSLDAAK...</td>\n",
       "      <td>0</td>\n",
       "      <td>1</td>\n",
       "      <td>1</td>\n",
       "      <td>0</td>\n",
       "      <td>0</td>\n",
       "      <td>1</td>\n",
       "      <td>0</td>\n",
       "    </tr>\n",
       "    <tr>\n",
       "      <th>103M</th>\n",
       "      <td>OXYGEN TRANSPORT</td>\n",
       "      <td>X-RAY DIFFRACTION</td>\n",
       "      <td>154</td>\n",
       "      <td>2.07</td>\n",
       "      <td>18093.78</td>\n",
       "      <td>VAPOR DIFFUSION, HANGING DROP</td>\n",
       "      <td>NaN</td>\n",
       "      <td>3.09</td>\n",
       "      <td>60.30</td>\n",
       "      <td>9.0</td>\n",
       "      <td>1999.0</td>\n",
       "      <td>MVLSEGEWQLVLHVWAKVEADVAGHGQDILIRLFKSHPETLEKFDR...</td>\n",
       "      <td>0</td>\n",
       "      <td>1</td>\n",
       "      <td>1</td>\n",
       "      <td>0</td>\n",
       "      <td>0</td>\n",
       "      <td>0</td>\n",
       "      <td>0</td>\n",
       "    </tr>\n",
       "  </tbody>\n",
       "</table>\n",
       "</div>"
      ],
      "text/plain": [
       "                    classification experimentalTechnique  residueCount  \\\n",
       "structureId                                                              \n",
       "101M              OXYGEN TRANSPORT     X-RAY DIFFRACTION           154   \n",
       "102L         HYDROLASE(O-GLYCOSYL)     X-RAY DIFFRACTION           165   \n",
       "102M              OXYGEN TRANSPORT     X-RAY DIFFRACTION           154   \n",
       "103L         HYDROLASE(O-GLYCOSYL)     X-RAY DIFFRACTION           167   \n",
       "103M              OXYGEN TRANSPORT     X-RAY DIFFRACTION           154   \n",
       "\n",
       "             resolution  structureMolecularWeight  \\\n",
       "structureId                                         \n",
       "101M               2.07                  18112.80   \n",
       "102L               1.74                  18926.61   \n",
       "102M               1.84                  18010.64   \n",
       "103L               1.90                  19092.72   \n",
       "103M               2.07                  18093.78   \n",
       "\n",
       "                     crystallizationMethod  crystallizationTempK  \\\n",
       "structureId                                                        \n",
       "101M         VAPOR DIFFUSION, HANGING DROP                   NaN   \n",
       "102L         VAPOR DIFFUSION, HANGING DROP                   NaN   \n",
       "102M         VAPOR DIFFUSION, HANGING DROP                   NaN   \n",
       "103L         VAPOR DIFFUSION, HANGING DROP                   NaN   \n",
       "103M         VAPOR DIFFUSION, HANGING DROP                   NaN   \n",
       "\n",
       "             densityMatthews  densityPercentSol  phValue  publicationYear  \\\n",
       "structureId                                                                 \n",
       "101M                    3.09              60.20      9.0           1999.0   \n",
       "102L                    2.75              55.28      NaN           1993.0   \n",
       "102M                    3.09              60.20      9.0           1999.0   \n",
       "103L                    2.70              54.46      NaN           1993.0   \n",
       "103M                    3.09              60.30      9.0           1999.0   \n",
       "\n",
       "                                                      sequence  resolution_na  \\\n",
       "structureId                                                                     \n",
       "101M         MVLSEGEWQLVLHVWAKVEADVAGHGQDILIRLFKSHPETLEKFDR...              0   \n",
       "102L         MNIFEMLRIDEGLRLKIYKDTEGYYTIGIGHLLTKSPSLNAAAKSE...              0   \n",
       "102M         MVLSEGEWQLVLHVWAKVEADVAGHGQDILIRLFKSHPETLEKFDR...              0   \n",
       "103L         MNIFEMLRIDEGLRLKIYKDTEGYYTIGIGHLLTKSPSLNSLDAAK...              0   \n",
       "103M         MVLSEGEWQLVLHVWAKVEADVAGHGQDILIRLFKSHPETLEKFDR...              0   \n",
       "\n",
       "             crystallizationMethod_na  crystallizationTempK_na  \\\n",
       "structureId                                                      \n",
       "101M                                1                        1   \n",
       "102L                                1                        1   \n",
       "102M                                1                        1   \n",
       "103L                                1                        1   \n",
       "103M                                1                        1   \n",
       "\n",
       "             densityMatthews_na  densityPercentSol_na  phValue_na  \\\n",
       "structureId                                                         \n",
       "101M                          0                     0           0   \n",
       "102L                          0                     0           1   \n",
       "102M                          0                     0           0   \n",
       "103L                          0                     0           1   \n",
       "103M                          0                     0           0   \n",
       "\n",
       "             publicationYear_na  \n",
       "structureId                      \n",
       "101M                          0  \n",
       "102L                          0  \n",
       "102M                          0  \n",
       "103L                          0  \n",
       "103M                          0  "
      ]
     },
     "execution_count": 72,
     "metadata": {},
     "output_type": "execute_result"
    }
   ],
   "source": [
    "model_f_one['crystallizationMethod'] = model_f_one['crystallizationMethod'].fillna(counts.index[0])\n",
    "\n",
    "model_f_one.head()"
   ]
  },
  {
   "cell_type": "markdown",
   "metadata": {
    "pycharm": {
     "name": "#%% md\n"
    }
   },
   "source": [
    "**Impute mean for the following vars:**\n",
    "- Calculate the average of each of the variables.\n",
    "- Then put the average value in each of the missing values in the column."
   ]
  },
  {
   "cell_type": "code",
   "execution_count": 73,
   "metadata": {
    "pycharm": {
     "name": "#%%\n"
    }
   },
   "outputs": [],
   "source": [
    "cols = [\"resolution\",\n",
    "\"crystallizationTempK\",\n",
    "\"densityMatthews\",\n",
    "\"densityPercentSol\",\n",
    "\"phValue\",\n",
    "\"publicationYear\"]\n",
    "\n",
    "for col in cols:\n",
    "    mean = model_f_one[col].mean()\n",
    "    model_f_one[col] = model_f_one[col].fillna(mean)"
   ]
  },
  {
   "cell_type": "markdown",
   "metadata": {
    "pycharm": {
     "name": "#%% md\n"
    }
   },
   "source": [
    "**Use the \"describe\" function to examine the effect on the values:**"
   ]
  },
  {
   "cell_type": "code",
   "execution_count": 74,
   "metadata": {
    "pycharm": {
     "name": "#%%\n"
    }
   },
   "outputs": [
    {
     "name": "stdout",
     "output_type": "stream",
     "text": [
      "(346325, 19)\n"
     ]
    },
    {
     "data": {
      "text/html": [
       "<div>\n",
       "<style scoped>\n",
       "    .dataframe tbody tr th:only-of-type {\n",
       "        vertical-align: middle;\n",
       "    }\n",
       "\n",
       "    .dataframe tbody tr th {\n",
       "        vertical-align: top;\n",
       "    }\n",
       "\n",
       "    .dataframe thead th {\n",
       "        text-align: right;\n",
       "    }\n",
       "</style>\n",
       "<table border=\"1\" class=\"dataframe\">\n",
       "  <thead>\n",
       "    <tr style=\"text-align: right;\">\n",
       "      <th></th>\n",
       "      <th>classification</th>\n",
       "      <th>experimentalTechnique</th>\n",
       "      <th>residueCount</th>\n",
       "      <th>resolution</th>\n",
       "      <th>structureMolecularWeight</th>\n",
       "      <th>crystallizationMethod</th>\n",
       "      <th>crystallizationTempK</th>\n",
       "      <th>densityMatthews</th>\n",
       "      <th>densityPercentSol</th>\n",
       "      <th>phValue</th>\n",
       "      <th>publicationYear</th>\n",
       "      <th>sequence</th>\n",
       "      <th>resolution_na</th>\n",
       "      <th>crystallizationMethod_na</th>\n",
       "      <th>crystallizationTempK_na</th>\n",
       "      <th>densityMatthews_na</th>\n",
       "      <th>densityPercentSol_na</th>\n",
       "      <th>phValue_na</th>\n",
       "      <th>publicationYear_na</th>\n",
       "    </tr>\n",
       "    <tr>\n",
       "      <th>structureId</th>\n",
       "      <th></th>\n",
       "      <th></th>\n",
       "      <th></th>\n",
       "      <th></th>\n",
       "      <th></th>\n",
       "      <th></th>\n",
       "      <th></th>\n",
       "      <th></th>\n",
       "      <th></th>\n",
       "      <th></th>\n",
       "      <th></th>\n",
       "      <th></th>\n",
       "      <th></th>\n",
       "      <th></th>\n",
       "      <th></th>\n",
       "      <th></th>\n",
       "      <th></th>\n",
       "      <th></th>\n",
       "      <th></th>\n",
       "    </tr>\n",
       "  </thead>\n",
       "  <tbody>\n",
       "    <tr>\n",
       "      <th>101M</th>\n",
       "      <td>OXYGEN TRANSPORT</td>\n",
       "      <td>X-RAY DIFFRACTION</td>\n",
       "      <td>154</td>\n",
       "      <td>2.07</td>\n",
       "      <td>18112.80</td>\n",
       "      <td>VAPOR DIFFUSION, HANGING DROP</td>\n",
       "      <td>291.243141</td>\n",
       "      <td>3.09</td>\n",
       "      <td>60.20</td>\n",
       "      <td>9.000000</td>\n",
       "      <td>1999.0</td>\n",
       "      <td>MVLSEGEWQLVLHVWAKVEADVAGHGQDILIRLFKSHPETLEKFDR...</td>\n",
       "      <td>0</td>\n",
       "      <td>1</td>\n",
       "      <td>1</td>\n",
       "      <td>0</td>\n",
       "      <td>0</td>\n",
       "      <td>0</td>\n",
       "      <td>0</td>\n",
       "    </tr>\n",
       "    <tr>\n",
       "      <th>102L</th>\n",
       "      <td>HYDROLASE(O-GLYCOSYL)</td>\n",
       "      <td>X-RAY DIFFRACTION</td>\n",
       "      <td>165</td>\n",
       "      <td>1.74</td>\n",
       "      <td>18926.61</td>\n",
       "      <td>VAPOR DIFFUSION, HANGING DROP</td>\n",
       "      <td>291.243141</td>\n",
       "      <td>2.75</td>\n",
       "      <td>55.28</td>\n",
       "      <td>6.801273</td>\n",
       "      <td>1993.0</td>\n",
       "      <td>MNIFEMLRIDEGLRLKIYKDTEGYYTIGIGHLLTKSPSLNAAAKSE...</td>\n",
       "      <td>0</td>\n",
       "      <td>1</td>\n",
       "      <td>1</td>\n",
       "      <td>0</td>\n",
       "      <td>0</td>\n",
       "      <td>1</td>\n",
       "      <td>0</td>\n",
       "    </tr>\n",
       "    <tr>\n",
       "      <th>102M</th>\n",
       "      <td>OXYGEN TRANSPORT</td>\n",
       "      <td>X-RAY DIFFRACTION</td>\n",
       "      <td>154</td>\n",
       "      <td>1.84</td>\n",
       "      <td>18010.64</td>\n",
       "      <td>VAPOR DIFFUSION, HANGING DROP</td>\n",
       "      <td>291.243141</td>\n",
       "      <td>3.09</td>\n",
       "      <td>60.20</td>\n",
       "      <td>9.000000</td>\n",
       "      <td>1999.0</td>\n",
       "      <td>MVLSEGEWQLVLHVWAKVEADVAGHGQDILIRLFKSHPETLEKFDR...</td>\n",
       "      <td>0</td>\n",
       "      <td>1</td>\n",
       "      <td>1</td>\n",
       "      <td>0</td>\n",
       "      <td>0</td>\n",
       "      <td>0</td>\n",
       "      <td>0</td>\n",
       "    </tr>\n",
       "    <tr>\n",
       "      <th>103L</th>\n",
       "      <td>HYDROLASE(O-GLYCOSYL)</td>\n",
       "      <td>X-RAY DIFFRACTION</td>\n",
       "      <td>167</td>\n",
       "      <td>1.90</td>\n",
       "      <td>19092.72</td>\n",
       "      <td>VAPOR DIFFUSION, HANGING DROP</td>\n",
       "      <td>291.243141</td>\n",
       "      <td>2.70</td>\n",
       "      <td>54.46</td>\n",
       "      <td>6.801273</td>\n",
       "      <td>1993.0</td>\n",
       "      <td>MNIFEMLRIDEGLRLKIYKDTEGYYTIGIGHLLTKSPSLNSLDAAK...</td>\n",
       "      <td>0</td>\n",
       "      <td>1</td>\n",
       "      <td>1</td>\n",
       "      <td>0</td>\n",
       "      <td>0</td>\n",
       "      <td>1</td>\n",
       "      <td>0</td>\n",
       "    </tr>\n",
       "    <tr>\n",
       "      <th>103M</th>\n",
       "      <td>OXYGEN TRANSPORT</td>\n",
       "      <td>X-RAY DIFFRACTION</td>\n",
       "      <td>154</td>\n",
       "      <td>2.07</td>\n",
       "      <td>18093.78</td>\n",
       "      <td>VAPOR DIFFUSION, HANGING DROP</td>\n",
       "      <td>291.243141</td>\n",
       "      <td>3.09</td>\n",
       "      <td>60.30</td>\n",
       "      <td>9.000000</td>\n",
       "      <td>1999.0</td>\n",
       "      <td>MVLSEGEWQLVLHVWAKVEADVAGHGQDILIRLFKSHPETLEKFDR...</td>\n",
       "      <td>0</td>\n",
       "      <td>1</td>\n",
       "      <td>1</td>\n",
       "      <td>0</td>\n",
       "      <td>0</td>\n",
       "      <td>0</td>\n",
       "      <td>0</td>\n",
       "    </tr>\n",
       "  </tbody>\n",
       "</table>\n",
       "</div>"
      ],
      "text/plain": [
       "                    classification experimentalTechnique  residueCount  \\\n",
       "structureId                                                              \n",
       "101M              OXYGEN TRANSPORT     X-RAY DIFFRACTION           154   \n",
       "102L         HYDROLASE(O-GLYCOSYL)     X-RAY DIFFRACTION           165   \n",
       "102M              OXYGEN TRANSPORT     X-RAY DIFFRACTION           154   \n",
       "103L         HYDROLASE(O-GLYCOSYL)     X-RAY DIFFRACTION           167   \n",
       "103M              OXYGEN TRANSPORT     X-RAY DIFFRACTION           154   \n",
       "\n",
       "             resolution  structureMolecularWeight  \\\n",
       "structureId                                         \n",
       "101M               2.07                  18112.80   \n",
       "102L               1.74                  18926.61   \n",
       "102M               1.84                  18010.64   \n",
       "103L               1.90                  19092.72   \n",
       "103M               2.07                  18093.78   \n",
       "\n",
       "                     crystallizationMethod  crystallizationTempK  \\\n",
       "structureId                                                        \n",
       "101M         VAPOR DIFFUSION, HANGING DROP            291.243141   \n",
       "102L         VAPOR DIFFUSION, HANGING DROP            291.243141   \n",
       "102M         VAPOR DIFFUSION, HANGING DROP            291.243141   \n",
       "103L         VAPOR DIFFUSION, HANGING DROP            291.243141   \n",
       "103M         VAPOR DIFFUSION, HANGING DROP            291.243141   \n",
       "\n",
       "             densityMatthews  densityPercentSol   phValue  publicationYear  \\\n",
       "structureId                                                                  \n",
       "101M                    3.09              60.20  9.000000           1999.0   \n",
       "102L                    2.75              55.28  6.801273           1993.0   \n",
       "102M                    3.09              60.20  9.000000           1999.0   \n",
       "103L                    2.70              54.46  6.801273           1993.0   \n",
       "103M                    3.09              60.30  9.000000           1999.0   \n",
       "\n",
       "                                                      sequence  resolution_na  \\\n",
       "structureId                                                                     \n",
       "101M         MVLSEGEWQLVLHVWAKVEADVAGHGQDILIRLFKSHPETLEKFDR...              0   \n",
       "102L         MNIFEMLRIDEGLRLKIYKDTEGYYTIGIGHLLTKSPSLNAAAKSE...              0   \n",
       "102M         MVLSEGEWQLVLHVWAKVEADVAGHGQDILIRLFKSHPETLEKFDR...              0   \n",
       "103L         MNIFEMLRIDEGLRLKIYKDTEGYYTIGIGHLLTKSPSLNSLDAAK...              0   \n",
       "103M         MVLSEGEWQLVLHVWAKVEADVAGHGQDILIRLFKSHPETLEKFDR...              0   \n",
       "\n",
       "             crystallizationMethod_na  crystallizationTempK_na  \\\n",
       "structureId                                                      \n",
       "101M                                1                        1   \n",
       "102L                                1                        1   \n",
       "102M                                1                        1   \n",
       "103L                                1                        1   \n",
       "103M                                1                        1   \n",
       "\n",
       "             densityMatthews_na  densityPercentSol_na  phValue_na  \\\n",
       "structureId                                                         \n",
       "101M                          0                     0           0   \n",
       "102L                          0                     0           1   \n",
       "102M                          0                     0           0   \n",
       "103L                          0                     0           1   \n",
       "103M                          0                     0           0   \n",
       "\n",
       "             publicationYear_na  \n",
       "structureId                      \n",
       "101M                          0  \n",
       "102L                          0  \n",
       "102M                          0  \n",
       "103L                          0  \n",
       "103M                          0  "
      ]
     },
     "execution_count": 74,
     "metadata": {},
     "output_type": "execute_result"
    }
   ],
   "source": [
    "# summarize the number of rows and columns in the dataset\n",
    "print(model_f_one.shape)\n",
    "model_f_one.head()"
   ]
  },
  {
   "cell_type": "code",
   "execution_count": 76,
   "metadata": {},
   "outputs": [
    {
     "name": "stdout",
     "output_type": "stream",
     "text": [
      "        residueCount     resolution  structureMolecularWeight  \\\n",
      "count  346325.000000  330232.000000              3.463250e+05   \n",
      "mean     4708.536765       2.716206              5.516918e+05   \n",
      "std     26484.160063       3.083736              3.129940e+06   \n",
      "min         3.000000       0.480000              4.535500e+02   \n",
      "25%       398.000000       1.900000              4.541398e+04   \n",
      "50%       856.000000       2.300000              9.703276e+04   \n",
      "75%      1976.000000       2.800000              2.253119e+05   \n",
      "max    313236.000000      70.000000              9.773054e+07   \n",
      "\n",
      "       crystallizationTempK  densityMatthews  densityPercentSol  \\\n",
      "count         243934.000000    307481.000000      307615.000000   \n",
      "mean             291.243141         2.760855          52.817512   \n",
      "std                8.498793         0.738698          10.135556   \n",
      "min                4.000000         0.000000           0.000000   \n",
      "25%              291.000000         2.280000          45.820000   \n",
      "50%              293.000000         2.570000          52.000000   \n",
      "75%              295.000000         3.030000          59.380000   \n",
      "max              398.000000        13.890000          92.000000   \n",
      "\n",
      "             phValue  publicationYear  \n",
      "count  259130.000000    295363.000000  \n",
      "mean        6.801273      2010.044315  \n",
      "std         1.344769         7.652921  \n",
      "min         0.000000       201.000000  \n",
      "25%         6.000000      2006.000000  \n",
      "50%         7.000000      2012.000000  \n",
      "75%         7.500000      2015.000000  \n",
      "max       100.000000      2018.000000  \n"
     ]
    }
   ],
   "source": [
    "print(model_f.describe())"
   ]
  },
  {
   "cell_type": "code",
   "execution_count": 77,
   "metadata": {
    "pycharm": {
     "name": "#%%\n"
    }
   },
   "outputs": [
    {
     "name": "stdout",
     "output_type": "stream",
     "text": [
      "        residueCount     resolution  structureMolecularWeight  \\\n",
      "count  346325.000000  346325.000000              3.463250e+05   \n",
      "mean     4708.536765       2.716206              5.516918e+05   \n",
      "std     26484.160063       3.011236              3.129940e+06   \n",
      "min         3.000000       0.480000              4.535500e+02   \n",
      "25%       398.000000       1.900000              4.541398e+04   \n",
      "50%       856.000000       2.300000              9.703276e+04   \n",
      "75%      1976.000000       2.750000              2.253119e+05   \n",
      "max    313236.000000      70.000000              9.773054e+07   \n",
      "\n",
      "       crystallizationTempK  densityMatthews  densityPercentSol  \\\n",
      "count         346325.000000    346325.000000      346325.000000   \n",
      "mean             291.243141         2.760855          52.817512   \n",
      "std                7.132655         0.696039           9.552330   \n",
      "min                4.000000         0.000000           0.000000   \n",
      "25%              291.243141         2.310000          46.630000   \n",
      "50%              291.243141         2.660000          52.817512   \n",
      "75%              293.000000         2.950000          58.130000   \n",
      "max              398.000000        13.890000          92.000000   \n",
      "\n",
      "             phValue  publicationYear  resolution_na  \\\n",
      "count  346325.000000    346325.000000  346325.000000   \n",
      "mean        6.801273      2010.044315       0.046468   \n",
      "std         1.163227         7.067458       0.210496   \n",
      "min         0.000000       201.000000       0.000000   \n",
      "25%         6.500000      2007.000000       0.000000   \n",
      "50%         6.801273      2010.044315       0.000000   \n",
      "75%         7.500000      2014.000000       0.000000   \n",
      "max       100.000000      2018.000000       1.000000   \n",
      "\n",
      "       crystallizationMethod_na  crystallizationTempK_na  densityMatthews_na  \\\n",
      "count             346325.000000            346325.000000       346325.000000   \n",
      "mean                   0.305285                 0.295650            0.112161   \n",
      "std                    0.460529                 0.456335            0.315564   \n",
      "min                    0.000000                 0.000000            0.000000   \n",
      "25%                    0.000000                 0.000000            0.000000   \n",
      "50%                    0.000000                 0.000000            0.000000   \n",
      "75%                    1.000000                 1.000000            0.000000   \n",
      "max                    1.000000                 1.000000            1.000000   \n",
      "\n",
      "       densityPercentSol_na     phValue_na  publicationYear_na  \n",
      "count         346325.000000  346325.000000       346325.000000  \n",
      "mean               0.111774       0.251772            0.147151  \n",
      "std                0.315088       0.434032            0.354257  \n",
      "min                0.000000       0.000000            0.000000  \n",
      "25%                0.000000       0.000000            0.000000  \n",
      "50%                0.000000       0.000000            0.000000  \n",
      "75%                0.000000       1.000000            0.000000  \n",
      "max                1.000000       1.000000            1.000000  \n"
     ]
    }
   ],
   "source": [
    "print(model_f_one.describe())"
   ]
  },
  {
   "cell_type": "markdown",
   "metadata": {
    "pycharm": {
     "name": "#%% md\n"
    }
   },
   "source": [
    "**Have the values of mean and standard deviation changed significantly or can this method be appropriate to perform impotation?**"
   ]
  },
  {
   "cell_type": "markdown",
   "metadata": {
    "pycharm": {
     "name": "#%% md\n"
    }
   },
   "source": [
    "It can be seen that this method has had the least effect on the values of the mean and standard deviation hence this method seems more suitable for dealing with the missing values."
   ]
  },
  {
   "cell_type": "markdown",
   "metadata": {
    "pycharm": {
     "name": "#%% md\n"
    }
   },
   "source": [
    "## 3. Similarity between objects"
   ]
  },
  {
   "cell_type": "markdown",
   "metadata": {
    "pycharm": {
     "name": "#%% md\n"
    }
   },
   "source": [
    "Creation of two new Dataftames, one with all the rows where the 'Column name' value is missing and one with all the other rows. \n",
    "\n",
    "We use only the numerical attributes to the distance calculation."
   ]
  },
  {
   "cell_type": "code",
   "execution_count": 86,
   "metadata": {
    "pycharm": {
     "name": "#%%\n"
    }
   },
   "outputs": [
    {
     "data": {
      "text/html": [
       "<div>\n",
       "<style scoped>\n",
       "    .dataframe tbody tr th:only-of-type {\n",
       "        vertical-align: middle;\n",
       "    }\n",
       "\n",
       "    .dataframe tbody tr th {\n",
       "        vertical-align: top;\n",
       "    }\n",
       "\n",
       "    .dataframe thead th {\n",
       "        text-align: right;\n",
       "    }\n",
       "</style>\n",
       "<table border=\"1\" class=\"dataframe\">\n",
       "  <thead>\n",
       "    <tr style=\"text-align: right;\">\n",
       "      <th></th>\n",
       "      <th>residueCount</th>\n",
       "      <th>resolution</th>\n",
       "      <th>structureMolecularWeight</th>\n",
       "      <th>crystallizationTempK</th>\n",
       "      <th>densityMatthews</th>\n",
       "      <th>densityPercentSol</th>\n",
       "      <th>phValue</th>\n",
       "      <th>publicationYear</th>\n",
       "    </tr>\n",
       "    <tr>\n",
       "      <th>structureId</th>\n",
       "      <th></th>\n",
       "      <th></th>\n",
       "      <th></th>\n",
       "      <th></th>\n",
       "      <th></th>\n",
       "      <th></th>\n",
       "      <th></th>\n",
       "      <th></th>\n",
       "    </tr>\n",
       "  </thead>\n",
       "  <tbody>\n",
       "    <tr>\n",
       "      <th>101M</th>\n",
       "      <td>154</td>\n",
       "      <td>2.07</td>\n",
       "      <td>18112.80</td>\n",
       "      <td>NaN</td>\n",
       "      <td>3.09</td>\n",
       "      <td>60.20</td>\n",
       "      <td>9.0</td>\n",
       "      <td>1999.0</td>\n",
       "    </tr>\n",
       "    <tr>\n",
       "      <th>102L</th>\n",
       "      <td>165</td>\n",
       "      <td>1.74</td>\n",
       "      <td>18926.61</td>\n",
       "      <td>NaN</td>\n",
       "      <td>2.75</td>\n",
       "      <td>55.28</td>\n",
       "      <td>NaN</td>\n",
       "      <td>1993.0</td>\n",
       "    </tr>\n",
       "    <tr>\n",
       "      <th>102M</th>\n",
       "      <td>154</td>\n",
       "      <td>1.84</td>\n",
       "      <td>18010.64</td>\n",
       "      <td>NaN</td>\n",
       "      <td>3.09</td>\n",
       "      <td>60.20</td>\n",
       "      <td>9.0</td>\n",
       "      <td>1999.0</td>\n",
       "    </tr>\n",
       "    <tr>\n",
       "      <th>103L</th>\n",
       "      <td>167</td>\n",
       "      <td>1.90</td>\n",
       "      <td>19092.72</td>\n",
       "      <td>NaN</td>\n",
       "      <td>2.70</td>\n",
       "      <td>54.46</td>\n",
       "      <td>NaN</td>\n",
       "      <td>1993.0</td>\n",
       "    </tr>\n",
       "    <tr>\n",
       "      <th>103M</th>\n",
       "      <td>154</td>\n",
       "      <td>2.07</td>\n",
       "      <td>18093.78</td>\n",
       "      <td>NaN</td>\n",
       "      <td>3.09</td>\n",
       "      <td>60.30</td>\n",
       "      <td>9.0</td>\n",
       "      <td>1999.0</td>\n",
       "    </tr>\n",
       "  </tbody>\n",
       "</table>\n",
       "</div>"
      ],
      "text/plain": [
       "             residueCount  resolution  structureMolecularWeight  \\\n",
       "structureId                                                       \n",
       "101M                  154        2.07                  18112.80   \n",
       "102L                  165        1.74                  18926.61   \n",
       "102M                  154        1.84                  18010.64   \n",
       "103L                  167        1.90                  19092.72   \n",
       "103M                  154        2.07                  18093.78   \n",
       "\n",
       "             crystallizationTempK  densityMatthews  densityPercentSol  \\\n",
       "structureId                                                             \n",
       "101M                          NaN             3.09              60.20   \n",
       "102L                          NaN             2.75              55.28   \n",
       "102M                          NaN             3.09              60.20   \n",
       "103L                          NaN             2.70              54.46   \n",
       "103M                          NaN             3.09              60.30   \n",
       "\n",
       "             phValue  publicationYear  \n",
       "structureId                            \n",
       "101M             9.0           1999.0  \n",
       "102L             NaN           1993.0  \n",
       "102M             9.0           1999.0  \n",
       "103L             NaN           1993.0  \n",
       "103M             9.0           1999.0  "
      ]
     },
     "execution_count": 86,
     "metadata": {},
     "output_type": "execute_result"
    }
   ],
   "source": [
    "crystallizationTempK_miss = model_f[model_f['crystallizationTempK'].isnull()].drop(['classification', 'experimentalTechnique','crystallizationMethod','sequence'], axis = 1)\n",
    "crystallizationTempK_miss.head()"
   ]
  },
  {
   "cell_type": "code",
   "execution_count": 91,
   "metadata": {
    "pycharm": {
     "name": "#%%\n"
    }
   },
   "outputs": [
    {
     "data": {
      "text/html": [
       "<div>\n",
       "<style scoped>\n",
       "    .dataframe tbody tr th:only-of-type {\n",
       "        vertical-align: middle;\n",
       "    }\n",
       "\n",
       "    .dataframe tbody tr th {\n",
       "        vertical-align: top;\n",
       "    }\n",
       "\n",
       "    .dataframe thead th {\n",
       "        text-align: right;\n",
       "    }\n",
       "</style>\n",
       "<table border=\"1\" class=\"dataframe\">\n",
       "  <thead>\n",
       "    <tr style=\"text-align: right;\">\n",
       "      <th></th>\n",
       "      <th>residueCount</th>\n",
       "      <th>resolution</th>\n",
       "      <th>structureMolecularWeight</th>\n",
       "      <th>crystallizationTempK</th>\n",
       "      <th>densityMatthews</th>\n",
       "      <th>densityPercentSol</th>\n",
       "      <th>phValue</th>\n",
       "      <th>publicationYear</th>\n",
       "    </tr>\n",
       "    <tr>\n",
       "      <th>structureId</th>\n",
       "      <th></th>\n",
       "      <th></th>\n",
       "      <th></th>\n",
       "      <th></th>\n",
       "      <th></th>\n",
       "      <th></th>\n",
       "      <th></th>\n",
       "      <th></th>\n",
       "    </tr>\n",
       "  </thead>\n",
       "  <tbody>\n",
       "    <tr>\n",
       "      <th>1914</th>\n",
       "      <td>232</td>\n",
       "      <td>2.53</td>\n",
       "      <td>26562.73</td>\n",
       "      <td>277.0</td>\n",
       "      <td>3.00</td>\n",
       "      <td>34.00</td>\n",
       "      <td>7.7</td>\n",
       "      <td>1997.0</td>\n",
       "    </tr>\n",
       "    <tr>\n",
       "      <th>1A04</th>\n",
       "      <td>430</td>\n",
       "      <td>2.20</td>\n",
       "      <td>47657.25</td>\n",
       "      <td>277.0</td>\n",
       "      <td>2.49</td>\n",
       "      <td>51.03</td>\n",
       "      <td>7.6</td>\n",
       "      <td>1998.0</td>\n",
       "    </tr>\n",
       "    <tr>\n",
       "      <th>1A04</th>\n",
       "      <td>430</td>\n",
       "      <td>2.20</td>\n",
       "      <td>47657.25</td>\n",
       "      <td>277.0</td>\n",
       "      <td>2.49</td>\n",
       "      <td>51.03</td>\n",
       "      <td>7.6</td>\n",
       "      <td>1998.0</td>\n",
       "    </tr>\n",
       "    <tr>\n",
       "      <th>1A07</th>\n",
       "      <td>222</td>\n",
       "      <td>2.20</td>\n",
       "      <td>25718.97</td>\n",
       "      <td>277.0</td>\n",
       "      <td>2.10</td>\n",
       "      <td>43.00</td>\n",
       "      <td>8.0</td>\n",
       "      <td>1997.0</td>\n",
       "    </tr>\n",
       "    <tr>\n",
       "      <th>1A07</th>\n",
       "      <td>222</td>\n",
       "      <td>2.20</td>\n",
       "      <td>25718.97</td>\n",
       "      <td>277.0</td>\n",
       "      <td>2.10</td>\n",
       "      <td>43.00</td>\n",
       "      <td>8.0</td>\n",
       "      <td>1997.0</td>\n",
       "    </tr>\n",
       "  </tbody>\n",
       "</table>\n",
       "</div>"
      ],
      "text/plain": [
       "             residueCount  resolution  structureMolecularWeight  \\\n",
       "structureId                                                       \n",
       "1914                  232        2.53                  26562.73   \n",
       "1A04                  430        2.20                  47657.25   \n",
       "1A04                  430        2.20                  47657.25   \n",
       "1A07                  222        2.20                  25718.97   \n",
       "1A07                  222        2.20                  25718.97   \n",
       "\n",
       "             crystallizationTempK  densityMatthews  densityPercentSol  \\\n",
       "structureId                                                             \n",
       "1914                        277.0             3.00              34.00   \n",
       "1A04                        277.0             2.49              51.03   \n",
       "1A04                        277.0             2.49              51.03   \n",
       "1A07                        277.0             2.10              43.00   \n",
       "1A07                        277.0             2.10              43.00   \n",
       "\n",
       "             phValue  publicationYear  \n",
       "structureId                            \n",
       "1914             7.7           1997.0  \n",
       "1A04             7.6           1998.0  \n",
       "1A04             7.6           1998.0  \n",
       "1A07             8.0           1997.0  \n",
       "1A07             8.0           1997.0  "
      ]
     },
     "execution_count": 91,
     "metadata": {},
     "output_type": "execute_result"
    }
   ],
   "source": [
    "df_exist = model_f[model_f['crystallizationTempK'].notnull()].drop(['classification', 'experimentalTechnique','crystallizationMethod','sequence'], axis = 1)\n",
    "df_exist.head()"
   ]
  },
  {
   "cell_type": "code",
   "execution_count": 93,
   "metadata": {
    "pycharm": {
     "name": "#%%\n"
    }
   },
   "outputs": [
    {
     "name": "stdout",
     "output_type": "stream",
     "text": [
      "<class 'pandas.core.frame.DataFrame'>\n",
      "Index: 243934 entries, 1914 to 6FJ9\n",
      "Data columns (total 8 columns):\n",
      " #   Column                    Non-Null Count   Dtype  \n",
      "---  ------                    --------------   -----  \n",
      " 0   residueCount              243934 non-null  int64  \n",
      " 1   resolution                243841 non-null  float64\n",
      " 2   structureMolecularWeight  243934 non-null  float64\n",
      " 3   crystallizationTempK      243934 non-null  float64\n",
      " 4   densityMatthews           240887 non-null  float64\n",
      " 5   densityPercentSol         240933 non-null  float64\n",
      " 6   phValue                   216757 non-null  float64\n",
      " 7   publicationYear           200688 non-null  float64\n",
      "dtypes: float64(7), int64(1)\n",
      "memory usage: 16.7+ MB\n"
     ]
    }
   ],
   "source": [
    "df_exist.info()"
   ]
  },
  {
   "cell_type": "code",
   "execution_count": 95,
   "metadata": {},
   "outputs": [
    {
     "name": "stdout",
     "output_type": "stream",
     "text": [
      "<class 'pandas.core.frame.DataFrame'>\n",
      "Index: 102391 entries, 101M to 9XIM\n",
      "Data columns (total 8 columns):\n",
      " #   Column                    Non-Null Count   Dtype  \n",
      "---  ------                    --------------   -----  \n",
      " 0   residueCount              102391 non-null  int64  \n",
      " 1   resolution                86391 non-null   float64\n",
      " 2   structureMolecularWeight  102391 non-null  float64\n",
      " 3   crystallizationTempK      0 non-null       float64\n",
      " 4   densityMatthews           66594 non-null   float64\n",
      " 5   densityPercentSol         66682 non-null   float64\n",
      " 6   phValue                   42373 non-null   float64\n",
      " 7   publicationYear           94675 non-null   float64\n",
      "dtypes: float64(7), int64(1)\n",
      "memory usage: 7.0+ MB\n"
     ]
    }
   ],
   "source": [
    "crystallizationTempK_miss.info()"
   ]
  },
  {
   "cell_type": "markdown",
   "metadata": {
    "pycharm": {
     "name": "#%% md\n"
    }
   },
   "source": [
    "**Filling the missing values with zeros:**"
   ]
  },
  {
   "cell_type": "code",
   "execution_count": 96,
   "metadata": {
    "pycharm": {
     "name": "#%%\n"
    }
   },
   "outputs": [
    {
     "name": "stdout",
     "output_type": "stream",
     "text": [
      "residueCount\n",
      "resolution\n",
      "structureMolecularWeight\n",
      "crystallizationTempK\n",
      "densityMatthews\n",
      "densityPercentSol\n",
      "phValue\n",
      "publicationYear\n"
     ]
    }
   ],
   "source": [
    "for attribute in  df_exist.columns:\n",
    "    print(attribute)\n",
    "    df_exist[attribute] = df_exist[attribute].fillna(0)\n",
    "    crystallizationTempK_miss[attribute] = crystallizationTempK_miss[attribute].fillna(0)"
   ]
  },
  {
   "cell_type": "code",
   "execution_count": 97,
   "metadata": {
    "pycharm": {
     "name": "#%%\n"
    }
   },
   "outputs": [
    {
     "name": "stdout",
     "output_type": "stream",
     "text": [
      "<class 'pandas.core.frame.DataFrame'>\n",
      "Index: 243934 entries, 1914 to 6FJ9\n",
      "Data columns (total 8 columns):\n",
      " #   Column                    Non-Null Count   Dtype  \n",
      "---  ------                    --------------   -----  \n",
      " 0   residueCount              243934 non-null  int64  \n",
      " 1   resolution                243934 non-null  float64\n",
      " 2   structureMolecularWeight  243934 non-null  float64\n",
      " 3   crystallizationTempK      243934 non-null  float64\n",
      " 4   densityMatthews           243934 non-null  float64\n",
      " 5   densityPercentSol         243934 non-null  float64\n",
      " 6   phValue                   243934 non-null  float64\n",
      " 7   publicationYear           243934 non-null  float64\n",
      "dtypes: float64(7), int64(1)\n",
      "memory usage: 16.7+ MB\n"
     ]
    }
   ],
   "source": [
    "df_exist.info()"
   ]
  },
  {
   "cell_type": "markdown",
   "metadata": {
    "pycharm": {
     "name": "#%% md\n"
    }
   },
   "source": [
    "### Compute euclidean distance between each row in \"crystallizationTempK_miss\" to all the row in \"df_exist\"."
   ]
  },
  {
   "cell_type": "markdown",
   "metadata": {
    "pycharm": {
     "name": "#%% md\n"
    }
   },
   "source": [
    "**To calculate the Euclidean distances, a smaller amount of data must be used, since there is not enough memory in the computer to perform this calculation.**"
   ]
  },
  {
   "cell_type": "code",
   "execution_count": 98,
   "metadata": {
    "pycharm": {
     "name": "#%%\n"
    }
   },
   "outputs": [
    {
     "data": {
      "text/html": [
       "<div>\n",
       "<style scoped>\n",
       "    .dataframe tbody tr th:only-of-type {\n",
       "        vertical-align: middle;\n",
       "    }\n",
       "\n",
       "    .dataframe tbody tr th {\n",
       "        vertical-align: top;\n",
       "    }\n",
       "\n",
       "    .dataframe thead th {\n",
       "        text-align: right;\n",
       "    }\n",
       "</style>\n",
       "<table border=\"1\" class=\"dataframe\">\n",
       "  <thead>\n",
       "    <tr style=\"text-align: right;\">\n",
       "      <th></th>\n",
       "      <th>residueCount</th>\n",
       "      <th>resolution</th>\n",
       "      <th>structureMolecularWeight</th>\n",
       "      <th>crystallizationTempK</th>\n",
       "      <th>densityMatthews</th>\n",
       "      <th>densityPercentSol</th>\n",
       "      <th>phValue</th>\n",
       "      <th>publicationYear</th>\n",
       "    </tr>\n",
       "    <tr>\n",
       "      <th>structureId</th>\n",
       "      <th></th>\n",
       "      <th></th>\n",
       "      <th></th>\n",
       "      <th></th>\n",
       "      <th></th>\n",
       "      <th></th>\n",
       "      <th></th>\n",
       "      <th></th>\n",
       "    </tr>\n",
       "  </thead>\n",
       "  <tbody>\n",
       "    <tr>\n",
       "      <th>101M</th>\n",
       "      <td>154</td>\n",
       "      <td>2.07</td>\n",
       "      <td>18112.80</td>\n",
       "      <td>0.0</td>\n",
       "      <td>3.09</td>\n",
       "      <td>60.20</td>\n",
       "      <td>9.0</td>\n",
       "      <td>1999.0</td>\n",
       "    </tr>\n",
       "    <tr>\n",
       "      <th>102L</th>\n",
       "      <td>165</td>\n",
       "      <td>1.74</td>\n",
       "      <td>18926.61</td>\n",
       "      <td>0.0</td>\n",
       "      <td>2.75</td>\n",
       "      <td>55.28</td>\n",
       "      <td>0.0</td>\n",
       "      <td>1993.0</td>\n",
       "    </tr>\n",
       "    <tr>\n",
       "      <th>102M</th>\n",
       "      <td>154</td>\n",
       "      <td>1.84</td>\n",
       "      <td>18010.64</td>\n",
       "      <td>0.0</td>\n",
       "      <td>3.09</td>\n",
       "      <td>60.20</td>\n",
       "      <td>9.0</td>\n",
       "      <td>1999.0</td>\n",
       "    </tr>\n",
       "    <tr>\n",
       "      <th>103L</th>\n",
       "      <td>167</td>\n",
       "      <td>1.90</td>\n",
       "      <td>19092.72</td>\n",
       "      <td>0.0</td>\n",
       "      <td>2.70</td>\n",
       "      <td>54.46</td>\n",
       "      <td>0.0</td>\n",
       "      <td>1993.0</td>\n",
       "    </tr>\n",
       "    <tr>\n",
       "      <th>103M</th>\n",
       "      <td>154</td>\n",
       "      <td>2.07</td>\n",
       "      <td>18093.78</td>\n",
       "      <td>0.0</td>\n",
       "      <td>3.09</td>\n",
       "      <td>60.30</td>\n",
       "      <td>9.0</td>\n",
       "      <td>1999.0</td>\n",
       "    </tr>\n",
       "    <tr>\n",
       "      <th>...</th>\n",
       "      <td>...</td>\n",
       "      <td>...</td>\n",
       "      <td>...</td>\n",
       "      <td>...</td>\n",
       "      <td>...</td>\n",
       "      <td>...</td>\n",
       "      <td>...</td>\n",
       "      <td>...</td>\n",
       "    </tr>\n",
       "    <tr>\n",
       "      <th>155L</th>\n",
       "      <td>164</td>\n",
       "      <td>1.85</td>\n",
       "      <td>18809.51</td>\n",
       "      <td>0.0</td>\n",
       "      <td>2.79</td>\n",
       "      <td>55.96</td>\n",
       "      <td>0.0</td>\n",
       "      <td>1995.0</td>\n",
       "    </tr>\n",
       "    <tr>\n",
       "      <th>156L</th>\n",
       "      <td>164</td>\n",
       "      <td>1.80</td>\n",
       "      <td>18739.39</td>\n",
       "      <td>0.0</td>\n",
       "      <td>2.81</td>\n",
       "      <td>56.24</td>\n",
       "      <td>0.0</td>\n",
       "      <td>1995.0</td>\n",
       "    </tr>\n",
       "    <tr>\n",
       "      <th>157L</th>\n",
       "      <td>164</td>\n",
       "      <td>1.85</td>\n",
       "      <td>18506.14</td>\n",
       "      <td>0.0</td>\n",
       "      <td>2.84</td>\n",
       "      <td>56.71</td>\n",
       "      <td>0.0</td>\n",
       "      <td>1995.0</td>\n",
       "    </tr>\n",
       "    <tr>\n",
       "      <th>158L</th>\n",
       "      <td>164</td>\n",
       "      <td>1.80</td>\n",
       "      <td>18753.42</td>\n",
       "      <td>0.0</td>\n",
       "      <td>2.80</td>\n",
       "      <td>56.11</td>\n",
       "      <td>0.0</td>\n",
       "      <td>1995.0</td>\n",
       "    </tr>\n",
       "    <tr>\n",
       "      <th>159L</th>\n",
       "      <td>164</td>\n",
       "      <td>1.80</td>\n",
       "      <td>18712.37</td>\n",
       "      <td>0.0</td>\n",
       "      <td>2.81</td>\n",
       "      <td>56.16</td>\n",
       "      <td>0.0</td>\n",
       "      <td>1995.0</td>\n",
       "    </tr>\n",
       "  </tbody>\n",
       "</table>\n",
       "<p>100 rows × 8 columns</p>\n",
       "</div>"
      ],
      "text/plain": [
       "             residueCount  resolution  structureMolecularWeight  \\\n",
       "structureId                                                       \n",
       "101M                  154        2.07                  18112.80   \n",
       "102L                  165        1.74                  18926.61   \n",
       "102M                  154        1.84                  18010.64   \n",
       "103L                  167        1.90                  19092.72   \n",
       "103M                  154        2.07                  18093.78   \n",
       "...                   ...         ...                       ...   \n",
       "155L                  164        1.85                  18809.51   \n",
       "156L                  164        1.80                  18739.39   \n",
       "157L                  164        1.85                  18506.14   \n",
       "158L                  164        1.80                  18753.42   \n",
       "159L                  164        1.80                  18712.37   \n",
       "\n",
       "             crystallizationTempK  densityMatthews  densityPercentSol  \\\n",
       "structureId                                                             \n",
       "101M                          0.0             3.09              60.20   \n",
       "102L                          0.0             2.75              55.28   \n",
       "102M                          0.0             3.09              60.20   \n",
       "103L                          0.0             2.70              54.46   \n",
       "103M                          0.0             3.09              60.30   \n",
       "...                           ...              ...                ...   \n",
       "155L                          0.0             2.79              55.96   \n",
       "156L                          0.0             2.81              56.24   \n",
       "157L                          0.0             2.84              56.71   \n",
       "158L                          0.0             2.80              56.11   \n",
       "159L                          0.0             2.81              56.16   \n",
       "\n",
       "             phValue  publicationYear  \n",
       "structureId                            \n",
       "101M             9.0           1999.0  \n",
       "102L             0.0           1993.0  \n",
       "102M             9.0           1999.0  \n",
       "103L             0.0           1993.0  \n",
       "103M             9.0           1999.0  \n",
       "...              ...              ...  \n",
       "155L             0.0           1995.0  \n",
       "156L             0.0           1995.0  \n",
       "157L             0.0           1995.0  \n",
       "158L             0.0           1995.0  \n",
       "159L             0.0           1995.0  \n",
       "\n",
       "[100 rows x 8 columns]"
      ]
     },
     "execution_count": 98,
     "metadata": {},
     "output_type": "execute_result"
    }
   ],
   "source": [
    "miss_100  = crystallizationTempK_miss.iloc[0:100]\n",
    "miss_100"
   ]
  },
  {
   "cell_type": "code",
   "execution_count": 99,
   "metadata": {
    "pycharm": {
     "name": "#%%\n"
    }
   },
   "outputs": [
    {
     "data": {
      "text/html": [
       "<div>\n",
       "<style scoped>\n",
       "    .dataframe tbody tr th:only-of-type {\n",
       "        vertical-align: middle;\n",
       "    }\n",
       "\n",
       "    .dataframe tbody tr th {\n",
       "        vertical-align: top;\n",
       "    }\n",
       "\n",
       "    .dataframe thead th {\n",
       "        text-align: right;\n",
       "    }\n",
       "</style>\n",
       "<table border=\"1\" class=\"dataframe\">\n",
       "  <thead>\n",
       "    <tr style=\"text-align: right;\">\n",
       "      <th></th>\n",
       "      <th>residueCount</th>\n",
       "      <th>resolution</th>\n",
       "      <th>structureMolecularWeight</th>\n",
       "      <th>crystallizationTempK</th>\n",
       "      <th>densityMatthews</th>\n",
       "      <th>densityPercentSol</th>\n",
       "      <th>phValue</th>\n",
       "      <th>publicationYear</th>\n",
       "    </tr>\n",
       "    <tr>\n",
       "      <th>structureId</th>\n",
       "      <th></th>\n",
       "      <th></th>\n",
       "      <th></th>\n",
       "      <th></th>\n",
       "      <th></th>\n",
       "      <th></th>\n",
       "      <th></th>\n",
       "      <th></th>\n",
       "    </tr>\n",
       "  </thead>\n",
       "  <tbody>\n",
       "    <tr>\n",
       "      <th>1914</th>\n",
       "      <td>232</td>\n",
       "      <td>2.53</td>\n",
       "      <td>26562.73</td>\n",
       "      <td>277.0</td>\n",
       "      <td>3.00</td>\n",
       "      <td>34.00</td>\n",
       "      <td>7.70</td>\n",
       "      <td>1997.0</td>\n",
       "    </tr>\n",
       "    <tr>\n",
       "      <th>1A04</th>\n",
       "      <td>430</td>\n",
       "      <td>2.20</td>\n",
       "      <td>47657.25</td>\n",
       "      <td>277.0</td>\n",
       "      <td>2.49</td>\n",
       "      <td>51.03</td>\n",
       "      <td>7.60</td>\n",
       "      <td>1998.0</td>\n",
       "    </tr>\n",
       "    <tr>\n",
       "      <th>1A04</th>\n",
       "      <td>430</td>\n",
       "      <td>2.20</td>\n",
       "      <td>47657.25</td>\n",
       "      <td>277.0</td>\n",
       "      <td>2.49</td>\n",
       "      <td>51.03</td>\n",
       "      <td>7.60</td>\n",
       "      <td>1998.0</td>\n",
       "    </tr>\n",
       "    <tr>\n",
       "      <th>1A07</th>\n",
       "      <td>222</td>\n",
       "      <td>2.20</td>\n",
       "      <td>25718.97</td>\n",
       "      <td>277.0</td>\n",
       "      <td>2.10</td>\n",
       "      <td>43.00</td>\n",
       "      <td>8.00</td>\n",
       "      <td>1997.0</td>\n",
       "    </tr>\n",
       "    <tr>\n",
       "      <th>1A07</th>\n",
       "      <td>222</td>\n",
       "      <td>2.20</td>\n",
       "      <td>25718.97</td>\n",
       "      <td>277.0</td>\n",
       "      <td>2.10</td>\n",
       "      <td>43.00</td>\n",
       "      <td>8.00</td>\n",
       "      <td>1997.0</td>\n",
       "    </tr>\n",
       "    <tr>\n",
       "      <th>...</th>\n",
       "      <td>...</td>\n",
       "      <td>...</td>\n",
       "      <td>...</td>\n",
       "      <td>...</td>\n",
       "      <td>...</td>\n",
       "      <td>...</td>\n",
       "      <td>...</td>\n",
       "      <td>...</td>\n",
       "    </tr>\n",
       "    <tr>\n",
       "      <th>1AR4</th>\n",
       "      <td>402</td>\n",
       "      <td>1.90</td>\n",
       "      <td>45428.53</td>\n",
       "      <td>277.0</td>\n",
       "      <td>2.05</td>\n",
       "      <td>32.00</td>\n",
       "      <td>6.10</td>\n",
       "      <td>1996.0</td>\n",
       "    </tr>\n",
       "    <tr>\n",
       "      <th>1AR4</th>\n",
       "      <td>402</td>\n",
       "      <td>1.90</td>\n",
       "      <td>45428.53</td>\n",
       "      <td>277.0</td>\n",
       "      <td>2.05</td>\n",
       "      <td>32.00</td>\n",
       "      <td>6.10</td>\n",
       "      <td>1996.0</td>\n",
       "    </tr>\n",
       "    <tr>\n",
       "      <th>1AR5</th>\n",
       "      <td>402</td>\n",
       "      <td>1.60</td>\n",
       "      <td>45430.34</td>\n",
       "      <td>277.0</td>\n",
       "      <td>2.04</td>\n",
       "      <td>32.20</td>\n",
       "      <td>6.15</td>\n",
       "      <td>1996.0</td>\n",
       "    </tr>\n",
       "    <tr>\n",
       "      <th>1AR5</th>\n",
       "      <td>402</td>\n",
       "      <td>1.60</td>\n",
       "      <td>45430.34</td>\n",
       "      <td>277.0</td>\n",
       "      <td>2.04</td>\n",
       "      <td>32.20</td>\n",
       "      <td>6.15</td>\n",
       "      <td>1996.0</td>\n",
       "    </tr>\n",
       "    <tr>\n",
       "      <th>1AT6</th>\n",
       "      <td>129</td>\n",
       "      <td>1.80</td>\n",
       "      <td>14994.78</td>\n",
       "      <td>277.0</td>\n",
       "      <td>1.90</td>\n",
       "      <td>36.00</td>\n",
       "      <td>7.50</td>\n",
       "      <td>1998.0</td>\n",
       "    </tr>\n",
       "  </tbody>\n",
       "</table>\n",
       "<p>100 rows × 8 columns</p>\n",
       "</div>"
      ],
      "text/plain": [
       "             residueCount  resolution  structureMolecularWeight  \\\n",
       "structureId                                                       \n",
       "1914                  232        2.53                  26562.73   \n",
       "1A04                  430        2.20                  47657.25   \n",
       "1A04                  430        2.20                  47657.25   \n",
       "1A07                  222        2.20                  25718.97   \n",
       "1A07                  222        2.20                  25718.97   \n",
       "...                   ...         ...                       ...   \n",
       "1AR4                  402        1.90                  45428.53   \n",
       "1AR4                  402        1.90                  45428.53   \n",
       "1AR5                  402        1.60                  45430.34   \n",
       "1AR5                  402        1.60                  45430.34   \n",
       "1AT6                  129        1.80                  14994.78   \n",
       "\n",
       "             crystallizationTempK  densityMatthews  densityPercentSol  \\\n",
       "structureId                                                             \n",
       "1914                        277.0             3.00              34.00   \n",
       "1A04                        277.0             2.49              51.03   \n",
       "1A04                        277.0             2.49              51.03   \n",
       "1A07                        277.0             2.10              43.00   \n",
       "1A07                        277.0             2.10              43.00   \n",
       "...                           ...              ...                ...   \n",
       "1AR4                        277.0             2.05              32.00   \n",
       "1AR4                        277.0             2.05              32.00   \n",
       "1AR5                        277.0             2.04              32.20   \n",
       "1AR5                        277.0             2.04              32.20   \n",
       "1AT6                        277.0             1.90              36.00   \n",
       "\n",
       "             phValue  publicationYear  \n",
       "structureId                            \n",
       "1914            7.70           1997.0  \n",
       "1A04            7.60           1998.0  \n",
       "1A04            7.60           1998.0  \n",
       "1A07            8.00           1997.0  \n",
       "1A07            8.00           1997.0  \n",
       "...              ...              ...  \n",
       "1AR4            6.10           1996.0  \n",
       "1AR4            6.10           1996.0  \n",
       "1AR5            6.15           1996.0  \n",
       "1AR5            6.15           1996.0  \n",
       "1AT6            7.50           1998.0  \n",
       "\n",
       "[100 rows x 8 columns]"
      ]
     },
     "execution_count": 99,
     "metadata": {},
     "output_type": "execute_result"
    }
   ],
   "source": [
    "exist_100 = df_exist.iloc[0:100]\n",
    "exist_100"
   ]
  },
  {
   "cell_type": "code",
   "execution_count": 100,
   "metadata": {
    "pycharm": {
     "name": "#%%\n"
    }
   },
   "outputs": [
    {
     "data": {
      "text/plain": [
       "array([[ 8454.86974202, 29547.03907718, 29547.03907718, ...,\n",
       "        27320.08468321, 27320.08468321,  3130.49406634],\n",
       "       [ 7641.47076612, 28733.1990894 , 28733.1990894 , ...,\n",
       "        26506.2479794 , 26506.2479794 ,  3941.79728593],\n",
       "       [ 8556.97078307, 29649.19015809, 29649.19015809, ...,\n",
       "        27422.23520015, 27422.23520015,  3028.75483447],\n",
       "       ...,\n",
       "       [ 8061.67321033, 29153.64125627, 29153.64125627, ...,\n",
       "        26926.68859896, 26926.68859896,  3522.51303614],\n",
       "       [ 7814.55234745, 28906.38279847, 28906.38279847, ...,\n",
       "        26679.43111865, 26679.43111865,  3769.0581213 ],\n",
       "       [ 7855.57509379, 28947.4291873 , 28947.4291873 , ...,\n",
       "        26720.47730595, 26720.47730595,  3728.12310846]])"
      ]
     },
     "execution_count": 100,
     "metadata": {},
     "output_type": "execute_result"
    }
   ],
   "source": [
    "ary = scipy.spatial.distance.cdist(miss_100, exist_100, metric='euclidean')\n",
    "ary"
   ]
  },
  {
   "cell_type": "code",
   "execution_count": 101,
   "metadata": {
    "pycharm": {
     "name": "#%%\n"
    }
   },
   "outputs": [
    {
     "name": "stdout",
     "output_type": "stream",
     "text": [
      "(100, 100)\n"
     ]
    }
   ],
   "source": [
    "print(ary.shape)"
   ]
  },
  {
   "cell_type": "markdown",
   "metadata": {
    "pycharm": {
     "name": "#%% md\n"
    }
   },
   "source": [
    "**Creation of new attribute 'crystallizationTempK_2' that hold the mean 'crystallizationTempK' value of the rows with the minimum distance.**"
   ]
  },
  {
   "cell_type": "code",
   "execution_count": 104,
   "metadata": {
    "pycharm": {
     "name": "#%%\n"
    }
   },
   "outputs": [],
   "source": [
    "model_f_distance = model_f.copy()"
   ]
  },
  {
   "cell_type": "code",
   "execution_count": 107,
   "metadata": {},
   "outputs": [
    {
     "data": {
      "text/plain": [
       "Index(['101M', '102L', '102M', '103L', '103M', '104L', '104L', '104M', '105M',\n",
       "       '106M', '107L', '107M', '108L', '108M', '109L', '109M', '10GS', '10GS',\n",
       "       '110L', '110M', '111L', '111M', '112L', '112M', '113L', '114L', '115L',\n",
       "       '117E', '117E', '118L', '119L', '11AS', '11AS', '11BA', '11BA', '11BG',\n",
       "       '11BG', '11GS', '11GS', '120L', '121P', '122L', '123L', '125L', '126L',\n",
       "       '127L', '128L', '129L', '12AS', '12AS', '12CA', '12E8', '12E8', '12E8',\n",
       "       '12E8', '12GS', '12GS', '130L', '131L', '132L', '133L', '134L', '135L',\n",
       "       '137L', '137L', '138L', '139L', '13GS', '13GS', '13PK', '13PK', '13PK',\n",
       "       '13PK', '140L', '141L', '142L', '143L', '144L', '145L', '146L', '147L',\n",
       "       '148L', '148L', '149L', '14GS', '14GS', '150L', '150L', '150L', '150L',\n",
       "       '151L', '152L', '153L', '154L', '155C', '155L', '156L', '157L', '158L',\n",
       "       '159L'],\n",
       "      dtype='object', name='structureId')"
      ]
     },
     "execution_count": 107,
     "metadata": {},
     "output_type": "execute_result"
    }
   ],
   "source": [
    "miss_100.index"
   ]
  },
  {
   "cell_type": "code",
   "execution_count": 113,
   "metadata": {
    "pycharm": {
     "name": "#%%\n"
    }
   },
   "outputs": [],
   "source": [
    "#DON'T UNDERSTAND!!!!!!!!!\n",
    "model_f_distance['crystallizationTempK_2'] = model_f_distance['crystallizationTempK']\n",
    "for i,j in enumerate(miss_100.index):\n",
    "    #print(i,j)\n",
    "    #print(exist_100[ary[i]==ary[i].min()])\n",
    "    model_f_distance.loc[j,'crystallizationTempK_2'] = model_f_distance.loc[exist_100[ary[i]==ary[i].min()].index]['crystallizationTempK'].mean() "
   ]
  },
  {
   "cell_type": "code",
   "execution_count": 112,
   "metadata": {
    "pycharm": {
     "name": "#%%\n"
    }
   },
   "outputs": [
    {
     "name": "stdout",
     "output_type": "stream",
     "text": [
      "        residueCount     resolution  structureMolecularWeight  \\\n",
      "count  346325.000000  330232.000000              3.463250e+05   \n",
      "mean     4708.536765       2.716206              5.516918e+05   \n",
      "std     26484.160063       3.083736              3.129940e+06   \n",
      "min         3.000000       0.480000              4.535500e+02   \n",
      "25%       398.000000       1.900000              4.541398e+04   \n",
      "50%       856.000000       2.300000              9.703276e+04   \n",
      "75%      1976.000000       2.800000              2.253119e+05   \n",
      "max    313236.000000      70.000000              9.773054e+07   \n",
      "\n",
      "       crystallizationTempK  densityMatthews  densityPercentSol  \\\n",
      "count         243934.000000    307481.000000      307615.000000   \n",
      "mean             291.243141         2.760855          52.817512   \n",
      "std                8.498793         0.738698          10.135556   \n",
      "min                4.000000         0.000000           0.000000   \n",
      "25%              291.000000         2.280000          45.820000   \n",
      "50%              293.000000         2.570000          52.000000   \n",
      "75%              295.000000         3.030000          59.380000   \n",
      "max              398.000000        13.890000          92.000000   \n",
      "\n",
      "             phValue  publicationYear  \n",
      "count  259130.000000    295363.000000  \n",
      "mean        6.801273      2010.044315  \n",
      "std         1.344769         7.652921  \n",
      "min         0.000000       201.000000  \n",
      "25%         6.000000      2006.000000  \n",
      "50%         7.000000      2012.000000  \n",
      "75%         7.500000      2015.000000  \n",
      "max       100.000000      2018.000000  \n",
      "----------------------------------------------------------------------------------\n",
      "        residueCount     resolution  structureMolecularWeight  \\\n",
      "count  346325.000000  330232.000000              3.463250e+05   \n",
      "mean     4708.536765       2.716206              5.516918e+05   \n",
      "std     26484.160063       3.083736              3.129940e+06   \n",
      "min         3.000000       0.480000              4.535500e+02   \n",
      "25%       398.000000       1.900000              4.541398e+04   \n",
      "50%       856.000000       2.300000              9.703276e+04   \n",
      "75%      1976.000000       2.800000              2.253119e+05   \n",
      "max    313236.000000      70.000000              9.773054e+07   \n",
      "\n",
      "       crystallizationTempK  densityMatthews  densityPercentSol  \\\n",
      "count         243934.000000    307481.000000      307615.000000   \n",
      "mean             291.243141         2.760855          52.817512   \n",
      "std                8.498793         0.738698          10.135556   \n",
      "min                4.000000         0.000000           0.000000   \n",
      "25%              291.000000         2.280000          45.820000   \n",
      "50%              293.000000         2.570000          52.000000   \n",
      "75%              295.000000         3.030000          59.380000   \n",
      "max              398.000000        13.890000          92.000000   \n",
      "\n",
      "             phValue  publicationYear  crystallizationTempK_2  \n",
      "count  259130.000000    295363.000000           244034.000000  \n",
      "mean        6.801273      2010.044315              291.238026  \n",
      "std         1.344769         7.652921                8.501235  \n",
      "min         0.000000       201.000000                4.000000  \n",
      "25%         6.000000      2006.000000              291.000000  \n",
      "50%         7.000000      2012.000000              293.000000  \n",
      "75%         7.500000      2015.000000              295.000000  \n",
      "max       100.000000      2018.000000              398.000000  \n"
     ]
    }
   ],
   "source": [
    "print(model_f.describe())\n",
    "print(\"----------------------------------------------------------------------------------\")\n",
    "print(model_f_distance.describe())"
   ]
  },
  {
   "cell_type": "markdown",
   "metadata": {
    "pycharm": {
     "name": "#%% md\n"
    }
   },
   "source": [
    "**It can be seen that there is a very small change in the values of the mean and standard deviation, so this method can also be used to perform impotation of the values.**"
   ]
  },
  {
   "cell_type": "code",
   "execution_count": null,
   "metadata": {
    "pycharm": {
     "name": "#%%\n"
    }
   },
   "outputs": [],
   "source": []
  },
  {
   "cell_type": "markdown",
   "metadata": {
    "pycharm": {
     "name": "#%% md\n"
    }
   },
   "source": [
    "# Outlier Detection\n",
    " \n",
    "### Graphical methods"
   ]
  },
  {
   "cell_type": "code",
   "execution_count": 114,
   "metadata": {
    "pycharm": {
     "name": "#%%\n"
    }
   },
   "outputs": [
    {
     "name": "stderr",
     "output_type": "stream",
     "text": [
      "/Users/sashaolshanova/opt/anaconda3/lib/python3.9/site-packages/seaborn/_decorators.py:36: FutureWarning: Pass the following variable as a keyword arg: x. From version 0.12, the only valid positional argument will be `data`, and passing other arguments without an explicit keyword will result in an error or misinterpretation.\n",
      "  warnings.warn(\n"
     ]
    },
    {
     "data": {
      "image/png": "[encoded data removed]",
      "text/plain": [
       "<Figure size 640x480 with 1 Axes>"
      ]
     },
     "metadata": {},
     "output_type": "display_data"
    }
   ],
   "source": [
    "## Using box plot\n",
    "outl = sns.boxplot(model_f['phValue'])"
   ]
  },
  {
   "cell_type": "code",
   "execution_count": 115,
   "metadata": {
    "pycharm": {
     "name": "#%%\n"
    }
   },
   "outputs": [
    {
     "name": "stderr",
     "output_type": "stream",
     "text": [
      "/Users/sashaolshanova/opt/anaconda3/lib/python3.9/site-packages/seaborn/_decorators.py:36: FutureWarning: Pass the following variable as a keyword arg: x. From version 0.12, the only valid positional argument will be `data`, and passing other arguments without an explicit keyword will result in an error or misinterpretation.\n",
      "  warnings.warn(\n"
     ]
    },
    {
     "data": {
      "image/png": "[encoded data removed]",
      "text/plain": [
       "<Figure size 640x480 with 1 Axes>"
      ]
     },
     "metadata": {},
     "output_type": "display_data"
    }
   ],
   "source": [
    "outl = sns.boxplot(model_f['publicationYear'])"
   ]
  },
  {
   "cell_type": "markdown",
   "metadata": {
    "pycharm": {
     "name": "#%% md\n"
    }
   },
   "source": [
    "It can be seen from the graphs that there are values that are out of range, such as a PH value of 100, or publication year - 201.\n",
    "From the graphs you can see that there are out-of-range values in each of these columns."
   ]
  },
  {
   "cell_type": "markdown",
   "metadata": {
    "pycharm": {
     "name": "#%% md\n"
    }
   },
   "source": [
    "## Using Mathematical Functions\n",
    "\n",
    "### Z-Score"
   ]
  },
  {
   "cell_type": "markdown",
   "metadata": {
    "pycharm": {
     "name": "#%% md\n"
    }
   },
   "source": [
    "The z-score or standard score of an observation is a metric that indicates how many standard deviations a data point is from the sample’s mean, assuming a gaussian distribution. This makes z-score a parametric method. Very frequently data points are not to described by a gaussian distribution, this problem can be solved by applying transformations to data ie: scaling it.\n",
    "Some Python libraries like Scipy and Sci-kit Learn have easy to use functions and classes for a easy implementation along with Pandas and Numpy.\n",
    "\n",
    "When computing the z-score for each sample on the data set a threshold must be specified. Some good ‘thumb-rule’ thresholds can be: 2.5, 3, 3.5 or more standard deviations.\n"
   ]
  },
  {
   "cell_type": "markdown",
   "metadata": {
    "pycharm": {
     "name": "#%% md\n"
    }
   },
   "source": [
    "<img src=\"./zscore.png\" />\n"
   ]
  },
  {
   "cell_type": "markdown",
   "metadata": {
    "pycharm": {
     "name": "#%% md\n"
    }
   },
   "source": [
    "**Before using the z score function it is necessary to address the missing values.**"
   ]
  },
  {
   "cell_type": "markdown",
   "metadata": {
    "pycharm": {
     "name": "#%% md\n"
    }
   },
   "source": [
    "Calculate the Z-value according to the column in which we want to identify out-of-range values."
   ]
  },
  {
   "cell_type": "code",
   "execution_count": 117,
   "metadata": {
    "pycharm": {
     "name": "#%%\n"
    }
   },
   "outputs": [
    {
     "name": "stdout",
     "output_type": "stream",
     "text": [
      "[0.68467101 0.68467101 0.68467101 ... 0.40410009 0.40410009 0.24856136]\n"
     ]
    }
   ],
   "source": [
    "from scipy import stats\n",
    "model_f22 = model_f2.iloc[0:10000].copy()\n",
    "z = np.abs(stats.zscore(model_f22.crystallizationTempK)).values\n",
    "print(z)\n"
   ]
  },
  {
   "cell_type": "markdown",
   "metadata": {
    "pycharm": {
     "name": "#%% md\n"
    }
   },
   "source": [
    "**If a particular cross-section is selected, we will see which values appear out of range.\n",
    "The cross section can be changed according to the data.**"
   ]
  },
  {
   "cell_type": "code",
   "execution_count": 53,
   "metadata": {
    "pycharm": {
     "name": "#%%\n"
    }
   },
   "outputs": [
    {
     "data": {
      "text/plain": [
       "<AxesSubplot:xlabel='structureId', ylabel='crystallizationTempK'>"
      ]
     },
     "execution_count": 53,
     "metadata": {},
     "output_type": "execute_result"
    },
    {
     "data": {
      "image/png": "[encoded data removed]",
      "text/plain": [
       "<Figure size 640x480 with 1 Axes>"
      ]
     },
     "metadata": {},
     "output_type": "display_data"
    }
   ],
   "source": [
    "## Eliminating those points\n",
    "\n",
    "threshold = 2.5\n",
    "model_f22 = model_f22[(z < threshold)]\n",
    "\n",
    "sns.scatterplot(x=model_f22.index,y=model_f22['crystallizationTempK'])\n"
   ]
  },
  {
   "cell_type": "code",
   "execution_count": 54,
   "metadata": {
    "pycharm": {
     "name": "#%%\n"
    }
   },
   "outputs": [
    {
     "data": {
      "text/plain": [
       "<AxesSubplot:xlabel='structureId', ylabel='crystallizationTempK'>"
      ]
     },
     "execution_count": 54,
     "metadata": {},
     "output_type": "execute_result"
    },
    {
     "data": {
      "image/png": "[encoded data removed]",
      "text/plain": [
       "<Figure size 640x480 with 1 Axes>"
      ]
     },
     "metadata": {},
     "output_type": "display_data"
    }
   ],
   "source": [
    "## Eliminating those points\n",
    "model_f22 = model_f2.iloc[0:10000].copy()\n",
    "threshold = 2\n",
    "model_f22 = model_f22[(z < threshold)]\n",
    "\n",
    "sns.scatterplot(x=model_f22.index,y=model_f22['crystallizationTempK'])\n"
   ]
  },
  {
   "cell_type": "code",
   "execution_count": 55,
   "metadata": {
    "pycharm": {
     "name": "#%%\n"
    }
   },
   "outputs": [
    {
     "data": {
      "text/plain": [
       "<AxesSubplot:xlabel='structureId', ylabel='crystallizationTempK'>"
      ]
     },
     "execution_count": 55,
     "metadata": {},
     "output_type": "execute_result"
    },
    {
     "data": {
      "image/png": "[encoded data removed]",
      "text/plain": [
       "<Figure size 640x480 with 1 Axes>"
      ]
     },
     "metadata": {},
     "output_type": "display_data"
    }
   ],
   "source": [
    "## Eliminating those points\n",
    "model_f22 = model_f2.iloc[0:10000].copy()\n",
    "threshold = 1\n",
    "model_f22 = model_f22[(z < threshold)]\n",
    "\n",
    "sns.scatterplot(x=model_f22.index,y=model_f22['crystallizationTempK'])\n"
   ]
  },
  {
   "cell_type": "markdown",
   "metadata": {
    "pycharm": {
     "name": "#%% md\n"
    }
   },
   "source": [
    "**It can be seen that the number of points displayed decreases as the value of Z decreases.\n",
    "The closer you get to the average value, the less the middle of the distribution the less values are included.**"
   ]
  },
  {
   "cell_type": "code",
   "execution_count": null,
   "metadata": {},
   "outputs": [],
   "source": []
  }
 ],
 "metadata": {
  "kernelspec": {
   "display_name": "base",
   "language": "python",
   "name": "python3"
  },
  "language_info": {
   "codemirror_mode": {
    "name": "ipython",
    "version": 3
   },
   "file_extension": ".py",
   "mimetype": "text/x-python",
   "name": "python",
   "nbconvert_exporter": "python",
   "pygments_lexer": "ipython3",
   "version": "3.9.13"
  },
  "vscode": {
   "interpreter": {
    "hash": "84e1904c3a97487b685189145e054586fd3ad14c413d2a39eefe70200931c1a6"
   }
  }
 },
 "nbformat": 4,
 "nbformat_minor": 4
}
