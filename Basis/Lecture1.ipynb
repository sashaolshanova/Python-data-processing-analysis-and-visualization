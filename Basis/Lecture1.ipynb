{
 "cells": [
  {
   "cell_type": "code",
   "execution_count": 15,
   "id": "ed6d2c3e",
   "metadata": {},
   "outputs": [
    {
     "name": "stdout",
     "output_type": "stream",
     "text": [
      "19\n"
     ]
    }
   ],
   "source": [
    "x = 19\n",
    "while x < 10:\n",
    "    x += 1\n",
    "print(x)"
   ]
  },
  {
   "cell_type": "code",
   "execution_count": null,
   "id": "75730350",
   "metadata": {},
   "outputs": [],
   "source": [
    "for i in range(10):\n",
    "    x -= 1\n",
    "print(x)"
   ]
  },
  {
   "cell_type": "markdown",
   "id": "a1a4c21c",
   "metadata": {},
   "source": [
    "STRINGS"
   ]
  },
  {
   "cell_type": "code",
   "execution_count": 19,
   "id": "308f0cdc",
   "metadata": {},
   "outputs": [
    {
     "data": {
      "text/plain": [
       "'Pyton is not a snake'"
      ]
     },
     "execution_count": 19,
     "metadata": {},
     "output_type": "execute_result"
    }
   ],
   "source": [
    "s1 = \"Pyton is not \"\n",
    "s2 = \"a snake\"\n",
    "s3 = s1 + s2\n",
    "s3 "
   ]
  },
  {
   "cell_type": "code",
   "execution_count": 29,
   "id": "ef7ac082",
   "metadata": {},
   "outputs": [
    {
     "data": {
      "text/plain": [
       "'snak'"
      ]
     },
     "execution_count": 29,
     "metadata": {},
     "output_type": "execute_result"
    }
   ],
   "source": [
    "s4 = s3[-5:-1]\n",
    "s4"
   ]
  },
  {
   "cell_type": "code",
   "execution_count": 30,
   "id": "db90df90",
   "metadata": {},
   "outputs": [
    {
     "data": {
      "text/plain": [
       "'ake'"
      ]
     },
     "execution_count": 30,
     "metadata": {},
     "output_type": "execute_result"
    }
   ],
   "source": [
    "s5 = s3[-3:]\n",
    "s5"
   ]
  },
  {
   "cell_type": "code",
   "execution_count": 33,
   "id": "e78ee953",
   "metadata": {},
   "outputs": [
    {
     "data": {
      "text/plain": [
       "'snakke'"
      ]
     },
     "execution_count": 33,
     "metadata": {},
     "output_type": "execute_result"
    }
   ],
   "source": [
    "s6 = s3[-5:-1] + s5[-2:]\n",
    "s6"
   ]
  },
  {
   "cell_type": "markdown",
   "id": "bae64c9f",
   "metadata": {},
   "source": [
    "LISTS"
   ]
  },
  {
   "cell_type": "code",
   "execution_count": 49,
   "id": "f677388c",
   "metadata": {},
   "outputs": [
    {
     "data": {
      "text/plain": [
       "'acid'"
      ]
     },
     "execution_count": 49,
     "metadata": {},
     "output_type": "execute_result"
    }
   ],
   "source": [
    "l = [1, 2.3, \"acid\", True]\n",
    "l[2]"
   ]
  },
  {
   "cell_type": "code",
   "execution_count": 50,
   "id": "88a33804",
   "metadata": {},
   "outputs": [
    {
     "data": {
      "text/plain": [
       "[1, 2.3, 'acid', 'base']"
      ]
     },
     "execution_count": 50,
     "metadata": {},
     "output_type": "execute_result"
    }
   ],
   "source": [
    "l[3]='base'\n",
    "l"
   ]
  },
  {
   "cell_type": "markdown",
   "id": "f714f7ca",
   "metadata": {},
   "source": [
    "TUPLES"
   ]
  },
  {
   "cell_type": "code",
   "execution_count": 1,
   "id": "6e42bd0c",
   "metadata": {},
   "outputs": [
    {
     "data": {
      "text/plain": "(2.0, 2.3, 5)"
     },
     "execution_count": 1,
     "metadata": {},
     "output_type": "execute_result"
    }
   ],
   "source": [
    "t1 = (2.0, 2.3, 5) \n",
    "t1"
   ]
  },
  {
   "cell_type": "code",
   "execution_count": 75,
   "id": "73083094",
   "metadata": {},
   "outputs": [
    {
     "data": {
      "text/plain": [
       "tuple"
      ]
     },
     "execution_count": 75,
     "metadata": {},
     "output_type": "execute_result"
    }
   ],
   "source": [
    "t2 = (1.2,) #returns the type of the object \n",
    "type(t2)"
   ]
  },
  {
   "cell_type": "code",
   "execution_count": 76,
   "id": "791a4836",
   "metadata": {},
   "outputs": [
    {
     "data": {
      "text/plain": [
       "(2.0, 2.3, 1.2)"
      ]
     },
     "execution_count": 76,
     "metadata": {},
     "output_type": "execute_result"
    }
   ],
   "source": [
    "t3 = t1 + t2\n",
    "t3"
   ]
  },
  {
   "cell_type": "code",
   "execution_count": 80,
   "id": "eed53895",
   "metadata": {},
   "outputs": [
    {
     "data": {
      "text/plain": [
       "(2.0, 2.3, 5.2, 1.2)"
      ]
     },
     "execution_count": 80,
     "metadata": {},
     "output_type": "execute_result"
    }
   ],
   "source": [
    "t4 = t1 + (5.2,) + t2 # (5.2,) without , it is not a tuple\n",
    "t4"
   ]
  },
  {
   "cell_type": "code",
   "execution_count": 85,
   "id": "68b8a03a",
   "metadata": {},
   "outputs": [
    {
     "data": {
      "text/plain": [
       "(2.0, 2.3, 2.0, 2.3, 1.2)"
      ]
     },
     "execution_count": 85,
     "metadata": {},
     "output_type": "execute_result"
    }
   ],
   "source": [
    "t1[0:2]+ t3"
   ]
  },
  {
   "cell_type": "markdown",
   "id": "5c1df081",
   "metadata": {},
   "source": [
    "DICTIONARIES"
   ]
  },
  {
   "cell_type": "code",
   "execution_count": 89,
   "id": "7c764046",
   "metadata": {},
   "outputs": [
    {
     "name": "stdout",
     "output_type": "stream",
     "text": [
      "dict_keys(['H', 'He', 'Li', 'Be', 'B', 'C'])\n"
     ]
    }
   ],
   "source": [
    "element_to_num = {'H':1, 'He':2, 'Li':3, 'Be':4, 'B':5,'C':6}\n",
    "print(element_to_num.keys())"
   ]
  },
  {
   "cell_type": "code",
   "execution_count": 90,
   "id": "713b411b",
   "metadata": {},
   "outputs": [
    {
     "name": "stdout",
     "output_type": "stream",
     "text": [
      "dict_values([1, 2, 3, 4, 5, 6])\n"
     ]
    }
   ],
   "source": [
    "print(element_to_num.values())"
   ]
  },
  {
   "cell_type": "code",
   "execution_count": 96,
   "id": "112e9bd5",
   "metadata": {},
   "outputs": [
    {
     "name": "stdout",
     "output_type": "stream",
     "text": [
      "5\n"
     ]
    }
   ],
   "source": [
    "print(element_to_num['B'])"
   ]
  },
  {
   "cell_type": "code",
   "execution_count": 97,
   "id": "cbf1ce03",
   "metadata": {},
   "outputs": [
    {
     "data": {
      "text/plain": [
       "11"
      ]
     },
     "execution_count": 97,
     "metadata": {},
     "output_type": "execute_result"
    }
   ],
   "source": [
    "element_to_num['Na'] = 11\n",
    "element_to_num['Na']"
   ]
  },
  {
   "cell_type": "markdown",
   "id": "67e26662",
   "metadata": {},
   "source": [
    "FUNCTIONS"
   ]
  },
  {
   "cell_type": "code",
   "execution_count": 101,
   "id": "7a72e82f",
   "metadata": {},
   "outputs": [
    {
     "name": "stdout",
     "output_type": "stream",
     "text": [
      "14.75\n"
     ]
    }
   ],
   "source": [
    "def foo_1(x):\n",
    "    return 3*x**2 + 2*x + 5.0\n",
    "print(foo_1(1.5))"
   ]
  },
  {
   "cell_type": "code",
   "execution_count": 108,
   "id": "32292398",
   "metadata": {},
   "outputs": [
    {
     "name": "stdout",
     "output_type": "stream",
     "text": [
      "14.75\n"
     ]
    }
   ],
   "source": [
    "def foo_2(x):\n",
    "    temp = 3*x**2 + 2*x + 5.0\n",
    "    return temp \n",
    "print(foo_2(1.5))"
   ]
  },
  {
   "cell_type": "markdown",
   "id": "f0b27927",
   "metadata": {},
   "source": [
    "EXERCISE"
   ]
  },
  {
   "cell_type": "code",
   "execution_count": 169,
   "id": "c338274f",
   "metadata": {},
   "outputs": [
    {
     "name": "stdout",
     "output_type": "stream",
     "text": [
      "32.0\n"
     ]
    }
   ],
   "source": [
    "l = [0, 1, 2, 4]\n",
    "def fahrenheit(x):\n",
    "    return x*9/5 +32\n",
    "print(fahrenheit(l[0])) #don't know how to add a list "
   ]
  },
  {
   "cell_type": "markdown",
   "id": "230caff7",
   "metadata": {},
   "source": [
    "Packing and unpacking"
   ]
  },
  {
   "cell_type": "code",
   "execution_count": 133,
   "id": "87138dc7",
   "metadata": {},
   "outputs": [
    {
     "data": {
      "text/plain": [
       "2"
      ]
     },
     "execution_count": 133,
     "metadata": {},
     "output_type": "execute_result"
    }
   ],
   "source": [
    "(a, b, c) = (1, 2, 3)\n",
    "b"
   ]
  },
  {
   "cell_type": "code",
   "execution_count": 139,
   "id": "487d051e",
   "metadata": {},
   "outputs": [
    {
     "data": {
      "text/plain": [
       "'2'"
      ]
     },
     "execution_count": 139,
     "metadata": {},
     "output_type": "execute_result"
    }
   ],
   "source": [
    "# Unpacking strings \n",
    "a, b, c = '123'\n",
    "b"
   ]
  },
  {
   "cell_type": "code",
   "execution_count": 141,
   "id": "5f17fc4a",
   "metadata": {},
   "outputs": [
    {
     "data": {
      "text/plain": [
       "2"
      ]
     },
     "execution_count": 141,
     "metadata": {},
     "output_type": "execute_result"
    }
   ],
   "source": [
    "# Unpacking lists\n",
    "a, b, c = [1, 2, 3]\n",
    "b"
   ]
  },
  {
   "cell_type": "code",
   "execution_count": 144,
   "id": "738f249f",
   "metadata": {},
   "outputs": [
    {
     "data": {
      "text/plain": [
       "4"
      ]
     },
     "execution_count": 144,
     "metadata": {},
     "output_type": "execute_result"
    }
   ],
   "source": [
    " # Unpacking generators\n",
    "gen = (i ** 2 for i in range(3))\n",
    "a, b, c = gen\n",
    "c"
   ]
  },
  {
   "cell_type": "code",
   "execution_count": 146,
   "id": "e588ea08",
   "metadata": {},
   "outputs": [
    {
     "data": {
      "text/plain": [
       "'two'"
      ]
     },
     "execution_count": 146,
     "metadata": {},
     "output_type": "execute_result"
    }
   ],
   "source": [
    "# Unpacking dictionaries (keys, values, and items) \n",
    "my_dict = {'one': 1, 'two':2, 'three': 3}\n",
    "a, b, c = my_dict # Unpack keys\n",
    "b"
   ]
  },
  {
   "cell_type": "code",
   "execution_count": 148,
   "id": "725b6d5e",
   "metadata": {},
   "outputs": [
    {
     "data": {
      "text/plain": [
       "2"
      ]
     },
     "execution_count": 148,
     "metadata": {},
     "output_type": "execute_result"
    }
   ],
   "source": [
    "a, b, c = my_dict.values() # Unpack values >>> \n",
    "b\n"
   ]
  },
  {
   "cell_type": "code",
   "execution_count": 149,
   "id": "03eb680b",
   "metadata": {},
   "outputs": [
    {
     "data": {
      "text/plain": [
       "('one', 1)"
      ]
     },
     "execution_count": 149,
     "metadata": {},
     "output_type": "execute_result"
    }
   ],
   "source": [
    "a, b, c = my_dict.items() # Unpacking key-value pairs\n",
    "a"
   ]
  },
  {
   "cell_type": "code",
   "execution_count": 150,
   "id": "79e1a507",
   "metadata": {},
   "outputs": [
    {
     "data": {
      "text/plain": [
       "[1, 2]"
      ]
     },
     "execution_count": 150,
     "metadata": {},
     "output_type": "execute_result"
    }
   ],
   "source": [
    "*a, = 1, 2  #packing\n",
    "a"
   ]
  },
  {
   "cell_type": "code",
   "execution_count": 153,
   "id": "f579526f",
   "metadata": {},
   "outputs": [
    {
     "data": {
      "text/plain": [
       "[2, 3, 4]"
      ]
     },
     "execution_count": 153,
     "metadata": {},
     "output_type": "execute_result"
    }
   ],
   "source": [
    "a, *b = 1, 2, 3, 4\n",
    "b"
   ]
  },
  {
   "cell_type": "code",
   "execution_count": 158,
   "id": "93105a4e",
   "metadata": {},
   "outputs": [
    {
     "data": {
      "text/plain": [
       "[2, 3, 5]"
      ]
     },
     "execution_count": 158,
     "metadata": {},
     "output_type": "execute_result"
    }
   ],
   "source": [
    "first, *body, last = [1, 2, 3, 5, 4]\n",
    "body"
   ]
  },
  {
   "cell_type": "markdown",
   "id": "88d92ef3",
   "metadata": {},
   "source": [
    "Exercise"
   ]
  },
  {
   "cell_type": "code",
   "execution_count": 159,
   "id": "8b306b03",
   "metadata": {},
   "outputs": [
    {
     "name": "stdout",
     "output_type": "stream",
     "text": [
      "5.666666666666667\n"
     ]
    }
   ],
   "source": [
    "def arifmetic_mean (first, *values) : #???\n",
    "    return(first + sum(values))/(1+len(values))\n",
    "print (arifmetic_mean(3,5,9))"
   ]
  },
  {
   "cell_type": "code",
   "execution_count": 160,
   "id": "59aae611",
   "metadata": {},
   "outputs": [
    {
     "name": "stdout",
     "output_type": "stream",
     "text": [
      "5.666666666666667\n"
     ]
    }
   ],
   "source": [
    "x=[3, 5, 9] #list\n",
    "print (arifmetic_mean(*x))"
   ]
  },
  {
   "cell_type": "code",
   "execution_count": 166,
   "id": "bc4a2dc0",
   "metadata": {},
   "outputs": [
    {
     "name": "stdout",
     "output_type": "stream",
     "text": [
      "5.666666666666667\n"
     ]
    }
   ],
   "source": [
    "x=(3, 5, 9) #tuple\n",
    "print (arifmetic_mean(*x))"
   ]
  },
  {
   "cell_type": "code",
   "execution_count": 167,
   "id": "32b293a7",
   "metadata": {},
   "outputs": [
    {
     "name": "stdout",
     "output_type": "stream",
     "text": [
      "5.666666666666667\n"
     ]
    }
   ],
   "source": [
    "x={3, 5, 9} #set, no order\n",
    "print (arifmetic_mean(*x))"
   ]
  },
  {
   "cell_type": "markdown",
   "id": "343b2c7d",
   "metadata": {},
   "source": [
    "PRACTICE CLASS"
   ]
  },
  {
   "cell_type": "code",
   "execution_count": null,
   "id": "9f5a6762",
   "metadata": {},
   "outputs": [],
   "source": []
  }
 ],
 "metadata": {
  "kernelspec": {
   "display_name": "Python 3 (ipykernel)",
   "language": "python",
   "name": "python3"
  },
  "language_info": {
   "codemirror_mode": {
    "name": "ipython",
    "version": 3
   },
   "file_extension": ".py",
   "mimetype": "text/x-python",
   "name": "python",
   "nbconvert_exporter": "python",
   "pygments_lexer": "ipython3",
   "version": "3.9.13"
  }
 },
 "nbformat": 4,
 "nbformat_minor": 5
}
