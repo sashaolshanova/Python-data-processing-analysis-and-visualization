{
 "cells": [
  {
   "cell_type": "markdown",
   "metadata": {},
   "source": [
    "# Homework Assignment - 1 Basic"
   ]
  },
  {
   "cell_type": "markdown",
   "metadata": {},
   "source": [
    "**The main topics we learned in Exe_1:**"
   ]
  },
  {
   "cell_type": "markdown",
   "metadata": {},
   "source": [
    "**Slicing, Dictionary, List ,Tuples, Nesting Lists, Set, Function,Map, reduce, filter, lambda**"
   ]
  },
  {
   "cell_type": "markdown",
   "metadata": {},
   "source": [
    "**1.** *Write a Python program to print out a sequence containing all the Chemical elements from Element_list_1 which are not present in Element_list_2.:*\n",
    "\n",
    "In the first cell, use set() function, In the second use lambda and Filter Functions.\n"
   ]
  },
  {
   "cell_type": "code",
   "execution_count": 1,
   "metadata": {},
   "outputs": [],
   "source": [
    "Element_list_1 = [\"Hydrogen\",\"Helium\",\"Oxygen\",\"Carbon\",\"Neon\",\"Iron\"]\n",
    "Element_list_2 = [\"Neon\",\"Nitrogen\", \"Silicon\",\"Magnesium\",\"Sulfur\",\"Helium\",\"Hydrogen\"]\n",
    "                     \n",
    "#Expected Output :\n",
    "#['Carbon', 'Iron', 'Oxygen']"
   ]
  },
  {
   "cell_type": "code",
   "execution_count": 2,
   "metadata": {},
   "outputs": [
    {
     "name": "stdout",
     "output_type": "stream",
     "text": [
      "['Oxygen', 'Iron', 'Carbon']\n"
     ]
    }
   ],
   "source": [
    "#Use set()\n",
    "x = set(Element_list_1)\n",
    "y = set(Element_list_2)\n",
    "print(list(x.difference(y)))"
   ]
  },
  {
   "cell_type": "code",
   "execution_count": 3,
   "metadata": {},
   "outputs": [
    {
     "name": "stdout",
     "output_type": "stream",
     "text": [
      "['Oxygen', 'Carbon', 'Iron']\n"
     ]
    }
   ],
   "source": [
    "# Use lambda & filter()\n",
    "filter_result = list(filter(lambda x: x not in Element_list_2, Element_list_1))\n",
    "print(filter_result)"
   ]
  },
  {
   "cell_type": "markdown",
   "metadata": {},
   "source": [
    "**2.** *Write a Python program that accepts six numbers as input and sorts them in descending order.*\n",
    "\n",
    "Example:\n",
    "\n",
    "Input six integers:\n",
    "15 30 25 14 35 40\n",
    "\n",
    "After sorting the said integers:\n",
    "40 35 30 25 15 14"
   ]
  },
  {
   "cell_type": "code",
   "execution_count": 7,
   "metadata": {},
   "outputs": [
    {
     "data": {
      "text/plain": "[40, 35, 30, 25, 15, 14]"
     },
     "execution_count": 7,
     "metadata": {},
     "output_type": "execute_result"
    }
   ],
   "source": [
    "lst = (input().split())\n",
    "var_lst = list(map(lambda x: int(x), lst))\n",
    "var_lst.sort(reverse=True)\n",
    "var_lst"
   ]
  },
  {
   "cell_type": "markdown",
   "metadata": {},
   "source": [
    "**3.** *Write a Python program to count the number of strings where the string length is 2 or more and the first and last character are same from a given list of strings.*\n",
    "\n",
    "\n",
    "Sample List : ['abc', 'xyz', 'aba', '1221','AbGADA']\n",
    "\n",
    "Expected Result : 3"
   ]
  },
  {
   "cell_type": "code",
   "execution_count": 8,
   "metadata": {},
   "outputs": [
    {
     "data": {
      "text/plain": "3"
     },
     "execution_count": 8,
     "metadata": {},
     "output_type": "execute_result"
    }
   ],
   "source": [
    "list_letters = ['abc', 'xyz', 'aba', '1221','AbGADA']\n",
    "len(list(filter(lambda x : len(x)>=2 and x[0]==x[-1], list_letters)))"
   ]
  },
  {
   "cell_type": "markdown",
   "metadata": {},
   "source": [
    "**4.** *Write a Python program to sort a given matrix in ascending order according to the sum of its rows.*\n",
    "\n",
    "Example: (use one of them to try the program on)<br>\n",
    "Original Matrix:<br>\n",
    "[[1, 9, 0],<br>\n",
    "[2, 8, 1],<br>\n",
    "[1, 1, 1]]<br>\n",
    "\n",
    "Sort the said matrix in ascending order according to the sum of its rows\n",
    "\n",
    "[[1, 1, 1],<br>\n",
    "[1, 9, 0],<br>\n",
    "[2, 8, 1]]<br>\n",
    "\n",
    "Original Matrix:<br>\n",
    "[[1, 9, 0],<br>\n",
    "[1, -1, 1],<br>\n",
    "[-2, 4, -5]]<br>\n",
    "\n",
    "Sort the said matrix in ascending order according to the sum of its rows\n",
    "\n",
    "[[-2, 4, -5],<br>\n",
    "[1, -1, 1],<br>\n",
    "[1, 9, 0]]<br>"
   ]
  },
  {
   "cell_type": "code",
   "execution_count": 10,
   "metadata": {},
   "outputs": [
    {
     "name": "stdout",
     "output_type": "stream",
     "text": [
      "[[1. 1. 1.]\n",
      " [1. 9. 0.]\n",
      " [2. 8. 1.]]\n"
     ]
    },
    {
     "data": {
      "text/plain": "array([[1., 9., 0.],\n       [2., 8., 1.],\n       [1., 1., 1.]])"
     },
     "execution_count": 10,
     "metadata": {},
     "output_type": "execute_result"
    }
   ],
   "source": [
    "import numpy as np\n",
    "mat = np.array([[1, 9, 0], [2, 8, 1],[1, 1, 1]], float)\n",
    "first_raw_sum= sum(list(mat[0]))\n",
    "second_raw_sum= sum(list(mat[1]))\n",
    "third_raw_sum= sum(list(mat[2]))\n",
    "if first_raw_sum < second_raw_sum and first_raw_sum < third_raw_sum :\n",
    "    mat1 = [mat[0]]\n",
    "    if second_raw_sum < third_raw_sum :\n",
    "        mat1.append(mat[1])\n",
    "        mat1.append(mat[2])\n",
    "        print(np.array(mat1, float))\n",
    "    else:\n",
    "        mat1.append(mat[2])\n",
    "        mat1.append(mat[1])\n",
    "        print(np.array(mat1, float))\n",
    "elif second_raw_sum < first_raw_sum and second_raw_sum < third_raw_sum :\n",
    "    mat1 = [mat[1]]\n",
    "    if first_raw_sum < third_raw_sum :\n",
    "        mat1.append(mat[0])\n",
    "        mat1.append(mat[2])\n",
    "        print(np.array(mat1, float))\n",
    "    else:\n",
    "        mat1.append(mat[2])\n",
    "        mat1.append(mat[0])\n",
    "        print(np.array(mat1, float))\n",
    "elif third_raw_sum < first_raw_sum and third_raw_sum  < second_raw_sum :\n",
    "    mat1 = [mat[2]]\n",
    "    if first_raw_sum < second_raw_sum :\n",
    "        mat1.append(mat[0])\n",
    "        mat1.append(mat[1])\n",
    "        print(np.array(mat1, float))\n",
    "    else:\n",
    "        mat1.append(mat[1])\n",
    "        mat1.append(mat[0])\n",
    "        print(np.array(mat1, float))\n",
    "else:\n",
    "    print(\"I don't know\")\n",
    "\n",
    "#print(\"first raw:\", first_raw_sum, \"second raw:\",  second_raw_sum, \"third raw:\",  third_raw_sum )\n",
    "mat"
   ]
  },
  {
   "cell_type": "markdown",
   "metadata": {},
   "source": [
    "**5.** *Write a Python program to combine two dictionary adding values for common keys.*\n",
    "d1 = {'a': 100, 'b': 200, 'c':300}\n",
    "d2 = {'a': 300, 'b': 200, 'd':400}\n",
    "Sample output: Counter({'a': 400, 'b': 400, 'd': 400, 'c': 300})\n",
    "\n",
    "Hint: from collections import Counter"
   ]
  },
  {
   "cell_type": "code",
   "execution_count": 11,
   "metadata": {},
   "outputs": [
    {
     "data": {
      "text/plain": "Counter({'a': 400, 'b': 400, 'c': 300, 'd': 400})"
     },
     "execution_count": 11,
     "metadata": {},
     "output_type": "execute_result"
    }
   ],
   "source": [
    "from collections import Counter\n",
    "d1 = {'a': 100, 'b': 200, 'c':300}\n",
    "d2 = {'a': 300, 'b': 200, 'd':400}\n",
    "c = Counter(d1) + Counter(d2)\n",
    "c"
   ]
  },
  {
   "cell_type": "markdown",
   "metadata": {},
   "source": [
    "**6.** Write a Python program that recieve dictionary of elements to their molar weight, and then print the names of the elements with the highest and lowest molar weight.\n",
    "\n",
    "Sample Output:\n",
    "Original dictionary elements:\n",
    "\n",
    "Chemical_elements = {'Scandium': 21, 'Cobalt': 27, 'Sulfur': 16,'Silver': 47 }\n",
    "\n",
    "Finds the key of the maximum and minimum value of the said dictionary:\n",
    "\n",
    "Highest Mw: Silver\n",
    "\n",
    "Lowest Mw: Sulfur\n",
    "\n"
   ]
  },
  {
   "cell_type": "code",
   "execution_count": 1,
   "metadata": {},
   "outputs": [
    {
     "name": "stdout",
     "output_type": "stream",
     "text": [
      "Highest Mw: Silver\n",
      "Lowest_Mw: Sulfur\n"
     ]
    }
   ],
   "source": [
    "Chemical_elements = {'Scandium': 21, 'Cobalt': 27, 'Sulfur': 16,'Silver': 47 }\n",
    "Highest_Mw = max(Chemical_elements.values())\n",
    "Lowest_Mw = min(Chemical_elements.values())\n",
    "for key, value in Chemical_elements.items():\n",
    "    if value == Highest_Mw :\n",
    "        print(\"Highest Mw:\", key)\n",
    "for key, value in Chemical_elements.items():\n",
    "    if value == Lowest_Mw:\n",
    "        print(\"Lowest_Mw:\", key)"
   ]
  },
  {
   "cell_type": "markdown",
   "metadata": {},
   "source": [
    "**7.** *Write a function that recieve two given tuples and return their subtraction using map and lambda.*\n",
    "\n",
    "Original tuples:\n",
    "(8,10,3)\n",
    "(-1,7,9)\n",
    "\n",
    "Result: after substracting two tuples\n",
    "(9, 3, -6)"
   ]
  },
  {
   "cell_type": "code",
   "execution_count": 13,
   "metadata": {},
   "outputs": [
    {
     "name": "stdout",
     "output_type": "stream",
     "text": [
      "(9, 3, -6)\n"
     ]
    }
   ],
   "source": [
    "a= (8,10,3)\n",
    "b=(-1,7,9)\n",
    "print(tuple(map(lambda x, y: x-y, a, b)))"
   ]
  },
  {
   "cell_type": "markdown",
   "metadata": {},
   "source": [
    "**8.** *Write a Python program to compute the product of all the elements of each tuple stored inside a list of tuples.*\n",
    "\n",
    "Original list of tuples:\n",
    "[(1, 2), (2, 3), (3, 4)]\n",
    "\n",
    "Product of all the elements of each tuple stored inside the said list of tuples:\n",
    "[2, 6, 12]\n",
    "\n",
    "Original list of tuples:\n",
    "[(1, 2, 6), (2, 3, -6), (3, 4), (2, 2, 2, 2)]\n",
    "\n",
    "Product of all the elements of each tuple stored inside the said list of tuples:\n",
    "[12, -36, 12, 16]"
   ]
  },
  {
   "cell_type": "code",
   "execution_count": 14,
   "metadata": {},
   "outputs": [
    {
     "name": "stdout",
     "output_type": "stream",
     "text": [
      "[12, -36, 12, 16]\n"
     ]
    }
   ],
   "source": [
    "list1 = [(1, 2, 6), (2, 3, -6), (3, 4), (2, 2, 2, 2)]\n",
    "def mul1(x):\n",
    "    mulll=1\n",
    "    for item in x:\n",
    "        mulll = mulll*item\n",
    "    return mulll\n",
    "print(list(map(mul1,list1)))"
   ]
  },
  {
   "cell_type": "code",
   "execution_count": null,
   "outputs": [],
   "source": [],
   "metadata": {
    "collapsed": false
   }
  }
 ],
 "metadata": {
  "kernelspec": {
   "display_name": "Python 3 (ipykernel)",
   "language": "python",
   "name": "python3"
  },
  "language_info": {
   "codemirror_mode": {
    "name": "ipython",
    "version": 3
   },
   "file_extension": ".py",
   "mimetype": "text/x-python",
   "name": "python",
   "nbconvert_exporter": "python",
   "pygments_lexer": "ipython3",
   "version": "3.9.13"
  }
 },
 "nbformat": 4,
 "nbformat_minor": 4
}
