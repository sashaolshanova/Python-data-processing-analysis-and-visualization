{
 "cells": [
  {
   "cell_type": "markdown",
   "metadata": {
    "id": "kiedYi78jBIe"
   },
   "source": [
    "# Exercise 1"
   ]
  },
  {
   "cell_type": "markdown",
   "metadata": {
    "id": "jk750WQLjBIm"
   },
   "source": [
    "An overview of basic concepts and commands in Python"
   ]
  },
  {
   "cell_type": "markdown",
   "metadata": {
    "id": "irTyVM38jBIn"
   },
   "source": [
    "# Slicing "
   ]
  },
  {
   "cell_type": "markdown",
   "metadata": {
    "id": "GGz6dRy7jBIo"
   },
   "source": [
    "Slicing outside the bounds of a sequence doesn't cause an error."
   ]
  },
  {
   "cell_type": "code",
   "execution_count": 2,
   "metadata": {
    "colab": {
     "base_uri": "https://localhost:8080/"
    },
    "id": "exXyYL4LjBIp",
    "outputId": "8cbb97f3-3acd-4077-e0b9-3fd0629154f2"
   },
   "outputs": [
    {
     "name": "stdout",
     "output_type": "stream",
     "text": [
      "string index out of range\n",
      "hel\n",
      "l\n"
     ]
    }
   ],
   "source": [
    "s = 'hello'\n",
    "\n",
    "# Indexing\n",
    "try :s[100]\n",
    "except Exception as e: print(e) #don't understand this \n",
    "\n",
    "# Slicing\n",
    "print(s[0:3])\n",
    "print(s[2:3])"
   ]
  },
  {
   "cell_type": "markdown",
   "metadata": {
    "id": "N84NZn1QjBIs"
   },
   "source": [
    "**Reverse slicing:** https://www.codingem.com/reverse-slicing-in-python/\n",
    "\n",
    "\n",
    "The direction is changed. \n",
    "\n",
    "Index 4 is 'o' but the direction of the moving through the string is right to left.\n",
    "\n",
    "\n"
   ]
  },
  {
   "cell_type": "code",
   "execution_count": 3,
   "metadata": {
    "colab": {
     "base_uri": "https://localhost:8080/"
    },
    "id": "dp6BzmTFjBIt",
    "outputId": "5e2740e2-c9c8-4b92-a0e4-c3884e6dc320"
   },
   "outputs": [
    {
     "name": "stdout",
     "output_type": "stream",
     "text": [
      "olle\n"
     ]
    }
   ],
   "source": [
    "s='hello'\n",
    "# We want to get 'olleh'\n",
    "print(s[4:0:-1]) # Not including 0 index ('h').\n",
    "#print(s[4:-1:-1]) "
   ]
  },
  {
   "cell_type": "code",
   "execution_count": 4,
   "metadata": {
    "colab": {
     "base_uri": "https://localhost:8080/"
    },
    "id": "BY6OytYSjBIu",
    "outputId": "36e3472c-a573-4584-a6c0-76c7ac7ae54a"
   },
   "outputs": [
    {
     "name": "stdout",
     "output_type": "stream",
     "text": [
      "ol\n"
     ]
    }
   ],
   "source": [
    "print(s[4:1:-2]) # Return ''. -1 is not on the left side of 4\n"
   ]
  },
  {
   "cell_type": "code",
   "execution_count": 5,
   "metadata": {
    "colab": {
     "base_uri": "https://localhost:8080/"
    },
    "id": "gIejjL1fjBIv",
    "outputId": "cac65e57-89ef-4e4a-d93e-d150ae0f8059"
   },
   "outputs": [
    {
     "name": "stdout",
     "output_type": "stream",
     "text": [
      "ol\n"
     ]
    }
   ],
   "source": [
    "print(s[:1:-2]) "
   ]
  },
  {
   "cell_type": "markdown",
   "metadata": {
    "id": "vxkTeXLJaux9"
   },
   "source": [
    "# Dictionary\n",
    "\n"
   ]
  },
  {
   "cell_type": "markdown",
   "metadata": {
    "id": "nLhrvQGvjYrV"
   },
   "source": [
    "Everything can be a value in a dictionary:"
   ]
  },
  {
   "cell_type": "code",
   "execution_count": 37,
   "metadata": {
    "id": "pv_hNJOSjnRK"
   },
   "outputs": [],
   "source": [
    "d = {'a': 1} # int\n",
    "d = {'a': 'b'} # str\n",
    "d = {'a': [1,2,3]} # list\n",
    "d = {'a': dict(c=1,d=2)} # dict\n",
    "\n",
    "from numpy import array\n",
    "d = {'a': array} # function\n",
    "\n",
    "\n"
   ]
  },
  {
   "cell_type": "markdown",
   "metadata": {
    "id": "BniolFcqjBI0"
   },
   "source": [
    "# **Can you sort a dictionary?**\n"
   ]
  },
  {
   "cell_type": "markdown",
   "metadata": {
    "id": "wXt3gJA0jBI1"
   },
   "source": [
    "**Answer: No! Because normal dictionaries are *mappings* not a sequence.**"
   ]
  },
  {
   "cell_type": "markdown",
   "metadata": {
    "id": "SY6onLyvjBI1"
   },
   "source": [
    "It is important to know that in dictionaries there is no order for items. Hence, no matter which order we put the items in, the dictionary will keep them in internal order and unknown of its own. \n",
    "Therefore, it is not possible to convert a dictionary to a list or a Tuple, whereas it is possible to convert a Tuple to a list\n",
    "for example.\n",
    "Finally, we can also get a list of tuples from the dictionary, with each tuple we get a pair of (value, key.) In the example of our capital cities:"
   ]
  },
  {
   "cell_type": "code",
   "execution_count": 38,
   "metadata": {
    "id": "o-uFIhJrjBI2"
   },
   "outputs": [],
   "source": [
    "cap = {} # create a dictionary \n",
    "cap['Israel'] = 'Jerusalem'\n",
    "cap['USA'] = 'Washington'\n",
    "cap['Russia'] = 'Moscow'\n",
    "cap['France'] = 'Paris'\n",
    "cap['England'] = 'London'\n",
    "cap['Italy'] = 'Rome'\n"
   ]
  },
  {
   "cell_type": "code",
   "execution_count": 39,
   "metadata": {
    "colab": {
     "base_uri": "https://localhost:8080/"
    },
    "id": "kYAC96BpjBI3",
    "outputId": "4d6cf4e3-6e02-420e-fd25-40d1c188c0b3"
   },
   "outputs": [
    {
     "data": {
      "text/plain": [
       "[('Israel', 'Jerusalem'),\n",
       " ('Italy', 'Rome'),\n",
       " ('USA', 'Washington'),\n",
       " ('France', 'Paris'),\n",
       " ('England', 'London'),\n",
       " ('Russia', 'Moscow')]"
      ]
     },
     "execution_count": 39,
     "metadata": {},
     "output_type": "execute_result"
    }
   ],
   "source": [
    "cap.items()\n",
    "[('Israel', 'Jerusalem'), ('Italy', 'Rome'), ('USA', 'Washington'), ('France',\n",
    "'Paris'), ('England', 'London'), ('Russia', 'Moscow')]"
   ]
  },
  {
   "cell_type": "markdown",
   "metadata": {
    "id": "JrZChKKEjBI5"
   },
   "source": [
    "Two dictionaries are equal if the corresponding values of all keys in both dictionaries are the same (if one dictionary has keys that the other doesn't, then the two are not equal). Thus:\n"
   ]
  },
  {
   "cell_type": "code",
   "execution_count": 42,
   "metadata": {
    "colab": {
     "base_uri": "https://localhost:8080/"
    },
    "id": "eaEr66oMjBI5",
    "outputId": "99e03092-42c0-47f8-c6cb-39a51be36c8d"
   },
   "outputs": [
    {
     "data": {
      "text/plain": [
       "False"
      ]
     },
     "execution_count": 42,
     "metadata": {},
     "output_type": "execute_result"
    }
   ],
   "source": [
    "\n",
    "{1:'a', 2:'b'} == {2:'a', 1:'a'}"
   ]
  },
  {
   "cell_type": "markdown",
   "metadata": {
    "id": "1BP8LwHSuYtD"
   },
   "source": [
    "If we sort the pointers we will destroy the mapping of the hash function"
   ]
  },
  {
   "cell_type": "code",
   "execution_count": 1,
   "metadata": {
    "colab": {
     "base_uri": "https://localhost:8080/"
    },
    "id": "BbVJ-4YajGN8",
    "outputId": "7f8258af-ad64-485d-863a-48814e92da98"
   },
   "outputs": [
    {
     "data": {
      "text/plain": [
       "dict_values([2, 4, 1])"
      ]
     },
     "execution_count": 1,
     "metadata": {},
     "output_type": "execute_result"
    }
   ],
   "source": [
    "d = dict(a=2, c=4, b=1)\n",
    "d.keys()# Printing the keys in order in the pointer and not necessarily in the order of the insertion.\n",
    "d.values()"
   ]
  },
  {
   "cell_type": "markdown",
   "metadata": {
    "id": "pZsYXytqgRMv"
   },
   "source": [
    "**Its important to note that dictionaries are very flexible in the data types they can hold. For example:**"
   ]
  },
  {
   "cell_type": "code",
   "execution_count": 7,
   "metadata": {
    "id": "ZjlMJlXjgRMv"
   },
   "outputs": [],
   "source": [
    "my_dict = {'key1':123,'key2':[12,23,33],'key3':['item0','item1','item2']}"
   ]
  },
  {
   "cell_type": "code",
   "execution_count": 8,
   "metadata": {
    "colab": {
     "base_uri": "https://localhost:8080/"
    },
    "id": "OL11_crJgRMy",
    "outputId": "de3df0ee-b1ce-467a-c968-f729cf0d25b2"
   },
   "outputs": [
    {
     "data": {
      "text/plain": [
       "['item0', 'item1', 'item2']"
      ]
     },
     "execution_count": 8,
     "metadata": {},
     "output_type": "execute_result"
    }
   ],
   "source": [
    "#Lets call items from the dictionary\n",
    "my_dict['key3']"
   ]
  },
  {
   "cell_type": "code",
   "execution_count": 9,
   "metadata": {
    "colab": {
     "base_uri": "https://localhost:8080/",
     "height": 35
    },
    "id": "HSI1wTvTgRM0",
    "outputId": "56ae2d5c-c0c3-4df2-87d4-94d05e65365a"
   },
   "outputs": [
    {
     "data": {
      "text/plain": [
       "33"
      ]
     },
     "execution_count": 9,
     "metadata": {},
     "output_type": "execute_result"
    }
   ],
   "source": [
    "# Can call an index on that value\n",
    "my_dict['key2'][2]"
   ]
  },
  {
   "cell_type": "code",
   "execution_count": 10,
   "metadata": {
    "colab": {
     "base_uri": "https://localhost:8080/",
     "height": 35
    },
    "id": "6S8aLjnEgRM1",
    "outputId": "6cb902ff-3da9-4cfd-ec29-2e91cc107032"
   },
   "outputs": [
    {
     "data": {
      "text/plain": [
       "'ITEM2'"
      ]
     },
     "execution_count": 10,
     "metadata": {},
     "output_type": "execute_result"
    }
   ],
   "source": [
    "#Can then even call methods on that value\n",
    "my_dict['key3'][2].upper() #letters are bigger "
   ]
  },
  {
   "cell_type": "markdown",
   "metadata": {
    "id": "F24X6h2FgRM2"
   },
   "source": [
    "We can effect the values of a key as well. For instance:"
   ]
  },
  {
   "cell_type": "code",
   "execution_count": 12,
   "metadata": {
    "colab": {
     "base_uri": "https://localhost:8080/"
    },
    "id": "R6fbH-JygRM3",
    "outputId": "458757db-d678-401d-cad9-7329a8aa3ae8"
   },
   "outputs": [
    {
     "data": {
      "text/plain": [
       "123"
      ]
     },
     "execution_count": 12,
     "metadata": {},
     "output_type": "execute_result"
    }
   ],
   "source": [
    "my_dict['key1']"
   ]
  },
  {
   "cell_type": "code",
   "execution_count": 13,
   "metadata": {
    "id": "kU6VGzxLgRM4"
   },
   "outputs": [],
   "source": [
    "# Subtract 123 from the value\n",
    "my_dict['key1'] = my_dict['key1'] - 12"
   ]
  },
  {
   "cell_type": "code",
   "execution_count": 14,
   "metadata": {
    "colab": {
     "base_uri": "https://localhost:8080/"
    },
    "id": "yQwjL9EtgRM6",
    "outputId": "3fb3fe8a-d2e5-49d3-876f-5e8fedcc1b2f"
   },
   "outputs": [
    {
     "data": {
      "text/plain": [
       "111"
      ]
     },
     "execution_count": 14,
     "metadata": {},
     "output_type": "execute_result"
    }
   ],
   "source": [
    "#Check\n",
    "my_dict['key1']"
   ]
  },
  {
   "cell_type": "code",
   "execution_count": null,
   "metadata": {
    "id": "LYrOYcvzu9XB"
   },
   "outputs": [],
   "source": []
  },
  {
   "cell_type": "markdown",
   "metadata": {
    "id": "YglX-EMUvwo7"
   },
   "source": [
    "# List vs Tuples"
   ]
  },
  {
   "cell_type": "markdown",
   "metadata": {
    "id": "fmo_c2KXzDBA"
   },
   "source": [
    "**In list**: Often, you will see that allocated can be greater than size. This is to avoid needing calling realloc each time a new elements is appended to the list."
   ]
  },
  {
   "cell_type": "code",
   "execution_count": 17,
   "metadata": {
    "colab": {
     "base_uri": "https://localhost:8080/"
    },
    "id": "QrmWp2YUjURP",
    "outputId": "ab8ce477-27d9-493a-db48-409ab7fcafd2"
   },
   "outputs": [
    {
     "name": "stdout",
     "output_type": "stream",
     "text": [
      "Size of list 120\n",
      "Size of tuple 64\n"
     ]
    }
   ],
   "source": [
    "import sys  # ???\n",
    "l = [1,2,3]\n",
    "t = (1, 2, 3)\n",
    "\n",
    "print('Size of list {}'.format(sys.getsizeof(l)))\n",
    "print('Size of tuple {}'.format(sys.getsizeof(t)))"
   ]
  },
  {
   "cell_type": "markdown",
   "metadata": {
    "id": "W9-HID45zK7C"
   },
   "source": [
    "*Deep copy list:*\n",
    "\n",
    "*Option 1:*"
   ]
  },
  {
   "cell_type": "code",
   "execution_count": 19,
   "metadata": {
    "colab": {
     "base_uri": "https://localhost:8080/"
    },
    "id": "s_6krC2bjZEK",
    "outputId": "0943beec-477c-4ef3-fc42-8e57c91a8afb"
   },
   "outputs": [
    {
     "name": "stdout",
     "output_type": "stream",
     "text": [
      "['new value', 2, 3]\n",
      "['new value', 2, 3]\n"
     ]
    }
   ],
   "source": [
    "l1 = [1,2,3] \n",
    "l2 = l1 #первый лист изменяется тоже\n",
    "l2[0] = 'new value'\n",
    "print(l1)\n",
    "print(l2)"
   ]
  },
  {
   "cell_type": "code",
   "execution_count": 20,
   "metadata": {
    "colab": {
     "base_uri": "https://localhost:8080/"
    },
    "id": "gfrVr5yvjBJI",
    "outputId": "ea0f1c6b-4f58-4472-cf06-8b48efa7b3f4"
   },
   "outputs": [
    {
     "name": "stdout",
     "output_type": "stream",
     "text": [
      "[1, 2, 3]\n",
      "['new value', 2, 3]\n"
     ]
    }
   ],
   "source": [
    "l1 = [1,2,3]\n",
    "l2 = list(l1) #deepcopy - первый лист не изменяется\n",
    "l2[0] = 'new value'\n",
    "print(l1)\n",
    "print(l2)"
   ]
  },
  {
   "cell_type": "markdown",
   "metadata": {
    "id": "SyKwxTmqzYg3"
   },
   "source": [
    "But with this way deeper levels are not copied:\n",
    "it doesn't save the first list\n"
   ]
  },
  {
   "cell_type": "code",
   "execution_count": 25,
   "metadata": {
    "colab": {
     "base_uri": "https://localhost:8080/"
    },
    "id": "n8EprxIljb7Z",
    "outputId": "7a1ccd22-7150-4d4d-ce6c-3a2648109fd2"
   },
   "outputs": [
    {
     "name": "stdout",
     "output_type": "stream",
     "text": [
      "[1, 2, [3]]\n",
      "[1, 'new value', [3]]\n",
      "False\n",
      "True\n"
     ]
    }
   ],
   "source": [
    "l1 = [1,2,[3]]\n",
    "l2 = list(l1) # deepcopy only one level\n",
    "l2[1] = 'new value' # [0] to make it a list \n",
    "print(l1) \n",
    "print(l2) \n",
    "print(l1 is l2) # Save elsewhere in memory\n",
    "print(l1[2] is l2[2])"
   ]
  },
  {
   "cell_type": "markdown",
   "metadata": {
    "id": "ujBSedqY0Nf0"
   },
   "source": [
    "*Deep copy list:*\n",
    "\n",
    "*Option 2:*"
   ]
  },
  {
   "cell_type": "code",
   "execution_count": 33,
   "metadata": {
    "colab": {
     "base_uri": "https://localhost:8080/"
    },
    "id": "VBc9nK0vjfTw",
    "outputId": "fbe7bf32-d9cd-4819-b9bb-1601751f232c"
   },
   "outputs": [
    {
     "name": "stdout",
     "output_type": "stream",
     "text": [
      "[1, 2, [3]]\n",
      "[1, 2, ['new value']]\n",
      "False\n",
      "False\n"
     ]
    }
   ],
   "source": [
    "from copy import deepcopy\n",
    "\n",
    "l1 = [1,2,[3]]\n",
    "l2 = deepcopy(l1) #после этой функции в лист можно вставлять только такие же переменные \n",
    "l2[2][0] = 'new value' #попробовать убрать [0]!!! без него не будет листом \n",
    "print(l1) \n",
    "print(l2)\n",
    "print(l1 is l2)\n",
    "print(l1[2] is l2[2])"
   ]
  },
  {
   "cell_type": "markdown",
   "metadata": {
    "id": "w6uGaVVe1w95"
   },
   "source": [
    "Magic: \"mutable\" tuple"
   ]
  },
  {
   "cell_type": "code",
   "execution_count": 35,
   "metadata": {
    "colab": {
     "base_uri": "https://localhost:8080/"
    },
    "id": "7hojcG7vjies",
    "outputId": "f826c07b-b892-4f75-d00d-a045f5d0d672"
   },
   "outputs": [
    {
     "name": "stdout",
     "output_type": "stream",
     "text": [
      "Tuple before (1, 2, ['a', 'b'])\n",
      "Tuple after (1, 2, ['a', 'с'])\n"
     ]
    }
   ],
   "source": [
    "l= ['a', 'b']\n",
    "t = (1, 2, l) # лист внутри переменной l \n",
    "print('Tuple before {}'.format(t))\n",
    "t[2][1] = 'с' # меняет значение второй переменной во вложенном листе \n",
    "print('Tuple after {}'.format(t))"
   ]
  },
  {
   "cell_type": "markdown",
   "metadata": {
    "id": "07YfEtbugRLR",
    "nbpresent": {
     "id": "309ec95a-9b74-424d-8805-862bd41b108e"
    }
   },
   "source": [
    "## Nesting Lists\n",
    "Python data structures support *nesting*. This means we can have data structures within data structures. For example: A list inside a list:"
   ]
  },
  {
   "cell_type": "code",
   "execution_count": 36,
   "metadata": {
    "id": "nWpI5J1-gRLS",
    "nbpresent": {
     "id": "22f675f8-37f2-4cf3-b724-603775297f67"
    }
   },
   "outputs": [],
   "source": [
    "# Let's make three lists\n",
    "lst_1=[1,2,3]\n",
    "lst_2=[4,5,6]\n",
    "lst_3=[7,8,9]\n",
    "\n",
    "# Make a list of lists to form a matrix\n",
    "matrix = [lst_1,lst_2,lst_3]"
   ]
  },
  {
   "cell_type": "code",
   "execution_count": 37,
   "metadata": {
    "colab": {
     "base_uri": "https://localhost:8080/"
    },
    "id": "eJd4jHpkgRLT",
    "nbpresent": {
     "id": "e3029fee-f510-49f1-8117-c53e8723b2f1"
    },
    "outputId": "82e0f444-d3ac-4470-fdce-5bc233d6838c"
   },
   "outputs": [
    {
     "data": {
      "text/plain": [
       "[[1, 2, 3], [4, 5, 6], [7, 8, 9]]"
      ]
     },
     "execution_count": 37,
     "metadata": {},
     "output_type": "execute_result"
    }
   ],
   "source": [
    "# Show\n",
    "matrix"
   ]
  },
  {
   "cell_type": "markdown",
   "metadata": {
    "id": "dbXNE9TBgRLU",
    "nbpresent": {
     "id": "b9da531c-a840-49df-a1fc-affd15f79f33"
    }
   },
   "source": [
    "Now we can again use indexing to grab elements, but now there are two levels for the index. The items in the matrix object, and then the items inside that list!"
   ]
  },
  {
   "cell_type": "code",
   "execution_count": 26,
   "metadata": {
    "colab": {
     "base_uri": "https://localhost:8080/"
    },
    "id": "_ZmmN8EHgRLV",
    "nbpresent": {
     "id": "aa5d0728-cb62-47b4-a171-4e735aaee176"
    },
    "outputId": "cf647dae-6a57-49c8-e47d-1905cd832f94"
   },
   "outputs": [
    {
     "data": {
      "text/plain": [
       "[1, 2, 3]"
      ]
     },
     "execution_count": 26,
     "metadata": {},
     "output_type": "execute_result"
    }
   ],
   "source": [
    "# Grab first item in matrix object\n",
    "matrix[0]"
   ]
  },
  {
   "cell_type": "code",
   "execution_count": 27,
   "metadata": {
    "colab": {
     "base_uri": "https://localhost:8080/"
    },
    "id": "fWCPsaX9gRLX",
    "nbpresent": {
     "id": "b0bb0f81-465e-4ee6-a4bd-e8f294395a55"
    },
    "outputId": "cf0bb076-143e-4048-fdcb-d566102c91fa"
   },
   "outputs": [
    {
     "data": {
      "text/plain": [
       "1"
      ]
     },
     "execution_count": 27,
     "metadata": {},
     "output_type": "execute_result"
    }
   ],
   "source": [
    "# Grab first item of the first item in the matrix object\n",
    "matrix[0][0] # первый элемент листа в листе "
   ]
  },
  {
   "cell_type": "code",
   "execution_count": null,
   "metadata": {
    "id": "b9se9grFjBJN"
   },
   "outputs": [],
   "source": []
  },
  {
   "cell_type": "markdown",
   "metadata": {
    "id": "HMOjt5UzjBJO"
   },
   "source": [
    "# Exercise 1:"
   ]
  },
  {
   "cell_type": "markdown",
   "metadata": {
    "id": "agTu98IvjBJO"
   },
   "source": [
    "Write a Python program to remove an item from a tuple:"
   ]
  },
  {
   "cell_type": "code",
   "execution_count": 47,
   "metadata": {
    "id": "GMm-IHxhjBJO",
    "outputId": "05b828aa-999b-47cf-b69c-1c24a05b861d"
   },
   "outputs": [
    {
     "name": "stdout",
     "output_type": "stream",
     "text": [
      "('w', 3, 'e')\n",
      "('w', 3, 'r', 's', 'u', 'r', 'c', 'e')\n",
      "('w', 3, 'r', 's', 'o', 'u', 'r', 'c', 'e')\n"
     ]
    }
   ],
   "source": [
    "tup = ('w', 3, 'r', 's', 'o', 'u', 'r', 'c', 'e')\n",
    "tup5=tup[:2] + tup[8:] # но таким способом нельзя удалить отдельные символы внутри \n",
    "print(tup5)\n",
    "list1 = list(tup)\n",
    "list1.remove('o')\n",
    "tup1 = tuple(list1)\n",
    "print (tup1)\n",
    "print (tup) "
   ]
  },
  {
   "cell_type": "markdown",
   "metadata": {
    "id": "v5nMNzDmjBJP"
   },
   "source": [
    "# Exercise 2:"
   ]
  },
  {
   "cell_type": "markdown",
   "metadata": {
    "id": "xg9ZSQgYjBJP"
   },
   "source": [
    "Write a Python program to concatenate following dictionaries to create a new one"
   ]
  },
  {
   "cell_type": "code",
   "execution_count": 51,
   "metadata": {
    "id": "7Z7of-IMjBJP"
   },
   "outputs": [],
   "source": [
    "dic1={1:10, 2:20}\n",
    "dic2={3:30, 4:40}\n",
    "dic3={5:50,6:60}\n",
    "dic4 = {}\n",
    "#{1: 10, 2: 20, 3: 30, 4: 40, 5: 50, 6: 60}"
   ]
  },
  {
   "cell_type": "code",
   "execution_count": 62,
   "metadata": {
    "id": "hl9v7iobjBJQ",
    "outputId": "a0da1d56-366c-4d75-d098-d72c8fdd43c7"
   },
   "outputs": [
    {
     "name": "stdout",
     "output_type": "stream",
     "text": [
      "{1: 10, 2: 20, 3: 30, 4: 40, 5: 50, 6: 60}\n"
     ]
    }
   ],
   "source": [
    "def merge (x,y,z):\n",
    "   p = x | y | z \n",
    "   return p\n",
    "dic1={1:10, 2:20}\n",
    "dic2={3:30, 4:40}\n",
    "dic3={5:50,6:60}\n",
    "dic4 = merge(dic1, dic2, dic3)\n",
    "print(dic4)\n",
    "#dic4 = {}  не работает!!!\n",
    "#for d in (dic1, dic2, dic3): dic4.update(d)\n",
    " #   print (dic4)"
   ]
  },
  {
   "cell_type": "markdown",
   "metadata": {
    "id": "PjozFMkajBJR"
   },
   "source": [
    "# Exercise 3:"
   ]
  },
  {
   "cell_type": "markdown",
   "metadata": {
    "id": "pjlAqvBYjBJS"
   },
   "source": [
    "Write a Python program to match key values in two dictionaries."
   ]
  },
  {
   "cell_type": "code",
   "execution_count": 1,
   "metadata": {
    "id": "2AsYTmD2jBJT"
   },
   "outputs": [],
   "source": [
    "x = {'key1': 1, 'key2': 3, 'key3': 2}\n",
    "y = {'key1': 1, 'key2': 2}"
   ]
  },
  {
   "cell_type": "code",
   "execution_count": 3,
   "metadata": {
    "id": "NNIxXn5KjBJT",
    "outputId": "17367db0-7b5a-4e21-d48f-3815164f61e6"
   },
   "outputs": [
    {
     "name": "stdout",
     "output_type": "stream",
     "text": [
      "key1: 1 is present in both x and y\n"
     ]
    }
   ],
   "source": [
    "for (key, value) in set(x.items()) & set(y.items()):\n",
    "    print('%s: %s is present in both x and y' % (key, value))\n",
    "    \n",
    "#Original String:\n",
    "#['Python', 'Exercises', 'Practice', 'Solution', 'Exercises']\n",
    "\n",
    "#After removing duplicate words from the said list of strings:\n",
    "#['Python', 'Exercises', 'Practice', 'Solution']"
   ]
  },
  {
   "cell_type": "markdown",
   "metadata": {
    "id": "P-36KLECjBJU"
   },
   "source": [
    "# Exercise 4:"
   ]
  },
  {
   "cell_type": "markdown",
   "metadata": {
    "id": "m8ZZ9KnojBJU"
   },
   "source": [
    " Write a Python program to remove duplicate words from a given list of strings"
   ]
  },
  {
   "cell_type": "code",
   "execution_count": 73,
   "metadata": {
    "id": "bKVCgA1SjBJV",
    "outputId": "481224cc-f26d-4008-d599-5d5ed0d941af"
   },
   "outputs": [
    {
     "name": "stdout",
     "output_type": "stream",
     "text": [
      "['Python', 'Exercises', 'Practice', 'Solution']\n"
     ]
    },
    {
     "data": {
      "text/plain": [
       "['Python', 'Exercises', 'Practice', 'Solution']"
      ]
     },
     "execution_count": 73,
     "metadata": {},
     "output_type": "execute_result"
    }
   ],
   "source": [
    "def list1(l):\n",
    "    temp = []\n",
    "    for x in l:\n",
    "        if x not in temp:\n",
    "            temp.append(x)\n",
    "    return temp\n",
    "\n",
    "p = ['Python', 'Exercises', 'Practice', 'Solution', 'Exercises']\n",
    "print (list1(p))\n",
    "\n",
    "#After removing duplicate words from the said list of strings:\n",
    "['Python', 'Exercises', 'Practice', 'Solution']"
   ]
  },
  {
   "cell_type": "markdown",
   "metadata": {
    "id": "qpXR-DkPjBJV"
   },
   "source": [
    "# list.sort()"
   ]
  },
  {
   "cell_type": "markdown",
   "metadata": {
    "id": "4Z7IWRIyjBJW"
   },
   "source": [
    "**Python lists have a built-in list.sort() method that modifies the list in-place. There is also a sorted() built-in function that builds a new sorted list from an iterable.**"
   ]
  },
  {
   "cell_type": "markdown",
   "metadata": {
    "id": "lJHttnbRjBJW"
   },
   "source": [
    "**list.sort()** method modifies the list in-place (and returns None to avoid confusion). Usually it’s less convenient than sorted() - but if you don’t need the original list, it’s slightly more efficient."
   ]
  },
  {
   "cell_type": "markdown",
   "metadata": {
    "id": "o9P4dAMdjBJX"
   },
   "source": [
    "The **list.sort()** method is only defined for **lists**. In contrast, the **sorted()** function accepts any iterable."
   ]
  },
  {
   "cell_type": "code",
   "execution_count": 1,
   "metadata": {
    "colab": {
     "base_uri": "https://localhost:8080/"
    },
    "id": "-cGr9L2DjBJX",
    "outputId": "60fce82c-f617-446d-ba7a-700d918615f4"
   },
   "outputs": [
    {
     "data": {
      "text/plain": [
       "[1, 2, 3, 4, 5]"
      ]
     },
     "execution_count": 1,
     "metadata": {},
     "output_type": "execute_result"
    }
   ],
   "source": [
    "sorted([5, 2, 3, 1, 4])"
   ]
  },
  {
   "cell_type": "code",
   "execution_count": 2,
   "metadata": {
    "colab": {
     "base_uri": "https://localhost:8080/"
    },
    "id": "xH-PSpmVjBJX",
    "outputId": "27ba2ad6-bf24-44f2-a9bd-f5b6407d7fcd"
   },
   "outputs": [
    {
     "data": {
      "text/plain": [
       "[1, 2, 3, 4, 5]"
      ]
     },
     "execution_count": 2,
     "metadata": {},
     "output_type": "execute_result"
    }
   ],
   "source": [
    "a = [5, 2, 3, 1, 4]\n",
    "a.sort()\n",
    "a"
   ]
  },
  {
   "cell_type": "markdown",
   "metadata": {
    "id": "Oapb6V2SjBJY"
   },
   "source": [
    "Sorted() function accepts any iterable."
   ]
  },
  {
   "cell_type": "code",
   "execution_count": 32,
   "metadata": {
    "colab": {
     "base_uri": "https://localhost:8080/"
    },
    "id": "fFDFbZBqjBJY",
    "outputId": "771f72cb-bec1-4f91-86f9-affb2016ef1f"
   },
   "outputs": [
    {
     "data": {
      "text/plain": [
       "[1, 2, 3, 4, 5]"
      ]
     },
     "execution_count": 32,
     "metadata": {},
     "output_type": "execute_result"
    }
   ],
   "source": [
    "sorted({1: 'D', 2: 'B', 3: 'B', 4: 'E', 5: 'A'})\n",
    "[1, 2, 3, 4, 5]"
   ]
  },
  {
   "cell_type": "markdown",
   "metadata": {
    "id": "jxF5BkOCjBJZ"
   },
   "source": [
    "Both **list.sort()** and **sorted()** have a key parameter to specify a function (or other callable) to be called on each list element prior to making comparisons."
   ]
  },
  {
   "cell_type": "code",
   "execution_count": 33,
   "metadata": {
    "id": "EJvucf_NjBJa"
   },
   "outputs": [],
   "source": [
    "student_tuples = [\n",
    "    ('john', 'A', 15),\n",
    "    ('jane', 'B', 12),\n",
    "    ('dave', 'B', 10),]"
   ]
  },
  {
   "cell_type": "markdown",
   "metadata": {
    "id": "_APbg6mFjBJb"
   },
   "source": [
    "Sort by age:"
   ]
  },
  {
   "cell_type": "code",
   "execution_count": 34,
   "metadata": {
    "colab": {
     "base_uri": "https://localhost:8080/"
    },
    "id": "ovXDb3RqjBJb",
    "outputId": "8c7237f1-cdfd-409e-c293-c752026b9df4"
   },
   "outputs": [
    {
     "data": {
      "text/plain": [
       "[('dave', 'B', 10), ('jane', 'B', 12), ('john', 'A', 15)]"
      ]
     },
     "execution_count": 34,
     "metadata": {},
     "output_type": "execute_result"
    }
   ],
   "source": [
    "sorted(student_tuples, key=lambda student: student[2]) "
   ]
  },
  {
   "cell_type": "markdown",
   "metadata": {
    "id": "nrBaJsxogROm"
   },
   "source": [
    "## Range()"
   ]
  },
  {
   "cell_type": "code",
   "execution_count": 35,
   "metadata": {
    "colab": {
     "base_uri": "https://localhost:8080/"
    },
    "id": "aLGw2DWegROm",
    "outputId": "61f5254a-efd2-4a01-ac81-ff686d431a76"
   },
   "outputs": [
    {
     "data": {
      "text/plain": [
       "range(0, 5)"
      ]
     },
     "execution_count": 35,
     "metadata": {},
     "output_type": "execute_result"
    }
   ],
   "source": [
    "range(5)"
   ]
  },
  {
   "cell_type": "code",
   "execution_count": 36,
   "metadata": {
    "colab": {
     "base_uri": "https://localhost:8080/"
    },
    "id": "QJNZWaXagROn",
    "outputId": "f3df9616-15d5-4a7a-951a-775a626342e7"
   },
   "outputs": [
    {
     "name": "stdout",
     "output_type": "stream",
     "text": [
      "0\n",
      "1\n",
      "2\n",
      "3\n",
      "4\n"
     ]
    }
   ],
   "source": [
    "for i in range(5):\n",
    "    print(i)"
   ]
  },
  {
   "cell_type": "code",
   "execution_count": 37,
   "metadata": {
    "colab": {
     "base_uri": "https://localhost:8080/"
    },
    "id": "s0Ih8uW7jrSZ",
    "outputId": "78ee6c1c-56b2-4123-b2b2-f78258c6fd72"
   },
   "outputs": [
    {
     "data": {
      "text/plain": [
       "range(0, 10)"
      ]
     },
     "execution_count": 37,
     "metadata": {},
     "output_type": "execute_result"
    }
   ],
   "source": [
    "range(0,10)"
   ]
  },
  {
   "cell_type": "code",
   "execution_count": 38,
   "metadata": {
    "colab": {
     "base_uri": "https://localhost:8080/"
    },
    "id": "tspcQBhojt7x",
    "outputId": "b39f5a79-08fd-4098-ba63-36a1b7a02866"
   },
   "outputs": [
    {
     "data": {
      "text/plain": [
       "range"
      ]
     },
     "execution_count": 38,
     "metadata": {},
     "output_type": "execute_result"
    }
   ],
   "source": [
    "x =range(0,10)\n",
    "type(x)"
   ]
  },
  {
   "cell_type": "code",
   "execution_count": 39,
   "metadata": {
    "id": "jJnrnEHLjx14"
   },
   "outputs": [],
   "source": [
    "start = 0 #Default\n",
    "stop = 20 \n",
    "x = range(start,stop)"
   ]
  },
  {
   "cell_type": "code",
   "execution_count": 40,
   "metadata": {
    "colab": {
     "base_uri": "https://localhost:8080/"
    },
    "id": "lVvqVVMjjzjG",
    "outputId": "debc0bda-97e9-47fc-ed8a-b38494b72db0"
   },
   "outputs": [
    {
     "data": {
      "text/plain": [
       "range(0, 20)"
      ]
     },
     "execution_count": 40,
     "metadata": {},
     "output_type": "execute_result"
    }
   ],
   "source": [
    "x"
   ]
  },
  {
   "cell_type": "markdown",
   "metadata": {
    "id": "xt0xOxDwgROs"
   },
   "source": [
    " Notice how it went *up to* 20, but doesn't actually produce 20. Just like in indexing. \n",
    " **Step size:** We can specify that as a third argument:"
   ]
  },
  {
   "cell_type": "code",
   "execution_count": 41,
   "metadata": {
    "id": "QTa_92pMjBJi"
   },
   "outputs": [],
   "source": [
    "x = range(start,stop,2)"
   ]
  },
  {
   "cell_type": "code",
   "execution_count": 42,
   "metadata": {
    "colab": {
     "base_uri": "https://localhost:8080/"
    },
    "id": "6LkiNK0Tj341",
    "outputId": "654585e1-17c4-41ba-ab69-c3c7f5041c0f"
   },
   "outputs": [
    {
     "data": {
      "text/plain": [
       "[0, 2, 4, 6, 8, 10, 12, 14, 16, 18]"
      ]
     },
     "execution_count": 42,
     "metadata": {},
     "output_type": "execute_result"
    }
   ],
   "source": [
    "#Show\n",
    "x=list(range(0,20,2))\n",
    "x"
   ]
  },
  {
   "cell_type": "code",
   "execution_count": 43,
   "metadata": {
    "colab": {
     "base_uri": "https://localhost:8080/"
    },
    "id": "Lo4DKQlWgROt",
    "outputId": "7053c49f-afa7-4496-c0bf-2b5d40f82560"
   },
   "outputs": [
    {
     "data": {
      "text/plain": [
       "[0, 1, 2, 3, 4]"
      ]
     },
     "execution_count": 43,
     "metadata": {},
     "output_type": "execute_result"
    }
   ],
   "source": [
    "list(range(5))"
   ]
  },
  {
   "cell_type": "code",
   "execution_count": null,
   "metadata": {
    "id": "6F0UkqpZjBJu"
   },
   "outputs": [],
   "source": []
  },
  {
   "cell_type": "markdown",
   "metadata": {
    "id": "41KpoPuMjBJu"
   },
   "source": [
    "# Part 2"
   ]
  },
  {
   "cell_type": "markdown",
   "metadata": {
    "id": "OJPPKy6-jBJv"
   },
   "source": [
    "# Set"
   ]
  },
  {
   "cell_type": "markdown",
   "metadata": {
    "id": "zRSSZONajBJv"
   },
   "source": [
    "A set is like a list, except that the same item cannot be stored twice. To create a group from a list of items use curly braces:"
   ]
  },
  {
   "cell_type": "code",
   "execution_count": 44,
   "metadata": {
    "colab": {
     "base_uri": "https://localhost:8080/"
    },
    "id": "CGaxcOiCjBJv",
    "outputId": "6da9b8fb-7c2f-418b-9a31-0c89012c8e22"
   },
   "outputs": [
    {
     "data": {
      "text/plain": [
       "{1, 2, 3}"
      ]
     },
     "execution_count": 44,
     "metadata": {},
     "output_type": "execute_result"
    }
   ],
   "source": [
    "x = {1, 2, 3}\n",
    "x\n",
    "#set([1, 2, 3])"
   ]
  },
  {
   "cell_type": "markdown",
   "metadata": {
    "id": "mCZjp9WHjBJw"
   },
   "source": [
    "We can add items to the group, and if we try to add a item that already exists in the group, nothing will happen:"
   ]
  },
  {
   "cell_type": "code",
   "execution_count": 45,
   "metadata": {
    "colab": {
     "base_uri": "https://localhost:8080/"
    },
    "id": "K79S93hBjBJw",
    "outputId": "4aefb04f-9eaf-4598-eb4a-d17d28d693a2"
   },
   "outputs": [
    {
     "data": {
      "text/plain": [
       "{1, 2, 3, 4}"
      ]
     },
     "execution_count": 45,
     "metadata": {},
     "output_type": "execute_result"
    }
   ],
   "source": [
    "x.add(2)\n",
    "x.add(3)\n",
    "x.add(4)\n",
    "x.add(4)\n",
    "#set([1, 2, 3, 4])\n",
    "x"
   ]
  },
  {
   "cell_type": "markdown",
   "metadata": {
    "id": "BNKvE4zYjBJx"
   },
   "source": [
    "You can create an impressive group or an existing tuple, and thus get the same list without duplicates:"
   ]
  },
  {
   "cell_type": "code",
   "execution_count": 46,
   "metadata": {
    "colab": {
     "base_uri": "https://localhost:8080/"
    },
    "id": "yctGYrSSjBJx",
    "outputId": "8b477751-307f-4449-be03-2ad781312eb4"
   },
   "outputs": [
    {
     "data": {
      "text/plain": [
       "{1, 2, 3, 4, 6, 9}"
      ]
     },
     "execution_count": 46,
     "metadata": {},
     "output_type": "execute_result"
    }
   ],
   "source": [
    "w = [1, 1, 1, 2, 3, 9, 2, 4, 3, 6]\n",
    "set(w)"
   ]
  },
  {
   "cell_type": "code",
   "execution_count": null,
   "metadata": {
    "id": "pvzTtGaRjBJy"
   },
   "outputs": [],
   "source": []
  },
  {
   "cell_type": "markdown",
   "metadata": {
    "id": "4kfKUvkajBJ0"
   },
   "source": [
    "# Function"
   ]
  },
  {
   "cell_type": "markdown",
   "metadata": {
    "id": "iL0PmwHmjBJ1"
   },
   "source": [
    "A function is a block of code which only runs when it is called.\n",
    "\n",
    "You can pass data, known as parameters, into a function.\n",
    "\n",
    "A function can return data as a result."
   ]
  },
  {
   "cell_type": "code",
   "execution_count": 47,
   "metadata": {
    "id": "KBLcxax5jBJ2"
   },
   "outputs": [],
   "source": [
    "def func():\n",
    "     print (\"I am a function\")"
   ]
  },
  {
   "cell_type": "code",
   "execution_count": 48,
   "metadata": {
    "colab": {
     "base_uri": "https://localhost:8080/"
    },
    "id": "aR4uIABwjBJ3",
    "outputId": "75dfda53-9a9c-408d-ee8c-b13451d78244"
   },
   "outputs": [
    {
     "name": "stdout",
     "output_type": "stream",
     "text": [
      "I am a function\n"
     ]
    }
   ],
   "source": [
    "func()"
   ]
  },
  {
   "cell_type": "code",
   "execution_count": 49,
   "metadata": {
    "id": "6gk0LTUkjBJ3"
   },
   "outputs": [],
   "source": [
    "def mol_gas(p, v, t):\n",
    "    \"\"\" This function calculates the moles of a gas\n",
    "    under a pressure (p, [atm]), of a volume (v [L])\n",
    "    in a certian tempurtue (t [K])\n",
    "    \"\"\"\n",
    "    r = 0.082 # L atm / (mol K)\n",
    "    #PV = nRT\n",
    "    n = (p * v) / (r * t )\n",
    "    return n"
   ]
  },
  {
   "cell_type": "code",
   "execution_count": 50,
   "metadata": {
    "colab": {
     "base_uri": "https://localhost:8080/"
    },
    "id": "2LaSzN_5jBJ4",
    "outputId": "ff30e4fc-cd6f-4369-b7b7-db5cd518f5fa"
   },
   "outputs": [
    {
     "data": {
      "text/plain": [
       "0.4065040650406504"
      ]
     },
     "execution_count": 50,
     "metadata": {},
     "output_type": "execute_result"
    }
   ],
   "source": [
    "result = mol_gas(1, 1, 30)\n",
    "result"
   ]
  },
  {
   "cell_type": "code",
   "execution_count": null,
   "metadata": {
    "id": "x7hEP5LljBJ4"
   },
   "outputs": [],
   "source": []
  },
  {
   "cell_type": "markdown",
   "metadata": {
    "id": "jC9S813YjBJ5"
   },
   "source": [
    "# Lambda"
   ]
  },
  {
   "cell_type": "markdown",
   "metadata": {
    "id": "GLZpcmYdjBJ8"
   },
   "source": [
    "A lambda function is a small anonymous function, it can take any number of arguments, but can only have one expression.\n",
    "\n",
    "Syntax:\n",
    "\n",
    "lambda arguments : expression\n",
    "\n",
    "The expression is executed and the result is returned"
   ]
  },
  {
   "cell_type": "markdown",
   "metadata": {
    "id": "M1XRW3_FjBJ8"
   },
   "source": [
    "**Pros:**\n",
    "1. Good for simple logical operations that are easy to understand.    This makes the code more readable too.\n",
    "2. Good when you want a function that you will use just one time.\n",
    "\n",
    "\n",
    "**Cons:**\n",
    "1. They can only perform one expression. It’s not possible to have    multiple independent operations in one lambda function.\n",
    "2. Bad for operations that would span more than one line in a        normal def function (For example nested conditional      operations). If you need a minute or two to understand the code, use a named function instead.\n",
    "3. Bad because you can’t write a doc-string to explain all the inputs, operations, and outputs as you would in a normal def function."
   ]
  },
  {
   "cell_type": "code",
   "execution_count": 51,
   "metadata": {
    "colab": {
     "base_uri": "https://localhost:8080/"
    },
    "id": "5VX7aL_2jBJ9",
    "outputId": "35e16d77-1751-49e9-fd87-fa733e10dcce"
   },
   "outputs": [
    {
     "name": "stdout",
     "output_type": "stream",
     "text": [
      "30\n"
     ]
    }
   ],
   "source": [
    "x = lambda a, b : a * b\n",
    "print(x(5, 6))"
   ]
  },
  {
   "cell_type": "code",
   "execution_count": 52,
   "metadata": {
    "id": "N0uRHMyjjBJ-"
   },
   "outputs": [],
   "source": [
    "sqr_fun = lambda x: x * x"
   ]
  },
  {
   "cell_type": "code",
   "execution_count": 53,
   "metadata": {
    "colab": {
     "base_uri": "https://localhost:8080/"
    },
    "id": "3jE5AbjajBJ-",
    "outputId": "89022c07-cee6-4e69-828a-a09168ae945e"
   },
   "outputs": [
    {
     "name": "stdout",
     "output_type": "stream",
     "text": [
      "4\n"
     ]
    }
   ],
   "source": [
    "print(sqr_fun(2))"
   ]
  },
  {
   "cell_type": "markdown",
   "metadata": {
    "id": "ME7PoqgRjBJ_"
   },
   "source": [
    "# Map, reduce, filter"
   ]
  },
  {
   "cell_type": "markdown",
   "metadata": {
    "id": "Yt2DEjuejBJ_"
   },
   "source": [
    "When we have a list of objects we will probably go through it with the help of a loop. So that our code does not extend from identical loops that do the same job over and over again, the map, reduce and filter functions were created.\n",
    "These three functions are built-in functions within Python, the whole purpose of which is to take a list (or Tuple), run a function on its members and produce output appropriate.\n",
    "All this is done by calling one function on the list."
   ]
  },
  {
   "cell_type": "markdown",
   "metadata": {
    "id": "HdXUui5UjBKA"
   },
   "source": [
    "# Map"
   ]
  },
  {
   "cell_type": "markdown",
   "metadata": {
    "id": "MLeqSlSajBKA"
   },
   "source": [
    "**map()** function returns a map object(which is an iterator) of the results after applying the given function to each item of a given iterable (list, tuple etc.)\n",
    "\n",
    "Syntax :\n",
    "\n",
    "**map(fun, iter)**\n",
    "Parameters :\n",
    "\n",
    "fun : It is a function to which map passes each element of given iterable.\n",
    "\n",
    "iter : It is a iterable which is to be mapped."
   ]
  },
  {
   "cell_type": "markdown",
   "metadata": {
    "id": "q97crT6DjBKA"
   },
   "source": [
    "**Without using lambdas**"
   ]
  },
  {
   "cell_type": "markdown",
   "metadata": {
    "id": "wRmbDtMPjBKB"
   },
   "source": [
    "**Map() on range:**"
   ]
  },
  {
   "cell_type": "code",
   "execution_count": 54,
   "metadata": {
    "id": "9m5drN_7jBKB"
   },
   "outputs": [],
   "source": [
    "def func(x):\n",
    "    return x * 2\n"
   ]
  },
  {
   "cell_type": "code",
   "execution_count": 55,
   "metadata": {
    "colab": {
     "base_uri": "https://localhost:8080/"
    },
    "id": "AjYd5T99jBKC",
    "outputId": "6b20564b-ded2-498b-f9d6-3abdd5a17dde"
   },
   "outputs": [
    {
     "data": {
      "text/plain": [
       "[2, 4, 6, 8, 10, 12, 14, 16, 18, 20]"
      ]
     },
     "execution_count": 55,
     "metadata": {},
     "output_type": "execute_result"
    }
   ],
   "source": [
    "x=list(map(func, range (1,11)))\n",
    "x"
   ]
  },
  {
   "cell_type": "markdown",
   "metadata": {
    "id": "shMFow9VjBKC"
   },
   "source": [
    "Another example:"
   ]
  },
  {
   "cell_type": "code",
   "execution_count": 56,
   "metadata": {
    "colab": {
     "base_uri": "https://localhost:8080/"
    },
    "id": "-OGfJVbcjBKF",
    "outputId": "7f81a65f-446e-489d-e17c-f6270cf98bdb"
   },
   "outputs": [
    {
     "name": "stdout",
     "output_type": "stream",
     "text": [
      "[True, False, False, True, False]\n"
     ]
    }
   ],
   "source": [
    "def starts_with_A(s):\n",
    "    return s[0] == \"A\"\n",
    "\n",
    "fruit = [\"Apple\", \"Banana\", \"Pear\", \"Apricot\", \"Orange\"]\n",
    "map_object = map(starts_with_A, fruit)\n",
    "\n",
    "print(list(map_object))"
   ]
  },
  {
   "cell_type": "markdown",
   "metadata": {
    "id": "F1DdiDbojBKG"
   },
   "source": [
    "A prettier way to do this exact same thing is by using lambdas:"
   ]
  },
  {
   "cell_type": "code",
   "execution_count": 1,
   "metadata": {
    "colab": {
     "base_uri": "https://localhost:8080/"
    },
    "id": "lcNig5VqjBKH",
    "outputId": "5e46cf16-b472-4af5-c425-9f0f67993135"
   },
   "outputs": [
    {
     "name": "stdout",
     "output_type": "stream",
     "text": [
      "[True, False, False, True, False]\n"
     ]
    }
   ],
   "source": [
    "fruit = [\"Apple\", \"Banana\", \"Pear\", \"Apricot\", \"Orange\"]\n",
    "map_object = map(lambda s: s[0] == \"A\", fruit)\n",
    "\n",
    "print(list(map_object))"
   ]
  },
  {
   "cell_type": "code",
   "execution_count": null,
   "metadata": {},
   "outputs": [],
   "source": []
  },
  {
   "cell_type": "markdown",
   "metadata": {
    "id": "iiuTs3cijBKI"
   },
   "source": [
    "# Reduce"
   ]
  },
  {
   "cell_type": "markdown",
   "metadata": {
    "id": "Y7i2grm_jBKI"
   },
   "source": [
    "The **reduce(fun,seq)** function is used to apply a particular function passed in its argument to all of the list elements mentioned in the sequence passed along.This function is defined in “functools” module. \n",
    "\n",
    "At first step, first two elements of sequence are picked and the result is obtained.\n",
    "\n",
    "Next step is to apply the same function to the previously attained result and the number just succeeding the second element and the result is again stored.\n",
    "\n",
    "This process continues till no more elements are left in the container.\n",
    "The final returned result is returned and printed on console."
   ]
  },
  {
   "cell_type": "code",
   "execution_count": 58,
   "metadata": {
    "colab": {
     "base_uri": "https://localhost:8080/"
    },
    "id": "d4rKaDW9jBKJ",
    "outputId": "b59d0e1d-95a7-420f-b83c-fa20d23f5044"
   },
   "outputs": [
    {
     "name": "stdout",
     "output_type": "stream",
     "text": [
      "The sum of the list elements is : 29\n",
      "The maximum element of the list is : 10\n"
     ]
    }
   ],
   "source": [
    "# importing functools for reduce()\n",
    "from functools import reduce\n",
    " \n",
    "# initializing list\n",
    "lis = [1, 2, 5, 8, 3, 10]\n",
    " \n",
    "# using reduce to compute sum of list\n",
    "print(\"The sum of the list elements is : \", end=\"\")\n",
    "# print(functools.reduce(lambda a, b: a+b, lis))\n",
    "print(reduce(lambda a, b: a+b, lis))\n",
    " \n",
    "# using reduce to compute maximum element from list\n",
    "print(\"The maximum element of the list is : \", end=\"\")\n",
    "print(reduce(lambda a, b: a if a > b else b, lis))"
   ]
  },
  {
   "cell_type": "code",
   "execution_count": 57,
   "metadata": {
    "id": "rKhL-RzFjBKK"
   },
   "outputs": [],
   "source": []
  },
  {
   "cell_type": "code",
   "execution_count": 59,
   "metadata": {
    "id": "Yd9wMGiyjBKL"
   },
   "outputs": [],
   "source": [
    "def func(x, y):\n",
    "    return x + y"
   ]
  },
  {
   "cell_type": "code",
   "execution_count": 60,
   "metadata": {
    "colab": {
     "base_uri": "https://localhost:8080/"
    },
    "id": "vEsWVG_jjBKL",
    "outputId": "45d4451b-6cb6-40ad-bdf5-2b1187a4d005"
   },
   "outputs": [
    {
     "data": {
      "text/plain": [
       "55"
      ]
     },
     "execution_count": 60,
     "metadata": {},
     "output_type": "execute_result"
    }
   ],
   "source": [
    "reduce(func, range(1, 11))"
   ]
  },
  {
   "cell_type": "markdown",
   "metadata": {
    "id": "NoejnrsijBKM"
   },
   "source": [
    "# Filter"
   ]
  },
  {
   "cell_type": "markdown",
   "metadata": {
    "id": "ThsKxj2ljBKN"
   },
   "source": [
    "**filter(function, iterable)**\n",
    "\n",
    "Offers an elegant way to filter out all the elements of an iterable, for which the function function returns True. i.e. an item will be produced by the iterator result of filter(function, iterable) if item is included in the sequence \"iterable\" and if function(item) returns **True**.\n",
    "\n",
    "In other words: The function filter(f,l) needs a function f as its first argument. f has to return a Boolean value, i.e. either True or False. This function will be applied to every element of the list l. Only if f returns True will the element be produced by the iterator, which is the return value of filter(function, sequence)."
   ]
  },
  {
   "cell_type": "code",
   "execution_count": 61,
   "metadata": {
    "id": "TzMy7sG7jBKN"
   },
   "outputs": [],
   "source": [
    "\n",
    "# function that filters vowels\n",
    "def fun(variable):\n",
    "    letters = ['a', 'e', 'i', 'o', 'u']\n",
    "    if (variable in letters):\n",
    "        return True\n",
    "    else:\n",
    "        return False\n"
   ]
  },
  {
   "cell_type": "code",
   "execution_count": 62,
   "metadata": {
    "id": "9LquGGTljBKO"
   },
   "outputs": [],
   "source": [
    "# sequence\n",
    "sequence = ['g', 'e', 'e', 'j', 'k', 's', 'p', 'r']"
   ]
  },
  {
   "cell_type": "code",
   "execution_count": 63,
   "metadata": {
    "colab": {
     "base_uri": "https://localhost:8080/"
    },
    "id": "n9JTpK4qjBKO",
    "outputId": "d3e986bd-490b-4f79-ceb9-a606fdda4cf2"
   },
   "outputs": [
    {
     "name": "stdout",
     "output_type": "stream",
     "text": [
      "The filtered letters are:\n",
      "e\n",
      "e\n"
     ]
    }
   ],
   "source": [
    "  \n",
    "# using filter function\n",
    "filtered = filter(fun, sequence)\n",
    "  \n",
    "print('The filtered letters are:')\n",
    "for s in filtered:\n",
    "    print(s)"
   ]
  },
  {
   "cell_type": "markdown",
   "metadata": {
    "id": "HWpHZ9A_jBKP"
   },
   "source": [
    "**Filter() with a lambda:**"
   ]
  },
  {
   "cell_type": "code",
   "execution_count": 4,
   "metadata": {
    "colab": {
     "base_uri": "https://localhost:8080/"
    },
    "id": "_4aASCuVjBKP",
    "outputId": "5d70fc52-593a-4aad-d4ab-6312d1606502"
   },
   "outputs": [
    {
     "name": "stdout",
     "output_type": "stream",
     "text": [
      "['Nitrogen', 'Nickel']\n"
     ]
    }
   ],
   "source": [
    "Chemical_element = [\"Iron\", \"Nitrogen\", \"Silicon\", \"Sulfur\", \"Potassium\", \"Nickel\"]\n",
    "\n",
    "filter_object = filter(lambda s: s[0] == \"N\", Chemical_element)\n",
    "\n",
    "print(list(filter_object))"
   ]
  },
  {
   "cell_type": "markdown",
   "metadata": {
    "id": "WLpqioLDjBKQ"
   },
   "source": [
    "# Exercise 5 :"
   ]
  },
  {
   "cell_type": "markdown",
   "metadata": {
    "id": "B89nuxz7jBKR"
   },
   "source": [
    "1. Write a function that calculates the number of mass given moles and molar mass (m = n* Mw)"
   ]
  },
  {
   "cell_type": "code",
   "execution_count": null,
   "metadata": {
    "id": "dA-0sMdbjBKS"
   },
   "outputs": [],
   "source": []
  },
  {
   "cell_type": "markdown",
   "metadata": {
    "id": "tNj0b9E1jBKS"
   },
   "source": [
    "2. Write a function that calculates the mass given the volume and density (d * v = m)"
   ]
  },
  {
   "cell_type": "code",
   "execution_count": null,
   "metadata": {
    "id": "W6SuRvQNjBKS"
   },
   "outputs": [],
   "source": []
  },
  {
   "cell_type": "markdown",
   "metadata": {
    "id": "wTvc180njBKT"
   },
   "source": [
    "3. Use the previous two functions to write a function that calculates the moles if the molar mass, volume and density are given"
   ]
  },
  {
   "cell_type": "code",
   "execution_count": null,
   "metadata": {
    "id": "7ot8AVQpjBKV"
   },
   "outputs": [],
   "source": []
  },
  {
   "cell_type": "markdown",
   "metadata": {
    "id": "46ZxMp_cjBKW"
   },
   "source": [
    "# Exercise 6 :"
   ]
  },
  {
   "cell_type": "markdown",
   "metadata": {
    "id": "PzJzLW71jBKW"
   },
   "source": [
    "Write a code that gets a state (gas (G), solid (S) or liquid (L)).\n",
    "\n",
    "Depending on the state, the code will request additional data to calculate the number of moles:\n",
    "\n",
    "If gas - provide P, V, T R = 0.082\n",
    "If liquid - d, V, Mw\n",
    "If solid - provide m, Mw\n",
    "\n",
    "Use the functions you wrote already."
   ]
  },
  {
   "cell_type": "code",
   "execution_count": null,
   "metadata": {
    "id": "ru1ujhlVjBKX"
   },
   "outputs": [],
   "source": []
  },
  {
   "cell_type": "markdown",
   "metadata": {
    "id": "bjsF6L2ZjBKX"
   },
   "source": [
    "# Exercise 7 :"
   ]
  },
  {
   "cell_type": "markdown",
   "metadata": {
    "id": "lDxJQ5pZjBKX"
   },
   "source": [
    "Write a Python program convert a given string list to a tuple."
   ]
  },
  {
   "cell_type": "markdown",
   "metadata": {
    "id": "xR6OE4EyjBKY"
   },
   "source": [
    "Hint - you can use **Python String isspace() Method :**"
   ]
  },
  {
   "cell_type": "code",
   "execution_count": null,
   "metadata": {
    "id": "C7ggBwRCjBKY"
   },
   "outputs": [],
   "source": []
  },
  {
   "cell_type": "markdown",
   "metadata": {
    "id": "oc_-T70XjBKY"
   },
   "source": [
    "# Exercise 8 :"
   ]
  },
  {
   "cell_type": "markdown",
   "metadata": {
    "id": "Tm9tuwArjBKY"
   },
   "source": [
    "**Using lambda() function with filter().**\n",
    "\n",
    "\n",
    "Write a program that returns the odd numbers from an input list: "
   ]
  },
  {
   "cell_type": "code",
   "execution_count": null,
   "metadata": {
    "id": "pgeRTuVJjBKZ"
   },
   "outputs": [],
   "source": []
  },
  {
   "cell_type": "markdown",
   "metadata": {
    "id": "bcLlSGy-jBKZ"
   },
   "source": [
    "# Exercise 9 :"
   ]
  },
  {
   "cell_type": "markdown",
   "metadata": {
    "id": "E0RiStlFjBKZ"
   },
   "source": [
    "**Using lambda() function with map().**\n",
    "\n",
    "Write a program that gets a list of numbers, double each number and add 1:"
   ]
  },
  {
   "cell_type": "code",
   "execution_count": null,
   "metadata": {
    "id": "crA6q7OsjBKa"
   },
   "outputs": [],
   "source": []
  },
  {
   "cell_type": "markdown",
   "metadata": {
    "id": "frpcapptjBKa"
   },
   "source": [
    "# Exercise 10 :"
   ]
  },
  {
   "cell_type": "markdown",
   "metadata": {
    "id": "m9zQYUSMjBKa"
   },
   "source": [
    "Use each of map, filter, and reduce to fix the broken code:"
   ]
  },
  {
   "cell_type": "code",
   "execution_count": 1,
   "metadata": {
    "id": "cuULqeu_jBKa"
   },
   "outputs": [],
   "source": [
    "# Use map to print the square of each numbers rounded\n",
    "# to three decimal places\n",
    "my_floats = [4.35, 6.09, 3.25, 9.77, 2.16, 8.88, 4.59]"
   ]
  },
  {
   "cell_type": "markdown",
   "metadata": {
    "id": "1J_SZ7XRjBKb"
   },
   "source": [
    "Need to fix:"
   ]
  },
  {
   "cell_type": "code",
   "execution_count": 2,
   "metadata": {
    "id": "Mel6e6nsjBKb"
   },
   "outputs": [],
   "source": [
    "map_result = list(map(lambda x: x*x, my_floats))"
   ]
  },
  {
   "cell_type": "code",
   "execution_count": 3,
   "metadata": {
    "id": "CkTEm-qhjBKb"
   },
   "outputs": [
    {
     "name": "stdout",
     "output_type": "stream",
     "text": [
      "[18.922499999999996, 37.0881, 10.5625, 95.45289999999999, 4.6656, 78.85440000000001, 21.068099999999998]\n"
     ]
    }
   ],
   "source": [
    "print(map_result)"
   ]
  },
  {
   "cell_type": "code",
   "execution_count": null,
   "metadata": {
    "id": "15Sc6gmsjBKb"
   },
   "outputs": [],
   "source": []
  },
  {
   "cell_type": "code",
   "execution_count": 67,
   "metadata": {
    "id": "BnHGVZdkjBKc"
   },
   "outputs": [],
   "source": [
    "# Use filter to print only the elements that are less than\n",
    "# or equal to seven letters\n",
    "elements = [\"Chlorine\", \"Boron\", \"Fluorine\", \"Iodine\", \"Mercury\",\"Nickel\"]"
   ]
  },
  {
   "cell_type": "markdown",
   "metadata": {
    "id": "MLfQ2_FDjBKc"
   },
   "source": [
    "Need to fix:"
   ]
  },
  {
   "cell_type": "code",
   "execution_count": null,
   "metadata": {
    "id": "lkJ5hgIRlKbM"
   },
   "outputs": [],
   "source": [
    "filter_result = list(filter(lambda name: name, elements , elements ))"
   ]
  },
  {
   "cell_type": "code",
   "execution_count": null,
   "metadata": {
    "id": "zWzWTOf0jBKd"
   },
   "outputs": [],
   "source": [
    "print(filter_result)"
   ]
  },
  {
   "cell_type": "code",
   "execution_count": null,
   "metadata": {
    "id": "crPN_j-yjBKd"
   },
   "outputs": [],
   "source": []
  },
  {
   "cell_type": "code",
   "execution_count": 68,
   "metadata": {
    "id": "CDv8US1IjBKe"
   },
   "outputs": [],
   "source": [
    "# Use reduce to print the product of these numbers\n",
    "my_numbers = [4, 6, 9, 23, 5]"
   ]
  },
  {
   "cell_type": "markdown",
   "metadata": {
    "id": "ozo7SroojBKe"
   },
   "source": [
    "Need to fix:"
   ]
  },
  {
   "cell_type": "code",
   "execution_count": null,
   "metadata": {
    "id": "pGwARTpPjBKe"
   },
   "outputs": [],
   "source": [
    "reduce_result = reduce(lambda num1, num2: num1 * num2, my_numbers, 0)"
   ]
  },
  {
   "cell_type": "code",
   "execution_count": null,
   "metadata": {
    "id": "WIhkhZ64jBKe"
   },
   "outputs": [],
   "source": [
    "print(reduce_result)"
   ]
  },
  {
   "cell_type": "code",
   "execution_count": null,
   "metadata": {
    "id": "vQDbpxb0jBKf"
   },
   "outputs": [],
   "source": []
  }
 ],
 "metadata": {
  "colab": {
   "collapsed_sections": [
    "41KpoPuMjBJu"
   ],
   "name": "Exe_1_Basic_2021-Part 2.ipynb",
   "provenance": []
  },
  "kernelspec": {
   "display_name": "Python 3 (ipykernel)",
   "language": "python",
   "name": "python3"
  },
  "language_info": {
   "codemirror_mode": {
    "name": "ipython",
    "version": 3
   },
   "file_extension": ".py",
   "mimetype": "text/x-python",
   "name": "python",
   "nbconvert_exporter": "python",
   "pygments_lexer": "ipython3",
   "version": "3.9.13"
  }
 },
 "nbformat": 4,
 "nbformat_minor": 1
}
